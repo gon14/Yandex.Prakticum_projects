{
 "cells": [
  {
   "cell_type": "markdown",
   "metadata": {},
   "source": [
    "# Исследование надёжности заёмщиков\n",
    "\n",
    "Заказчик — кредитный отдел банка. Нужно разобраться, влияет ли семейное положение и количество детей клиента на факт погашения кредита в срок. Входные данные от банка — статистика о платёжеспособности клиентов.\n",
    "\n",
    "Результаты исследования будут учтены при построении модели **кредитного скоринга** — специальной системы, которая оценивает способность потенциального заёмщика вернуть кредит банку."
   ]
  },
  {
   "cell_type": "markdown",
   "metadata": {},
   "source": [
    "## Шаг 1. Откройте файл с данными и изучите общую информацию"
   ]
  },
  {
   "cell_type": "code",
   "execution_count": 1,
   "metadata": {},
   "outputs": [],
   "source": [
    "import pandas as pd #импортируем панды для создания датафреймов\n",
    "import numpy as np\n",
    "from pymystem3 import Mystem #импортируем библиотеку для будущей работы с лемматизацией, пригодится\n",
    "m = Mystem()"
   ]
  },
  {
   "cell_type": "code",
   "execution_count": 2,
   "metadata": {
    "scrolled": true
   },
   "outputs": [
    {
     "data": {
      "text/html": [
       "<div>\n",
       "<style scoped>\n",
       "    .dataframe tbody tr th:only-of-type {\n",
       "        vertical-align: middle;\n",
       "    }\n",
       "\n",
       "    .dataframe tbody tr th {\n",
       "        vertical-align: top;\n",
       "    }\n",
       "\n",
       "    .dataframe thead th {\n",
       "        text-align: right;\n",
       "    }\n",
       "</style>\n",
       "<table border=\"1\" class=\"dataframe\">\n",
       "  <thead>\n",
       "    <tr style=\"text-align: right;\">\n",
       "      <th></th>\n",
       "      <th>children</th>\n",
       "      <th>days_employed</th>\n",
       "      <th>dob_years</th>\n",
       "      <th>education</th>\n",
       "      <th>education_id</th>\n",
       "      <th>family_status</th>\n",
       "      <th>family_status_id</th>\n",
       "      <th>gender</th>\n",
       "      <th>income_type</th>\n",
       "      <th>debt</th>\n",
       "      <th>total_income</th>\n",
       "      <th>purpose</th>\n",
       "    </tr>\n",
       "  </thead>\n",
       "  <tbody>\n",
       "    <tr>\n",
       "      <td>0</td>\n",
       "      <td>1</td>\n",
       "      <td>-8437.673028</td>\n",
       "      <td>42</td>\n",
       "      <td>высшее</td>\n",
       "      <td>0</td>\n",
       "      <td>женат / замужем</td>\n",
       "      <td>0</td>\n",
       "      <td>F</td>\n",
       "      <td>сотрудник</td>\n",
       "      <td>0</td>\n",
       "      <td>253875.639453</td>\n",
       "      <td>покупка жилья</td>\n",
       "    </tr>\n",
       "    <tr>\n",
       "      <td>1</td>\n",
       "      <td>1</td>\n",
       "      <td>-4024.803754</td>\n",
       "      <td>36</td>\n",
       "      <td>среднее</td>\n",
       "      <td>1</td>\n",
       "      <td>женат / замужем</td>\n",
       "      <td>0</td>\n",
       "      <td>F</td>\n",
       "      <td>сотрудник</td>\n",
       "      <td>0</td>\n",
       "      <td>112080.014102</td>\n",
       "      <td>приобретение автомобиля</td>\n",
       "    </tr>\n",
       "    <tr>\n",
       "      <td>2</td>\n",
       "      <td>0</td>\n",
       "      <td>-5623.422610</td>\n",
       "      <td>33</td>\n",
       "      <td>Среднее</td>\n",
       "      <td>1</td>\n",
       "      <td>женат / замужем</td>\n",
       "      <td>0</td>\n",
       "      <td>M</td>\n",
       "      <td>сотрудник</td>\n",
       "      <td>0</td>\n",
       "      <td>145885.952297</td>\n",
       "      <td>покупка жилья</td>\n",
       "    </tr>\n",
       "    <tr>\n",
       "      <td>3</td>\n",
       "      <td>3</td>\n",
       "      <td>-4124.747207</td>\n",
       "      <td>32</td>\n",
       "      <td>среднее</td>\n",
       "      <td>1</td>\n",
       "      <td>женат / замужем</td>\n",
       "      <td>0</td>\n",
       "      <td>M</td>\n",
       "      <td>сотрудник</td>\n",
       "      <td>0</td>\n",
       "      <td>267628.550329</td>\n",
       "      <td>дополнительное образование</td>\n",
       "    </tr>\n",
       "    <tr>\n",
       "      <td>4</td>\n",
       "      <td>0</td>\n",
       "      <td>340266.072047</td>\n",
       "      <td>53</td>\n",
       "      <td>среднее</td>\n",
       "      <td>1</td>\n",
       "      <td>гражданский брак</td>\n",
       "      <td>1</td>\n",
       "      <td>F</td>\n",
       "      <td>пенсионер</td>\n",
       "      <td>0</td>\n",
       "      <td>158616.077870</td>\n",
       "      <td>сыграть свадьбу</td>\n",
       "    </tr>\n",
       "    <tr>\n",
       "      <td>5</td>\n",
       "      <td>0</td>\n",
       "      <td>-926.185831</td>\n",
       "      <td>27</td>\n",
       "      <td>высшее</td>\n",
       "      <td>0</td>\n",
       "      <td>гражданский брак</td>\n",
       "      <td>1</td>\n",
       "      <td>M</td>\n",
       "      <td>компаньон</td>\n",
       "      <td>0</td>\n",
       "      <td>255763.565419</td>\n",
       "      <td>покупка жилья</td>\n",
       "    </tr>\n",
       "    <tr>\n",
       "      <td>6</td>\n",
       "      <td>0</td>\n",
       "      <td>-2879.202052</td>\n",
       "      <td>43</td>\n",
       "      <td>высшее</td>\n",
       "      <td>0</td>\n",
       "      <td>женат / замужем</td>\n",
       "      <td>0</td>\n",
       "      <td>F</td>\n",
       "      <td>компаньон</td>\n",
       "      <td>0</td>\n",
       "      <td>240525.971920</td>\n",
       "      <td>операции с жильем</td>\n",
       "    </tr>\n",
       "    <tr>\n",
       "      <td>7</td>\n",
       "      <td>0</td>\n",
       "      <td>-152.779569</td>\n",
       "      <td>50</td>\n",
       "      <td>СРЕДНЕЕ</td>\n",
       "      <td>1</td>\n",
       "      <td>женат / замужем</td>\n",
       "      <td>0</td>\n",
       "      <td>M</td>\n",
       "      <td>сотрудник</td>\n",
       "      <td>0</td>\n",
       "      <td>135823.934197</td>\n",
       "      <td>образование</td>\n",
       "    </tr>\n",
       "    <tr>\n",
       "      <td>8</td>\n",
       "      <td>2</td>\n",
       "      <td>-6929.865299</td>\n",
       "      <td>35</td>\n",
       "      <td>ВЫСШЕЕ</td>\n",
       "      <td>0</td>\n",
       "      <td>гражданский брак</td>\n",
       "      <td>1</td>\n",
       "      <td>F</td>\n",
       "      <td>сотрудник</td>\n",
       "      <td>0</td>\n",
       "      <td>95856.832424</td>\n",
       "      <td>на проведение свадьбы</td>\n",
       "    </tr>\n",
       "    <tr>\n",
       "      <td>9</td>\n",
       "      <td>0</td>\n",
       "      <td>-2188.756445</td>\n",
       "      <td>41</td>\n",
       "      <td>среднее</td>\n",
       "      <td>1</td>\n",
       "      <td>женат / замужем</td>\n",
       "      <td>0</td>\n",
       "      <td>M</td>\n",
       "      <td>сотрудник</td>\n",
       "      <td>0</td>\n",
       "      <td>144425.938277</td>\n",
       "      <td>покупка жилья для семьи</td>\n",
       "    </tr>\n",
       "  </tbody>\n",
       "</table>\n",
       "</div>"
      ],
      "text/plain": [
       "   children  days_employed  dob_years education  education_id  \\\n",
       "0         1   -8437.673028         42    высшее             0   \n",
       "1         1   -4024.803754         36   среднее             1   \n",
       "2         0   -5623.422610         33   Среднее             1   \n",
       "3         3   -4124.747207         32   среднее             1   \n",
       "4         0  340266.072047         53   среднее             1   \n",
       "5         0    -926.185831         27    высшее             0   \n",
       "6         0   -2879.202052         43    высшее             0   \n",
       "7         0    -152.779569         50   СРЕДНЕЕ             1   \n",
       "8         2   -6929.865299         35    ВЫСШЕЕ             0   \n",
       "9         0   -2188.756445         41   среднее             1   \n",
       "\n",
       "      family_status  family_status_id gender income_type  debt   total_income  \\\n",
       "0   женат / замужем                 0      F   сотрудник     0  253875.639453   \n",
       "1   женат / замужем                 0      F   сотрудник     0  112080.014102   \n",
       "2   женат / замужем                 0      M   сотрудник     0  145885.952297   \n",
       "3   женат / замужем                 0      M   сотрудник     0  267628.550329   \n",
       "4  гражданский брак                 1      F   пенсионер     0  158616.077870   \n",
       "5  гражданский брак                 1      M   компаньон     0  255763.565419   \n",
       "6   женат / замужем                 0      F   компаньон     0  240525.971920   \n",
       "7   женат / замужем                 0      M   сотрудник     0  135823.934197   \n",
       "8  гражданский брак                 1      F   сотрудник     0   95856.832424   \n",
       "9   женат / замужем                 0      M   сотрудник     0  144425.938277   \n",
       "\n",
       "                      purpose  \n",
       "0               покупка жилья  \n",
       "1     приобретение автомобиля  \n",
       "2               покупка жилья  \n",
       "3  дополнительное образование  \n",
       "4             сыграть свадьбу  \n",
       "5               покупка жилья  \n",
       "6           операции с жильем  \n",
       "7                 образование  \n",
       "8       на проведение свадьбы  \n",
       "9     покупка жилья для семьи  "
      ]
     },
     "execution_count": 2,
     "metadata": {},
     "output_type": "execute_result"
    }
   ],
   "source": [
    "data = pd.read_csv('/datasets/data.csv') #загружаем датасет, записываем в переменную data\n",
    "data.head(10) #смотрим 10 первых строк, как открылось, какие названия колонок, кодировка и т.д"
   ]
  },
  {
   "cell_type": "code",
   "execution_count": 3,
   "metadata": {},
   "outputs": [
    {
     "name": "stdout",
     "output_type": "stream",
     "text": [
      "<class 'pandas.core.frame.DataFrame'>\n",
      "RangeIndex: 21525 entries, 0 to 21524\n",
      "Data columns (total 12 columns):\n",
      "children            21525 non-null int64\n",
      "days_employed       19351 non-null float64\n",
      "dob_years           21525 non-null int64\n",
      "education           21525 non-null object\n",
      "education_id        21525 non-null int64\n",
      "family_status       21525 non-null object\n",
      "family_status_id    21525 non-null int64\n",
      "gender              21525 non-null object\n",
      "income_type         21525 non-null object\n",
      "debt                21525 non-null int64\n",
      "total_income        19351 non-null float64\n",
      "purpose             21525 non-null object\n",
      "dtypes: float64(2), int64(5), object(5)\n",
      "memory usage: 2.0+ MB\n"
     ]
    }
   ],
   "source": [
    "data.info()"
   ]
  },
  {
   "cell_type": "code",
   "execution_count": 4,
   "metadata": {},
   "outputs": [
    {
     "data": {
      "text/html": [
       "<div>\n",
       "<style scoped>\n",
       "    .dataframe tbody tr th:only-of-type {\n",
       "        vertical-align: middle;\n",
       "    }\n",
       "\n",
       "    .dataframe tbody tr th {\n",
       "        vertical-align: top;\n",
       "    }\n",
       "\n",
       "    .dataframe thead th {\n",
       "        text-align: right;\n",
       "    }\n",
       "</style>\n",
       "<table border=\"1\" class=\"dataframe\">\n",
       "  <thead>\n",
       "    <tr style=\"text-align: right;\">\n",
       "      <th></th>\n",
       "      <th>children</th>\n",
       "      <th>days_employed</th>\n",
       "      <th>dob_years</th>\n",
       "      <th>education_id</th>\n",
       "      <th>family_status_id</th>\n",
       "      <th>debt</th>\n",
       "      <th>total_income</th>\n",
       "    </tr>\n",
       "  </thead>\n",
       "  <tbody>\n",
       "    <tr>\n",
       "      <td>count</td>\n",
       "      <td>21525.000000</td>\n",
       "      <td>19351.000000</td>\n",
       "      <td>21525.000000</td>\n",
       "      <td>21525.000000</td>\n",
       "      <td>21525.000000</td>\n",
       "      <td>21525.000000</td>\n",
       "      <td>1.935100e+04</td>\n",
       "    </tr>\n",
       "    <tr>\n",
       "      <td>mean</td>\n",
       "      <td>0.538908</td>\n",
       "      <td>63046.497661</td>\n",
       "      <td>43.293380</td>\n",
       "      <td>0.817236</td>\n",
       "      <td>0.972544</td>\n",
       "      <td>0.080883</td>\n",
       "      <td>1.674223e+05</td>\n",
       "    </tr>\n",
       "    <tr>\n",
       "      <td>std</td>\n",
       "      <td>1.381587</td>\n",
       "      <td>140827.311974</td>\n",
       "      <td>12.574584</td>\n",
       "      <td>0.548138</td>\n",
       "      <td>1.420324</td>\n",
       "      <td>0.272661</td>\n",
       "      <td>1.029716e+05</td>\n",
       "    </tr>\n",
       "    <tr>\n",
       "      <td>min</td>\n",
       "      <td>-1.000000</td>\n",
       "      <td>-18388.949901</td>\n",
       "      <td>0.000000</td>\n",
       "      <td>0.000000</td>\n",
       "      <td>0.000000</td>\n",
       "      <td>0.000000</td>\n",
       "      <td>2.066726e+04</td>\n",
       "    </tr>\n",
       "    <tr>\n",
       "      <td>25%</td>\n",
       "      <td>0.000000</td>\n",
       "      <td>-2747.423625</td>\n",
       "      <td>33.000000</td>\n",
       "      <td>1.000000</td>\n",
       "      <td>0.000000</td>\n",
       "      <td>0.000000</td>\n",
       "      <td>1.030532e+05</td>\n",
       "    </tr>\n",
       "    <tr>\n",
       "      <td>50%</td>\n",
       "      <td>0.000000</td>\n",
       "      <td>-1203.369529</td>\n",
       "      <td>42.000000</td>\n",
       "      <td>1.000000</td>\n",
       "      <td>0.000000</td>\n",
       "      <td>0.000000</td>\n",
       "      <td>1.450179e+05</td>\n",
       "    </tr>\n",
       "    <tr>\n",
       "      <td>75%</td>\n",
       "      <td>1.000000</td>\n",
       "      <td>-291.095954</td>\n",
       "      <td>53.000000</td>\n",
       "      <td>1.000000</td>\n",
       "      <td>1.000000</td>\n",
       "      <td>0.000000</td>\n",
       "      <td>2.034351e+05</td>\n",
       "    </tr>\n",
       "    <tr>\n",
       "      <td>max</td>\n",
       "      <td>20.000000</td>\n",
       "      <td>401755.400475</td>\n",
       "      <td>75.000000</td>\n",
       "      <td>4.000000</td>\n",
       "      <td>4.000000</td>\n",
       "      <td>1.000000</td>\n",
       "      <td>2.265604e+06</td>\n",
       "    </tr>\n",
       "  </tbody>\n",
       "</table>\n",
       "</div>"
      ],
      "text/plain": [
       "           children  days_employed     dob_years  education_id  \\\n",
       "count  21525.000000   19351.000000  21525.000000  21525.000000   \n",
       "mean       0.538908   63046.497661     43.293380      0.817236   \n",
       "std        1.381587  140827.311974     12.574584      0.548138   \n",
       "min       -1.000000  -18388.949901      0.000000      0.000000   \n",
       "25%        0.000000   -2747.423625     33.000000      1.000000   \n",
       "50%        0.000000   -1203.369529     42.000000      1.000000   \n",
       "75%        1.000000    -291.095954     53.000000      1.000000   \n",
       "max       20.000000  401755.400475     75.000000      4.000000   \n",
       "\n",
       "       family_status_id          debt  total_income  \n",
       "count      21525.000000  21525.000000  1.935100e+04  \n",
       "mean           0.972544      0.080883  1.674223e+05  \n",
       "std            1.420324      0.272661  1.029716e+05  \n",
       "min            0.000000      0.000000  2.066726e+04  \n",
       "25%            0.000000      0.000000  1.030532e+05  \n",
       "50%            0.000000      0.000000  1.450179e+05  \n",
       "75%            1.000000      0.000000  2.034351e+05  \n",
       "max            4.000000      1.000000  2.265604e+06  "
      ]
     },
     "execution_count": 4,
     "metadata": {},
     "output_type": "execute_result"
    }
   ],
   "source": [
    "data.describe()"
   ]
  },
  {
   "cell_type": "markdown",
   "metadata": {},
   "source": [
    "Посмотрим на содержания униикальных значений в каждой колонке"
   ]
  },
  {
   "cell_type": "code",
   "execution_count": 5,
   "metadata": {},
   "outputs": [
    {
     "data": {
      "text/plain": [
       "array([ 1,  0,  3,  2, -1,  4, 20,  5])"
      ]
     },
     "execution_count": 5,
     "metadata": {},
     "output_type": "execute_result"
    }
   ],
   "source": [
    "data['children'].unique()"
   ]
  },
  {
   "cell_type": "code",
   "execution_count": 6,
   "metadata": {
    "scrolled": true
   },
   "outputs": [
    {
     "data": {
      "text/plain": [
       "(47, 12)"
      ]
     },
     "execution_count": 6,
     "metadata": {},
     "output_type": "execute_result"
    }
   ],
   "source": [
    "data[data['children'] == -1].shape"
   ]
  },
  {
   "cell_type": "code",
   "execution_count": 7,
   "metadata": {},
   "outputs": [
    {
     "data": {
      "text/plain": [
       "(76, 12)"
      ]
     },
     "execution_count": 7,
     "metadata": {},
     "output_type": "execute_result"
    }
   ],
   "source": [
    "data[data['children'] == 20].shape"
   ]
  },
  {
   "cell_type": "markdown",
   "metadata": {},
   "source": [
    "в children есть странное значение -1, которое надо будет удалить, похоже на опечатку. в 20 тыс значений 47 шт. это 1/4 процента. Можно подумать что сделать с ними. 20 - тоже могут возникнуть вопросы, но мы не знаем, может это усыновленные дети?"
   ]
  },
  {
   "cell_type": "code",
   "execution_count": 8,
   "metadata": {},
   "outputs": [
    {
     "data": {
      "text/plain": [
       "19351"
      ]
     },
     "execution_count": 8,
     "metadata": {},
     "output_type": "execute_result"
    }
   ],
   "source": [
    "data['days_employed'].nunique()"
   ]
  },
  {
   "cell_type": "code",
   "execution_count": 9,
   "metadata": {},
   "outputs": [
    {
     "data": {
      "text/plain": [
       "16335   -18388.949901\n",
       "4299    -17615.563266\n",
       "7329    -16593.472817\n",
       "17838   -16264.699501\n",
       "16825   -16119.687737\n",
       "             ...     \n",
       "21489             NaN\n",
       "21495             NaN\n",
       "21497             NaN\n",
       "21502             NaN\n",
       "21510             NaN\n",
       "Name: days_employed, Length: 21525, dtype: float64"
      ]
     },
     "execution_count": 9,
     "metadata": {},
     "output_type": "execute_result"
    }
   ],
   "source": [
    "data['days_employed'].sort_values() #проверяю что тут NaN, а не None0"
   ]
  },
  {
   "cell_type": "code",
   "execution_count": 10,
   "metadata": {},
   "outputs": [
    {
     "data": {
      "text/plain": [
       "401755.40047533"
      ]
     },
     "metadata": {},
     "output_type": "display_data"
    },
    {
     "data": {
      "text/plain": [
       "-18388.949900568383"
      ]
     },
     "metadata": {},
     "output_type": "display_data"
    }
   ],
   "source": [
    "display(data['days_employed'].max())\n",
    "display(data['days_employed'].min())"
   ]
  },
  {
   "cell_type": "markdown",
   "metadata": {},
   "source": [
    "посмотрим на значения трудового стажа, сразу возникает вопрос к 401755 дням, это 1100 лет. поэтому надо вообще посмотреть, откуда закрались такие данные и как их много."
   ]
  },
  {
   "cell_type": "code",
   "execution_count": 11,
   "metadata": {},
   "outputs": [],
   "source": [
    "%matplotlib inline"
   ]
  },
  {
   "cell_type": "code",
   "execution_count": 12,
   "metadata": {},
   "outputs": [],
   "source": [
    "median_column = data['days_employed']"
   ]
  },
  {
   "cell_type": "code",
   "execution_count": 13,
   "metadata": {},
   "outputs": [
    {
     "data": {
      "text/plain": [
       "<matplotlib.axes._subplots.AxesSubplot at 0x7f02627ecbd0>"
      ]
     },
     "execution_count": 13,
     "metadata": {},
     "output_type": "execute_result"
    },
    {
     "data": {
      "image/png": "[encoded data removed]",
      "text/plain": [
       "<Figure size 432x288 with 1 Axes>"
      ]
     },
     "metadata": {
      "needs_background": "light"
     },
     "output_type": "display_data"
    }
   ],
   "source": [
    "median_column.plot(kind=\"hist\")"
   ]
  },
  {
   "cell_type": "markdown",
   "metadata": {},
   "source": [
    "как видно на графике, есть бОльшая часть значений лежит в разумных пределах, но есть и такие данные - дни работы, которые аж за 300000, и их не 1 и 2, а больше 3000. Есть подозрение, что там не дни работы, а часы. попробуем узнать."
   ]
  },
  {
   "cell_type": "code",
   "execution_count": 14,
   "metadata": {},
   "outputs": [
    {
     "data": {
      "text/plain": [
       "45.8624886387363"
      ]
     },
     "execution_count": 14,
     "metadata": {},
     "output_type": "execute_result"
    }
   ],
   "source": [
    "(data['days_employed'].max() / 365) / 24 "
   ]
  },
  {
   "cell_type": "markdown",
   "metadata": {},
   "source": [
    "тут проверяю гипотизу, что в максимальных данных есть ошибка, это часы, а не дни! и проверив делением на 24, получаем в максимальном значении - 45 лет, что вполне разумно. отсюда вывод - данные, которые в правой части графика - их будем дополнительно делить на 24, чтобы получить данные годах."
   ]
  },
  {
   "cell_type": "markdown",
   "metadata": {},
   "source": [
    "в days_employed много различных значений."
   ]
  },
  {
   "cell_type": "code",
   "execution_count": 15,
   "metadata": {},
   "outputs": [
    {
     "data": {
      "text/plain": [
       "array([42, 36, 33, 32, 53, 27, 43, 50, 35, 41, 40, 65, 54, 56, 26, 48, 24,\n",
       "       21, 57, 67, 28, 63, 62, 47, 34, 68, 25, 31, 30, 20, 49, 37, 45, 61,\n",
       "       64, 44, 52, 46, 23, 38, 39, 51,  0, 59, 29, 60, 55, 58, 71, 22, 73,\n",
       "       66, 69, 19, 72, 70, 74, 75])"
      ]
     },
     "execution_count": 15,
     "metadata": {},
     "output_type": "execute_result"
    }
   ],
   "source": [
    "data['dob_years'].unique()"
   ]
  },
  {
   "cell_type": "code",
   "execution_count": 16,
   "metadata": {},
   "outputs": [
    {
     "data": {
      "text/plain": [
       "(101, 12)"
      ]
     },
     "execution_count": 16,
     "metadata": {},
     "output_type": "execute_result"
    }
   ],
   "source": [
    "data[data['dob_years'] == 0].shape"
   ]
  },
  {
   "cell_type": "markdown",
   "metadata": {},
   "source": [
    "в dob_years странное значене \"0\", 101 значение в датафрейме, можно заменить на медианное значение возраста"
   ]
  },
  {
   "cell_type": "code",
   "execution_count": 17,
   "metadata": {},
   "outputs": [
    {
     "data": {
      "text/plain": [
       "array([0, 1, 2, 3, 4])"
      ]
     },
     "execution_count": 17,
     "metadata": {},
     "output_type": "execute_result"
    }
   ],
   "source": [
    "data['education_id'].unique()"
   ]
  },
  {
   "cell_type": "code",
   "execution_count": 18,
   "metadata": {},
   "outputs": [
    {
     "data": {
      "text/html": [
       "<div>\n",
       "<style scoped>\n",
       "    .dataframe tbody tr th:only-of-type {\n",
       "        vertical-align: middle;\n",
       "    }\n",
       "\n",
       "    .dataframe tbody tr th {\n",
       "        vertical-align: top;\n",
       "    }\n",
       "\n",
       "    .dataframe thead th {\n",
       "        text-align: right;\n",
       "    }\n",
       "</style>\n",
       "<table border=\"1\" class=\"dataframe\">\n",
       "  <thead>\n",
       "    <tr style=\"text-align: right;\">\n",
       "      <th></th>\n",
       "      <th>children</th>\n",
       "      <th>days_employed</th>\n",
       "      <th>dob_years</th>\n",
       "      <th>education</th>\n",
       "      <th>education_id</th>\n",
       "      <th>family_status</th>\n",
       "      <th>family_status_id</th>\n",
       "      <th>gender</th>\n",
       "      <th>income_type</th>\n",
       "      <th>debt</th>\n",
       "      <th>total_income</th>\n",
       "      <th>purpose</th>\n",
       "    </tr>\n",
       "  </thead>\n",
       "  <tbody>\n",
       "    <tr>\n",
       "      <td>31</td>\n",
       "      <td>0</td>\n",
       "      <td>-1682.083438</td>\n",
       "      <td>47</td>\n",
       "      <td>начальное</td>\n",
       "      <td>3</td>\n",
       "      <td>женат / замужем</td>\n",
       "      <td>0</td>\n",
       "      <td>F</td>\n",
       "      <td>сотрудник</td>\n",
       "      <td>0</td>\n",
       "      <td>275485.684538</td>\n",
       "      <td>жилье</td>\n",
       "    </tr>\n",
       "    <tr>\n",
       "      <td>136</td>\n",
       "      <td>0</td>\n",
       "      <td>357880.159379</td>\n",
       "      <td>60</td>\n",
       "      <td>начальное</td>\n",
       "      <td>3</td>\n",
       "      <td>женат / замужем</td>\n",
       "      <td>0</td>\n",
       "      <td>M</td>\n",
       "      <td>пенсионер</td>\n",
       "      <td>0</td>\n",
       "      <td>113124.202781</td>\n",
       "      <td>операции со своей недвижимостью</td>\n",
       "    </tr>\n",
       "    <tr>\n",
       "      <td>210</td>\n",
       "      <td>2</td>\n",
       "      <td>342167.212112</td>\n",
       "      <td>55</td>\n",
       "      <td>начальное</td>\n",
       "      <td>3</td>\n",
       "      <td>вдовец / вдова</td>\n",
       "      <td>2</td>\n",
       "      <td>F</td>\n",
       "      <td>пенсионер</td>\n",
       "      <td>0</td>\n",
       "      <td>160635.120347</td>\n",
       "      <td>строительство жилой недвижимости</td>\n",
       "    </tr>\n",
       "    <tr>\n",
       "      <td>211</td>\n",
       "      <td>0</td>\n",
       "      <td>-577.273434</td>\n",
       "      <td>41</td>\n",
       "      <td>начальное</td>\n",
       "      <td>3</td>\n",
       "      <td>гражданский брак</td>\n",
       "      <td>1</td>\n",
       "      <td>F</td>\n",
       "      <td>сотрудник</td>\n",
       "      <td>0</td>\n",
       "      <td>36649.078439</td>\n",
       "      <td>сделка с подержанным автомобилем</td>\n",
       "    </tr>\n",
       "    <tr>\n",
       "      <td>272</td>\n",
       "      <td>0</td>\n",
       "      <td>-5538.963731</td>\n",
       "      <td>35</td>\n",
       "      <td>начальное</td>\n",
       "      <td>3</td>\n",
       "      <td>гражданский брак</td>\n",
       "      <td>1</td>\n",
       "      <td>M</td>\n",
       "      <td>сотрудник</td>\n",
       "      <td>1</td>\n",
       "      <td>123814.079468</td>\n",
       "      <td>заняться образованием</td>\n",
       "    </tr>\n",
       "  </tbody>\n",
       "</table>\n",
       "</div>"
      ],
      "text/plain": [
       "     children  days_employed  dob_years  education  education_id  \\\n",
       "31          0   -1682.083438         47  начальное             3   \n",
       "136         0  357880.159379         60  начальное             3   \n",
       "210         2  342167.212112         55  начальное             3   \n",
       "211         0    -577.273434         41  начальное             3   \n",
       "272         0   -5538.963731         35  начальное             3   \n",
       "\n",
       "        family_status  family_status_id gender income_type  debt  \\\n",
       "31    женат / замужем                 0      F   сотрудник     0   \n",
       "136   женат / замужем                 0      M   пенсионер     0   \n",
       "210    вдовец / вдова                 2      F   пенсионер     0   \n",
       "211  гражданский брак                 1      F   сотрудник     0   \n",
       "272  гражданский брак                 1      M   сотрудник     1   \n",
       "\n",
       "      total_income                           purpose  \n",
       "31   275485.684538                             жилье  \n",
       "136  113124.202781   операции со своей недвижимостью  \n",
       "210  160635.120347  строительство жилой недвижимости  \n",
       "211   36649.078439  сделка с подержанным автомобилем  \n",
       "272  123814.079468             заняться образованием  "
      ]
     },
     "execution_count": 18,
     "metadata": {},
     "output_type": "execute_result"
    }
   ],
   "source": [
    "data[data['education_id'] == 3].head(5) #посмотрим соответствие education_id = 3"
   ]
  },
  {
   "cell_type": "markdown",
   "metadata": {},
   "source": [
    "похожа колонка на education, и соответствие высшее - 0, среднее - 1, неоконченное высшее - 2, начальное - 3, ученая степень - 4"
   ]
  },
  {
   "cell_type": "code",
   "execution_count": 19,
   "metadata": {},
   "outputs": [
    {
     "data": {
      "text/plain": [
       "array(['высшее', 'среднее', 'Среднее', 'СРЕДНЕЕ', 'ВЫСШЕЕ',\n",
       "       'неоконченное высшее', 'начальное', 'Высшее',\n",
       "       'НЕОКОНЧЕННОЕ ВЫСШЕЕ', 'Неоконченное высшее', 'НАЧАЛЬНОЕ',\n",
       "       'Начальное', 'Ученая степень', 'УЧЕНАЯ СТЕПЕНЬ', 'ученая степень'],\n",
       "      dtype=object)"
      ]
     },
     "execution_count": 19,
     "metadata": {},
     "output_type": "execute_result"
    }
   ],
   "source": [
    "data['education'].unique()"
   ]
  },
  {
   "cell_type": "markdown",
   "metadata": {},
   "source": [
    "в education нужно привести все к одному регистру, и потом чистить дубликаты"
   ]
  },
  {
   "cell_type": "code",
   "execution_count": 20,
   "metadata": {},
   "outputs": [
    {
     "data": {
      "text/plain": [
       "array(['женат / замужем', 'гражданский брак', 'вдовец / вдова',\n",
       "       'в разводе', 'Не женат / не замужем'], dtype=object)"
      ]
     },
     "execution_count": 20,
     "metadata": {},
     "output_type": "execute_result"
    }
   ],
   "source": [
    "data['family_status'].unique()"
   ]
  },
  {
   "cell_type": "code",
   "execution_count": 21,
   "metadata": {},
   "outputs": [
    {
     "data": {
      "text/plain": [
       "array([0, 1, 2, 3, 4])"
      ]
     },
     "execution_count": 21,
     "metadata": {},
     "output_type": "execute_result"
    }
   ],
   "source": [
    "data['family_status_id'].unique()"
   ]
  },
  {
   "cell_type": "markdown",
   "metadata": {},
   "source": [
    "опять посмотрим соответсвтиея id и статуса: 'женат / замужем' - 0, 'гражданский брак' - 1, 'вдовец / вдова' - 2,  в разводе\t - 3, 'Не женат / не замужем' - 4"
   ]
  },
  {
   "cell_type": "code",
   "execution_count": 22,
   "metadata": {},
   "outputs": [
    {
     "data": {
      "text/plain": [
       "array(['F', 'M', 'XNA'], dtype=object)"
      ]
     },
     "execution_count": 22,
     "metadata": {},
     "output_type": "execute_result"
    }
   ],
   "source": [
    "data['gender'].unique()"
   ]
  },
  {
   "cell_type": "markdown",
   "metadata": {},
   "source": [
    "Пол указан и не указан, тоже люди могли не указывать."
   ]
  },
  {
   "cell_type": "code",
   "execution_count": 23,
   "metadata": {},
   "outputs": [
    {
     "data": {
      "text/plain": [
       "array(['сотрудник', 'пенсионер', 'компаньон', 'госслужащий',\n",
       "       'безработный', 'предприниматель', 'студент', 'в декрете'],\n",
       "      dtype=object)"
      ]
     },
     "execution_count": 23,
     "metadata": {},
     "output_type": "execute_result"
    }
   ],
   "source": [
    "data['income_type'].unique()"
   ]
  },
  {
   "cell_type": "markdown",
   "metadata": {},
   "source": [
    "все ок"
   ]
  },
  {
   "cell_type": "code",
   "execution_count": 24,
   "metadata": {},
   "outputs": [
    {
     "data": {
      "text/plain": [
       "array([0, 1])"
      ]
     },
     "execution_count": 24,
     "metadata": {},
     "output_type": "execute_result"
    }
   ],
   "source": [
    "data['debt'].unique()"
   ]
  },
  {
   "cell_type": "markdown",
   "metadata": {},
   "source": [
    "тоже все понятно, была просрочка или нет"
   ]
  },
  {
   "cell_type": "code",
   "execution_count": 25,
   "metadata": {},
   "outputs": [
    {
     "data": {
      "text/plain": [
       "2265604.028722744"
      ]
     },
     "metadata": {},
     "output_type": "display_data"
    },
    {
     "data": {
      "text/plain": [
       "20667.26379327158"
      ]
     },
     "metadata": {},
     "output_type": "display_data"
    }
   ],
   "source": [
    "display(data['total_income'].max())\n",
    "display(data['total_income'].min())"
   ]
  },
  {
   "cell_type": "code",
   "execution_count": 26,
   "metadata": {},
   "outputs": [],
   "source": [
    "median_column_income = data['total_income']"
   ]
  },
  {
   "cell_type": "code",
   "execution_count": 27,
   "metadata": {},
   "outputs": [
    {
     "data": {
      "text/plain": [
       "<matplotlib.axes._subplots.AxesSubplot at 0x7f025a024ad0>"
      ]
     },
     "execution_count": 27,
     "metadata": {},
     "output_type": "execute_result"
    },
    {
     "data": {
      "image/png": "[encoded data removed]",
      "text/plain": [
       "<Figure size 432x288 with 1 Axes>"
      ]
     },
     "metadata": {
      "needs_background": "light"
     },
     "output_type": "display_data"
    }
   ],
   "source": [
    "median_column_income.plot(kind=\"hist\")"
   ]
  },
  {
   "cell_type": "markdown",
   "metadata": {},
   "source": [
    "в колонке дохода можно проверить цифры на выбросы и адекватность, и в принципе все нормально, реальные значения"
   ]
  },
  {
   "cell_type": "code",
   "execution_count": 28,
   "metadata": {},
   "outputs": [
    {
     "data": {
      "text/plain": [
       "array(['покупка жилья', 'приобретение автомобиля',\n",
       "       'дополнительное образование', 'сыграть свадьбу',\n",
       "       'операции с жильем', 'образование', 'на проведение свадьбы',\n",
       "       'покупка жилья для семьи', 'покупка недвижимости',\n",
       "       'покупка коммерческой недвижимости', 'покупка жилой недвижимости',\n",
       "       'строительство собственной недвижимости', 'недвижимость',\n",
       "       'строительство недвижимости', 'на покупку подержанного автомобиля',\n",
       "       'на покупку своего автомобиля',\n",
       "       'операции с коммерческой недвижимостью',\n",
       "       'строительство жилой недвижимости', 'жилье',\n",
       "       'операции со своей недвижимостью', 'автомобили',\n",
       "       'заняться образованием', 'сделка с подержанным автомобилем',\n",
       "       'получение образования', 'автомобиль', 'свадьба',\n",
       "       'получение дополнительного образования', 'покупка своего жилья',\n",
       "       'операции с недвижимостью', 'получение высшего образования',\n",
       "       'свой автомобиль', 'сделка с автомобилем',\n",
       "       'профильное образование', 'высшее образование',\n",
       "       'покупка жилья для сдачи', 'на покупку автомобиля', 'ремонт жилью',\n",
       "       'заняться высшим образованием'], dtype=object)"
      ]
     },
     "execution_count": 28,
     "metadata": {},
     "output_type": "execute_result"
    }
   ],
   "source": [
    "data['purpose'].unique()"
   ]
  },
  {
   "cell_type": "markdown",
   "metadata": {},
   "source": [
    "одна из самых инетерсных колонок. нужно будет выделить на группы с помощью лемматизации, на \"жилье\", \"свадьба\", \"авто\", \"образование\""
   ]
  },
  {
   "cell_type": "markdown",
   "metadata": {},
   "source": [
    "**Вывод**"
   ]
  },
  {
   "cell_type": "markdown",
   "metadata": {},
   "source": [
    "Названия колонок в правильном виде, можно и не менять. Анализируя тип данных и пропуски, мы видим, что days_employed и total_income имеют пропуски. Я думаю, что это человеческий фактор, т.к. при заполнении данных люди могли эти строчки не заполнять. Бросается в глаза, что в days_employed есть знак минус в трудовом стаже и тип данных - float64 . тк дни это целочисленные данные, то можно привести в int64, эти пункты надо будет поправить. По каждому пункту я прошелся, выделил что надо сделать и будем это делать в следующем шаге. "
   ]
  },
  {
   "cell_type": "markdown",
   "metadata": {},
   "source": [
    "## Шаг 2. Предобработка данных"
   ]
  },
  {
   "cell_type": "markdown",
   "metadata": {},
   "source": [
    "### Обработка пропусков"
   ]
  },
  {
   "cell_type": "markdown",
   "metadata": {},
   "source": [
    "Уберем крайние значения -1 и 20 детей в колонке 'children', т.к. их всего 120 строчек на 20000, их потеря не повлияет на общую картину"
   ]
  },
  {
   "cell_type": "code",
   "execution_count": 29,
   "metadata": {},
   "outputs": [],
   "source": [
    "data = data.loc[~data['children'].isin([-1,20])] #удалили строки с количеством детей -1 и 20"
   ]
  },
  {
   "cell_type": "code",
   "execution_count": 30,
   "metadata": {},
   "outputs": [
    {
     "name": "stdout",
     "output_type": "stream",
     "text": [
      "<class 'pandas.core.frame.DataFrame'>\n",
      "Int64Index: 21402 entries, 0 to 21524\n",
      "Data columns (total 12 columns):\n",
      "children            21402 non-null int64\n",
      "days_employed       19240 non-null float64\n",
      "dob_years           21402 non-null int64\n",
      "education           21402 non-null object\n",
      "education_id        21402 non-null int64\n",
      "family_status       21402 non-null object\n",
      "family_status_id    21402 non-null int64\n",
      "gender              21402 non-null object\n",
      "income_type         21402 non-null object\n",
      "debt                21402 non-null int64\n",
      "total_income        19240 non-null float64\n",
      "purpose             21402 non-null object\n",
      "dtypes: float64(2), int64(5), object(5)\n",
      "memory usage: 2.1+ MB\n"
     ]
    }
   ],
   "source": [
    "data.info() #уменьшилось количество общих строчек, проверка"
   ]
  },
  {
   "cell_type": "markdown",
   "metadata": {},
   "source": [
    "Работаем с days_employed, сначала возьмем все значения по модулю, потом у части значений > 300000 поделим на 24, чтобы перевести из часов в дни, и напоследок заполним пропущенные значения медианой значений по столбцу days_employed"
   ]
  },
  {
   "cell_type": "code",
   "execution_count": 31,
   "metadata": {},
   "outputs": [],
   "source": [
    "data['days_employed'] = data['days_employed'].abs()"
   ]
  },
  {
   "cell_type": "code",
   "execution_count": 32,
   "metadata": {},
   "outputs": [
    {
     "data": {
      "text/plain": [
       "count     19240.000000\n",
       "mean      67027.691459\n",
       "std      139130.846446\n",
       "min          24.141633\n",
       "25%         927.984311\n",
       "50%        2195.251592\n",
       "75%        5556.372075\n",
       "max      401755.400475\n",
       "Name: days_employed, dtype: float64"
      ]
     },
     "execution_count": 32,
     "metadata": {},
     "output_type": "execute_result"
    }
   ],
   "source": [
    "data['days_employed'].describe() #смотрим, что нет отрицательных значений в days_employed"
   ]
  },
  {
   "cell_type": "code",
   "execution_count": 33,
   "metadata": {},
   "outputs": [
    {
     "data": {
      "text/plain": [
       "children            3431\n",
       "days_employed       3431\n",
       "dob_years           3431\n",
       "education           3431\n",
       "education_id        3431\n",
       "family_status       3431\n",
       "family_status_id    3431\n",
       "gender              3431\n",
       "income_type         3431\n",
       "debt                3431\n",
       "total_income        3431\n",
       "purpose             3431\n",
       "dtype: int64"
      ]
     },
     "execution_count": 33,
     "metadata": {},
     "output_type": "execute_result"
    }
   ],
   "source": [
    "data[data['days_employed'] > 300000].count()"
   ]
  },
  {
   "cell_type": "code",
   "execution_count": 34,
   "metadata": {},
   "outputs": [
    {
     "data": {
      "text/plain": [
       "0"
      ]
     },
     "execution_count": 34,
     "metadata": {},
     "output_type": "execute_result"
    }
   ],
   "source": [
    "data['days_employed'][(19000 <= data['days_employed']) & (data['days_employed'] < 300000)].count() \n",
    "#проверили, что нет значений в диапазоне от 19000 до 300000, все что больше, это уже косяк с часами"
   ]
  },
  {
   "cell_type": "code",
   "execution_count": 35,
   "metadata": {},
   "outputs": [],
   "source": [
    "data.loc[data['days_employed'] > 19000, 'days_employed'] = data.loc[data['days_employed'] > 19000, 'days_employed'] / 24\n",
    "#перевели часть значений из часы в дни"
   ]
  },
  {
   "cell_type": "code",
   "execution_count": 36,
   "metadata": {},
   "outputs": [
    {
     "data": {
      "text/plain": [
       "children               0\n",
       "days_employed       2162\n",
       "dob_years              0\n",
       "education              0\n",
       "education_id           0\n",
       "family_status          0\n",
       "family_status_id       0\n",
       "gender                 0\n",
       "income_type            0\n",
       "debt                   0\n",
       "total_income        2162\n",
       "purpose                0\n",
       "dtype: int64"
      ]
     },
     "execution_count": 36,
     "metadata": {},
     "output_type": "execute_result"
    }
   ],
   "source": [
    "data.isna().sum() #смотрим  сколько NaN"
   ]
  },
  {
   "cell_type": "code",
   "execution_count": 37,
   "metadata": {},
   "outputs": [],
   "source": [
    "data['days_employed'].fillna(value=data['days_employed'].mean(), inplace=True)"
   ]
  },
  {
   "cell_type": "code",
   "execution_count": 38,
   "metadata": {},
   "outputs": [
    {
     "data": {
      "text/plain": [
       "children               0\n",
       "days_employed          0\n",
       "dob_years              0\n",
       "education              0\n",
       "education_id           0\n",
       "family_status          0\n",
       "family_status_id       0\n",
       "gender                 0\n",
       "income_type            0\n",
       "debt                   0\n",
       "total_income        2162\n",
       "purpose                0\n",
       "dtype: int64"
      ]
     },
     "execution_count": 38,
     "metadata": {},
     "output_type": "execute_result"
    }
   ],
   "source": [
    "data.isna().sum()"
   ]
  },
  {
   "cell_type": "markdown",
   "metadata": {},
   "source": [
    "Заменим значения с 0 на медиану значений по столбцу 'dob_years' возраст заёмщика"
   ]
  },
  {
   "cell_type": "code",
   "execution_count": 39,
   "metadata": {},
   "outputs": [
    {
     "data": {
      "text/plain": [
       "children            100\n",
       "days_employed       100\n",
       "dob_years           100\n",
       "education           100\n",
       "education_id        100\n",
       "family_status       100\n",
       "family_status_id    100\n",
       "gender              100\n",
       "income_type         100\n",
       "debt                100\n",
       "total_income         90\n",
       "purpose             100\n",
       "dtype: int64"
      ]
     },
     "execution_count": 39,
     "metadata": {},
     "output_type": "execute_result"
    }
   ],
   "source": [
    "data[data['dob_years'] == 0].count() #проверяем количество значений"
   ]
  },
  {
   "cell_type": "code",
   "execution_count": 40,
   "metadata": {},
   "outputs": [
    {
     "data": {
      "text/plain": [
       "43"
      ]
     },
     "execution_count": 40,
     "metadata": {},
     "output_type": "execute_result"
    }
   ],
   "source": [
    "mean_dob_years = data['dob_years'].mean(skipna=True).astype('int64') # + меняем тип данных на int\n",
    "mean_dob_years #находим медианное значение возраста"
   ]
  },
  {
   "cell_type": "code",
   "execution_count": 41,
   "metadata": {},
   "outputs": [],
   "source": [
    "data.loc[data.dob_years == 0, 'dob_years'] = mean_dob_years #заменяем значения, где ноль на медиану 43"
   ]
  },
  {
   "cell_type": "code",
   "execution_count": 42,
   "metadata": {},
   "outputs": [
    {
     "data": {
      "text/plain": [
       "children            0\n",
       "days_employed       0\n",
       "dob_years           0\n",
       "education           0\n",
       "education_id        0\n",
       "family_status       0\n",
       "family_status_id    0\n",
       "gender              0\n",
       "income_type         0\n",
       "debt                0\n",
       "total_income        0\n",
       "purpose             0\n",
       "dtype: int64"
      ]
     },
     "execution_count": 42,
     "metadata": {},
     "output_type": "execute_result"
    }
   ],
   "source": [
    "data[data['dob_years'] == 0].count() #проверяем выполенения результата"
   ]
  },
  {
   "cell_type": "markdown",
   "metadata": {},
   "source": [
    "приводим в education все названия к нижнему регистру"
   ]
  },
  {
   "cell_type": "code",
   "execution_count": 43,
   "metadata": {},
   "outputs": [],
   "source": [
    "data['education'] = data['education'].str.lower()"
   ]
  },
  {
   "cell_type": "code",
   "execution_count": 44,
   "metadata": {},
   "outputs": [
    {
     "data": {
      "text/plain": [
       "array(['высшее', 'среднее', 'неоконченное высшее', 'начальное',\n",
       "       'ученая степень'], dtype=object)"
      ]
     },
     "execution_count": 44,
     "metadata": {},
     "output_type": "execute_result"
    }
   ],
   "source": [
    "data['education'].unique() #проверяем отработку"
   ]
  },
  {
   "cell_type": "markdown",
   "metadata": {},
   "source": [
    "total_income заменяем на медиану значений"
   ]
  },
  {
   "cell_type": "code",
   "execution_count": 45,
   "metadata": {},
   "outputs": [],
   "source": [
    "data['total_income'].fillna(value=data['total_income'].mean(), inplace=True)"
   ]
  },
  {
   "cell_type": "code",
   "execution_count": 46,
   "metadata": {},
   "outputs": [
    {
     "data": {
      "text/plain": [
       "children            0\n",
       "days_employed       0\n",
       "dob_years           0\n",
       "education           0\n",
       "education_id        0\n",
       "family_status       0\n",
       "family_status_id    0\n",
       "gender              0\n",
       "income_type         0\n",
       "debt                0\n",
       "total_income        0\n",
       "purpose             0\n",
       "dtype: int64"
      ]
     },
     "execution_count": 46,
     "metadata": {},
     "output_type": "execute_result"
    }
   ],
   "source": [
    "data.isna().sum() #проверяем NaN больше нет"
   ]
  },
  {
   "cell_type": "markdown",
   "metadata": {},
   "source": [
    "**Вывод**: мы заменили пропущенные значения медианными по колонкам, + удалили вбросы"
   ]
  },
  {
   "cell_type": "markdown",
   "metadata": {},
   "source": [
    "### Замена типа данных"
   ]
  },
  {
   "cell_type": "markdown",
   "metadata": {},
   "source": [
    "Тип данных можно заменить в days_employed  и  total_income  с float64 на int64, т.к. дни работы и уровень дохода можно брать целочислено, без знаков после запятой"
   ]
  },
  {
   "cell_type": "code",
   "execution_count": 47,
   "metadata": {},
   "outputs": [],
   "source": [
    "data['days_employed'] = data['days_employed'].astype(int)"
   ]
  },
  {
   "cell_type": "code",
   "execution_count": 48,
   "metadata": {},
   "outputs": [],
   "source": [
    "data['total_income'] = data['total_income'].astype(int)"
   ]
  },
  {
   "cell_type": "code",
   "execution_count": 49,
   "metadata": {},
   "outputs": [
    {
     "name": "stdout",
     "output_type": "stream",
     "text": [
      "<class 'pandas.core.frame.DataFrame'>\n",
      "Int64Index: 21402 entries, 0 to 21524\n",
      "Data columns (total 12 columns):\n",
      "children            21402 non-null int64\n",
      "days_employed       21402 non-null int64\n",
      "dob_years           21402 non-null int64\n",
      "education           21402 non-null object\n",
      "education_id        21402 non-null int64\n",
      "family_status       21402 non-null object\n",
      "family_status_id    21402 non-null int64\n",
      "gender              21402 non-null object\n",
      "income_type         21402 non-null object\n",
      "debt                21402 non-null int64\n",
      "total_income        21402 non-null int64\n",
      "purpose             21402 non-null object\n",
      "dtypes: int64(7), object(5)\n",
      "memory usage: 2.1+ MB\n"
     ]
    }
   ],
   "source": [
    "data.info()"
   ]
  },
  {
   "cell_type": "markdown",
   "metadata": {},
   "source": [
    "**Вывод**: типы данных изменены"
   ]
  },
  {
   "cell_type": "markdown",
   "metadata": {},
   "source": [
    "### Обработка дубликатов"
   ]
  },
  {
   "cell_type": "code",
   "execution_count": 50,
   "metadata": {},
   "outputs": [
    {
     "data": {
      "text/plain": [
       "71"
      ]
     },
     "execution_count": 50,
     "metadata": {},
     "output_type": "execute_result"
    }
   ],
   "source": [
    "data.duplicated().sum()\n",
    "# подсчёт явных дубликатов"
   ]
  },
  {
   "cell_type": "code",
   "execution_count": 51,
   "metadata": {},
   "outputs": [],
   "source": [
    "data = data.drop_duplicates().reset_index(drop=True)\n",
    "# удаление явных дубликатов (с удалением старых индексов и формированием новых)"
   ]
  },
  {
   "cell_type": "code",
   "execution_count": 52,
   "metadata": {},
   "outputs": [
    {
     "data": {
      "text/plain": [
       "0"
      ]
     },
     "execution_count": 52,
     "metadata": {},
     "output_type": "execute_result"
    }
   ],
   "source": [
    "data.duplicated().sum() #проверка удалились ли дубликаты"
   ]
  },
  {
   "cell_type": "markdown",
   "metadata": {},
   "source": [
    "**Вывод**: дубликаты могли появиться в следствии того, что привели названия education к нижнему регистру и могли задвоиться данные."
   ]
  },
  {
   "cell_type": "markdown",
   "metadata": {},
   "source": [
    "### Лемматизация и категоризация"
   ]
  },
  {
   "cell_type": "code",
   "execution_count": 53,
   "metadata": {},
   "outputs": [],
   "source": [
    "purpose_list = data['purpose'].unique() #выделяем цели получения кредита"
   ]
  },
  {
   "cell_type": "code",
   "execution_count": 54,
   "metadata": {},
   "outputs": [],
   "source": [
    "#Создадим функцию, которая позволит задать группы целей получения кредита\n",
    "def get_purpose_group(purpose):\n",
    "    lemma = m.lemmatize(purpose)\n",
    "    if 'автомобиль' in lemma:\n",
    "        return 'авто'\n",
    "    elif ('строительство' in lemma) or ('ремонт' in lemma):\n",
    "        return 'стройка и ремонт'\n",
    "    elif 'образование' in lemma:\n",
    "        return 'учеба'\n",
    "    elif 'свадьба' in lemma:\n",
    "        return 'свадьба'\n",
    "    elif ('жилье' in lemma) or ('недвижимость' in lemma):\n",
    "        return 'недвижимость'\n",
    "    else:\n",
    "        return 'другое'"
   ]
  },
  {
   "cell_type": "code",
   "execution_count": 55,
   "metadata": {},
   "outputs": [],
   "source": [
    "#Cоздадим словарь групп категорий\n",
    "purpose_dict = {}\n",
    "for row in purpose_list:\n",
    "    purpose_dict[row] = get_purpose_group(row)\n"
   ]
  },
  {
   "cell_type": "code",
   "execution_count": 56,
   "metadata": {},
   "outputs": [],
   "source": [
    "#Создадим новый столбец с группой получения кредита и передадим словарик\n",
    "for index in range(len(data)):\n",
    "    data.loc[index, 'purpose_group'] = purpose_dict.get(data.loc[index, 'purpose'])"
   ]
  },
  {
   "cell_type": "markdown",
   "metadata": {},
   "source": [
    "Добавим категоризацю по уровню дохода. Разделим на 4 группы: низкий - до 50000., средний - от 50000 до 100000, высокий от 100000 до 500000, и сверхвысокий от 500000"
   ]
  },
  {
   "cell_type": "code",
   "execution_count": 57,
   "metadata": {},
   "outputs": [],
   "source": [
    "def income_group(total_income):\n",
    "    \"\"\"\n",
    "    Возвращает группу по уровню дохода, используя правила:\n",
    "    - 'низкий', если total_income <= 50000;\n",
    "    - 'средний', если total_income более 50000 и менее 100000\n",
    "    - 'высокий', если total_income более 100000 и менее 500000\n",
    "    - 'сверхвысокий', если total_income более 500000\n",
    "    \"\"\"\n",
    "    \n",
    "    if total_income <= 50000:\n",
    "        return 'низкий'\n",
    "    if total_income <= 100000:\n",
    "        return 'средний'\n",
    "    if total_income <= 500000:\n",
    "        return 'высокий'\n",
    "    return 'сверхвысокий' "
   ]
  },
  {
   "cell_type": "code",
   "execution_count": 58,
   "metadata": {},
   "outputs": [],
   "source": [
    "data['income_group'] = data['total_income'].apply(income_group) #добавим новую колонку в датафрей, применяя функцию"
   ]
  },
  {
   "cell_type": "code",
   "execution_count": 59,
   "metadata": {},
   "outputs": [
    {
     "data": {
      "text/html": [
       "<div>\n",
       "<style scoped>\n",
       "    .dataframe tbody tr th:only-of-type {\n",
       "        vertical-align: middle;\n",
       "    }\n",
       "\n",
       "    .dataframe tbody tr th {\n",
       "        vertical-align: top;\n",
       "    }\n",
       "\n",
       "    .dataframe thead th {\n",
       "        text-align: right;\n",
       "    }\n",
       "</style>\n",
       "<table border=\"1\" class=\"dataframe\">\n",
       "  <thead>\n",
       "    <tr style=\"text-align: right;\">\n",
       "      <th></th>\n",
       "      <th>children</th>\n",
       "      <th>days_employed</th>\n",
       "      <th>dob_years</th>\n",
       "      <th>education</th>\n",
       "      <th>education_id</th>\n",
       "      <th>family_status</th>\n",
       "      <th>family_status_id</th>\n",
       "      <th>gender</th>\n",
       "      <th>income_type</th>\n",
       "      <th>debt</th>\n",
       "      <th>total_income</th>\n",
       "      <th>purpose</th>\n",
       "      <th>purpose_group</th>\n",
       "      <th>income_group</th>\n",
       "    </tr>\n",
       "  </thead>\n",
       "  <tbody>\n",
       "    <tr>\n",
       "      <td>39</td>\n",
       "      <td>0</td>\n",
       "      <td>650</td>\n",
       "      <td>31</td>\n",
       "      <td>высшее</td>\n",
       "      <td>0</td>\n",
       "      <td>гражданский брак</td>\n",
       "      <td>1</td>\n",
       "      <td>F</td>\n",
       "      <td>компаньон</td>\n",
       "      <td>0</td>\n",
       "      <td>754240</td>\n",
       "      <td>заняться образованием</td>\n",
       "      <td>учеба</td>\n",
       "      <td>сверхвысокий</td>\n",
       "    </tr>\n",
       "    <tr>\n",
       "      <td>68</td>\n",
       "      <td>2</td>\n",
       "      <td>2152</td>\n",
       "      <td>46</td>\n",
       "      <td>высшее</td>\n",
       "      <td>0</td>\n",
       "      <td>женат / замужем</td>\n",
       "      <td>0</td>\n",
       "      <td>M</td>\n",
       "      <td>компаньон</td>\n",
       "      <td>0</td>\n",
       "      <td>592071</td>\n",
       "      <td>операции с коммерческой недвижимостью</td>\n",
       "      <td>недвижимость</td>\n",
       "      <td>сверхвысокий</td>\n",
       "    </tr>\n",
       "    <tr>\n",
       "      <td>364</td>\n",
       "      <td>2</td>\n",
       "      <td>1372</td>\n",
       "      <td>36</td>\n",
       "      <td>высшее</td>\n",
       "      <td>0</td>\n",
       "      <td>женат / замужем</td>\n",
       "      <td>0</td>\n",
       "      <td>M</td>\n",
       "      <td>компаньон</td>\n",
       "      <td>0</td>\n",
       "      <td>553624</td>\n",
       "      <td>покупка жилой недвижимости</td>\n",
       "      <td>недвижимость</td>\n",
       "      <td>сверхвысокий</td>\n",
       "    </tr>\n",
       "    <tr>\n",
       "      <td>378</td>\n",
       "      <td>0</td>\n",
       "      <td>7115</td>\n",
       "      <td>50</td>\n",
       "      <td>среднее</td>\n",
       "      <td>1</td>\n",
       "      <td>женат / замужем</td>\n",
       "      <td>0</td>\n",
       "      <td>F</td>\n",
       "      <td>сотрудник</td>\n",
       "      <td>1</td>\n",
       "      <td>506773</td>\n",
       "      <td>жилье</td>\n",
       "      <td>недвижимость</td>\n",
       "      <td>сверхвысокий</td>\n",
       "    </tr>\n",
       "    <tr>\n",
       "      <td>683</td>\n",
       "      <td>0</td>\n",
       "      <td>1839</td>\n",
       "      <td>52</td>\n",
       "      <td>среднее</td>\n",
       "      <td>1</td>\n",
       "      <td>в разводе</td>\n",
       "      <td>3</td>\n",
       "      <td>F</td>\n",
       "      <td>сотрудник</td>\n",
       "      <td>0</td>\n",
       "      <td>536888</td>\n",
       "      <td>высшее образование</td>\n",
       "      <td>учеба</td>\n",
       "      <td>сверхвысокий</td>\n",
       "    </tr>\n",
       "  </tbody>\n",
       "</table>\n",
       "</div>"
      ],
      "text/plain": [
       "     children  days_employed  dob_years education  education_id  \\\n",
       "39          0            650         31    высшее             0   \n",
       "68          2           2152         46    высшее             0   \n",
       "364         2           1372         36    высшее             0   \n",
       "378         0           7115         50   среднее             1   \n",
       "683         0           1839         52   среднее             1   \n",
       "\n",
       "        family_status  family_status_id gender income_type  debt  \\\n",
       "39   гражданский брак                 1      F   компаньон     0   \n",
       "68    женат / замужем                 0      M   компаньон     0   \n",
       "364   женат / замужем                 0      M   компаньон     0   \n",
       "378   женат / замужем                 0      F   сотрудник     1   \n",
       "683         в разводе                 3      F   сотрудник     0   \n",
       "\n",
       "     total_income                                purpose purpose_group  \\\n",
       "39         754240                  заняться образованием         учеба   \n",
       "68         592071  операции с коммерческой недвижимостью  недвижимость   \n",
       "364        553624             покупка жилой недвижимости  недвижимость   \n",
       "378        506773                                  жилье  недвижимость   \n",
       "683        536888                     высшее образование         учеба   \n",
       "\n",
       "     income_group  \n",
       "39   сверхвысокий  \n",
       "68   сверхвысокий  \n",
       "364  сверхвысокий  \n",
       "378  сверхвысокий  \n",
       "683  сверхвысокий  "
      ]
     },
     "execution_count": 59,
     "metadata": {},
     "output_type": "execute_result"
    }
   ],
   "source": [
    "data[data['income_group'] == 'сверхвысокий'].head(5) \n",
    "#проверяем, нормально ли отрабатывет функция, проверив все категории смотрим на total_income"
   ]
  },
  {
   "cell_type": "markdown",
   "metadata": {},
   "source": [
    "**Вывод**: мы провели группировку по целям кредита и уровнем дохода на большие группы и теперь можем отвечать на главные вопросы."
   ]
  },
  {
   "cell_type": "markdown",
   "metadata": {},
   "source": [
    "## Шаг 3. Ответьте на вопросы"
   ]
  },
  {
   "cell_type": "markdown",
   "metadata": {},
   "source": [
    "- Есть ли зависимость между наличием детей и возвратом кредита в срок?"
   ]
  },
  {
   "cell_type": "code",
   "execution_count": 60,
   "metadata": {},
   "outputs": [
    {
     "data": {
      "text/html": [
       "<div>\n",
       "<style scoped>\n",
       "    .dataframe tbody tr th:only-of-type {\n",
       "        vertical-align: middle;\n",
       "    }\n",
       "\n",
       "    .dataframe tbody tr th {\n",
       "        vertical-align: top;\n",
       "    }\n",
       "\n",
       "    .dataframe thead th {\n",
       "        text-align: right;\n",
       "    }\n",
       "</style>\n",
       "<table border=\"1\" class=\"dataframe\">\n",
       "  <thead>\n",
       "    <tr style=\"text-align: right;\">\n",
       "      <th></th>\n",
       "      <th></th>\n",
       "      <th>debt</th>\n",
       "    </tr>\n",
       "    <tr>\n",
       "      <th>children</th>\n",
       "      <th>debt</th>\n",
       "      <th></th>\n",
       "    </tr>\n",
       "  </thead>\n",
       "  <tbody>\n",
       "    <tr>\n",
       "      <td rowspan=\"2\" valign=\"top\">0</td>\n",
       "      <td>0</td>\n",
       "      <td>13028</td>\n",
       "    </tr>\n",
       "    <tr>\n",
       "      <td>1</td>\n",
       "      <td>1063</td>\n",
       "    </tr>\n",
       "    <tr>\n",
       "      <td rowspan=\"2\" valign=\"top\">1</td>\n",
       "      <td>0</td>\n",
       "      <td>4364</td>\n",
       "    </tr>\n",
       "    <tr>\n",
       "      <td>1</td>\n",
       "      <td>444</td>\n",
       "    </tr>\n",
       "    <tr>\n",
       "      <td rowspan=\"2\" valign=\"top\">2</td>\n",
       "      <td>0</td>\n",
       "      <td>1858</td>\n",
       "    </tr>\n",
       "    <tr>\n",
       "      <td>1</td>\n",
       "      <td>194</td>\n",
       "    </tr>\n",
       "    <tr>\n",
       "      <td rowspan=\"2\" valign=\"top\">3</td>\n",
       "      <td>0</td>\n",
       "      <td>303</td>\n",
       "    </tr>\n",
       "    <tr>\n",
       "      <td>1</td>\n",
       "      <td>27</td>\n",
       "    </tr>\n",
       "    <tr>\n",
       "      <td rowspan=\"2\" valign=\"top\">4</td>\n",
       "      <td>0</td>\n",
       "      <td>37</td>\n",
       "    </tr>\n",
       "    <tr>\n",
       "      <td>1</td>\n",
       "      <td>4</td>\n",
       "    </tr>\n",
       "    <tr>\n",
       "      <td>5</td>\n",
       "      <td>0</td>\n",
       "      <td>9</td>\n",
       "    </tr>\n",
       "  </tbody>\n",
       "</table>\n",
       "</div>"
      ],
      "text/plain": [
       "                debt\n",
       "children debt       \n",
       "0        0     13028\n",
       "         1      1063\n",
       "1        0      4364\n",
       "         1       444\n",
       "2        0      1858\n",
       "         1       194\n",
       "3        0       303\n",
       "         1        27\n",
       "4        0        37\n",
       "         1         4\n",
       "5        0         9"
      ]
     },
     "execution_count": 60,
     "metadata": {},
     "output_type": "execute_result"
    }
   ],
   "source": [
    "# сгруппируем таблицу по признаку задолженности и по количеству детей\n",
    "data_sorted_children = data.groupby(['children', 'debt']).agg({'debt':'count'})\n",
    "# посмотрим на отсотированный датафрейм\n",
    "data_sorted_children"
   ]
  },
  {
   "cell_type": "code",
   "execution_count": 61,
   "metadata": {
    "scrolled": true
   },
   "outputs": [
    {
     "data": {
      "text/html": [
       "<div>\n",
       "<style scoped>\n",
       "    .dataframe tbody tr th:only-of-type {\n",
       "        vertical-align: middle;\n",
       "    }\n",
       "\n",
       "    .dataframe tbody tr th {\n",
       "        vertical-align: top;\n",
       "    }\n",
       "\n",
       "    .dataframe thead th {\n",
       "        text-align: right;\n",
       "    }\n",
       "</style>\n",
       "<table border=\"1\" class=\"dataframe\">\n",
       "  <thead>\n",
       "    <tr style=\"text-align: right;\">\n",
       "      <th></th>\n",
       "      <th></th>\n",
       "      <th>debt</th>\n",
       "      <th>percentage_%</th>\n",
       "    </tr>\n",
       "    <tr>\n",
       "      <th>children</th>\n",
       "      <th>debt</th>\n",
       "      <th></th>\n",
       "      <th></th>\n",
       "    </tr>\n",
       "  </thead>\n",
       "  <tbody>\n",
       "    <tr>\n",
       "      <td rowspan=\"2\" valign=\"top\">0</td>\n",
       "      <td>0</td>\n",
       "      <td>13028</td>\n",
       "      <td>92.456178</td>\n",
       "    </tr>\n",
       "    <tr>\n",
       "      <td>1</td>\n",
       "      <td>1063</td>\n",
       "      <td>7.543822</td>\n",
       "    </tr>\n",
       "    <tr>\n",
       "      <td rowspan=\"2\" valign=\"top\">1</td>\n",
       "      <td>0</td>\n",
       "      <td>4364</td>\n",
       "      <td>90.765391</td>\n",
       "    </tr>\n",
       "    <tr>\n",
       "      <td>1</td>\n",
       "      <td>444</td>\n",
       "      <td>9.234609</td>\n",
       "    </tr>\n",
       "    <tr>\n",
       "      <td rowspan=\"2\" valign=\"top\">2</td>\n",
       "      <td>0</td>\n",
       "      <td>1858</td>\n",
       "      <td>90.545809</td>\n",
       "    </tr>\n",
       "    <tr>\n",
       "      <td>1</td>\n",
       "      <td>194</td>\n",
       "      <td>9.454191</td>\n",
       "    </tr>\n",
       "    <tr>\n",
       "      <td rowspan=\"2\" valign=\"top\">3</td>\n",
       "      <td>0</td>\n",
       "      <td>303</td>\n",
       "      <td>91.818182</td>\n",
       "    </tr>\n",
       "    <tr>\n",
       "      <td>1</td>\n",
       "      <td>27</td>\n",
       "      <td>8.181818</td>\n",
       "    </tr>\n",
       "    <tr>\n",
       "      <td rowspan=\"2\" valign=\"top\">4</td>\n",
       "      <td>0</td>\n",
       "      <td>37</td>\n",
       "      <td>90.243902</td>\n",
       "    </tr>\n",
       "    <tr>\n",
       "      <td>1</td>\n",
       "      <td>4</td>\n",
       "      <td>9.756098</td>\n",
       "    </tr>\n",
       "    <tr>\n",
       "      <td>5</td>\n",
       "      <td>0</td>\n",
       "      <td>9</td>\n",
       "      <td>100.000000</td>\n",
       "    </tr>\n",
       "  </tbody>\n",
       "</table>\n",
       "</div>"
      ],
      "text/plain": [
       "                debt  percentage_%\n",
       "children debt                     \n",
       "0        0     13028     92.456178\n",
       "         1      1063      7.543822\n",
       "1        0      4364     90.765391\n",
       "         1       444      9.234609\n",
       "2        0      1858     90.545809\n",
       "         1       194      9.454191\n",
       "3        0       303     91.818182\n",
       "         1        27      8.181818\n",
       "4        0        37     90.243902\n",
       "         1         4      9.756098\n",
       "5        0         9    100.000000"
      ]
     },
     "execution_count": 61,
     "metadata": {},
     "output_type": "execute_result"
    }
   ],
   "source": [
    "# рассчитаем % по типу наличия задолженности от общего количества кредитов по категории family_status\n",
    "data_sorted_children['percentage_%'] = (data_sorted_children['debt']/\n",
    "                                   (data_sorted_children.groupby('children')['debt'].transform('sum')))*100\n",
    "\n",
    "data_sorted_children"
   ]
  },
  {
   "cell_type": "markdown",
   "metadata": {},
   "source": [
    "**Вывод**: мы можем увидеть, что заемщики без детей лучше возвращают кредиты, т.к. % невозврата меньше в среднем на 2% "
   ]
  },
  {
   "cell_type": "markdown",
   "metadata": {},
   "source": [
    "- Есть ли зависимость между семейным положением и возвратом кредита в срок?"
   ]
  },
  {
   "cell_type": "code",
   "execution_count": 62,
   "metadata": {},
   "outputs": [
    {
     "data": {
      "text/html": [
       "<div>\n",
       "<style scoped>\n",
       "    .dataframe tbody tr th:only-of-type {\n",
       "        vertical-align: middle;\n",
       "    }\n",
       "\n",
       "    .dataframe tbody tr th {\n",
       "        vertical-align: top;\n",
       "    }\n",
       "\n",
       "    .dataframe thead th {\n",
       "        text-align: right;\n",
       "    }\n",
       "</style>\n",
       "<table border=\"1\" class=\"dataframe\">\n",
       "  <thead>\n",
       "    <tr style=\"text-align: right;\">\n",
       "      <th></th>\n",
       "      <th></th>\n",
       "      <th>debt</th>\n",
       "    </tr>\n",
       "    <tr>\n",
       "      <th>family_status</th>\n",
       "      <th>debt</th>\n",
       "      <th></th>\n",
       "    </tr>\n",
       "  </thead>\n",
       "  <tbody>\n",
       "    <tr>\n",
       "      <td rowspan=\"2\" valign=\"top\">Не женат / не замужем</td>\n",
       "      <td>0</td>\n",
       "      <td>2523</td>\n",
       "    </tr>\n",
       "    <tr>\n",
       "      <td>1</td>\n",
       "      <td>273</td>\n",
       "    </tr>\n",
       "    <tr>\n",
       "      <td rowspan=\"2\" valign=\"top\">в разводе</td>\n",
       "      <td>0</td>\n",
       "      <td>1105</td>\n",
       "    </tr>\n",
       "    <tr>\n",
       "      <td>1</td>\n",
       "      <td>84</td>\n",
       "    </tr>\n",
       "    <tr>\n",
       "      <td rowspan=\"2\" valign=\"top\">вдовец / вдова</td>\n",
       "      <td>0</td>\n",
       "      <td>888</td>\n",
       "    </tr>\n",
       "    <tr>\n",
       "      <td>1</td>\n",
       "      <td>63</td>\n",
       "    </tr>\n",
       "    <tr>\n",
       "      <td rowspan=\"2\" valign=\"top\">гражданский брак</td>\n",
       "      <td>0</td>\n",
       "      <td>3749</td>\n",
       "    </tr>\n",
       "    <tr>\n",
       "      <td>1</td>\n",
       "      <td>385</td>\n",
       "    </tr>\n",
       "    <tr>\n",
       "      <td rowspan=\"2\" valign=\"top\">женат / замужем</td>\n",
       "      <td>0</td>\n",
       "      <td>11334</td>\n",
       "    </tr>\n",
       "    <tr>\n",
       "      <td>1</td>\n",
       "      <td>927</td>\n",
       "    </tr>\n",
       "  </tbody>\n",
       "</table>\n",
       "</div>"
      ],
      "text/plain": [
       "                             debt\n",
       "family_status         debt       \n",
       "Не женат / не замужем 0      2523\n",
       "                      1       273\n",
       "в разводе             0      1105\n",
       "                      1        84\n",
       "вдовец / вдова        0       888\n",
       "                      1        63\n",
       "гражданский брак      0      3749\n",
       "                      1       385\n",
       "женат / замужем       0     11334\n",
       "                      1       927"
      ]
     },
     "execution_count": 62,
     "metadata": {},
     "output_type": "execute_result"
    }
   ],
   "source": [
    "# сгруппируем таблицу по признаку задолженности и типу семейному статусу\n",
    "data_sorted_family = data.groupby(['family_status', 'debt']).agg({'debt':'count'})\n",
    "# посмотрим на отсотированный датафрейм\n",
    "data_sorted_family"
   ]
  },
  {
   "cell_type": "code",
   "execution_count": 63,
   "metadata": {},
   "outputs": [
    {
     "data": {
      "text/html": [
       "<div>\n",
       "<style scoped>\n",
       "    .dataframe tbody tr th:only-of-type {\n",
       "        vertical-align: middle;\n",
       "    }\n",
       "\n",
       "    .dataframe tbody tr th {\n",
       "        vertical-align: top;\n",
       "    }\n",
       "\n",
       "    .dataframe thead th {\n",
       "        text-align: right;\n",
       "    }\n",
       "</style>\n",
       "<table border=\"1\" class=\"dataframe\">\n",
       "  <thead>\n",
       "    <tr style=\"text-align: right;\">\n",
       "      <th></th>\n",
       "      <th></th>\n",
       "      <th>debt</th>\n",
       "      <th>percentage_%</th>\n",
       "    </tr>\n",
       "    <tr>\n",
       "      <th>family_status</th>\n",
       "      <th>debt</th>\n",
       "      <th></th>\n",
       "      <th></th>\n",
       "    </tr>\n",
       "  </thead>\n",
       "  <tbody>\n",
       "    <tr>\n",
       "      <td rowspan=\"2\" valign=\"top\">Не женат / не замужем</td>\n",
       "      <td>0</td>\n",
       "      <td>2523</td>\n",
       "      <td>90.236052</td>\n",
       "    </tr>\n",
       "    <tr>\n",
       "      <td>1</td>\n",
       "      <td>273</td>\n",
       "      <td>9.763948</td>\n",
       "    </tr>\n",
       "    <tr>\n",
       "      <td rowspan=\"2\" valign=\"top\">в разводе</td>\n",
       "      <td>0</td>\n",
       "      <td>1105</td>\n",
       "      <td>92.935240</td>\n",
       "    </tr>\n",
       "    <tr>\n",
       "      <td>1</td>\n",
       "      <td>84</td>\n",
       "      <td>7.064760</td>\n",
       "    </tr>\n",
       "    <tr>\n",
       "      <td rowspan=\"2\" valign=\"top\">вдовец / вдова</td>\n",
       "      <td>0</td>\n",
       "      <td>888</td>\n",
       "      <td>93.375394</td>\n",
       "    </tr>\n",
       "    <tr>\n",
       "      <td>1</td>\n",
       "      <td>63</td>\n",
       "      <td>6.624606</td>\n",
       "    </tr>\n",
       "    <tr>\n",
       "      <td rowspan=\"2\" valign=\"top\">гражданский брак</td>\n",
       "      <td>0</td>\n",
       "      <td>3749</td>\n",
       "      <td>90.686986</td>\n",
       "    </tr>\n",
       "    <tr>\n",
       "      <td>1</td>\n",
       "      <td>385</td>\n",
       "      <td>9.313014</td>\n",
       "    </tr>\n",
       "    <tr>\n",
       "      <td rowspan=\"2\" valign=\"top\">женат / замужем</td>\n",
       "      <td>0</td>\n",
       "      <td>11334</td>\n",
       "      <td>92.439442</td>\n",
       "    </tr>\n",
       "    <tr>\n",
       "      <td>1</td>\n",
       "      <td>927</td>\n",
       "      <td>7.560558</td>\n",
       "    </tr>\n",
       "  </tbody>\n",
       "</table>\n",
       "</div>"
      ],
      "text/plain": [
       "                             debt  percentage_%\n",
       "family_status         debt                     \n",
       "Не женат / не замужем 0      2523     90.236052\n",
       "                      1       273      9.763948\n",
       "в разводе             0      1105     92.935240\n",
       "                      1        84      7.064760\n",
       "вдовец / вдова        0       888     93.375394\n",
       "                      1        63      6.624606\n",
       "гражданский брак      0      3749     90.686986\n",
       "                      1       385      9.313014\n",
       "женат / замужем       0     11334     92.439442\n",
       "                      1       927      7.560558"
      ]
     },
     "execution_count": 63,
     "metadata": {},
     "output_type": "execute_result"
    }
   ],
   "source": [
    "# рассчитаем % по типу наличия задолженности от общего количества кредитов по категории family_status\n",
    "data_sorted_family['percentage_%'] = (data_sorted_family['debt']/\n",
    "                                   (data_sorted_family.groupby('family_status')['debt'].transform('sum')))*100\n",
    "\n",
    "data_sorted_family"
   ]
  },
  {
   "cell_type": "markdown",
   "metadata": {},
   "source": [
    "**Вывод**: мы видим, что процент просрочки кредита разный в зависимости от семейного статуса: Не женат / не замужем - 9,76; в разводе - 7.06; вдовец / вдова - 6,62; гражданский брак - 9,3; женат / замужем - 7,56. О чем можно сдлетать вывод, что официально расписанные супруги лучше возвращают кредиты в срок."
   ]
  },
  {
   "cell_type": "markdown",
   "metadata": {},
   "source": [
    "- Есть ли зависимость между уровнем дохода и возвратом кредита в срок?"
   ]
  },
  {
   "cell_type": "code",
   "execution_count": 64,
   "metadata": {
    "scrolled": true
   },
   "outputs": [
    {
     "data": {
      "text/html": [
       "<div>\n",
       "<style scoped>\n",
       "    .dataframe tbody tr th:only-of-type {\n",
       "        vertical-align: middle;\n",
       "    }\n",
       "\n",
       "    .dataframe tbody tr th {\n",
       "        vertical-align: top;\n",
       "    }\n",
       "\n",
       "    .dataframe thead th {\n",
       "        text-align: right;\n",
       "    }\n",
       "</style>\n",
       "<table border=\"1\" class=\"dataframe\">\n",
       "  <thead>\n",
       "    <tr style=\"text-align: right;\">\n",
       "      <th></th>\n",
       "      <th></th>\n",
       "      <th>debt</th>\n",
       "    </tr>\n",
       "    <tr>\n",
       "      <th>income_group</th>\n",
       "      <th>debt</th>\n",
       "      <th></th>\n",
       "    </tr>\n",
       "  </thead>\n",
       "  <tbody>\n",
       "    <tr>\n",
       "      <td rowspan=\"2\" valign=\"top\">высокий</td>\n",
       "      <td>0</td>\n",
       "      <td>15301</td>\n",
       "    </tr>\n",
       "    <tr>\n",
       "      <td>1</td>\n",
       "      <td>1364</td>\n",
       "    </tr>\n",
       "    <tr>\n",
       "      <td rowspan=\"2\" valign=\"top\">низкий</td>\n",
       "      <td>0</td>\n",
       "      <td>348</td>\n",
       "    </tr>\n",
       "    <tr>\n",
       "      <td>1</td>\n",
       "      <td>23</td>\n",
       "    </tr>\n",
       "    <tr>\n",
       "      <td rowspan=\"2\" valign=\"top\">сверхвысокий</td>\n",
       "      <td>0</td>\n",
       "      <td>208</td>\n",
       "    </tr>\n",
       "    <tr>\n",
       "      <td>1</td>\n",
       "      <td>14</td>\n",
       "    </tr>\n",
       "    <tr>\n",
       "      <td rowspan=\"2\" valign=\"top\">средний</td>\n",
       "      <td>0</td>\n",
       "      <td>3742</td>\n",
       "    </tr>\n",
       "    <tr>\n",
       "      <td>1</td>\n",
       "      <td>331</td>\n",
       "    </tr>\n",
       "  </tbody>\n",
       "</table>\n",
       "</div>"
      ],
      "text/plain": [
       "                    debt\n",
       "income_group debt       \n",
       "высокий      0     15301\n",
       "             1      1364\n",
       "низкий       0       348\n",
       "             1        23\n",
       "сверхвысокий 0       208\n",
       "             1        14\n",
       "средний      0      3742\n",
       "             1       331"
      ]
     },
     "execution_count": 64,
     "metadata": {},
     "output_type": "execute_result"
    }
   ],
   "source": [
    "# сгруппируем таблицу по признаку задолженности и уровнем дохода\n",
    "data_sorted_income = data.groupby(['income_group', 'debt']).agg({'debt':'count'})\n",
    "# посмотрим на отсотированный датафрейм\n",
    "data_sorted_income"
   ]
  },
  {
   "cell_type": "code",
   "execution_count": 65,
   "metadata": {},
   "outputs": [
    {
     "data": {
      "text/html": [
       "<div>\n",
       "<style scoped>\n",
       "    .dataframe tbody tr th:only-of-type {\n",
       "        vertical-align: middle;\n",
       "    }\n",
       "\n",
       "    .dataframe tbody tr th {\n",
       "        vertical-align: top;\n",
       "    }\n",
       "\n",
       "    .dataframe thead th {\n",
       "        text-align: right;\n",
       "    }\n",
       "</style>\n",
       "<table border=\"1\" class=\"dataframe\">\n",
       "  <thead>\n",
       "    <tr style=\"text-align: right;\">\n",
       "      <th></th>\n",
       "      <th></th>\n",
       "      <th>debt</th>\n",
       "      <th>percentage_%</th>\n",
       "    </tr>\n",
       "    <tr>\n",
       "      <th>income_group</th>\n",
       "      <th>debt</th>\n",
       "      <th></th>\n",
       "      <th></th>\n",
       "    </tr>\n",
       "  </thead>\n",
       "  <tbody>\n",
       "    <tr>\n",
       "      <td rowspan=\"2\" valign=\"top\">высокий</td>\n",
       "      <td>0</td>\n",
       "      <td>15301</td>\n",
       "      <td>91.815182</td>\n",
       "    </tr>\n",
       "    <tr>\n",
       "      <td>1</td>\n",
       "      <td>1364</td>\n",
       "      <td>8.184818</td>\n",
       "    </tr>\n",
       "    <tr>\n",
       "      <td rowspan=\"2\" valign=\"top\">низкий</td>\n",
       "      <td>0</td>\n",
       "      <td>348</td>\n",
       "      <td>93.800539</td>\n",
       "    </tr>\n",
       "    <tr>\n",
       "      <td>1</td>\n",
       "      <td>23</td>\n",
       "      <td>6.199461</td>\n",
       "    </tr>\n",
       "    <tr>\n",
       "      <td rowspan=\"2\" valign=\"top\">сверхвысокий</td>\n",
       "      <td>0</td>\n",
       "      <td>208</td>\n",
       "      <td>93.693694</td>\n",
       "    </tr>\n",
       "    <tr>\n",
       "      <td>1</td>\n",
       "      <td>14</td>\n",
       "      <td>6.306306</td>\n",
       "    </tr>\n",
       "    <tr>\n",
       "      <td rowspan=\"2\" valign=\"top\">средний</td>\n",
       "      <td>0</td>\n",
       "      <td>3742</td>\n",
       "      <td>91.873312</td>\n",
       "    </tr>\n",
       "    <tr>\n",
       "      <td>1</td>\n",
       "      <td>331</td>\n",
       "      <td>8.126688</td>\n",
       "    </tr>\n",
       "  </tbody>\n",
       "</table>\n",
       "</div>"
      ],
      "text/plain": [
       "                    debt  percentage_%\n",
       "income_group debt                     \n",
       "высокий      0     15301     91.815182\n",
       "             1      1364      8.184818\n",
       "низкий       0       348     93.800539\n",
       "             1        23      6.199461\n",
       "сверхвысокий 0       208     93.693694\n",
       "             1        14      6.306306\n",
       "средний      0      3742     91.873312\n",
       "             1       331      8.126688"
      ]
     },
     "execution_count": 65,
     "metadata": {},
     "output_type": "execute_result"
    }
   ],
   "source": [
    "# рассчитаем % по типу наличия задолженности от общего количества кредитов по категории income_group\n",
    "data_sorted_income['percentage_%'] = (data_sorted_income['debt']/\n",
    "                                   (data_sorted_income.groupby('income_group')['debt'].transform('sum')))*100\n",
    "\n",
    "data_sorted_income"
   ]
  },
  {
   "cell_type": "markdown",
   "metadata": {},
   "source": [
    "**Вывод**: люди с низким (до 50000 в мес) и сверхвысоким (более 500000 в мес) достатком лучше возвращают кредиты, чем с выским и средним достатком."
   ]
  },
  {
   "cell_type": "markdown",
   "metadata": {},
   "source": [
    "- Как разные цели кредита влияют на его возврат в срок?"
   ]
  },
  {
   "cell_type": "code",
   "execution_count": 66,
   "metadata": {},
   "outputs": [
    {
     "data": {
      "text/html": [
       "<div>\n",
       "<style scoped>\n",
       "    .dataframe tbody tr th:only-of-type {\n",
       "        vertical-align: middle;\n",
       "    }\n",
       "\n",
       "    .dataframe tbody tr th {\n",
       "        vertical-align: top;\n",
       "    }\n",
       "\n",
       "    .dataframe thead th {\n",
       "        text-align: right;\n",
       "    }\n",
       "</style>\n",
       "<table border=\"1\" class=\"dataframe\">\n",
       "  <thead>\n",
       "    <tr style=\"text-align: right;\">\n",
       "      <th></th>\n",
       "      <th></th>\n",
       "      <th>debt</th>\n",
       "    </tr>\n",
       "    <tr>\n",
       "      <th>purpose_group</th>\n",
       "      <th>debt</th>\n",
       "      <th></th>\n",
       "    </tr>\n",
       "  </thead>\n",
       "  <tbody>\n",
       "    <tr>\n",
       "      <td rowspan=\"2\" valign=\"top\">авто</td>\n",
       "      <td>0</td>\n",
       "      <td>3879</td>\n",
       "    </tr>\n",
       "    <tr>\n",
       "      <td>1</td>\n",
       "      <td>400</td>\n",
       "    </tr>\n",
       "    <tr>\n",
       "      <td rowspan=\"2\" valign=\"top\">недвижимость</td>\n",
       "      <td>0</td>\n",
       "      <td>7678</td>\n",
       "    </tr>\n",
       "    <tr>\n",
       "      <td>1</td>\n",
       "      <td>602</td>\n",
       "    </tr>\n",
       "    <tr>\n",
       "      <td rowspan=\"2\" valign=\"top\">свадьба</td>\n",
       "      <td>0</td>\n",
       "      <td>2130</td>\n",
       "    </tr>\n",
       "    <tr>\n",
       "      <td>1</td>\n",
       "      <td>183</td>\n",
       "    </tr>\n",
       "    <tr>\n",
       "      <td rowspan=\"2\" valign=\"top\">стройка и ремонт</td>\n",
       "      <td>0</td>\n",
       "      <td>2293</td>\n",
       "    </tr>\n",
       "    <tr>\n",
       "      <td>1</td>\n",
       "      <td>178</td>\n",
       "    </tr>\n",
       "    <tr>\n",
       "      <td rowspan=\"2\" valign=\"top\">учеба</td>\n",
       "      <td>0</td>\n",
       "      <td>3619</td>\n",
       "    </tr>\n",
       "    <tr>\n",
       "      <td>1</td>\n",
       "      <td>369</td>\n",
       "    </tr>\n",
       "  </tbody>\n",
       "</table>\n",
       "</div>"
      ],
      "text/plain": [
       "                       debt\n",
       "purpose_group    debt      \n",
       "авто             0     3879\n",
       "                 1      400\n",
       "недвижимость     0     7678\n",
       "                 1      602\n",
       "свадьба          0     2130\n",
       "                 1      183\n",
       "стройка и ремонт 0     2293\n",
       "                 1      178\n",
       "учеба            0     3619\n",
       "                 1      369"
      ]
     },
     "execution_count": 66,
     "metadata": {},
     "output_type": "execute_result"
    }
   ],
   "source": [
    "# сгруппируем таблицу по признаку задолженности и целям кредита\n",
    "data_sorted_purpose = data.groupby(['purpose_group', 'debt']).agg({'debt':'count'})\n",
    "# посмотрим на отсотированный датафрейм\n",
    "data_sorted_purpose"
   ]
  },
  {
   "cell_type": "code",
   "execution_count": 67,
   "metadata": {},
   "outputs": [
    {
     "data": {
      "text/html": [
       "<div>\n",
       "<style scoped>\n",
       "    .dataframe tbody tr th:only-of-type {\n",
       "        vertical-align: middle;\n",
       "    }\n",
       "\n",
       "    .dataframe tbody tr th {\n",
       "        vertical-align: top;\n",
       "    }\n",
       "\n",
       "    .dataframe thead th {\n",
       "        text-align: right;\n",
       "    }\n",
       "</style>\n",
       "<table border=\"1\" class=\"dataframe\">\n",
       "  <thead>\n",
       "    <tr style=\"text-align: right;\">\n",
       "      <th></th>\n",
       "      <th></th>\n",
       "      <th>debt</th>\n",
       "      <th>percentage_%</th>\n",
       "    </tr>\n",
       "    <tr>\n",
       "      <th>purpose_group</th>\n",
       "      <th>debt</th>\n",
       "      <th></th>\n",
       "      <th></th>\n",
       "    </tr>\n",
       "  </thead>\n",
       "  <tbody>\n",
       "    <tr>\n",
       "      <td rowspan=\"2\" valign=\"top\">авто</td>\n",
       "      <td>0</td>\n",
       "      <td>3879</td>\n",
       "      <td>90.652022</td>\n",
       "    </tr>\n",
       "    <tr>\n",
       "      <td>1</td>\n",
       "      <td>400</td>\n",
       "      <td>9.347978</td>\n",
       "    </tr>\n",
       "    <tr>\n",
       "      <td rowspan=\"2\" valign=\"top\">недвижимость</td>\n",
       "      <td>0</td>\n",
       "      <td>7678</td>\n",
       "      <td>92.729469</td>\n",
       "    </tr>\n",
       "    <tr>\n",
       "      <td>1</td>\n",
       "      <td>602</td>\n",
       "      <td>7.270531</td>\n",
       "    </tr>\n",
       "    <tr>\n",
       "      <td rowspan=\"2\" valign=\"top\">свадьба</td>\n",
       "      <td>0</td>\n",
       "      <td>2130</td>\n",
       "      <td>92.088197</td>\n",
       "    </tr>\n",
       "    <tr>\n",
       "      <td>1</td>\n",
       "      <td>183</td>\n",
       "      <td>7.911803</td>\n",
       "    </tr>\n",
       "    <tr>\n",
       "      <td rowspan=\"2\" valign=\"top\">стройка и ремонт</td>\n",
       "      <td>0</td>\n",
       "      <td>2293</td>\n",
       "      <td>92.796439</td>\n",
       "    </tr>\n",
       "    <tr>\n",
       "      <td>1</td>\n",
       "      <td>178</td>\n",
       "      <td>7.203561</td>\n",
       "    </tr>\n",
       "    <tr>\n",
       "      <td rowspan=\"2\" valign=\"top\">учеба</td>\n",
       "      <td>0</td>\n",
       "      <td>3619</td>\n",
       "      <td>90.747242</td>\n",
       "    </tr>\n",
       "    <tr>\n",
       "      <td>1</td>\n",
       "      <td>369</td>\n",
       "      <td>9.252758</td>\n",
       "    </tr>\n",
       "  </tbody>\n",
       "</table>\n",
       "</div>"
      ],
      "text/plain": [
       "                       debt  percentage_%\n",
       "purpose_group    debt                    \n",
       "авто             0     3879     90.652022\n",
       "                 1      400      9.347978\n",
       "недвижимость     0     7678     92.729469\n",
       "                 1      602      7.270531\n",
       "свадьба          0     2130     92.088197\n",
       "                 1      183      7.911803\n",
       "стройка и ремонт 0     2293     92.796439\n",
       "                 1      178      7.203561\n",
       "учеба            0     3619     90.747242\n",
       "                 1      369      9.252758"
      ]
     },
     "execution_count": 67,
     "metadata": {},
     "output_type": "execute_result"
    }
   ],
   "source": [
    "# рассчитаем % по типу наличия задолженности от общего количества кредитов по категории family_status\n",
    "data_sorted_purpose['percentage_%'] = (data_sorted_purpose['debt']/\n",
    "                                   (data_sorted_purpose.groupby('purpose_group')['debt'].transform('sum')))*100\n",
    "\n",
    "data_sorted_purpose"
   ]
  },
  {
   "cell_type": "markdown",
   "metadata": {},
   "source": [
    "**Вывод**: на недвижимость, стройку и ремонт и свадьбу возвращают лучше, чем на учебу и автомобили."
   ]
  },
  {
   "cell_type": "markdown",
   "metadata": {},
   "source": [
    "## Шаг 4. Общий вывод"
   ]
  },
  {
   "cell_type": "markdown",
   "metadata": {},
   "source": [
    "Проанализировав разные группы заемщиков можно выделять определенные группы и делать определенное ранжирование. Так, например, для банка будет лучше всего, чтобы % просрочки по возврату был минимальный. И поэтому портрет \"идеального\" заемщика: \"Без детей, женат/замужем, низкий или сверхвысокий достаток и цели кредита: стройка или покупка недвижимости\""
   ]
  }
 ],
 "metadata": {
  "ExecuteTimeLog": [
   {
    "duration": 580,
    "start_time": "2021-12-10T05:25:09.199Z"
   },
   {
    "duration": 68,
    "start_time": "2021-12-10T05:26:01.488Z"
   },
   {
    "duration": 11,
    "start_time": "2021-12-10T05:29:14.079Z"
   },
   {
    "duration": 5,
    "start_time": "2021-12-10T07:53:01.692Z"
   },
   {
    "duration": 5,
    "start_time": "2021-12-10T07:53:59.300Z"
   },
   {
    "duration": 6,
    "start_time": "2021-12-10T07:55:52.967Z"
   },
   {
    "duration": 5,
    "start_time": "2021-12-10T07:56:02.757Z"
   },
   {
    "duration": 5,
    "start_time": "2021-12-10T07:57:22.221Z"
   },
   {
    "duration": 5,
    "start_time": "2021-12-10T07:58:19.919Z"
   },
   {
    "duration": 67,
    "start_time": "2021-12-10T07:59:31.958Z"
   },
   {
    "duration": 64,
    "start_time": "2021-12-10T08:00:38.319Z"
   },
   {
    "duration": 63,
    "start_time": "2021-12-10T08:00:40.997Z"
   },
   {
    "duration": 12,
    "start_time": "2021-12-10T08:00:43.210Z"
   },
   {
    "duration": 62,
    "start_time": "2021-12-10T08:00:45.970Z"
   },
   {
    "duration": 65,
    "start_time": "2021-12-10T08:00:48.839Z"
   },
   {
    "duration": 64,
    "start_time": "2021-12-10T08:00:51.282Z"
   },
   {
    "duration": 6,
    "start_time": "2021-12-10T08:01:15.933Z"
   },
   {
    "duration": 15,
    "start_time": "2021-12-10T08:01:40.065Z"
   },
   {
    "duration": 14,
    "start_time": "2021-12-10T08:02:17.516Z"
   },
   {
    "duration": 6,
    "start_time": "2021-12-10T08:03:09.122Z"
   },
   {
    "duration": 5,
    "start_time": "2021-12-10T08:04:04.319Z"
   },
   {
    "duration": 16,
    "start_time": "2021-12-10T08:06:10.873Z"
   },
   {
    "duration": 5,
    "start_time": "2021-12-10T08:06:58.355Z"
   },
   {
    "duration": 5,
    "start_time": "2021-12-10T08:07:39.699Z"
   },
   {
    "duration": 5,
    "start_time": "2021-12-10T08:08:27.302Z"
   },
   {
    "duration": 5,
    "start_time": "2021-12-10T08:19:44.788Z"
   },
   {
    "duration": 5,
    "start_time": "2021-12-10T08:19:50.281Z"
   },
   {
    "duration": 5,
    "start_time": "2021-12-10T08:19:56.675Z"
   },
   {
    "duration": 5,
    "start_time": "2021-12-10T08:20:04.013Z"
   },
   {
    "duration": 6,
    "start_time": "2021-12-10T08:20:41.618Z"
   },
   {
    "duration": 6,
    "start_time": "2021-12-10T08:20:45.182Z"
   },
   {
    "duration": 7,
    "start_time": "2021-12-10T08:20:56.971Z"
   },
   {
    "duration": 8,
    "start_time": "2021-12-10T08:21:13.652Z"
   },
   {
    "duration": 8,
    "start_time": "2021-12-10T08:22:29.539Z"
   },
   {
    "duration": 6,
    "start_time": "2021-12-10T08:27:16.274Z"
   },
   {
    "duration": 75,
    "start_time": "2021-12-10T08:36:44.032Z"
   },
   {
    "duration": 666,
    "start_time": "2021-12-10T08:39:56.468Z"
   },
   {
    "duration": 74,
    "start_time": "2021-12-10T08:40:14.357Z"
   },
   {
    "duration": 7699,
    "start_time": "2021-12-10T08:40:30.097Z"
   },
   {
    "duration": 431,
    "start_time": "2021-12-10T08:41:08.621Z"
   },
   {
    "duration": 27,
    "start_time": "2021-12-10T08:41:54.806Z"
   },
   {
    "duration": 24,
    "start_time": "2021-12-10T08:42:04.072Z"
   },
   {
    "duration": 583,
    "start_time": "2021-12-10T08:42:19.470Z"
   },
   {
    "duration": 277,
    "start_time": "2021-12-10T08:45:32.054Z"
   },
   {
    "duration": 344,
    "start_time": "2021-12-10T08:45:41.263Z"
   },
   {
    "duration": 8,
    "start_time": "2021-12-10T08:45:43.655Z"
   },
   {
    "duration": 3,
    "start_time": "2021-12-10T08:47:11.379Z"
   },
   {
    "duration": 204,
    "start_time": "2021-12-10T08:47:13.676Z"
   },
   {
    "duration": 3,
    "start_time": "2021-12-10T08:48:02.695Z"
   },
   {
    "duration": 201,
    "start_time": "2021-12-10T08:48:04.364Z"
   },
   {
    "duration": 162,
    "start_time": "2021-12-10T08:53:03.111Z"
   },
   {
    "duration": 5,
    "start_time": "2021-12-10T08:53:11.246Z"
   },
   {
    "duration": 36,
    "start_time": "2021-12-10T09:00:07.530Z"
   },
   {
    "duration": 716,
    "start_time": "2021-12-13T02:24:52.011Z"
   },
   {
    "duration": 89,
    "start_time": "2021-12-13T02:24:54.793Z"
   },
   {
    "duration": 16,
    "start_time": "2021-12-13T02:24:58.607Z"
   },
   {
    "duration": 47,
    "start_time": "2021-12-13T02:25:04.479Z"
   },
   {
    "duration": 6,
    "start_time": "2021-12-13T02:25:10.263Z"
   },
   {
    "duration": 7,
    "start_time": "2021-12-13T02:25:22.987Z"
   },
   {
    "duration": 9,
    "start_time": "2021-12-13T02:25:24.242Z"
   },
   {
    "duration": 786,
    "start_time": "2021-12-13T02:25:33.733Z"
   },
   {
    "duration": 88,
    "start_time": "2021-12-13T02:25:34.522Z"
   },
   {
    "duration": 15,
    "start_time": "2021-12-13T02:25:34.613Z"
   },
   {
    "duration": 63,
    "start_time": "2021-12-13T02:25:34.630Z"
   },
   {
    "duration": 5,
    "start_time": "2021-12-13T02:25:34.695Z"
   },
   {
    "duration": 7,
    "start_time": "2021-12-13T02:25:34.703Z"
   },
   {
    "duration": 7,
    "start_time": "2021-12-13T02:25:34.712Z"
   },
   {
    "duration": 38,
    "start_time": "2021-12-13T02:25:34.723Z"
   },
   {
    "duration": 1632,
    "start_time": "2021-12-13T02:25:33.132Z"
   },
   {
    "duration": 1627,
    "start_time": "2021-12-13T02:25:33.138Z"
   },
   {
    "duration": 1623,
    "start_time": "2021-12-13T02:25:33.144Z"
   },
   {
    "duration": 1620,
    "start_time": "2021-12-13T02:25:33.148Z"
   },
   {
    "duration": 1616,
    "start_time": "2021-12-13T02:25:33.153Z"
   },
   {
    "duration": 1610,
    "start_time": "2021-12-13T02:25:33.160Z"
   },
   {
    "duration": 1606,
    "start_time": "2021-12-13T02:25:33.166Z"
   },
   {
    "duration": 1604,
    "start_time": "2021-12-13T02:25:33.169Z"
   },
   {
    "duration": 1600,
    "start_time": "2021-12-13T02:25:33.174Z"
   },
   {
    "duration": 1597,
    "start_time": "2021-12-13T02:25:33.178Z"
   },
   {
    "duration": 1591,
    "start_time": "2021-12-13T02:25:33.185Z"
   },
   {
    "duration": 1570,
    "start_time": "2021-12-13T02:25:33.208Z"
   },
   {
    "duration": 1563,
    "start_time": "2021-12-13T02:25:33.216Z"
   },
   {
    "duration": 1561,
    "start_time": "2021-12-13T02:25:33.220Z"
   },
   {
    "duration": 5,
    "start_time": "2021-12-13T02:25:45.624Z"
   },
   {
    "duration": 4,
    "start_time": "2021-12-13T02:25:52.833Z"
   },
   {
    "duration": 383,
    "start_time": "2021-12-13T02:25:55.464Z"
   },
   {
    "duration": 6,
    "start_time": "2021-12-13T02:26:02.700Z"
   },
   {
    "duration": 6,
    "start_time": "2021-12-13T02:26:04.328Z"
   },
   {
    "duration": 6,
    "start_time": "2021-12-13T02:26:04.712Z"
   },
   {
    "duration": 21,
    "start_time": "2021-12-13T02:26:04.915Z"
   },
   {
    "duration": 7,
    "start_time": "2021-12-13T02:26:05.276Z"
   },
   {
    "duration": 7,
    "start_time": "2021-12-13T02:26:05.675Z"
   },
   {
    "duration": 6,
    "start_time": "2021-12-13T02:26:05.872Z"
   },
   {
    "duration": 6,
    "start_time": "2021-12-13T02:26:06.279Z"
   },
   {
    "duration": 6,
    "start_time": "2021-12-13T02:26:06.998Z"
   },
   {
    "duration": 7,
    "start_time": "2021-12-13T02:26:07.374Z"
   },
   {
    "duration": 9,
    "start_time": "2021-12-13T02:26:08.242Z"
   },
   {
    "duration": 7,
    "start_time": "2021-12-13T02:26:09.290Z"
   },
   {
    "duration": 77,
    "start_time": "2021-12-13T02:28:34.878Z"
   },
   {
    "duration": 12,
    "start_time": "2021-12-13T02:29:11.582Z"
   },
   {
    "duration": 4,
    "start_time": "2021-12-13T02:32:11.284Z"
   },
   {
    "duration": 459,
    "start_time": "2021-12-13T02:32:12.306Z"
   },
   {
    "duration": 377,
    "start_time": "2021-12-13T02:32:18.675Z"
   },
   {
    "duration": 11,
    "start_time": "2021-12-13T02:33:20.295Z"
   },
   {
    "duration": 34,
    "start_time": "2021-12-13T02:33:28.320Z"
   },
   {
    "duration": 7,
    "start_time": "2021-12-13T02:33:41.378Z"
   },
   {
    "duration": 7,
    "start_time": "2021-12-13T02:35:22.078Z"
   },
   {
    "duration": 8,
    "start_time": "2021-12-13T02:36:17.343Z"
   },
   {
    "duration": 12,
    "start_time": "2021-12-13T02:41:30.140Z"
   },
   {
    "duration": 13,
    "start_time": "2021-12-13T02:42:15.022Z"
   },
   {
    "duration": 365,
    "start_time": "2021-12-13T02:42:24.107Z"
   },
   {
    "duration": 12,
    "start_time": "2021-12-13T02:42:47.292Z"
   },
   {
    "duration": 393,
    "start_time": "2021-12-13T02:48:13.567Z"
   },
   {
    "duration": 11,
    "start_time": "2021-12-13T02:48:34.569Z"
   },
   {
    "duration": 12,
    "start_time": "2021-12-13T02:49:10.165Z"
   },
   {
    "duration": 11,
    "start_time": "2021-12-13T02:59:52.043Z"
   },
   {
    "duration": 373,
    "start_time": "2021-12-13T05:54:33.208Z"
   },
   {
    "duration": 645,
    "start_time": "2021-12-13T05:54:47.588Z"
   },
   {
    "duration": 66,
    "start_time": "2021-12-13T05:54:48.235Z"
   },
   {
    "duration": 11,
    "start_time": "2021-12-13T05:54:48.303Z"
   },
   {
    "duration": 37,
    "start_time": "2021-12-13T05:54:48.316Z"
   },
   {
    "duration": 5,
    "start_time": "2021-12-13T05:54:48.355Z"
   },
   {
    "duration": 12,
    "start_time": "2021-12-13T05:54:48.361Z"
   },
   {
    "duration": 19,
    "start_time": "2021-12-13T05:54:48.375Z"
   },
   {
    "duration": 25,
    "start_time": "2021-12-13T05:54:48.397Z"
   },
   {
    "duration": 20,
    "start_time": "2021-12-13T05:54:48.424Z"
   },
   {
    "duration": 12,
    "start_time": "2021-12-13T05:54:48.446Z"
   },
   {
    "duration": 96,
    "start_time": "2021-12-13T05:54:48.459Z"
   },
   {
    "duration": 2,
    "start_time": "2021-12-13T05:54:48.557Z"
   },
   {
    "duration": 207,
    "start_time": "2021-12-13T05:54:48.561Z"
   },
   {
    "duration": 5,
    "start_time": "2021-12-13T05:54:48.769Z"
   },
   {
    "duration": 18,
    "start_time": "2021-12-13T05:54:48.776Z"
   },
   {
    "duration": 11,
    "start_time": "2021-12-13T05:54:48.796Z"
   },
   {
    "duration": 15,
    "start_time": "2021-12-13T05:54:48.809Z"
   },
   {
    "duration": 16,
    "start_time": "2021-12-13T05:54:48.825Z"
   },
   {
    "duration": 4,
    "start_time": "2021-12-13T05:54:48.842Z"
   },
   {
    "duration": 10,
    "start_time": "2021-12-13T05:54:48.848Z"
   },
   {
    "duration": 8,
    "start_time": "2021-12-13T05:54:48.859Z"
   },
   {
    "duration": 16,
    "start_time": "2021-12-13T05:54:48.869Z"
   },
   {
    "duration": 6,
    "start_time": "2021-12-13T05:54:48.888Z"
   },
   {
    "duration": 11,
    "start_time": "2021-12-13T05:54:48.896Z"
   },
   {
    "duration": 8,
    "start_time": "2021-12-13T05:54:48.909Z"
   },
   {
    "duration": 13,
    "start_time": "2021-12-13T05:54:48.918Z"
   },
   {
    "duration": 199,
    "start_time": "2021-12-13T05:54:48.933Z"
   },
   {
    "duration": 6,
    "start_time": "2021-12-13T05:54:49.134Z"
   },
   {
    "duration": 393,
    "start_time": "2021-12-13T05:54:49.142Z"
   },
   {
    "duration": -7,
    "start_time": "2021-12-13T05:54:49.544Z"
   },
   {
    "duration": 425,
    "start_time": "2021-12-13T05:54:54.777Z"
   },
   {
    "duration": 6,
    "start_time": "2021-12-13T05:55:28.316Z"
   },
   {
    "duration": 10,
    "start_time": "2021-12-13T06:00:49.804Z"
   },
   {
    "duration": 3,
    "start_time": "2021-12-13T06:07:58.609Z"
   },
   {
    "duration": 20,
    "start_time": "2021-12-13T06:10:41.329Z"
   },
   {
    "duration": 9,
    "start_time": "2021-12-13T06:11:25.800Z"
   },
   {
    "duration": 7,
    "start_time": "2021-12-13T06:11:33.014Z"
   },
   {
    "duration": 4,
    "start_time": "2021-12-13T06:11:42.460Z"
   },
   {
    "duration": 11,
    "start_time": "2021-12-13T06:13:38.738Z"
   },
   {
    "duration": 59,
    "start_time": "2021-12-13T06:13:58.868Z"
   },
   {
    "duration": 12,
    "start_time": "2021-12-13T06:14:02.317Z"
   },
   {
    "duration": 18,
    "start_time": "2021-12-13T06:14:39.337Z"
   },
   {
    "duration": 4,
    "start_time": "2021-12-13T06:14:43.561Z"
   },
   {
    "duration": 14,
    "start_time": "2021-12-13T06:14:48.535Z"
   },
   {
    "duration": 3,
    "start_time": "2021-12-13T06:15:15.481Z"
   },
   {
    "duration": 15,
    "start_time": "2021-12-13T06:15:20.676Z"
   },
   {
    "duration": 59,
    "start_time": "2021-12-13T06:15:43.766Z"
   },
   {
    "duration": 12,
    "start_time": "2021-12-13T06:15:46.791Z"
   },
   {
    "duration": 347,
    "start_time": "2021-12-13T06:16:12.074Z"
   },
   {
    "duration": 19,
    "start_time": "2021-12-13T06:16:24.316Z"
   },
   {
    "duration": 14,
    "start_time": "2021-12-13T06:16:27.196Z"
   },
   {
    "duration": 59,
    "start_time": "2021-12-13T06:16:41.968Z"
   },
   {
    "duration": 11,
    "start_time": "2021-12-13T06:16:46.309Z"
   },
   {
    "duration": 6,
    "start_time": "2021-12-13T06:17:36.573Z"
   },
   {
    "duration": 11,
    "start_time": "2021-12-13T06:17:38.612Z"
   },
   {
    "duration": 10,
    "start_time": "2021-12-13T06:17:57.280Z"
   },
   {
    "duration": 7,
    "start_time": "2021-12-13T06:18:32.926Z"
   },
   {
    "duration": 11,
    "start_time": "2021-12-13T06:18:36.077Z"
   },
   {
    "duration": 4,
    "start_time": "2021-12-13T06:30:15.363Z"
   },
   {
    "duration": 12,
    "start_time": "2021-12-13T06:30:25.637Z"
   },
   {
    "duration": 32,
    "start_time": "2021-12-13T06:30:34.844Z"
   },
   {
    "duration": 9,
    "start_time": "2021-12-13T06:32:45.525Z"
   },
   {
    "duration": 9,
    "start_time": "2021-12-13T06:33:29.229Z"
   },
   {
    "duration": 334,
    "start_time": "2021-12-13T06:34:39.273Z"
   },
   {
    "duration": 574,
    "start_time": "2021-12-13T06:35:16.994Z"
   },
   {
    "duration": 9,
    "start_time": "2021-12-13T06:35:30.224Z"
   },
   {
    "duration": 411,
    "start_time": "2021-12-13T06:37:16.882Z"
   },
   {
    "duration": 7,
    "start_time": "2021-12-13T06:37:23.104Z"
   },
   {
    "duration": 9,
    "start_time": "2021-12-13T06:37:49.269Z"
   },
   {
    "duration": 10,
    "start_time": "2021-12-13T06:38:01.286Z"
   },
   {
    "duration": 9,
    "start_time": "2021-12-13T06:38:04.197Z"
   },
   {
    "duration": 10,
    "start_time": "2021-12-13T06:38:06.547Z"
   },
   {
    "duration": 8,
    "start_time": "2021-12-13T06:38:12.963Z"
   },
   {
    "duration": 8,
    "start_time": "2021-12-13T06:38:15.585Z"
   },
   {
    "duration": 10,
    "start_time": "2021-12-13T06:38:21.371Z"
   },
   {
    "duration": 7,
    "start_time": "2021-12-13T06:39:23.228Z"
   },
   {
    "duration": 6,
    "start_time": "2021-12-13T06:39:33.878Z"
   },
   {
    "duration": 7,
    "start_time": "2021-12-13T06:39:38.243Z"
   },
   {
    "duration": 7,
    "start_time": "2021-12-13T06:39:41.650Z"
   },
   {
    "duration": 2580,
    "start_time": "2021-12-13T06:55:55.054Z"
   },
   {
    "duration": 394,
    "start_time": "2021-12-13T07:29:57.538Z"
   },
   {
    "duration": 3,
    "start_time": "2021-12-13T07:30:06.303Z"
   },
   {
    "duration": 443,
    "start_time": "2021-12-13T07:40:34.463Z"
   },
   {
    "duration": 3,
    "start_time": "2021-12-13T07:41:01.439Z"
   },
   {
    "duration": 1767,
    "start_time": "2021-12-13T07:41:08.194Z"
   },
   {
    "duration": 4,
    "start_time": "2021-12-13T07:41:18.623Z"
   },
   {
    "duration": 11,
    "start_time": "2021-12-13T07:41:30.644Z"
   },
   {
    "duration": 5,
    "start_time": "2021-12-13T08:03:23.864Z"
   },
   {
    "duration": 344,
    "start_time": "2021-12-13T08:03:47.294Z"
   },
   {
    "duration": 8,
    "start_time": "2021-12-13T08:06:07.135Z"
   },
   {
    "duration": 5,
    "start_time": "2021-12-13T08:06:38.839Z"
   },
   {
    "duration": 7,
    "start_time": "2021-12-13T08:06:43.849Z"
   },
   {
    "duration": 338,
    "start_time": "2021-12-13T08:09:04.876Z"
   },
   {
    "duration": 366,
    "start_time": "2021-12-13T08:10:03.381Z"
   },
   {
    "duration": 368,
    "start_time": "2021-12-13T08:10:09.428Z"
   },
   {
    "duration": 490,
    "start_time": "2021-12-13T08:10:17.353Z"
   },
   {
    "duration": 353,
    "start_time": "2021-12-13T08:10:21.082Z"
   },
   {
    "duration": 2,
    "start_time": "2021-12-13T08:10:25.707Z"
   },
   {
    "duration": 7,
    "start_time": "2021-12-13T08:12:05.962Z"
   },
   {
    "duration": 3,
    "start_time": "2021-12-13T08:14:23.398Z"
   },
   {
    "duration": 5,
    "start_time": "2021-12-13T08:15:03.907Z"
   },
   {
    "duration": 16,
    "start_time": "2021-12-13T08:15:39.074Z"
   },
   {
    "duration": 16,
    "start_time": "2021-12-13T08:16:01.203Z"
   },
   {
    "duration": 14,
    "start_time": "2021-12-13T08:16:38.844Z"
   },
   {
    "duration": 37,
    "start_time": "2021-12-13T08:17:43.649Z"
   },
   {
    "duration": 12,
    "start_time": "2021-12-13T08:17:51.346Z"
   },
   {
    "duration": 63,
    "start_time": "2021-12-13T08:18:06.901Z"
   },
   {
    "duration": 6,
    "start_time": "2021-12-13T08:18:20.399Z"
   },
   {
    "duration": 12,
    "start_time": "2021-12-13T08:18:21.747Z"
   },
   {
    "duration": 4,
    "start_time": "2021-12-13T08:18:24.751Z"
   },
   {
    "duration": 8,
    "start_time": "2021-12-13T08:18:26.315Z"
   },
   {
    "duration": 8,
    "start_time": "2021-12-13T08:18:28.728Z"
   },
   {
    "duration": 7,
    "start_time": "2021-12-13T08:18:31.370Z"
   },
   {
    "duration": 12,
    "start_time": "2021-12-13T08:18:33.546Z"
   },
   {
    "duration": 8,
    "start_time": "2021-12-13T08:18:46.860Z"
   },
   {
    "duration": 11,
    "start_time": "2021-12-13T08:18:49.601Z"
   },
   {
    "duration": 5,
    "start_time": "2021-12-13T08:18:56.525Z"
   },
   {
    "duration": 5,
    "start_time": "2021-12-13T08:20:11.816Z"
   },
   {
    "duration": 5,
    "start_time": "2021-12-13T08:20:18.892Z"
   },
   {
    "duration": 14,
    "start_time": "2021-12-13T08:20:29.886Z"
   },
   {
    "duration": 27,
    "start_time": "2021-12-13T08:20:31.066Z"
   },
   {
    "duration": 12,
    "start_time": "2021-12-13T08:20:43.933Z"
   },
   {
    "duration": 20,
    "start_time": "2021-12-13T08:20:49.891Z"
   },
   {
    "duration": 16,
    "start_time": "2021-12-13T08:21:09.744Z"
   },
   {
    "duration": 12,
    "start_time": "2021-12-13T08:21:11.435Z"
   },
   {
    "duration": 20,
    "start_time": "2021-12-13T08:21:13.212Z"
   },
   {
    "duration": 352,
    "start_time": "2021-12-13T08:21:22.001Z"
   },
   {
    "duration": 667,
    "start_time": "2021-12-13T08:21:29.143Z"
   },
   {
    "duration": 17,
    "start_time": "2021-12-13T08:21:41.344Z"
   },
   {
    "duration": 6,
    "start_time": "2021-12-13T08:21:57.937Z"
   },
   {
    "duration": 59,
    "start_time": "2021-12-13T08:22:07.005Z"
   },
   {
    "duration": 12,
    "start_time": "2021-12-13T08:22:08.911Z"
   },
   {
    "duration": 6,
    "start_time": "2021-12-13T08:22:16.922Z"
   },
   {
    "duration": 11,
    "start_time": "2021-12-13T08:22:18.238Z"
   },
   {
    "duration": 4,
    "start_time": "2021-12-13T08:22:21.056Z"
   },
   {
    "duration": 9,
    "start_time": "2021-12-13T08:22:22.533Z"
   },
   {
    "duration": 9,
    "start_time": "2021-12-13T08:22:25.128Z"
   },
   {
    "duration": 6,
    "start_time": "2021-12-13T08:22:27.003Z"
   },
   {
    "duration": 11,
    "start_time": "2021-12-13T08:22:28.374Z"
   },
   {
    "duration": 7,
    "start_time": "2021-12-13T08:22:32.152Z"
   },
   {
    "duration": 5,
    "start_time": "2021-12-13T08:22:39.396Z"
   },
   {
    "duration": 165,
    "start_time": "2021-12-13T08:23:28.490Z"
   },
   {
    "duration": 1728,
    "start_time": "2021-12-13T08:23:33.131Z"
   },
   {
    "duration": 442,
    "start_time": "2021-12-13T08:23:55.236Z"
   },
   {
    "duration": 393,
    "start_time": "2021-12-13T08:24:06.783Z"
   },
   {
    "duration": 379,
    "start_time": "2021-12-13T08:24:22.763Z"
   },
   {
    "duration": 5,
    "start_time": "2021-12-13T08:24:47.992Z"
   },
   {
    "duration": 5,
    "start_time": "2021-12-13T08:24:49.481Z"
   },
   {
    "duration": 5,
    "start_time": "2021-12-13T08:25:20.636Z"
   },
   {
    "duration": 12,
    "start_time": "2021-12-13T08:25:23.578Z"
   },
   {
    "duration": 16,
    "start_time": "2021-12-13T08:25:26.364Z"
   },
   {
    "duration": 7,
    "start_time": "2021-12-13T08:25:35.527Z"
   },
   {
    "duration": 6,
    "start_time": "2021-12-13T08:27:48.587Z"
   },
   {
    "duration": 12,
    "start_time": "2021-12-13T08:30:12.285Z"
   },
   {
    "duration": 14,
    "start_time": "2021-12-13T08:30:20.838Z"
   },
   {
    "duration": 7,
    "start_time": "2021-12-13T08:30:41.682Z"
   },
   {
    "duration": 371,
    "start_time": "2021-12-13T08:41:39.020Z"
   },
   {
    "duration": 7,
    "start_time": "2021-12-13T08:42:50.462Z"
   },
   {
    "duration": 7,
    "start_time": "2021-12-13T08:43:00.090Z"
   },
   {
    "duration": 7,
    "start_time": "2021-12-13T08:43:22.368Z"
   },
   {
    "duration": 6,
    "start_time": "2021-12-13T08:43:33.730Z"
   },
   {
    "duration": 6,
    "start_time": "2021-12-13T08:43:39.675Z"
   },
   {
    "duration": 10,
    "start_time": "2021-12-13T08:43:43.336Z"
   },
   {
    "duration": 11,
    "start_time": "2021-12-13T08:45:18.957Z"
   },
   {
    "duration": 7,
    "start_time": "2021-12-13T08:45:55.979Z"
   },
   {
    "duration": 11,
    "start_time": "2021-12-13T08:46:03.364Z"
   },
   {
    "duration": 4,
    "start_time": "2021-12-13T08:50:09.920Z"
   },
   {
    "duration": 11,
    "start_time": "2021-12-13T08:50:16.473Z"
   },
   {
    "duration": 4,
    "start_time": "2021-12-13T08:51:54.607Z"
   },
   {
    "duration": 10,
    "start_time": "2021-12-13T08:51:56.257Z"
   },
   {
    "duration": 10,
    "start_time": "2021-12-13T08:52:19.464Z"
   },
   {
    "duration": 32,
    "start_time": "2021-12-13T08:52:40.851Z"
   },
   {
    "duration": 12,
    "start_time": "2021-12-13T08:52:59.877Z"
   },
   {
    "duration": 15,
    "start_time": "2021-12-13T08:55:15.673Z"
   },
   {
    "duration": 17,
    "start_time": "2021-12-13T08:55:56.094Z"
   },
   {
    "duration": 2,
    "start_time": "2021-12-13T08:56:20.431Z"
   },
   {
    "duration": 14,
    "start_time": "2021-12-13T08:56:34.621Z"
   },
   {
    "duration": 534,
    "start_time": "2021-12-14T06:13:24.246Z"
   },
   {
    "duration": 66,
    "start_time": "2021-12-14T06:13:24.782Z"
   },
   {
    "duration": 11,
    "start_time": "2021-12-14T06:13:24.850Z"
   },
   {
    "duration": 41,
    "start_time": "2021-12-14T06:13:24.863Z"
   },
   {
    "duration": 5,
    "start_time": "2021-12-14T06:13:24.905Z"
   },
   {
    "duration": 6,
    "start_time": "2021-12-14T06:13:24.912Z"
   },
   {
    "duration": 6,
    "start_time": "2021-12-14T06:13:24.919Z"
   },
   {
    "duration": 4,
    "start_time": "2021-12-14T06:13:24.928Z"
   },
   {
    "duration": 7,
    "start_time": "2021-12-14T06:13:24.934Z"
   },
   {
    "duration": 5,
    "start_time": "2021-12-14T06:13:24.943Z"
   },
   {
    "duration": 108,
    "start_time": "2021-12-14T06:13:24.950Z"
   },
   {
    "duration": 3,
    "start_time": "2021-12-14T06:13:25.060Z"
   },
   {
    "duration": 234,
    "start_time": "2021-12-14T06:13:25.065Z"
   },
   {
    "duration": 5,
    "start_time": "2021-12-14T06:13:25.301Z"
   },
   {
    "duration": 5,
    "start_time": "2021-12-14T06:13:25.308Z"
   },
   {
    "duration": 11,
    "start_time": "2021-12-14T06:13:25.315Z"
   },
   {
    "duration": 13,
    "start_time": "2021-12-14T06:13:25.328Z"
   },
   {
    "duration": 13,
    "start_time": "2021-12-14T06:13:25.343Z"
   },
   {
    "duration": 33,
    "start_time": "2021-12-14T06:13:25.358Z"
   },
   {
    "duration": 6,
    "start_time": "2021-12-14T06:13:25.393Z"
   },
   {
    "duration": 4,
    "start_time": "2021-12-14T06:13:25.400Z"
   },
   {
    "duration": 5,
    "start_time": "2021-12-14T06:13:25.405Z"
   },
   {
    "duration": 3,
    "start_time": "2021-12-14T06:13:25.414Z"
   },
   {
    "duration": 4,
    "start_time": "2021-12-14T06:13:25.419Z"
   },
   {
    "duration": 7,
    "start_time": "2021-12-14T06:13:25.424Z"
   },
   {
    "duration": 2,
    "start_time": "2021-12-14T06:13:25.432Z"
   },
   {
    "duration": 251,
    "start_time": "2021-12-14T06:13:25.436Z"
   },
   {
    "duration": 5,
    "start_time": "2021-12-14T06:13:25.691Z"
   },
   {
    "duration": 6,
    "start_time": "2021-12-14T06:13:25.698Z"
   },
   {
    "duration": 10,
    "start_time": "2021-12-14T06:13:25.705Z"
   },
   {
    "duration": 3,
    "start_time": "2021-12-14T06:13:25.717Z"
   },
   {
    "duration": 10,
    "start_time": "2021-12-14T06:13:25.722Z"
   },
   {
    "duration": 7,
    "start_time": "2021-12-14T06:13:25.734Z"
   },
   {
    "duration": 7,
    "start_time": "2021-12-14T06:13:25.742Z"
   },
   {
    "duration": 8,
    "start_time": "2021-12-14T06:13:25.791Z"
   },
   {
    "duration": 9,
    "start_time": "2021-12-14T06:13:25.801Z"
   },
   {
    "duration": 5,
    "start_time": "2021-12-14T06:13:25.812Z"
   },
   {
    "duration": 15,
    "start_time": "2021-12-14T06:13:25.819Z"
   },
   {
    "duration": 7,
    "start_time": "2021-12-14T06:13:25.836Z"
   },
   {
    "duration": 5,
    "start_time": "2021-12-14T06:13:25.845Z"
   },
   {
    "duration": 42,
    "start_time": "2021-12-14T06:13:25.852Z"
   },
   {
    "duration": 8,
    "start_time": "2021-12-14T06:13:25.895Z"
   },
   {
    "duration": 13,
    "start_time": "2021-12-14T06:13:25.904Z"
   },
   {
    "duration": 9,
    "start_time": "2021-12-14T06:13:25.918Z"
   },
   {
    "duration": 4,
    "start_time": "2021-12-14T06:13:25.928Z"
   },
   {
    "duration": 11,
    "start_time": "2021-12-14T06:13:25.933Z"
   },
   {
    "duration": 13,
    "start_time": "2021-12-14T06:13:25.946Z"
   },
   {
    "duration": 17,
    "start_time": "2021-12-14T06:13:25.992Z"
   },
   {
    "duration": 2,
    "start_time": "2021-12-14T06:13:26.011Z"
   },
   {
    "duration": 18,
    "start_time": "2021-12-14T06:14:50.531Z"
   },
   {
    "duration": 16,
    "start_time": "2021-12-14T06:14:54.677Z"
   },
   {
    "duration": 11,
    "start_time": "2021-12-14T06:15:49.273Z"
   },
   {
    "duration": 3,
    "start_time": "2021-12-14T06:23:28.212Z"
   },
   {
    "duration": 259,
    "start_time": "2021-12-14T06:23:30.211Z"
   },
   {
    "duration": 3,
    "start_time": "2021-12-14T06:24:16.487Z"
   },
   {
    "duration": 8309,
    "start_time": "2021-12-14T06:24:18.997Z"
   },
   {
    "duration": 14,
    "start_time": "2021-12-14T06:24:52.833Z"
   },
   {
    "duration": 175,
    "start_time": "2021-12-14T06:31:12.318Z"
   },
   {
    "duration": 5,
    "start_time": "2021-12-14T06:31:19.184Z"
   },
   {
    "duration": 635,
    "start_time": "2021-12-14T06:31:28.512Z"
   },
   {
    "duration": 5,
    "start_time": "2021-12-14T06:31:35.731Z"
   },
   {
    "duration": 4,
    "start_time": "2021-12-14T06:32:03.892Z"
   },
   {
    "duration": 8,
    "start_time": "2021-12-14T06:32:06.092Z"
   },
   {
    "duration": 5,
    "start_time": "2021-12-14T06:32:08.560Z"
   },
   {
    "duration": 4,
    "start_time": "2021-12-14T06:32:19.850Z"
   },
   {
    "duration": 9,
    "start_time": "2021-12-14T06:32:23.727Z"
   },
   {
    "duration": 10,
    "start_time": "2021-12-14T06:32:31.217Z"
   },
   {
    "duration": 11,
    "start_time": "2021-12-14T06:35:06.681Z"
   },
   {
    "duration": 4,
    "start_time": "2021-12-14T06:35:11.509Z"
   },
   {
    "duration": 4,
    "start_time": "2021-12-14T06:35:17.526Z"
   },
   {
    "duration": 4,
    "start_time": "2021-12-14T06:36:24.150Z"
   },
   {
    "duration": 10,
    "start_time": "2021-12-14T06:36:26.561Z"
   },
   {
    "duration": 3,
    "start_time": "2021-12-14T06:37:56.547Z"
   },
   {
    "duration": 11,
    "start_time": "2021-12-14T06:37:58.698Z"
   },
   {
    "duration": 21282,
    "start_time": "2021-12-14T06:38:09.691Z"
   },
   {
    "duration": 13,
    "start_time": "2021-12-14T06:38:32.884Z"
   },
   {
    "duration": 9,
    "start_time": "2021-12-14T06:40:21.611Z"
   },
   {
    "duration": 14,
    "start_time": "2021-12-14T06:40:50.663Z"
   },
   {
    "duration": 21404,
    "start_time": "2021-12-14T06:41:52.783Z"
   },
   {
    "duration": 4,
    "start_time": "2021-12-14T06:42:21.136Z"
   },
   {
    "duration": 15,
    "start_time": "2021-12-14T06:42:30.651Z"
   },
   {
    "duration": 17153,
    "start_time": "2021-12-14T06:42:42.299Z"
   },
   {
    "duration": 18,
    "start_time": "2021-12-14T06:44:27.532Z"
   },
   {
    "duration": 183,
    "start_time": "2021-12-14T06:51:15.638Z"
   },
   {
    "duration": 12,
    "start_time": "2021-12-14T06:51:28.224Z"
   },
   {
    "duration": 6,
    "start_time": "2021-12-14T07:01:09.874Z"
   },
   {
    "duration": 7,
    "start_time": "2021-12-14T07:01:38.057Z"
   },
   {
    "duration": 63,
    "start_time": "2021-12-14T07:02:09.804Z"
   },
   {
    "duration": 11,
    "start_time": "2021-12-14T07:02:23.965Z"
   },
   {
    "duration": 8,
    "start_time": "2021-12-14T07:02:35.483Z"
   },
   {
    "duration": 259,
    "start_time": "2021-12-14T07:09:21.873Z"
   },
   {
    "duration": 83,
    "start_time": "2021-12-14T07:09:25.835Z"
   },
   {
    "duration": 295,
    "start_time": "2021-12-14T07:09:29.778Z"
   },
   {
    "duration": 265,
    "start_time": "2021-12-14T07:09:39.812Z"
   },
   {
    "duration": 353,
    "start_time": "2021-12-14T07:09:52.080Z"
   },
   {
    "duration": 7,
    "start_time": "2021-12-14T07:10:00.987Z"
   },
   {
    "duration": 19,
    "start_time": "2021-12-14T07:10:07.120Z"
   },
   {
    "duration": 6,
    "start_time": "2021-12-14T07:10:11.906Z"
   },
   {
    "duration": 9,
    "start_time": "2021-12-14T07:15:20.503Z"
   },
   {
    "duration": 8,
    "start_time": "2021-12-14T07:15:49.655Z"
   },
   {
    "duration": 469,
    "start_time": "2021-12-14T07:15:57.467Z"
   },
   {
    "duration": 7,
    "start_time": "2021-12-14T07:16:07.515Z"
   },
   {
    "duration": 6,
    "start_time": "2021-12-14T07:16:14.596Z"
   },
   {
    "duration": 8,
    "start_time": "2021-12-14T07:16:17.697Z"
   },
   {
    "duration": 16,
    "start_time": "2021-12-14T07:17:21.504Z"
   },
   {
    "duration": 277,
    "start_time": "2021-12-14T07:17:57.814Z"
   },
   {
    "duration": 10,
    "start_time": "2021-12-14T07:18:14.417Z"
   },
   {
    "duration": 268,
    "start_time": "2021-12-14T07:19:09.541Z"
   },
   {
    "duration": 324,
    "start_time": "2021-12-14T07:19:22.663Z"
   },
   {
    "duration": 9,
    "start_time": "2021-12-14T07:19:31.792Z"
   },
   {
    "duration": 10,
    "start_time": "2021-12-14T07:25:47.584Z"
   },
   {
    "duration": 534,
    "start_time": "2021-12-15T05:12:05.250Z"
   },
   {
    "duration": 68,
    "start_time": "2021-12-15T05:12:05.786Z"
   },
   {
    "duration": 11,
    "start_time": "2021-12-15T05:12:05.857Z"
   },
   {
    "duration": 50,
    "start_time": "2021-12-15T05:12:05.869Z"
   },
   {
    "duration": 5,
    "start_time": "2021-12-15T05:12:05.921Z"
   },
   {
    "duration": 15,
    "start_time": "2021-12-15T05:12:05.928Z"
   },
   {
    "duration": 21,
    "start_time": "2021-12-15T05:12:05.946Z"
   },
   {
    "duration": 22,
    "start_time": "2021-12-15T05:12:05.969Z"
   },
   {
    "duration": 20,
    "start_time": "2021-12-15T05:12:05.993Z"
   },
   {
    "duration": 6,
    "start_time": "2021-12-15T05:12:06.015Z"
   },
   {
    "duration": 94,
    "start_time": "2021-12-15T05:12:06.023Z"
   },
   {
    "duration": 3,
    "start_time": "2021-12-15T05:12:06.119Z"
   },
   {
    "duration": 226,
    "start_time": "2021-12-15T05:12:06.124Z"
   },
   {
    "duration": 5,
    "start_time": "2021-12-15T05:12:06.353Z"
   },
   {
    "duration": 8,
    "start_time": "2021-12-15T05:12:06.360Z"
   },
   {
    "duration": 26,
    "start_time": "2021-12-15T05:12:06.370Z"
   },
   {
    "duration": 4,
    "start_time": "2021-12-15T05:12:06.398Z"
   },
   {
    "duration": 15,
    "start_time": "2021-12-15T05:12:06.404Z"
   },
   {
    "duration": 6,
    "start_time": "2021-12-15T05:12:06.421Z"
   },
   {
    "duration": 6,
    "start_time": "2021-12-15T05:12:06.429Z"
   },
   {
    "duration": 56,
    "start_time": "2021-12-15T05:12:06.437Z"
   },
   {
    "duration": 10,
    "start_time": "2021-12-15T05:12:06.499Z"
   },
   {
    "duration": 6,
    "start_time": "2021-12-15T05:12:06.512Z"
   },
   {
    "duration": 14,
    "start_time": "2021-12-15T05:12:06.521Z"
   },
   {
    "duration": 9,
    "start_time": "2021-12-15T05:12:06.537Z"
   },
   {
    "duration": 3,
    "start_time": "2021-12-15T05:12:06.548Z"
   },
   {
    "duration": 256,
    "start_time": "2021-12-15T05:12:06.553Z"
   },
   {
    "duration": 7,
    "start_time": "2021-12-15T05:12:06.811Z"
   },
   {
    "duration": 8,
    "start_time": "2021-12-15T05:12:06.821Z"
   },
   {
    "duration": 12,
    "start_time": "2021-12-15T05:12:06.831Z"
   },
   {
    "duration": 3,
    "start_time": "2021-12-15T05:12:06.845Z"
   },
   {
    "duration": 49,
    "start_time": "2021-12-15T05:12:06.849Z"
   },
   {
    "duration": 8,
    "start_time": "2021-12-15T05:12:06.900Z"
   },
   {
    "duration": 6,
    "start_time": "2021-12-15T05:12:06.909Z"
   },
   {
    "duration": 8,
    "start_time": "2021-12-15T05:12:06.917Z"
   },
   {
    "duration": 8,
    "start_time": "2021-12-15T05:12:06.927Z"
   },
   {
    "duration": 4,
    "start_time": "2021-12-15T05:12:06.937Z"
   },
   {
    "duration": 55,
    "start_time": "2021-12-15T05:12:06.942Z"
   },
   {
    "duration": 7,
    "start_time": "2021-12-15T05:12:06.999Z"
   },
   {
    "duration": 5,
    "start_time": "2021-12-15T05:12:07.007Z"
   },
   {
    "duration": 7,
    "start_time": "2021-12-15T05:12:07.013Z"
   },
   {
    "duration": 19,
    "start_time": "2021-12-15T05:12:07.021Z"
   },
   {
    "duration": 19,
    "start_time": "2021-12-15T05:12:07.041Z"
   },
   {
    "duration": 30,
    "start_time": "2021-12-15T05:12:07.062Z"
   },
   {
    "duration": 11,
    "start_time": "2021-12-15T05:12:07.093Z"
   },
   {
    "duration": 36,
    "start_time": "2021-12-15T05:12:07.106Z"
   },
   {
    "duration": 25,
    "start_time": "2021-12-15T05:12:07.143Z"
   },
   {
    "duration": 19,
    "start_time": "2021-12-15T05:12:07.170Z"
   },
   {
    "duration": 28,
    "start_time": "2021-12-15T05:12:07.191Z"
   },
   {
    "duration": 4,
    "start_time": "2021-12-15T05:12:07.221Z"
   },
   {
    "duration": 24,
    "start_time": "2021-12-15T05:12:07.226Z"
   },
   {
    "duration": 681,
    "start_time": "2021-12-15T05:12:07.252Z"
   },
   {
    "duration": 21713,
    "start_time": "2021-12-15T05:12:07.936Z"
   },
   {
    "duration": 236,
    "start_time": "2021-12-15T05:12:29.652Z"
   },
   {
    "duration": 651,
    "start_time": "2021-12-15T05:12:29.239Z"
   },
   {
    "duration": 647,
    "start_time": "2021-12-15T05:12:29.244Z"
   },
   {
    "duration": 640,
    "start_time": "2021-12-15T05:12:29.252Z"
   },
   {
    "duration": 633,
    "start_time": "2021-12-15T05:12:29.260Z"
   },
   {
    "duration": 629,
    "start_time": "2021-12-15T05:12:29.265Z"
   },
   {
    "duration": 13,
    "start_time": "2021-12-15T05:12:44.950Z"
   },
   {
    "duration": 9,
    "start_time": "2021-12-15T05:12:52.639Z"
   },
   {
    "duration": 10,
    "start_time": "2021-12-15T05:12:58.170Z"
   },
   {
    "duration": 212,
    "start_time": "2021-12-15T05:13:00.818Z"
   },
   {
    "duration": 9,
    "start_time": "2021-12-15T05:13:07.150Z"
   },
   {
    "duration": 8,
    "start_time": "2021-12-15T05:17:18.806Z"
   },
   {
    "duration": 3,
    "start_time": "2021-12-15T05:29:08.669Z"
   },
   {
    "duration": 9,
    "start_time": "2021-12-15T05:29:44.846Z"
   },
   {
    "duration": 13,
    "start_time": "2021-12-15T05:29:50.054Z"
   },
   {
    "duration": 13,
    "start_time": "2021-12-15T05:31:19.057Z"
   },
   {
    "duration": 24,
    "start_time": "2021-12-15T05:33:31.812Z"
   },
   {
    "duration": 24,
    "start_time": "2021-12-15T05:33:54.462Z"
   },
   {
    "duration": 23,
    "start_time": "2021-12-15T05:34:04.496Z"
   },
   {
    "duration": 26,
    "start_time": "2021-12-15T05:34:18.087Z"
   },
   {
    "duration": 15,
    "start_time": "2021-12-15T05:35:36.273Z"
   },
   {
    "duration": 17,
    "start_time": "2021-12-15T05:35:42.438Z"
   },
   {
    "duration": 10,
    "start_time": "2021-12-15T05:37:15.248Z"
   },
   {
    "duration": 10,
    "start_time": "2021-12-15T05:37:39.502Z"
   },
   {
    "duration": 8,
    "start_time": "2021-12-15T05:43:26.626Z"
   },
   {
    "duration": 172,
    "start_time": "2021-12-15T05:43:32.969Z"
   },
   {
    "duration": 179,
    "start_time": "2021-12-15T05:43:35.613Z"
   },
   {
    "duration": 189,
    "start_time": "2021-12-15T05:44:50.236Z"
   },
   {
    "duration": 259,
    "start_time": "2021-12-15T05:45:04.420Z"
   },
   {
    "duration": 8,
    "start_time": "2021-12-15T05:45:15.073Z"
   },
   {
    "duration": 13,
    "start_time": "2021-12-15T05:45:21.740Z"
   },
   {
    "duration": 9,
    "start_time": "2021-12-15T05:45:48.484Z"
   },
   {
    "duration": 198,
    "start_time": "2021-12-15T05:45:58.071Z"
   },
   {
    "duration": 182,
    "start_time": "2021-12-15T05:46:00.242Z"
   },
   {
    "duration": 12,
    "start_time": "2021-12-15T05:46:04.996Z"
   },
   {
    "duration": 2,
    "start_time": "2021-12-15T05:51:30.401Z"
   },
   {
    "duration": 12,
    "start_time": "2021-12-15T05:52:07.603Z"
   },
   {
    "duration": 13,
    "start_time": "2021-12-15T05:52:41.720Z"
   },
   {
    "duration": 12,
    "start_time": "2021-12-15T05:58:32.423Z"
   },
   {
    "duration": 13,
    "start_time": "2021-12-15T05:59:19.505Z"
   },
   {
    "duration": 10,
    "start_time": "2021-12-15T06:04:18.968Z"
   },
   {
    "duration": 13,
    "start_time": "2021-12-15T06:04:35.800Z"
   },
   {
    "duration": 10,
    "start_time": "2021-12-15T06:07:04.724Z"
   },
   {
    "duration": 12,
    "start_time": "2021-12-15T06:07:11.083Z"
   },
   {
    "duration": 12,
    "start_time": "2021-12-15T06:10:01.473Z"
   },
   {
    "duration": 12,
    "start_time": "2021-12-15T06:10:30.010Z"
   },
   {
    "duration": 13,
    "start_time": "2021-12-15T06:30:25.250Z"
   },
   {
    "duration": 4,
    "start_time": "2021-12-15T06:37:13.248Z"
   },
   {
    "duration": 14,
    "start_time": "2021-12-15T06:37:15.147Z"
   },
   {
    "duration": 4,
    "start_time": "2021-12-15T06:37:38.955Z"
   },
   {
    "duration": 15,
    "start_time": "2021-12-15T06:37:41.510Z"
   },
   {
    "duration": 4,
    "start_time": "2021-12-15T06:39:27.446Z"
   },
   {
    "duration": 791,
    "start_time": "2021-12-15T20:05:48.018Z"
   },
   {
    "duration": 81,
    "start_time": "2021-12-15T20:05:48.812Z"
   },
   {
    "duration": 15,
    "start_time": "2021-12-15T20:05:48.896Z"
   },
   {
    "duration": 47,
    "start_time": "2021-12-15T20:05:48.924Z"
   },
   {
    "duration": 6,
    "start_time": "2021-12-15T20:05:48.973Z"
   },
   {
    "duration": 16,
    "start_time": "2021-12-15T20:05:48.981Z"
   },
   {
    "duration": 7,
    "start_time": "2021-12-15T20:05:49.024Z"
   },
   {
    "duration": 6,
    "start_time": "2021-12-15T20:05:49.035Z"
   },
   {
    "duration": 10,
    "start_time": "2021-12-15T20:05:49.044Z"
   },
   {
    "duration": 8,
    "start_time": "2021-12-15T20:05:49.056Z"
   },
   {
    "duration": 152,
    "start_time": "2021-12-15T20:05:49.066Z"
   },
   {
    "duration": 3,
    "start_time": "2021-12-15T20:05:49.220Z"
   },
   {
    "duration": 421,
    "start_time": "2021-12-15T20:05:49.226Z"
   },
   {
    "duration": 6,
    "start_time": "2021-12-15T20:05:49.650Z"
   },
   {
    "duration": 6,
    "start_time": "2021-12-15T20:05:49.658Z"
   },
   {
    "duration": 10,
    "start_time": "2021-12-15T20:05:49.667Z"
   },
   {
    "duration": 7,
    "start_time": "2021-12-15T20:05:49.679Z"
   },
   {
    "duration": 20,
    "start_time": "2021-12-15T20:05:49.724Z"
   },
   {
    "duration": 6,
    "start_time": "2021-12-15T20:05:49.746Z"
   },
   {
    "duration": 7,
    "start_time": "2021-12-15T20:05:49.755Z"
   },
   {
    "duration": 5,
    "start_time": "2021-12-15T20:05:49.764Z"
   },
   {
    "duration": 53,
    "start_time": "2021-12-15T20:05:49.771Z"
   },
   {
    "duration": 6,
    "start_time": "2021-12-15T20:05:49.832Z"
   },
   {
    "duration": 6,
    "start_time": "2021-12-15T20:05:49.842Z"
   },
   {
    "duration": 10,
    "start_time": "2021-12-15T20:05:49.850Z"
   },
   {
    "duration": 4,
    "start_time": "2021-12-15T20:05:49.863Z"
   },
   {
    "duration": 387,
    "start_time": "2021-12-15T20:05:49.869Z"
   },
   {
    "duration": 8,
    "start_time": "2021-12-15T20:05:50.258Z"
   },
   {
    "duration": 9,
    "start_time": "2021-12-15T20:05:50.268Z"
   },
   {
    "duration": 47,
    "start_time": "2021-12-15T20:05:50.279Z"
   },
   {
    "duration": 4,
    "start_time": "2021-12-15T20:05:50.329Z"
   },
   {
    "duration": 15,
    "start_time": "2021-12-15T20:05:50.336Z"
   },
   {
    "duration": 10,
    "start_time": "2021-12-15T20:05:50.353Z"
   },
   {
    "duration": 8,
    "start_time": "2021-12-15T20:05:50.365Z"
   },
   {
    "duration": 91,
    "start_time": "2021-12-15T20:05:50.376Z"
   },
   {
    "duration": 14,
    "start_time": "2021-12-15T20:05:50.470Z"
   },
   {
    "duration": 10,
    "start_time": "2021-12-15T20:05:50.486Z"
   },
   {
    "duration": 16,
    "start_time": "2021-12-15T20:05:50.499Z"
   },
   {
    "duration": 10,
    "start_time": "2021-12-15T20:05:50.517Z"
   },
   {
    "duration": 7,
    "start_time": "2021-12-15T20:05:50.529Z"
   },
   {
    "duration": 15,
    "start_time": "2021-12-15T20:05:50.539Z"
   },
   {
    "duration": 21,
    "start_time": "2021-12-15T20:05:50.556Z"
   },
   {
    "duration": 21,
    "start_time": "2021-12-15T20:05:50.580Z"
   },
   {
    "duration": 24,
    "start_time": "2021-12-15T20:05:50.603Z"
   },
   {
    "duration": 7,
    "start_time": "2021-12-15T20:05:50.629Z"
   },
   {
    "duration": 15,
    "start_time": "2021-12-15T20:05:50.638Z"
   },
   {
    "duration": 5,
    "start_time": "2021-12-15T20:05:50.655Z"
   },
   {
    "duration": 9,
    "start_time": "2021-12-15T20:05:50.662Z"
   },
   {
    "duration": 55,
    "start_time": "2021-12-15T20:05:50.673Z"
   },
   {
    "duration": 22,
    "start_time": "2021-12-15T20:05:50.731Z"
   },
   {
    "duration": 24,
    "start_time": "2021-12-15T20:05:50.756Z"
   },
   {
    "duration": 61,
    "start_time": "2021-12-15T20:05:50.783Z"
   },
   {
    "duration": 8,
    "start_time": "2021-12-15T20:05:50.849Z"
   },
   {
    "duration": 17,
    "start_time": "2021-12-15T20:05:50.859Z"
   },
   {
    "duration": 907,
    "start_time": "2021-12-15T20:05:50.878Z"
   },
   {
    "duration": 35438,
    "start_time": "2021-12-15T20:05:51.788Z"
   },
   {
    "duration": 5,
    "start_time": "2021-12-15T20:06:27.228Z"
   },
   {
    "duration": 25,
    "start_time": "2021-12-15T20:06:27.235Z"
   },
   {
    "duration": 26,
    "start_time": "2021-12-15T20:06:27.262Z"
   },
   {
    "duration": 35,
    "start_time": "2021-12-15T20:06:27.291Z"
   },
   {
    "duration": 17,
    "start_time": "2021-12-15T20:06:27.328Z"
   },
   {
    "duration": 19,
    "start_time": "2021-12-15T20:06:27.347Z"
   },
   {
    "duration": 17,
    "start_time": "2021-12-15T20:06:27.368Z"
   },
   {
    "duration": 15,
    "start_time": "2021-12-15T20:06:27.424Z"
   },
   {
    "duration": 15,
    "start_time": "2021-12-15T20:06:27.442Z"
   },
   {
    "duration": 20,
    "start_time": "2021-12-15T20:06:27.459Z"
   },
   {
    "duration": 49,
    "start_time": "2021-12-15T20:06:27.481Z"
   },
   {
    "duration": 114,
    "start_time": "2021-12-16T12:32:57.842Z"
   },
   {
    "duration": 107,
    "start_time": "2021-12-16T12:33:02.979Z"
   }
  ],
  "kernelspec": {
   "display_name": "Python 3",
   "language": "python",
   "name": "python3"
  },
  "language_info": {
   "codemirror_mode": {
    "name": "ipython",
    "version": 3
   },
   "file_extension": ".py",
   "mimetype": "text/x-python",
   "name": "python",
   "nbconvert_exporter": "python",
   "pygments_lexer": "ipython3",
   "version": "3.8.5"
  },
  "toc": {
   "base_numbering": 1,
   "nav_menu": {},
   "number_sections": true,
   "sideBar": true,
   "skip_h1_title": true,
   "title_cell": "Table of Contents",
   "title_sidebar": "Contents",
   "toc_cell": false,
   "toc_position": {},
   "toc_section_display": true,
   "toc_window_display": false
  }
 },
 "nbformat": 4,
 "nbformat_minor": 2
}
