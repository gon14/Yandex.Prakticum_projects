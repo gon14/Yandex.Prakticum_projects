{
 "cells": [
  {
   "cell_type": "markdown",
   "metadata": {},
   "source": [
    "# Исследование объявлений о продаже квартир\n",
    "\n",
    "В вашем распоряжении данные сервиса Яндекс.Недвижимость — архив объявлений о продаже квартир в Санкт-Петербурге и соседних населённых пунктах за несколько лет. Нужно научиться определять рыночную стоимость объектов недвижимости. Ваша задача — установить параметры. Это позволит построить автоматизированную систему: она отследит аномалии и мошенническую деятельность. \n",
    "\n",
    "По каждой квартире на продажу доступны два вида данных. Первые вписаны пользователем, вторые получены автоматически на основе картографических данных. Например, расстояние до центра, аэропорта, ближайшего парка и водоёма. "
   ]
  },
  {
   "cell_type": "markdown",
   "metadata": {},
   "source": [
    "## Изучение данных из файла"
   ]
  },
  {
   "cell_type": "code",
   "execution_count": 1,
   "metadata": {},
   "outputs": [],
   "source": [
    "import pandas as pd"
   ]
  },
  {
   "cell_type": "code",
   "execution_count": 2,
   "metadata": {},
   "outputs": [
    {
     "data": {
      "text/html": [
       "<div>\n",
       "<style scoped>\n",
       "    .dataframe tbody tr th:only-of-type {\n",
       "        vertical-align: middle;\n",
       "    }\n",
       "\n",
       "    .dataframe tbody tr th {\n",
       "        vertical-align: top;\n",
       "    }\n",
       "\n",
       "    .dataframe thead th {\n",
       "        text-align: right;\n",
       "    }\n",
       "</style>\n",
       "<table border=\"1\" class=\"dataframe\">\n",
       "  <thead>\n",
       "    <tr style=\"text-align: right;\">\n",
       "      <th></th>\n",
       "      <th>total_images</th>\n",
       "      <th>last_price</th>\n",
       "      <th>total_area</th>\n",
       "      <th>first_day_exposition</th>\n",
       "      <th>rooms</th>\n",
       "      <th>ceiling_height</th>\n",
       "      <th>floors_total</th>\n",
       "      <th>living_area</th>\n",
       "      <th>floor</th>\n",
       "      <th>is_apartment</th>\n",
       "      <th>...</th>\n",
       "      <th>kitchen_area</th>\n",
       "      <th>balcony</th>\n",
       "      <th>locality_name</th>\n",
       "      <th>airports_nearest</th>\n",
       "      <th>cityCenters_nearest</th>\n",
       "      <th>parks_around3000</th>\n",
       "      <th>parks_nearest</th>\n",
       "      <th>ponds_around3000</th>\n",
       "      <th>ponds_nearest</th>\n",
       "      <th>days_exposition</th>\n",
       "    </tr>\n",
       "  </thead>\n",
       "  <tbody>\n",
       "    <tr>\n",
       "      <td>0</td>\n",
       "      <td>20</td>\n",
       "      <td>13000000.0</td>\n",
       "      <td>108.0</td>\n",
       "      <td>2019-03-07T00:00:00</td>\n",
       "      <td>3</td>\n",
       "      <td>2.70</td>\n",
       "      <td>16.0</td>\n",
       "      <td>51.0</td>\n",
       "      <td>8</td>\n",
       "      <td>NaN</td>\n",
       "      <td>...</td>\n",
       "      <td>25.0</td>\n",
       "      <td>NaN</td>\n",
       "      <td>Санкт-Петербург</td>\n",
       "      <td>18863.0</td>\n",
       "      <td>16028.0</td>\n",
       "      <td>1.0</td>\n",
       "      <td>482.0</td>\n",
       "      <td>2.0</td>\n",
       "      <td>755.0</td>\n",
       "      <td>NaN</td>\n",
       "    </tr>\n",
       "    <tr>\n",
       "      <td>1</td>\n",
       "      <td>7</td>\n",
       "      <td>3350000.0</td>\n",
       "      <td>40.4</td>\n",
       "      <td>2018-12-04T00:00:00</td>\n",
       "      <td>1</td>\n",
       "      <td>NaN</td>\n",
       "      <td>11.0</td>\n",
       "      <td>18.6</td>\n",
       "      <td>1</td>\n",
       "      <td>NaN</td>\n",
       "      <td>...</td>\n",
       "      <td>11.0</td>\n",
       "      <td>2.0</td>\n",
       "      <td>посёлок Шушары</td>\n",
       "      <td>12817.0</td>\n",
       "      <td>18603.0</td>\n",
       "      <td>0.0</td>\n",
       "      <td>NaN</td>\n",
       "      <td>0.0</td>\n",
       "      <td>NaN</td>\n",
       "      <td>81.0</td>\n",
       "    </tr>\n",
       "    <tr>\n",
       "      <td>2</td>\n",
       "      <td>10</td>\n",
       "      <td>5196000.0</td>\n",
       "      <td>56.0</td>\n",
       "      <td>2015-08-20T00:00:00</td>\n",
       "      <td>2</td>\n",
       "      <td>NaN</td>\n",
       "      <td>5.0</td>\n",
       "      <td>34.3</td>\n",
       "      <td>4</td>\n",
       "      <td>NaN</td>\n",
       "      <td>...</td>\n",
       "      <td>8.3</td>\n",
       "      <td>0.0</td>\n",
       "      <td>Санкт-Петербург</td>\n",
       "      <td>21741.0</td>\n",
       "      <td>13933.0</td>\n",
       "      <td>1.0</td>\n",
       "      <td>90.0</td>\n",
       "      <td>2.0</td>\n",
       "      <td>574.0</td>\n",
       "      <td>558.0</td>\n",
       "    </tr>\n",
       "    <tr>\n",
       "      <td>3</td>\n",
       "      <td>0</td>\n",
       "      <td>64900000.0</td>\n",
       "      <td>159.0</td>\n",
       "      <td>2015-07-24T00:00:00</td>\n",
       "      <td>3</td>\n",
       "      <td>NaN</td>\n",
       "      <td>14.0</td>\n",
       "      <td>NaN</td>\n",
       "      <td>9</td>\n",
       "      <td>NaN</td>\n",
       "      <td>...</td>\n",
       "      <td>NaN</td>\n",
       "      <td>0.0</td>\n",
       "      <td>Санкт-Петербург</td>\n",
       "      <td>28098.0</td>\n",
       "      <td>6800.0</td>\n",
       "      <td>2.0</td>\n",
       "      <td>84.0</td>\n",
       "      <td>3.0</td>\n",
       "      <td>234.0</td>\n",
       "      <td>424.0</td>\n",
       "    </tr>\n",
       "    <tr>\n",
       "      <td>4</td>\n",
       "      <td>2</td>\n",
       "      <td>10000000.0</td>\n",
       "      <td>100.0</td>\n",
       "      <td>2018-06-19T00:00:00</td>\n",
       "      <td>2</td>\n",
       "      <td>3.03</td>\n",
       "      <td>14.0</td>\n",
       "      <td>32.0</td>\n",
       "      <td>13</td>\n",
       "      <td>NaN</td>\n",
       "      <td>...</td>\n",
       "      <td>41.0</td>\n",
       "      <td>NaN</td>\n",
       "      <td>Санкт-Петербург</td>\n",
       "      <td>31856.0</td>\n",
       "      <td>8098.0</td>\n",
       "      <td>2.0</td>\n",
       "      <td>112.0</td>\n",
       "      <td>1.0</td>\n",
       "      <td>48.0</td>\n",
       "      <td>121.0</td>\n",
       "    </tr>\n",
       "  </tbody>\n",
       "</table>\n",
       "<p>5 rows × 22 columns</p>\n",
       "</div>"
      ],
      "text/plain": [
       "   total_images  last_price  total_area first_day_exposition  rooms  \\\n",
       "0            20  13000000.0       108.0  2019-03-07T00:00:00      3   \n",
       "1             7   3350000.0        40.4  2018-12-04T00:00:00      1   \n",
       "2            10   5196000.0        56.0  2015-08-20T00:00:00      2   \n",
       "3             0  64900000.0       159.0  2015-07-24T00:00:00      3   \n",
       "4             2  10000000.0       100.0  2018-06-19T00:00:00      2   \n",
       "\n",
       "   ceiling_height  floors_total  living_area  floor is_apartment  ...  \\\n",
       "0            2.70          16.0         51.0      8          NaN  ...   \n",
       "1             NaN          11.0         18.6      1          NaN  ...   \n",
       "2             NaN           5.0         34.3      4          NaN  ...   \n",
       "3             NaN          14.0          NaN      9          NaN  ...   \n",
       "4            3.03          14.0         32.0     13          NaN  ...   \n",
       "\n",
       "   kitchen_area  balcony    locality_name  airports_nearest  \\\n",
       "0          25.0      NaN  Санкт-Петербург           18863.0   \n",
       "1          11.0      2.0   посёлок Шушары           12817.0   \n",
       "2           8.3      0.0  Санкт-Петербург           21741.0   \n",
       "3           NaN      0.0  Санкт-Петербург           28098.0   \n",
       "4          41.0      NaN  Санкт-Петербург           31856.0   \n",
       "\n",
       "  cityCenters_nearest  parks_around3000  parks_nearest  ponds_around3000  \\\n",
       "0             16028.0               1.0          482.0               2.0   \n",
       "1             18603.0               0.0            NaN               0.0   \n",
       "2             13933.0               1.0           90.0               2.0   \n",
       "3              6800.0               2.0           84.0               3.0   \n",
       "4              8098.0               2.0          112.0               1.0   \n",
       "\n",
       "   ponds_nearest  days_exposition  \n",
       "0          755.0              NaN  \n",
       "1            NaN             81.0  \n",
       "2          574.0            558.0  \n",
       "3          234.0            424.0  \n",
       "4           48.0            121.0  \n",
       "\n",
       "[5 rows x 22 columns]"
      ]
     },
     "execution_count": 2,
     "metadata": {},
     "output_type": "execute_result"
    }
   ],
   "source": [
    "data = pd.read_csv('/datasets/real_estate_data.csv', sep='\\t') #ставим \\t, чтобы таблица отображалась нормально\n",
    "data.head(5)"
   ]
  },
  {
   "cell_type": "code",
   "execution_count": 3,
   "metadata": {
    "scrolled": true
   },
   "outputs": [
    {
     "data": {
      "text/plain": [
       "Index(['total_images', 'last_price', 'total_area', 'first_day_exposition',\n",
       "       'rooms', 'ceiling_height', 'floors_total', 'living_area', 'floor',\n",
       "       'is_apartment', 'studio', 'open_plan', 'kitchen_area', 'balcony',\n",
       "       'locality_name', 'airports_nearest', 'cityCenters_nearest',\n",
       "       'parks_around3000', 'parks_nearest', 'ponds_around3000',\n",
       "       'ponds_nearest', 'days_exposition'],\n",
       "      dtype='object')"
      ]
     },
     "execution_count": 3,
     "metadata": {},
     "output_type": "execute_result"
    }
   ],
   "source": [
    "data.columns #смотрим какие колонки есть, т.к. не все вижно на предыдущем шаге"
   ]
  },
  {
   "cell_type": "code",
   "execution_count": 4,
   "metadata": {},
   "outputs": [],
   "source": [
    "pd.set_option('display.max_columns', None) #делаем чтобы видеть все столбцы"
   ]
  },
  {
   "cell_type": "code",
   "execution_count": 5,
   "metadata": {
    "scrolled": true
   },
   "outputs": [
    {
     "data": {
      "text/html": [
       "<div>\n",
       "<style scoped>\n",
       "    .dataframe tbody tr th:only-of-type {\n",
       "        vertical-align: middle;\n",
       "    }\n",
       "\n",
       "    .dataframe tbody tr th {\n",
       "        vertical-align: top;\n",
       "    }\n",
       "\n",
       "    .dataframe thead th {\n",
       "        text-align: right;\n",
       "    }\n",
       "</style>\n",
       "<table border=\"1\" class=\"dataframe\">\n",
       "  <thead>\n",
       "    <tr style=\"text-align: right;\">\n",
       "      <th></th>\n",
       "      <th>total_images</th>\n",
       "      <th>last_price</th>\n",
       "      <th>total_area</th>\n",
       "      <th>first_day_exposition</th>\n",
       "      <th>rooms</th>\n",
       "      <th>ceiling_height</th>\n",
       "      <th>floors_total</th>\n",
       "      <th>living_area</th>\n",
       "      <th>floor</th>\n",
       "      <th>is_apartment</th>\n",
       "      <th>studio</th>\n",
       "      <th>open_plan</th>\n",
       "      <th>kitchen_area</th>\n",
       "      <th>balcony</th>\n",
       "      <th>locality_name</th>\n",
       "      <th>airports_nearest</th>\n",
       "      <th>cityCenters_nearest</th>\n",
       "      <th>parks_around3000</th>\n",
       "      <th>parks_nearest</th>\n",
       "      <th>ponds_around3000</th>\n",
       "      <th>ponds_nearest</th>\n",
       "      <th>days_exposition</th>\n",
       "    </tr>\n",
       "  </thead>\n",
       "  <tbody>\n",
       "    <tr>\n",
       "      <td>6054</td>\n",
       "      <td>6</td>\n",
       "      <td>5800000.0</td>\n",
       "      <td>87.00</td>\n",
       "      <td>2017-12-08T00:00:00</td>\n",
       "      <td>3</td>\n",
       "      <td>2.93</td>\n",
       "      <td>5.0</td>\n",
       "      <td>55.0</td>\n",
       "      <td>1</td>\n",
       "      <td>False</td>\n",
       "      <td>False</td>\n",
       "      <td>False</td>\n",
       "      <td>9.00</td>\n",
       "      <td>NaN</td>\n",
       "      <td>Санкт-Петербург</td>\n",
       "      <td>43411.0</td>\n",
       "      <td>8386.0</td>\n",
       "      <td>1.0</td>\n",
       "      <td>342.0</td>\n",
       "      <td>0.0</td>\n",
       "      <td>NaN</td>\n",
       "      <td>313.0</td>\n",
       "    </tr>\n",
       "    <tr>\n",
       "      <td>13167</td>\n",
       "      <td>20</td>\n",
       "      <td>6300000.0</td>\n",
       "      <td>55.00</td>\n",
       "      <td>2017-05-15T00:00:00</td>\n",
       "      <td>2</td>\n",
       "      <td>3.20</td>\n",
       "      <td>4.0</td>\n",
       "      <td>34.0</td>\n",
       "      <td>4</td>\n",
       "      <td>NaN</td>\n",
       "      <td>False</td>\n",
       "      <td>False</td>\n",
       "      <td>9.00</td>\n",
       "      <td>0.0</td>\n",
       "      <td>Санкт-Петербург</td>\n",
       "      <td>24521.0</td>\n",
       "      <td>4927.0</td>\n",
       "      <td>1.0</td>\n",
       "      <td>196.0</td>\n",
       "      <td>0.0</td>\n",
       "      <td>NaN</td>\n",
       "      <td>82.0</td>\n",
       "    </tr>\n",
       "    <tr>\n",
       "      <td>11764</td>\n",
       "      <td>0</td>\n",
       "      <td>4700000.0</td>\n",
       "      <td>85.00</td>\n",
       "      <td>2015-10-27T00:00:00</td>\n",
       "      <td>3</td>\n",
       "      <td>NaN</td>\n",
       "      <td>10.0</td>\n",
       "      <td>52.0</td>\n",
       "      <td>1</td>\n",
       "      <td>NaN</td>\n",
       "      <td>False</td>\n",
       "      <td>False</td>\n",
       "      <td>11.00</td>\n",
       "      <td>1.0</td>\n",
       "      <td>Всеволожск</td>\n",
       "      <td>NaN</td>\n",
       "      <td>NaN</td>\n",
       "      <td>NaN</td>\n",
       "      <td>NaN</td>\n",
       "      <td>NaN</td>\n",
       "      <td>NaN</td>\n",
       "      <td>272.0</td>\n",
       "    </tr>\n",
       "    <tr>\n",
       "      <td>6269</td>\n",
       "      <td>7</td>\n",
       "      <td>14900000.0</td>\n",
       "      <td>132.00</td>\n",
       "      <td>2015-12-25T00:00:00</td>\n",
       "      <td>4</td>\n",
       "      <td>4.00</td>\n",
       "      <td>5.0</td>\n",
       "      <td>90.0</td>\n",
       "      <td>2</td>\n",
       "      <td>False</td>\n",
       "      <td>False</td>\n",
       "      <td>False</td>\n",
       "      <td>11.00</td>\n",
       "      <td>1.0</td>\n",
       "      <td>Санкт-Петербург</td>\n",
       "      <td>21643.0</td>\n",
       "      <td>1200.0</td>\n",
       "      <td>1.0</td>\n",
       "      <td>527.0</td>\n",
       "      <td>2.0</td>\n",
       "      <td>116.0</td>\n",
       "      <td>232.0</td>\n",
       "    </tr>\n",
       "    <tr>\n",
       "      <td>19670</td>\n",
       "      <td>4</td>\n",
       "      <td>8299000.0</td>\n",
       "      <td>86.20</td>\n",
       "      <td>2018-10-16T00:00:00</td>\n",
       "      <td>4</td>\n",
       "      <td>3.06</td>\n",
       "      <td>6.0</td>\n",
       "      <td>59.7</td>\n",
       "      <td>2</td>\n",
       "      <td>NaN</td>\n",
       "      <td>False</td>\n",
       "      <td>False</td>\n",
       "      <td>13.90</td>\n",
       "      <td>NaN</td>\n",
       "      <td>Санкт-Петербург</td>\n",
       "      <td>31078.0</td>\n",
       "      <td>3419.0</td>\n",
       "      <td>0.0</td>\n",
       "      <td>NaN</td>\n",
       "      <td>0.0</td>\n",
       "      <td>NaN</td>\n",
       "      <td>NaN</td>\n",
       "    </tr>\n",
       "    <tr>\n",
       "      <td>19</td>\n",
       "      <td>16</td>\n",
       "      <td>14200000.0</td>\n",
       "      <td>121.00</td>\n",
       "      <td>2019-01-09T00:00:00</td>\n",
       "      <td>3</td>\n",
       "      <td>2.75</td>\n",
       "      <td>16.0</td>\n",
       "      <td>76.0</td>\n",
       "      <td>8</td>\n",
       "      <td>NaN</td>\n",
       "      <td>False</td>\n",
       "      <td>False</td>\n",
       "      <td>12.00</td>\n",
       "      <td>NaN</td>\n",
       "      <td>Санкт-Петербург</td>\n",
       "      <td>38900.0</td>\n",
       "      <td>12843.0</td>\n",
       "      <td>0.0</td>\n",
       "      <td>NaN</td>\n",
       "      <td>0.0</td>\n",
       "      <td>NaN</td>\n",
       "      <td>97.0</td>\n",
       "    </tr>\n",
       "    <tr>\n",
       "      <td>13731</td>\n",
       "      <td>2</td>\n",
       "      <td>8000000.0</td>\n",
       "      <td>61.50</td>\n",
       "      <td>2018-02-21T00:00:00</td>\n",
       "      <td>3</td>\n",
       "      <td>3.00</td>\n",
       "      <td>6.0</td>\n",
       "      <td>42.6</td>\n",
       "      <td>1</td>\n",
       "      <td>NaN</td>\n",
       "      <td>False</td>\n",
       "      <td>False</td>\n",
       "      <td>7.90</td>\n",
       "      <td>NaN</td>\n",
       "      <td>Санкт-Петербург</td>\n",
       "      <td>24188.0</td>\n",
       "      <td>4597.0</td>\n",
       "      <td>1.0</td>\n",
       "      <td>451.0</td>\n",
       "      <td>0.0</td>\n",
       "      <td>NaN</td>\n",
       "      <td>96.0</td>\n",
       "    </tr>\n",
       "    <tr>\n",
       "      <td>21833</td>\n",
       "      <td>7</td>\n",
       "      <td>3400000.0</td>\n",
       "      <td>30.00</td>\n",
       "      <td>2018-11-11T00:00:00</td>\n",
       "      <td>1</td>\n",
       "      <td>2.50</td>\n",
       "      <td>9.0</td>\n",
       "      <td>15.5</td>\n",
       "      <td>9</td>\n",
       "      <td>NaN</td>\n",
       "      <td>False</td>\n",
       "      <td>False</td>\n",
       "      <td>7.20</td>\n",
       "      <td>NaN</td>\n",
       "      <td>Санкт-Петербург</td>\n",
       "      <td>42138.0</td>\n",
       "      <td>14642.0</td>\n",
       "      <td>1.0</td>\n",
       "      <td>612.0</td>\n",
       "      <td>0.0</td>\n",
       "      <td>NaN</td>\n",
       "      <td>18.0</td>\n",
       "    </tr>\n",
       "    <tr>\n",
       "      <td>21055</td>\n",
       "      <td>8</td>\n",
       "      <td>4900000.0</td>\n",
       "      <td>74.10</td>\n",
       "      <td>2017-04-21T00:00:00</td>\n",
       "      <td>3</td>\n",
       "      <td>NaN</td>\n",
       "      <td>4.0</td>\n",
       "      <td>47.6</td>\n",
       "      <td>2</td>\n",
       "      <td>False</td>\n",
       "      <td>False</td>\n",
       "      <td>False</td>\n",
       "      <td>8.30</td>\n",
       "      <td>0.0</td>\n",
       "      <td>Колпино</td>\n",
       "      <td>26528.0</td>\n",
       "      <td>32314.0</td>\n",
       "      <td>2.0</td>\n",
       "      <td>514.0</td>\n",
       "      <td>2.0</td>\n",
       "      <td>187.0</td>\n",
       "      <td>53.0</td>\n",
       "    </tr>\n",
       "    <tr>\n",
       "      <td>12023</td>\n",
       "      <td>4</td>\n",
       "      <td>7090000.0</td>\n",
       "      <td>56.13</td>\n",
       "      <td>2018-10-06T00:00:00</td>\n",
       "      <td>2</td>\n",
       "      <td>2.65</td>\n",
       "      <td>25.0</td>\n",
       "      <td>NaN</td>\n",
       "      <td>19</td>\n",
       "      <td>NaN</td>\n",
       "      <td>False</td>\n",
       "      <td>False</td>\n",
       "      <td>11.55</td>\n",
       "      <td>1.0</td>\n",
       "      <td>Санкт-Петербург</td>\n",
       "      <td>7114.0</td>\n",
       "      <td>13330.0</td>\n",
       "      <td>1.0</td>\n",
       "      <td>903.0</td>\n",
       "      <td>0.0</td>\n",
       "      <td>NaN</td>\n",
       "      <td>45.0</td>\n",
       "    </tr>\n",
       "  </tbody>\n",
       "</table>\n",
       "</div>"
      ],
      "text/plain": [
       "       total_images  last_price  total_area first_day_exposition  rooms  \\\n",
       "6054              6   5800000.0       87.00  2017-12-08T00:00:00      3   \n",
       "13167            20   6300000.0       55.00  2017-05-15T00:00:00      2   \n",
       "11764             0   4700000.0       85.00  2015-10-27T00:00:00      3   \n",
       "6269              7  14900000.0      132.00  2015-12-25T00:00:00      4   \n",
       "19670             4   8299000.0       86.20  2018-10-16T00:00:00      4   \n",
       "19               16  14200000.0      121.00  2019-01-09T00:00:00      3   \n",
       "13731             2   8000000.0       61.50  2018-02-21T00:00:00      3   \n",
       "21833             7   3400000.0       30.00  2018-11-11T00:00:00      1   \n",
       "21055             8   4900000.0       74.10  2017-04-21T00:00:00      3   \n",
       "12023             4   7090000.0       56.13  2018-10-06T00:00:00      2   \n",
       "\n",
       "       ceiling_height  floors_total  living_area  floor is_apartment  studio  \\\n",
       "6054             2.93           5.0         55.0      1        False   False   \n",
       "13167            3.20           4.0         34.0      4          NaN   False   \n",
       "11764             NaN          10.0         52.0      1          NaN   False   \n",
       "6269             4.00           5.0         90.0      2        False   False   \n",
       "19670            3.06           6.0         59.7      2          NaN   False   \n",
       "19               2.75          16.0         76.0      8          NaN   False   \n",
       "13731            3.00           6.0         42.6      1          NaN   False   \n",
       "21833            2.50           9.0         15.5      9          NaN   False   \n",
       "21055             NaN           4.0         47.6      2        False   False   \n",
       "12023            2.65          25.0          NaN     19          NaN   False   \n",
       "\n",
       "       open_plan  kitchen_area  balcony    locality_name  airports_nearest  \\\n",
       "6054       False          9.00      NaN  Санкт-Петербург           43411.0   \n",
       "13167      False          9.00      0.0  Санкт-Петербург           24521.0   \n",
       "11764      False         11.00      1.0       Всеволожск               NaN   \n",
       "6269       False         11.00      1.0  Санкт-Петербург           21643.0   \n",
       "19670      False         13.90      NaN  Санкт-Петербург           31078.0   \n",
       "19         False         12.00      NaN  Санкт-Петербург           38900.0   \n",
       "13731      False          7.90      NaN  Санкт-Петербург           24188.0   \n",
       "21833      False          7.20      NaN  Санкт-Петербург           42138.0   \n",
       "21055      False          8.30      0.0          Колпино           26528.0   \n",
       "12023      False         11.55      1.0  Санкт-Петербург            7114.0   \n",
       "\n",
       "       cityCenters_nearest  parks_around3000  parks_nearest  ponds_around3000  \\\n",
       "6054                8386.0               1.0          342.0               0.0   \n",
       "13167               4927.0               1.0          196.0               0.0   \n",
       "11764                  NaN               NaN            NaN               NaN   \n",
       "6269                1200.0               1.0          527.0               2.0   \n",
       "19670               3419.0               0.0            NaN               0.0   \n",
       "19                 12843.0               0.0            NaN               0.0   \n",
       "13731               4597.0               1.0          451.0               0.0   \n",
       "21833              14642.0               1.0          612.0               0.0   \n",
       "21055              32314.0               2.0          514.0               2.0   \n",
       "12023              13330.0               1.0          903.0               0.0   \n",
       "\n",
       "       ponds_nearest  days_exposition  \n",
       "6054             NaN            313.0  \n",
       "13167            NaN             82.0  \n",
       "11764            NaN            272.0  \n",
       "6269           116.0            232.0  \n",
       "19670            NaN              NaN  \n",
       "19               NaN             97.0  \n",
       "13731            NaN             96.0  \n",
       "21833            NaN             18.0  \n",
       "21055          187.0             53.0  \n",
       "12023            NaN             45.0  "
      ]
     },
     "execution_count": 5,
     "metadata": {},
     "output_type": "execute_result"
    }
   ],
   "source": [
    "data.sample(10)"
   ]
  },
  {
   "cell_type": "code",
   "execution_count": 6,
   "metadata": {
    "scrolled": true
   },
   "outputs": [
    {
     "data": {
      "text/plain": [
       "Санкт-Петербург           15721\n",
       "посёлок Мурино              522\n",
       "посёлок Шушары              440\n",
       "Всеволожск                  398\n",
       "Пушкин                      369\n",
       "                          ...  \n",
       "село Никольское               1\n",
       "поселок Красносельское        1\n",
       "деревня Мануйлово             1\n",
       "поселок Кирпичное             1\n",
       "посёлок Шугозеро              1\n",
       "Name: locality_name, Length: 364, dtype: int64"
      ]
     },
     "execution_count": 6,
     "metadata": {},
     "output_type": "execute_result"
    }
   ],
   "source": [
    "data['locality_name'].value_counts() #смотрим какие населенные пункты встречаются чаще всего"
   ]
  },
  {
   "cell_type": "code",
   "execution_count": 7,
   "metadata": {
    "scrolled": false
   },
   "outputs": [
    {
     "name": "stdout",
     "output_type": "stream",
     "text": [
      "<class 'pandas.core.frame.DataFrame'>\n",
      "RangeIndex: 23699 entries, 0 to 23698\n",
      "Data columns (total 22 columns):\n",
      "total_images            23699 non-null int64\n",
      "last_price              23699 non-null float64\n",
      "total_area              23699 non-null float64\n",
      "first_day_exposition    23699 non-null object\n",
      "rooms                   23699 non-null int64\n",
      "ceiling_height          14504 non-null float64\n",
      "floors_total            23613 non-null float64\n",
      "living_area             21796 non-null float64\n",
      "floor                   23699 non-null int64\n",
      "is_apartment            2775 non-null object\n",
      "studio                  23699 non-null bool\n",
      "open_plan               23699 non-null bool\n",
      "kitchen_area            21421 non-null float64\n",
      "balcony                 12180 non-null float64\n",
      "locality_name           23650 non-null object\n",
      "airports_nearest        18157 non-null float64\n",
      "cityCenters_nearest     18180 non-null float64\n",
      "parks_around3000        18181 non-null float64\n",
      "parks_nearest           8079 non-null float64\n",
      "ponds_around3000        18181 non-null float64\n",
      "ponds_nearest           9110 non-null float64\n",
      "days_exposition         20518 non-null float64\n",
      "dtypes: bool(2), float64(14), int64(3), object(3)\n",
      "memory usage: 3.7+ MB\n"
     ]
    }
   ],
   "source": [
    "data.info() #смотрим где есть пропуски"
   ]
  },
  {
   "cell_type": "code",
   "execution_count": 8,
   "metadata": {},
   "outputs": [
    {
     "data": {
      "text/html": [
       "<div>\n",
       "<style scoped>\n",
       "    .dataframe tbody tr th:only-of-type {\n",
       "        vertical-align: middle;\n",
       "    }\n",
       "\n",
       "    .dataframe tbody tr th {\n",
       "        vertical-align: top;\n",
       "    }\n",
       "\n",
       "    .dataframe thead th {\n",
       "        text-align: right;\n",
       "    }\n",
       "</style>\n",
       "<table border=\"1\" class=\"dataframe\">\n",
       "  <thead>\n",
       "    <tr style=\"text-align: right;\">\n",
       "      <th></th>\n",
       "      <th>total_images</th>\n",
       "      <th>last_price</th>\n",
       "      <th>total_area</th>\n",
       "      <th>rooms</th>\n",
       "      <th>ceiling_height</th>\n",
       "      <th>floors_total</th>\n",
       "      <th>living_area</th>\n",
       "      <th>floor</th>\n",
       "      <th>kitchen_area</th>\n",
       "      <th>balcony</th>\n",
       "      <th>airports_nearest</th>\n",
       "      <th>cityCenters_nearest</th>\n",
       "      <th>parks_around3000</th>\n",
       "      <th>parks_nearest</th>\n",
       "      <th>ponds_around3000</th>\n",
       "      <th>ponds_nearest</th>\n",
       "      <th>days_exposition</th>\n",
       "    </tr>\n",
       "  </thead>\n",
       "  <tbody>\n",
       "    <tr>\n",
       "      <td>count</td>\n",
       "      <td>23699.000000</td>\n",
       "      <td>2.369900e+04</td>\n",
       "      <td>23699.000000</td>\n",
       "      <td>23699.000000</td>\n",
       "      <td>14504.000000</td>\n",
       "      <td>23613.000000</td>\n",
       "      <td>21796.000000</td>\n",
       "      <td>23699.000000</td>\n",
       "      <td>21421.000000</td>\n",
       "      <td>12180.000000</td>\n",
       "      <td>18157.000000</td>\n",
       "      <td>18180.000000</td>\n",
       "      <td>18181.000000</td>\n",
       "      <td>8079.000000</td>\n",
       "      <td>18181.000000</td>\n",
       "      <td>9110.000000</td>\n",
       "      <td>20518.000000</td>\n",
       "    </tr>\n",
       "    <tr>\n",
       "      <td>mean</td>\n",
       "      <td>9.858475</td>\n",
       "      <td>6.541549e+06</td>\n",
       "      <td>60.348651</td>\n",
       "      <td>2.070636</td>\n",
       "      <td>2.771499</td>\n",
       "      <td>10.673824</td>\n",
       "      <td>34.457852</td>\n",
       "      <td>5.892358</td>\n",
       "      <td>10.569807</td>\n",
       "      <td>1.150082</td>\n",
       "      <td>28793.672193</td>\n",
       "      <td>14191.277833</td>\n",
       "      <td>0.611408</td>\n",
       "      <td>490.804555</td>\n",
       "      <td>0.770255</td>\n",
       "      <td>517.980900</td>\n",
       "      <td>180.888634</td>\n",
       "    </tr>\n",
       "    <tr>\n",
       "      <td>std</td>\n",
       "      <td>5.682529</td>\n",
       "      <td>1.088701e+07</td>\n",
       "      <td>35.654083</td>\n",
       "      <td>1.078405</td>\n",
       "      <td>1.261056</td>\n",
       "      <td>6.597173</td>\n",
       "      <td>22.030445</td>\n",
       "      <td>4.885249</td>\n",
       "      <td>5.905438</td>\n",
       "      <td>1.071300</td>\n",
       "      <td>12630.880622</td>\n",
       "      <td>8608.386210</td>\n",
       "      <td>0.802074</td>\n",
       "      <td>342.317995</td>\n",
       "      <td>0.938346</td>\n",
       "      <td>277.720643</td>\n",
       "      <td>219.727988</td>\n",
       "    </tr>\n",
       "    <tr>\n",
       "      <td>min</td>\n",
       "      <td>0.000000</td>\n",
       "      <td>1.219000e+04</td>\n",
       "      <td>12.000000</td>\n",
       "      <td>0.000000</td>\n",
       "      <td>1.000000</td>\n",
       "      <td>1.000000</td>\n",
       "      <td>2.000000</td>\n",
       "      <td>1.000000</td>\n",
       "      <td>1.300000</td>\n",
       "      <td>0.000000</td>\n",
       "      <td>0.000000</td>\n",
       "      <td>181.000000</td>\n",
       "      <td>0.000000</td>\n",
       "      <td>1.000000</td>\n",
       "      <td>0.000000</td>\n",
       "      <td>13.000000</td>\n",
       "      <td>1.000000</td>\n",
       "    </tr>\n",
       "    <tr>\n",
       "      <td>25%</td>\n",
       "      <td>6.000000</td>\n",
       "      <td>3.400000e+06</td>\n",
       "      <td>40.000000</td>\n",
       "      <td>1.000000</td>\n",
       "      <td>2.520000</td>\n",
       "      <td>5.000000</td>\n",
       "      <td>18.600000</td>\n",
       "      <td>2.000000</td>\n",
       "      <td>7.000000</td>\n",
       "      <td>0.000000</td>\n",
       "      <td>18585.000000</td>\n",
       "      <td>9238.000000</td>\n",
       "      <td>0.000000</td>\n",
       "      <td>288.000000</td>\n",
       "      <td>0.000000</td>\n",
       "      <td>294.000000</td>\n",
       "      <td>45.000000</td>\n",
       "    </tr>\n",
       "    <tr>\n",
       "      <td>50%</td>\n",
       "      <td>9.000000</td>\n",
       "      <td>4.650000e+06</td>\n",
       "      <td>52.000000</td>\n",
       "      <td>2.000000</td>\n",
       "      <td>2.650000</td>\n",
       "      <td>9.000000</td>\n",
       "      <td>30.000000</td>\n",
       "      <td>4.000000</td>\n",
       "      <td>9.100000</td>\n",
       "      <td>1.000000</td>\n",
       "      <td>26726.000000</td>\n",
       "      <td>13098.500000</td>\n",
       "      <td>0.000000</td>\n",
       "      <td>455.000000</td>\n",
       "      <td>1.000000</td>\n",
       "      <td>502.000000</td>\n",
       "      <td>95.000000</td>\n",
       "    </tr>\n",
       "    <tr>\n",
       "      <td>75%</td>\n",
       "      <td>14.000000</td>\n",
       "      <td>6.800000e+06</td>\n",
       "      <td>69.900000</td>\n",
       "      <td>3.000000</td>\n",
       "      <td>2.800000</td>\n",
       "      <td>16.000000</td>\n",
       "      <td>42.300000</td>\n",
       "      <td>8.000000</td>\n",
       "      <td>12.000000</td>\n",
       "      <td>2.000000</td>\n",
       "      <td>37273.000000</td>\n",
       "      <td>16293.000000</td>\n",
       "      <td>1.000000</td>\n",
       "      <td>612.000000</td>\n",
       "      <td>1.000000</td>\n",
       "      <td>729.000000</td>\n",
       "      <td>232.000000</td>\n",
       "    </tr>\n",
       "    <tr>\n",
       "      <td>max</td>\n",
       "      <td>50.000000</td>\n",
       "      <td>7.630000e+08</td>\n",
       "      <td>900.000000</td>\n",
       "      <td>19.000000</td>\n",
       "      <td>100.000000</td>\n",
       "      <td>60.000000</td>\n",
       "      <td>409.700000</td>\n",
       "      <td>33.000000</td>\n",
       "      <td>112.000000</td>\n",
       "      <td>5.000000</td>\n",
       "      <td>84869.000000</td>\n",
       "      <td>65968.000000</td>\n",
       "      <td>3.000000</td>\n",
       "      <td>3190.000000</td>\n",
       "      <td>3.000000</td>\n",
       "      <td>1344.000000</td>\n",
       "      <td>1580.000000</td>\n",
       "    </tr>\n",
       "  </tbody>\n",
       "</table>\n",
       "</div>"
      ],
      "text/plain": [
       "       total_images    last_price    total_area         rooms  ceiling_height  \\\n",
       "count  23699.000000  2.369900e+04  23699.000000  23699.000000    14504.000000   \n",
       "mean       9.858475  6.541549e+06     60.348651      2.070636        2.771499   \n",
       "std        5.682529  1.088701e+07     35.654083      1.078405        1.261056   \n",
       "min        0.000000  1.219000e+04     12.000000      0.000000        1.000000   \n",
       "25%        6.000000  3.400000e+06     40.000000      1.000000        2.520000   \n",
       "50%        9.000000  4.650000e+06     52.000000      2.000000        2.650000   \n",
       "75%       14.000000  6.800000e+06     69.900000      3.000000        2.800000   \n",
       "max       50.000000  7.630000e+08    900.000000     19.000000      100.000000   \n",
       "\n",
       "       floors_total   living_area         floor  kitchen_area       balcony  \\\n",
       "count  23613.000000  21796.000000  23699.000000  21421.000000  12180.000000   \n",
       "mean      10.673824     34.457852      5.892358     10.569807      1.150082   \n",
       "std        6.597173     22.030445      4.885249      5.905438      1.071300   \n",
       "min        1.000000      2.000000      1.000000      1.300000      0.000000   \n",
       "25%        5.000000     18.600000      2.000000      7.000000      0.000000   \n",
       "50%        9.000000     30.000000      4.000000      9.100000      1.000000   \n",
       "75%       16.000000     42.300000      8.000000     12.000000      2.000000   \n",
       "max       60.000000    409.700000     33.000000    112.000000      5.000000   \n",
       "\n",
       "       airports_nearest  cityCenters_nearest  parks_around3000  parks_nearest  \\\n",
       "count      18157.000000         18180.000000      18181.000000    8079.000000   \n",
       "mean       28793.672193         14191.277833          0.611408     490.804555   \n",
       "std        12630.880622          8608.386210          0.802074     342.317995   \n",
       "min            0.000000           181.000000          0.000000       1.000000   \n",
       "25%        18585.000000          9238.000000          0.000000     288.000000   \n",
       "50%        26726.000000         13098.500000          0.000000     455.000000   \n",
       "75%        37273.000000         16293.000000          1.000000     612.000000   \n",
       "max        84869.000000         65968.000000          3.000000    3190.000000   \n",
       "\n",
       "       ponds_around3000  ponds_nearest  days_exposition  \n",
       "count      18181.000000    9110.000000     20518.000000  \n",
       "mean           0.770255     517.980900       180.888634  \n",
       "std            0.938346     277.720643       219.727988  \n",
       "min            0.000000      13.000000         1.000000  \n",
       "25%            0.000000     294.000000        45.000000  \n",
       "50%            1.000000     502.000000        95.000000  \n",
       "75%            1.000000     729.000000       232.000000  \n",
       "max            3.000000    1344.000000      1580.000000  "
      ]
     },
     "execution_count": 8,
     "metadata": {},
     "output_type": "execute_result"
    }
   ],
   "source": [
    "data.describe() #смотрим на количественные значения, чтобы сразу увидеть выборсы"
   ]
  },
  {
   "cell_type": "code",
   "execution_count": 9,
   "metadata": {},
   "outputs": [
    {
     "data": {
      "text/plain": [
       "total_images            25\n",
       "last_price              25\n",
       "total_area              25\n",
       "first_day_exposition    25\n",
       "rooms                   25\n",
       "ceiling_height          25\n",
       "floors_total            25\n",
       "living_area             25\n",
       "floor                   25\n",
       "is_apartment            12\n",
       "studio                  25\n",
       "open_plan               25\n",
       "kitchen_area            20\n",
       "balcony                 18\n",
       "locality_name           25\n",
       "airports_nearest        16\n",
       "cityCenters_nearest     16\n",
       "parks_around3000        16\n",
       "parks_nearest            8\n",
       "ponds_around3000        16\n",
       "ponds_nearest            8\n",
       "days_exposition         19\n",
       "dtype: int64"
      ]
     },
     "execution_count": 9,
     "metadata": {},
     "output_type": "execute_result"
    }
   ],
   "source": [
    "data.query('ceiling_height > 10').count()"
   ]
  },
  {
   "cell_type": "code",
   "execution_count": 10,
   "metadata": {},
   "outputs": [
    {
     "data": {
      "text/html": [
       "<div>\n",
       "<style scoped>\n",
       "    .dataframe tbody tr th:only-of-type {\n",
       "        vertical-align: middle;\n",
       "    }\n",
       "\n",
       "    .dataframe tbody tr th {\n",
       "        vertical-align: top;\n",
       "    }\n",
       "\n",
       "    .dataframe thead th {\n",
       "        text-align: right;\n",
       "    }\n",
       "</style>\n",
       "<table border=\"1\" class=\"dataframe\">\n",
       "  <thead>\n",
       "    <tr style=\"text-align: right;\">\n",
       "      <th></th>\n",
       "      <th>total_images</th>\n",
       "      <th>last_price</th>\n",
       "      <th>total_area</th>\n",
       "      <th>first_day_exposition</th>\n",
       "      <th>rooms</th>\n",
       "      <th>ceiling_height</th>\n",
       "      <th>floors_total</th>\n",
       "      <th>living_area</th>\n",
       "      <th>floor</th>\n",
       "      <th>is_apartment</th>\n",
       "      <th>studio</th>\n",
       "      <th>open_plan</th>\n",
       "      <th>kitchen_area</th>\n",
       "      <th>balcony</th>\n",
       "      <th>locality_name</th>\n",
       "      <th>airports_nearest</th>\n",
       "      <th>cityCenters_nearest</th>\n",
       "      <th>parks_around3000</th>\n",
       "      <th>parks_nearest</th>\n",
       "      <th>ponds_around3000</th>\n",
       "      <th>ponds_nearest</th>\n",
       "      <th>days_exposition</th>\n",
       "    </tr>\n",
       "  </thead>\n",
       "  <tbody>\n",
       "    <tr>\n",
       "      <td>22869</td>\n",
       "      <td>0</td>\n",
       "      <td>15000000.0</td>\n",
       "      <td>25.0</td>\n",
       "      <td>2018-07-25T00:00:00</td>\n",
       "      <td>1</td>\n",
       "      <td>100.0</td>\n",
       "      <td>5.0</td>\n",
       "      <td>14.0</td>\n",
       "      <td>5</td>\n",
       "      <td>True</td>\n",
       "      <td>False</td>\n",
       "      <td>False</td>\n",
       "      <td>11.0</td>\n",
       "      <td>5.0</td>\n",
       "      <td>Санкт-Петербург</td>\n",
       "      <td>34963.0</td>\n",
       "      <td>8283.0</td>\n",
       "      <td>1.0</td>\n",
       "      <td>223.0</td>\n",
       "      <td>3.0</td>\n",
       "      <td>30.0</td>\n",
       "      <td>19.0</td>\n",
       "    </tr>\n",
       "    <tr>\n",
       "      <td>22336</td>\n",
       "      <td>19</td>\n",
       "      <td>9999000.0</td>\n",
       "      <td>92.4</td>\n",
       "      <td>2019-04-05T00:00:00</td>\n",
       "      <td>2</td>\n",
       "      <td>32.0</td>\n",
       "      <td>6.0</td>\n",
       "      <td>55.5</td>\n",
       "      <td>5</td>\n",
       "      <td>False</td>\n",
       "      <td>False</td>\n",
       "      <td>False</td>\n",
       "      <td>16.5</td>\n",
       "      <td>4.0</td>\n",
       "      <td>Санкт-Петербург</td>\n",
       "      <td>18838.0</td>\n",
       "      <td>3506.0</td>\n",
       "      <td>0.0</td>\n",
       "      <td>NaN</td>\n",
       "      <td>3.0</td>\n",
       "      <td>511.0</td>\n",
       "      <td>NaN</td>\n",
       "    </tr>\n",
       "    <tr>\n",
       "      <td>3148</td>\n",
       "      <td>14</td>\n",
       "      <td>2900000.0</td>\n",
       "      <td>75.0</td>\n",
       "      <td>2018-11-12T00:00:00</td>\n",
       "      <td>3</td>\n",
       "      <td>32.0</td>\n",
       "      <td>3.0</td>\n",
       "      <td>53.0</td>\n",
       "      <td>2</td>\n",
       "      <td>NaN</td>\n",
       "      <td>False</td>\n",
       "      <td>False</td>\n",
       "      <td>8.0</td>\n",
       "      <td>NaN</td>\n",
       "      <td>Волхов</td>\n",
       "      <td>NaN</td>\n",
       "      <td>NaN</td>\n",
       "      <td>NaN</td>\n",
       "      <td>NaN</td>\n",
       "      <td>NaN</td>\n",
       "      <td>NaN</td>\n",
       "      <td>NaN</td>\n",
       "    </tr>\n",
       "    <tr>\n",
       "      <td>21377</td>\n",
       "      <td>19</td>\n",
       "      <td>4900000.0</td>\n",
       "      <td>42.0</td>\n",
       "      <td>2017-04-18T00:00:00</td>\n",
       "      <td>1</td>\n",
       "      <td>27.5</td>\n",
       "      <td>24.0</td>\n",
       "      <td>37.7</td>\n",
       "      <td>19</td>\n",
       "      <td>False</td>\n",
       "      <td>False</td>\n",
       "      <td>False</td>\n",
       "      <td>11.0</td>\n",
       "      <td>2.0</td>\n",
       "      <td>Санкт-Петербург</td>\n",
       "      <td>42742.0</td>\n",
       "      <td>9760.0</td>\n",
       "      <td>0.0</td>\n",
       "      <td>NaN</td>\n",
       "      <td>0.0</td>\n",
       "      <td>NaN</td>\n",
       "      <td>61.0</td>\n",
       "    </tr>\n",
       "    <tr>\n",
       "      <td>22938</td>\n",
       "      <td>14</td>\n",
       "      <td>4000000.0</td>\n",
       "      <td>98.0</td>\n",
       "      <td>2018-03-15T00:00:00</td>\n",
       "      <td>4</td>\n",
       "      <td>27.0</td>\n",
       "      <td>2.0</td>\n",
       "      <td>73.0</td>\n",
       "      <td>2</td>\n",
       "      <td>True</td>\n",
       "      <td>False</td>\n",
       "      <td>False</td>\n",
       "      <td>9.0</td>\n",
       "      <td>1.0</td>\n",
       "      <td>деревня Нижняя</td>\n",
       "      <td>NaN</td>\n",
       "      <td>NaN</td>\n",
       "      <td>NaN</td>\n",
       "      <td>NaN</td>\n",
       "      <td>NaN</td>\n",
       "      <td>NaN</td>\n",
       "      <td>27.0</td>\n",
       "    </tr>\n",
       "  </tbody>\n",
       "</table>\n",
       "</div>"
      ],
      "text/plain": [
       "       total_images  last_price  total_area first_day_exposition  rooms  \\\n",
       "22869             0  15000000.0        25.0  2018-07-25T00:00:00      1   \n",
       "22336            19   9999000.0        92.4  2019-04-05T00:00:00      2   \n",
       "3148             14   2900000.0        75.0  2018-11-12T00:00:00      3   \n",
       "21377            19   4900000.0        42.0  2017-04-18T00:00:00      1   \n",
       "22938            14   4000000.0        98.0  2018-03-15T00:00:00      4   \n",
       "\n",
       "       ceiling_height  floors_total  living_area  floor is_apartment  studio  \\\n",
       "22869           100.0           5.0         14.0      5         True   False   \n",
       "22336            32.0           6.0         55.5      5        False   False   \n",
       "3148             32.0           3.0         53.0      2          NaN   False   \n",
       "21377            27.5          24.0         37.7     19        False   False   \n",
       "22938            27.0           2.0         73.0      2         True   False   \n",
       "\n",
       "       open_plan  kitchen_area  balcony    locality_name  airports_nearest  \\\n",
       "22869      False          11.0      5.0  Санкт-Петербург           34963.0   \n",
       "22336      False          16.5      4.0  Санкт-Петербург           18838.0   \n",
       "3148       False           8.0      NaN           Волхов               NaN   \n",
       "21377      False          11.0      2.0  Санкт-Петербург           42742.0   \n",
       "22938      False           9.0      1.0   деревня Нижняя               NaN   \n",
       "\n",
       "       cityCenters_nearest  parks_around3000  parks_nearest  ponds_around3000  \\\n",
       "22869               8283.0               1.0          223.0               3.0   \n",
       "22336               3506.0               0.0            NaN               3.0   \n",
       "3148                   NaN               NaN            NaN               NaN   \n",
       "21377               9760.0               0.0            NaN               0.0   \n",
       "22938                  NaN               NaN            NaN               NaN   \n",
       "\n",
       "       ponds_nearest  days_exposition  \n",
       "22869           30.0             19.0  \n",
       "22336          511.0              NaN  \n",
       "3148             NaN              NaN  \n",
       "21377            NaN             61.0  \n",
       "22938            NaN             27.0  "
      ]
     },
     "execution_count": 10,
     "metadata": {},
     "output_type": "execute_result"
    }
   ],
   "source": [
    "data.query('ceiling_height > 10').sort_values(by='ceiling_height', ascending=False).head() \n",
    "#видим, что есть высота потолков больше 10 метров. возможно записали в сантиметрах, но значений 25 шт.\n",
    "\n"
   ]
  },
  {
   "cell_type": "markdown",
   "metadata": {},
   "source": [
    "### Вывод"
   ]
  },
  {
   "cell_type": "markdown",
   "metadata": {},
   "source": [
    "Просмотрев данные, мы увидели, что есть много пробелов, которые есть чем заменить, где то нулями - как с количеством балконов, где то медианными значениями. А где то - с расстояниями до аэропорта или наличие пруда, то оставим как есть."
   ]
  },
  {
   "cell_type": "markdown",
   "metadata": {},
   "source": [
    "## Предобработка данных"
   ]
  },
  {
   "cell_type": "markdown",
   "metadata": {},
   "source": [
    "В этом разделе заполним пропущенные значения, начнем с ceiling_height - высотой потолка. Из прошлого шага мы видим, что медиана 2.77, в целом разумно и не выбивается за рамки логики."
   ]
  },
  {
   "cell_type": "code",
   "execution_count": 11,
   "metadata": {},
   "outputs": [
    {
     "data": {
      "text/html": [
       "<div>\n",
       "<style scoped>\n",
       "    .dataframe tbody tr th:only-of-type {\n",
       "        vertical-align: middle;\n",
       "    }\n",
       "\n",
       "    .dataframe tbody tr th {\n",
       "        vertical-align: top;\n",
       "    }\n",
       "\n",
       "    .dataframe thead th {\n",
       "        text-align: right;\n",
       "    }\n",
       "</style>\n",
       "<table border=\"1\" class=\"dataframe\">\n",
       "  <thead>\n",
       "    <tr style=\"text-align: right;\">\n",
       "      <th></th>\n",
       "      <th>total_images</th>\n",
       "      <th>last_price</th>\n",
       "      <th>total_area</th>\n",
       "      <th>first_day_exposition</th>\n",
       "      <th>rooms</th>\n",
       "      <th>ceiling_height</th>\n",
       "      <th>floors_total</th>\n",
       "      <th>living_area</th>\n",
       "      <th>floor</th>\n",
       "      <th>is_apartment</th>\n",
       "      <th>studio</th>\n",
       "      <th>open_plan</th>\n",
       "      <th>kitchen_area</th>\n",
       "      <th>balcony</th>\n",
       "      <th>locality_name</th>\n",
       "      <th>airports_nearest</th>\n",
       "      <th>cityCenters_nearest</th>\n",
       "      <th>parks_around3000</th>\n",
       "      <th>parks_nearest</th>\n",
       "      <th>ponds_around3000</th>\n",
       "      <th>ponds_nearest</th>\n",
       "      <th>days_exposition</th>\n",
       "    </tr>\n",
       "  </thead>\n",
       "  <tbody>\n",
       "    <tr>\n",
       "      <td>0</td>\n",
       "      <td>20</td>\n",
       "      <td>13000000.0</td>\n",
       "      <td>108.0</td>\n",
       "      <td>2019-03-07T00:00:00</td>\n",
       "      <td>3</td>\n",
       "      <td>2.70</td>\n",
       "      <td>16.0</td>\n",
       "      <td>51.0</td>\n",
       "      <td>8</td>\n",
       "      <td>NaN</td>\n",
       "      <td>False</td>\n",
       "      <td>False</td>\n",
       "      <td>25.0</td>\n",
       "      <td>NaN</td>\n",
       "      <td>Санкт-Петербург</td>\n",
       "      <td>18863.0</td>\n",
       "      <td>16028.0</td>\n",
       "      <td>1.0</td>\n",
       "      <td>482.0</td>\n",
       "      <td>2.0</td>\n",
       "      <td>755.0</td>\n",
       "      <td>NaN</td>\n",
       "    </tr>\n",
       "    <tr>\n",
       "      <td>1</td>\n",
       "      <td>7</td>\n",
       "      <td>3350000.0</td>\n",
       "      <td>40.4</td>\n",
       "      <td>2018-12-04T00:00:00</td>\n",
       "      <td>1</td>\n",
       "      <td>NaN</td>\n",
       "      <td>11.0</td>\n",
       "      <td>18.6</td>\n",
       "      <td>1</td>\n",
       "      <td>NaN</td>\n",
       "      <td>False</td>\n",
       "      <td>False</td>\n",
       "      <td>11.0</td>\n",
       "      <td>2.0</td>\n",
       "      <td>посёлок Шушары</td>\n",
       "      <td>12817.0</td>\n",
       "      <td>18603.0</td>\n",
       "      <td>0.0</td>\n",
       "      <td>NaN</td>\n",
       "      <td>0.0</td>\n",
       "      <td>NaN</td>\n",
       "      <td>81.0</td>\n",
       "    </tr>\n",
       "    <tr>\n",
       "      <td>2</td>\n",
       "      <td>10</td>\n",
       "      <td>5196000.0</td>\n",
       "      <td>56.0</td>\n",
       "      <td>2015-08-20T00:00:00</td>\n",
       "      <td>2</td>\n",
       "      <td>NaN</td>\n",
       "      <td>5.0</td>\n",
       "      <td>34.3</td>\n",
       "      <td>4</td>\n",
       "      <td>NaN</td>\n",
       "      <td>False</td>\n",
       "      <td>False</td>\n",
       "      <td>8.3</td>\n",
       "      <td>0.0</td>\n",
       "      <td>Санкт-Петербург</td>\n",
       "      <td>21741.0</td>\n",
       "      <td>13933.0</td>\n",
       "      <td>1.0</td>\n",
       "      <td>90.0</td>\n",
       "      <td>2.0</td>\n",
       "      <td>574.0</td>\n",
       "      <td>558.0</td>\n",
       "    </tr>\n",
       "    <tr>\n",
       "      <td>3</td>\n",
       "      <td>0</td>\n",
       "      <td>64900000.0</td>\n",
       "      <td>159.0</td>\n",
       "      <td>2015-07-24T00:00:00</td>\n",
       "      <td>3</td>\n",
       "      <td>NaN</td>\n",
       "      <td>14.0</td>\n",
       "      <td>NaN</td>\n",
       "      <td>9</td>\n",
       "      <td>NaN</td>\n",
       "      <td>False</td>\n",
       "      <td>False</td>\n",
       "      <td>NaN</td>\n",
       "      <td>0.0</td>\n",
       "      <td>Санкт-Петербург</td>\n",
       "      <td>28098.0</td>\n",
       "      <td>6800.0</td>\n",
       "      <td>2.0</td>\n",
       "      <td>84.0</td>\n",
       "      <td>3.0</td>\n",
       "      <td>234.0</td>\n",
       "      <td>424.0</td>\n",
       "    </tr>\n",
       "    <tr>\n",
       "      <td>4</td>\n",
       "      <td>2</td>\n",
       "      <td>10000000.0</td>\n",
       "      <td>100.0</td>\n",
       "      <td>2018-06-19T00:00:00</td>\n",
       "      <td>2</td>\n",
       "      <td>3.03</td>\n",
       "      <td>14.0</td>\n",
       "      <td>32.0</td>\n",
       "      <td>13</td>\n",
       "      <td>NaN</td>\n",
       "      <td>False</td>\n",
       "      <td>False</td>\n",
       "      <td>41.0</td>\n",
       "      <td>NaN</td>\n",
       "      <td>Санкт-Петербург</td>\n",
       "      <td>31856.0</td>\n",
       "      <td>8098.0</td>\n",
       "      <td>2.0</td>\n",
       "      <td>112.0</td>\n",
       "      <td>1.0</td>\n",
       "      <td>48.0</td>\n",
       "      <td>121.0</td>\n",
       "    </tr>\n",
       "  </tbody>\n",
       "</table>\n",
       "</div>"
      ],
      "text/plain": [
       "   total_images  last_price  total_area first_day_exposition  rooms  \\\n",
       "0            20  13000000.0       108.0  2019-03-07T00:00:00      3   \n",
       "1             7   3350000.0        40.4  2018-12-04T00:00:00      1   \n",
       "2            10   5196000.0        56.0  2015-08-20T00:00:00      2   \n",
       "3             0  64900000.0       159.0  2015-07-24T00:00:00      3   \n",
       "4             2  10000000.0       100.0  2018-06-19T00:00:00      2   \n",
       "\n",
       "   ceiling_height  floors_total  living_area  floor is_apartment  studio  \\\n",
       "0            2.70          16.0         51.0      8          NaN   False   \n",
       "1             NaN          11.0         18.6      1          NaN   False   \n",
       "2             NaN           5.0         34.3      4          NaN   False   \n",
       "3             NaN          14.0          NaN      9          NaN   False   \n",
       "4            3.03          14.0         32.0     13          NaN   False   \n",
       "\n",
       "   open_plan  kitchen_area  balcony    locality_name  airports_nearest  \\\n",
       "0      False          25.0      NaN  Санкт-Петербург           18863.0   \n",
       "1      False          11.0      2.0   посёлок Шушары           12817.0   \n",
       "2      False           8.3      0.0  Санкт-Петербург           21741.0   \n",
       "3      False           NaN      0.0  Санкт-Петербург           28098.0   \n",
       "4      False          41.0      NaN  Санкт-Петербург           31856.0   \n",
       "\n",
       "   cityCenters_nearest  parks_around3000  parks_nearest  ponds_around3000  \\\n",
       "0              16028.0               1.0          482.0               2.0   \n",
       "1              18603.0               0.0            NaN               0.0   \n",
       "2              13933.0               1.0           90.0               2.0   \n",
       "3               6800.0               2.0           84.0               3.0   \n",
       "4               8098.0               2.0          112.0               1.0   \n",
       "\n",
       "   ponds_nearest  days_exposition  \n",
       "0          755.0              NaN  \n",
       "1            NaN             81.0  \n",
       "2          574.0            558.0  \n",
       "3          234.0            424.0  \n",
       "4           48.0            121.0  "
      ]
     },
     "execution_count": 11,
     "metadata": {},
     "output_type": "execute_result"
    }
   ],
   "source": [
    "data_prep = data\n",
    "data_prep.head() #будем работать с копией датафрейма, чтобы не портить основной - data"
   ]
  },
  {
   "cell_type": "code",
   "execution_count": 12,
   "metadata": {},
   "outputs": [],
   "source": [
    "data_prep['ceiling_height'] = data_prep['ceiling_height'].fillna(2.77)"
   ]
  },
  {
   "cell_type": "code",
   "execution_count": 13,
   "metadata": {
    "scrolled": true
   },
   "outputs": [
    {
     "name": "stdout",
     "output_type": "stream",
     "text": [
      "<class 'pandas.core.frame.DataFrame'>\n",
      "RangeIndex: 23699 entries, 0 to 23698\n",
      "Data columns (total 22 columns):\n",
      "total_images            23699 non-null int64\n",
      "last_price              23699 non-null float64\n",
      "total_area              23699 non-null float64\n",
      "first_day_exposition    23699 non-null object\n",
      "rooms                   23699 non-null int64\n",
      "ceiling_height          23699 non-null float64\n",
      "floors_total            23613 non-null float64\n",
      "living_area             21796 non-null float64\n",
      "floor                   23699 non-null int64\n",
      "is_apartment            2775 non-null object\n",
      "studio                  23699 non-null bool\n",
      "open_plan               23699 non-null bool\n",
      "kitchen_area            21421 non-null float64\n",
      "balcony                 12180 non-null float64\n",
      "locality_name           23650 non-null object\n",
      "airports_nearest        18157 non-null float64\n",
      "cityCenters_nearest     18180 non-null float64\n",
      "parks_around3000        18181 non-null float64\n",
      "parks_nearest           8079 non-null float64\n",
      "ponds_around3000        18181 non-null float64\n",
      "ponds_nearest           9110 non-null float64\n",
      "days_exposition         20518 non-null float64\n",
      "dtypes: bool(2), float64(14), int64(3), object(3)\n",
      "memory usage: 3.7+ MB\n"
     ]
    }
   ],
   "source": [
    "data_prep.info() #проверяем, что заменились NaN в ceiling_height"
   ]
  },
  {
   "cell_type": "code",
   "execution_count": 80,
   "metadata": {},
   "outputs": [
    {
     "data": {
      "text/plain": [
       "11.0"
      ]
     },
     "execution_count": 80,
     "metadata": {},
     "output_type": "execute_result"
    }
   ],
   "source": [
    "round(data_prep['floors_total'].mean(), 0)"
   ]
  },
  {
   "cell_type": "code",
   "execution_count": 81,
   "metadata": {},
   "outputs": [],
   "source": [
    "data_prep['floors_total'] = data_prep['floors_total'].fillna(round(data_prep['floors_total'].mean(), 0)) #также заменим на медиану 11 общее количество этажей"
   ]
  },
  {
   "cell_type": "code",
   "execution_count": 15,
   "metadata": {},
   "outputs": [],
   "source": [
    "#living_area - жилой площадью оставим как есть, т.к. не можем логично заполнить данные и удалить 2000 значений тоже"
   ]
  },
  {
   "cell_type": "code",
   "execution_count": 16,
   "metadata": {},
   "outputs": [],
   "source": [
    "data_prep['kitchen_area'] = data_prep['kitchen_area'].fillna(0) \n",
    "#заменяем на 0, т.к не указано сколько размер кухни,\n",
    "#что можем предположить, кухня совмещена с комнатой"
   ]
  },
  {
   "cell_type": "code",
   "execution_count": 17,
   "metadata": {},
   "outputs": [],
   "source": [
    "data_prep['balcony'] = data_prep['balcony'].fillna(0) \n",
    "#заменяем на 0, тк балкона нет"
   ]
  },
  {
   "cell_type": "code",
   "execution_count": 18,
   "metadata": {},
   "outputs": [],
   "source": [
    "data_prep['locality_name'] = data_prep['locality_name'].dropna() #дропаем те значниения, которые NaN, их 49 шт"
   ]
  },
  {
   "cell_type": "code",
   "execution_count": 19,
   "metadata": {},
   "outputs": [],
   "source": [
    "data_prep['days_exposition'] = data_prep['days_exposition'].fillna(181)\n",
    "#также заменим на медиану 181 "
   ]
  },
  {
   "cell_type": "code",
   "execution_count": 20,
   "metadata": {},
   "outputs": [],
   "source": [
    "data_prep['first_day_exposition'] = pd.to_datetime(data_prep['first_day_exposition'], format='%Y-%m-%dT%H:%M:%S')\n",
    "#переведем колонку в тип daytime"
   ]
  },
  {
   "cell_type": "code",
   "execution_count": 21,
   "metadata": {},
   "outputs": [],
   "source": [
    "data_prep['floors_total'] = data_prep['floors_total'].astype('int64')"
   ]
  },
  {
   "cell_type": "markdown",
   "metadata": {},
   "source": [
    "Изменение типов данных: в принципе можно поменять например количество балконов с float на int, т.к. не может быть полвины балкона. Также количество этажей, и где находится квартира. вопрос в том, нужно ли это для чего то, кроме как проверить знание студента это менять?:)"
   ]
  },
  {
   "cell_type": "code",
   "execution_count": 22,
   "metadata": {},
   "outputs": [
    {
     "name": "stdout",
     "output_type": "stream",
     "text": [
      "<class 'pandas.core.frame.DataFrame'>\n",
      "RangeIndex: 23699 entries, 0 to 23698\n",
      "Data columns (total 22 columns):\n",
      "total_images            23699 non-null int64\n",
      "last_price              23699 non-null float64\n",
      "total_area              23699 non-null float64\n",
      "first_day_exposition    23699 non-null datetime64[ns]\n",
      "rooms                   23699 non-null int64\n",
      "ceiling_height          23699 non-null float64\n",
      "floors_total            23699 non-null int64\n",
      "living_area             21796 non-null float64\n",
      "floor                   23699 non-null int64\n",
      "is_apartment            2775 non-null object\n",
      "studio                  23699 non-null bool\n",
      "open_plan               23699 non-null bool\n",
      "kitchen_area            23699 non-null float64\n",
      "balcony                 23699 non-null float64\n",
      "locality_name           23650 non-null object\n",
      "airports_nearest        18157 non-null float64\n",
      "cityCenters_nearest     18180 non-null float64\n",
      "parks_around3000        18181 non-null float64\n",
      "parks_nearest           8079 non-null float64\n",
      "ponds_around3000        18181 non-null float64\n",
      "ponds_nearest           9110 non-null float64\n",
      "days_exposition         23699 non-null float64\n",
      "dtypes: bool(2), datetime64[ns](1), float64(13), int64(4), object(2)\n",
      "memory usage: 3.7+ MB\n"
     ]
    }
   ],
   "source": [
    "data_prep.info() #проверяем изменения типов, и вопрос locality_name почему то не дропнул пустые. Можете сказать почему?"
   ]
  },
  {
   "cell_type": "code",
   "execution_count": 83,
   "metadata": {},
   "outputs": [
    {
     "data": {
      "text/plain": [
       "array(['Санкт-Петербург', 'посёлок Шушары', 'городской посёлок Янино-1',\n",
       "       'посёлок Парголово', 'посёлок Мурино', 'Ломоносов', 'Сертолово',\n",
       "       'Петергоф', 'Пушкин', 'деревня Кудрово', 'Коммунар', 'Колпино',\n",
       "       'поселок городского типа Красный Бор', 'Гатчина', 'поселок Мурино',\n",
       "       'деревня Фёдоровское', 'Выборг', 'Кронштадт', 'Кировск',\n",
       "       'деревня Новое Девяткино', 'посёлок Металлострой',\n",
       "       'посёлок городского типа Лебяжье',\n",
       "       'посёлок городского типа Сиверский', 'поселок Молодцово',\n",
       "       'поселок городского типа Кузьмоловский',\n",
       "       'садовое товарищество Новая Ропша', 'Павловск',\n",
       "       'деревня Пикколово', 'Всеволожск', 'Волхов', 'Кингисепп',\n",
       "       'Приозерск', 'Сестрорецк', 'деревня Куттузи', 'посёлок Аннино',\n",
       "       'поселок городского типа Ефимовский', 'посёлок Плодовое',\n",
       "       'деревня Заклинье', 'поселок Торковичи', 'поселок Первомайское',\n",
       "       'Красное Село', 'посёлок Понтонный', 'Сясьстрой', 'деревня Старая',\n",
       "       'деревня Лесколово', 'посёлок Новый Свет', 'Сланцы',\n",
       "       'село Путилово', 'Ивангород', 'Мурино', 'Шлиссельбург',\n",
       "       'Никольское', 'Зеленогорск', 'Сосновый Бор', 'поселок Новый Свет',\n",
       "       'деревня Оржицы', 'деревня Кальтино', 'Кудрово',\n",
       "       'поселок Романовка', 'посёлок Бугры', 'поселок Бугры',\n",
       "       'поселок городского типа Рощино', 'Кириши', 'Луга', 'Волосово',\n",
       "       'Отрадное', 'село Павлово', 'поселок Оредеж', 'село Копорье',\n",
       "       'посёлок городского типа Красный Бор', 'посёлок Молодёжное',\n",
       "       'Тихвин', 'посёлок Победа', 'деревня Нурма',\n",
       "       'поселок городского типа Синявино', 'Тосно',\n",
       "       'посёлок городского типа Кузьмоловский', 'посёлок Стрельна',\n",
       "       'Бокситогорск', 'посёлок Александровская', 'деревня Лопухинка',\n",
       "       'Пикалёво', 'поселок Терволово',\n",
       "       'поселок городского типа Советский', 'Подпорожье',\n",
       "       'посёлок Петровское', 'посёлок городского типа Токсово',\n",
       "       'поселок Сельцо', 'посёлок городского типа Вырица',\n",
       "       'деревня Кипень', 'деревня Келози', 'деревня Вартемяги',\n",
       "       'посёлок Тельмана', 'поселок Севастьяново',\n",
       "       'городской поселок Большая Ижора', nan,\n",
       "       'городской посёлок Павлово', 'деревня Агалатово',\n",
       "       'посёлок Новогорелово', 'городской посёлок Лесогорский',\n",
       "       'деревня Лаголово', 'поселок Цвелодубово',\n",
       "       'поселок городского типа Рахья', 'поселок городского типа Вырица',\n",
       "       'деревня Белогорка', 'поселок Заводской',\n",
       "       'городской посёлок Новоселье', 'деревня Большие Колпаны',\n",
       "       'деревня Горбунки', 'деревня Батово', 'деревня Заневка',\n",
       "       'деревня Иссад', 'Приморск', 'городской посёлок Фёдоровское',\n",
       "       'деревня Мистолово', 'Новая Ладога', 'поселок Зимитицы',\n",
       "       'поселок Барышево', 'деревня Разметелево',\n",
       "       'поселок городского типа имени Свердлова', 'деревня Пеники',\n",
       "       'поселок Рябово', 'деревня Пудомяги', 'поселок станции Корнево',\n",
       "       'деревня Низино', 'деревня Бегуницы', 'посёлок Поляны',\n",
       "       'городской посёлок Мга', 'поселок Елизаветино',\n",
       "       'посёлок городского типа Кузнечное', 'деревня Колтуши',\n",
       "       'поселок Запорожское', 'посёлок городского типа Рощино',\n",
       "       'деревня Гостилицы', 'деревня Малое Карлино',\n",
       "       'посёлок Мичуринское', 'посёлок городского типа имени Морозова',\n",
       "       'посёлок Песочный', 'посёлок Сосново', 'деревня Аро',\n",
       "       'поселок Ильичёво', 'посёлок городского типа Тайцы',\n",
       "       'деревня Малое Верево', 'деревня Извара', 'поселок станции Вещево',\n",
       "       'село Паша', 'деревня Калитино',\n",
       "       'посёлок городского типа Ульяновка', 'деревня Чудской Бор',\n",
       "       'поселок городского типа Дубровка', 'деревня Мины',\n",
       "       'поселок Войсковицы', 'посёлок городского типа имени Свердлова',\n",
       "       'деревня Коркино', 'посёлок Ропша',\n",
       "       'поселок городского типа Приладожский', 'посёлок Щеглово',\n",
       "       'посёлок Гаврилово', 'Лодейное Поле', 'деревня Рабитицы',\n",
       "       'поселок городского типа Никольский', 'деревня Кузьмолово',\n",
       "       'деревня Малые Колпаны', 'поселок Тельмана',\n",
       "       'посёлок Петро-Славянка', 'городской посёлок Назия',\n",
       "       'посёлок Репино', 'посёлок Ильичёво', 'поселок Углово',\n",
       "       'поселок Старая Малукса', 'садовое товарищество Рахья',\n",
       "       'поселок Аннино', 'поселок Победа', 'деревня Меньково',\n",
       "       'деревня Старые Бегуницы', 'посёлок Сапёрный', 'поселок Семрино',\n",
       "       'поселок Гаврилово', 'поселок Глажево', 'поселок Кобринское',\n",
       "       'деревня Гарболово', 'деревня Юкки',\n",
       "       'поселок станции Приветнинское', 'деревня Мануйлово',\n",
       "       'деревня Пчева', 'поселок Поляны', 'поселок Цвылёво',\n",
       "       'поселок Мельниково', 'посёлок Пудость', 'посёлок Усть-Луга',\n",
       "       'Светогорск', 'Любань', 'поселок Селезнёво',\n",
       "       'поселок городского типа Рябово', 'Каменногорск', 'деревня Кривко',\n",
       "       'поселок Глебычево', 'деревня Парицы', 'поселок Жилпосёлок',\n",
       "       'посёлок городского типа Мга', 'городской поселок Янино-1',\n",
       "       'посёлок Войскорово', 'село Никольское', 'посёлок Терволово',\n",
       "       'поселок Стеклянный', 'посёлок городского типа Важины',\n",
       "       'посёлок Мыза-Ивановка', 'село Русско-Высоцкое',\n",
       "       'поселок городского типа Лебяжье',\n",
       "       'поселок городского типа Форносово', 'село Старая Ладога',\n",
       "       'поселок Житково', 'городской посёлок Виллози', 'деревня Лампово',\n",
       "       'деревня Шпаньково', 'деревня Лаврики', 'посёлок Сумино',\n",
       "       'посёлок Возрождение', 'деревня Старосиверская',\n",
       "       'посёлок Кикерино', 'поселок Возрождение',\n",
       "       'деревня Старое Хинколово', 'посёлок Пригородный',\n",
       "       'посёлок Торфяное', 'городской посёлок Будогощь',\n",
       "       'поселок Суходолье', 'поселок Красная Долина', 'деревня Хапо-Ое',\n",
       "       'поселок городского типа Дружная Горка', 'поселок Лисий Нос',\n",
       "       'деревня Яльгелево', 'посёлок Стеклянный', 'село Рождествено',\n",
       "       'деревня Старополье', 'посёлок Левашово', 'деревня Сяськелево',\n",
       "       'деревня Камышовка',\n",
       "       'садоводческое некоммерческое товарищество Лесная Поляна',\n",
       "       'деревня Хязельки', 'поселок Жилгородок',\n",
       "       'посёлок городского типа Павлово', 'деревня Ялгино',\n",
       "       'поселок Новый Учхоз', 'городской посёлок Рощино',\n",
       "       'поселок Гончарово', 'поселок Почап', 'посёлок Сапёрное',\n",
       "       'посёлок Платформа 69-й километр', 'поселок Каложицы',\n",
       "       'деревня Фалилеево', 'деревня Пельгора',\n",
       "       'поселок городского типа Лесогорский', 'деревня Торошковичи',\n",
       "       'посёлок Белоостров', 'посёлок Алексеевка', 'поселок Серебрянский',\n",
       "       'поселок Лукаши', 'поселок Петровское', 'деревня Щеглово',\n",
       "       'поселок Мичуринское', 'деревня Тарасово', 'поселок Кингисеппский',\n",
       "       'посёлок при железнодорожной станции Вещево', 'поселок Ушаки',\n",
       "       'деревня Котлы', 'деревня Сижно', 'деревня Торосово',\n",
       "       'посёлок Форт Красная Горка', 'поселок городского типа Токсово',\n",
       "       'деревня Новолисино', 'посёлок станции Громово', 'деревня Глинка',\n",
       "       'посёлок Мельниково', 'поселок городского типа Назия',\n",
       "       'деревня Старая Пустошь', 'поселок Коммунары', 'поселок Починок',\n",
       "       'посёлок городского типа Вознесенье', 'деревня Разбегаево',\n",
       "       'посёлок городского типа Рябово', 'поселок Гладкое',\n",
       "       'посёлок при железнодорожной станции Приветнинское',\n",
       "       'поселок Тёсово-4', 'посёлок Жилгородок', 'деревня Бор',\n",
       "       'посёлок Коробицыно', 'деревня Большая Вруда', 'деревня Курковицы',\n",
       "       'посёлок Лисий Нос', 'городской посёлок Советский',\n",
       "       'посёлок Кобралово', 'деревня Суоранда', 'поселок Кобралово',\n",
       "       'поселок городского типа Кондратьево',\n",
       "       'коттеджный поселок Счастье', 'поселок Любань', 'деревня Реброво',\n",
       "       'деревня Зимитицы', 'деревня Тойворово', 'поселок Семиозерье',\n",
       "       'поселок Лесное', 'поселок Совхозный', 'поселок Усть-Луга',\n",
       "       'посёлок Ленинское', 'посёлок Суйда',\n",
       "       'посёлок городского типа Форносово', 'деревня Нижние Осельки',\n",
       "       'посёлок станции Свирь', 'поселок Перово', 'Высоцк',\n",
       "       'поселок Гарболово', 'село Шум', 'поселок Котельский',\n",
       "       'поселок станции Лужайка', 'деревня Большая Пустомержа',\n",
       "       'поселок Красносельское', 'деревня Вахнова Кара', 'деревня Пижма',\n",
       "       'коттеджный поселок Кивеннапа Север', 'поселок Коробицыно',\n",
       "       'поселок Ромашки', 'посёлок Перово', 'деревня Каськово',\n",
       "       'деревня Куровицы', 'посёлок Плоское', 'поселок Сумино',\n",
       "       'поселок городского типа Большая Ижора', 'поселок Кирпичное',\n",
       "       'деревня Ям-Тесово', 'деревня Раздолье', 'деревня Терпилицы',\n",
       "       'посёлок Шугозеро', 'деревня Ваганово', 'поселок Пушное',\n",
       "       'садовое товарищество Садко', 'посёлок Усть-Ижора',\n",
       "       'деревня Выскатка', 'городской посёлок Свирьстрой',\n",
       "       'поселок Громово', 'деревня Кисельня', 'посёлок Старая Малукса',\n",
       "       'деревня Трубников Бор', 'поселок Калитино',\n",
       "       'посёлок Высокоключевой', 'садовое товарищество Приладожский',\n",
       "       'посёлок Пансионат Зелёный Бор', 'деревня Ненимяки',\n",
       "       'поселок Пансионат Зелёный Бор', 'деревня Снегирёвка',\n",
       "       'деревня Рапполово', 'деревня Пустынка', 'поселок Рабитицы',\n",
       "       'деревня Большой Сабск', 'деревня Русско', 'деревня Лупполово',\n",
       "       'деревня Большое Рейзино', 'деревня Малая Романовка',\n",
       "       'поселок Дружноселье', 'поселок Пчевжа', 'поселок Володарское',\n",
       "       'деревня Нижняя', 'коттеджный посёлок Лесное', 'деревня Тихковицы',\n",
       "       'деревня Борисова Грива', 'посёлок Дзержинского'], dtype=object)"
      ]
     },
     "execution_count": 83,
     "metadata": {},
     "output_type": "execute_result"
    }
   ],
   "source": [
    "data_prep['locality_name'].unique()"
   ]
  },
  {
   "cell_type": "markdown",
   "metadata": {},
   "source": [
    "## Расчёты и добавление результатов в таблицу"
   ]
  },
  {
   "cell_type": "markdown",
   "metadata": {},
   "source": [
    "посчитано и добавлено в таблицу: цена квадратного метра\n",
    " посчитано и добавлено в таблицу: день недели, месяц и год публикации объявления\n",
    " посчитано и добавлено в таблицу: этаж квартиры; варианты — первый, последний, другой\n",
    " посчитано и добавлено в таблицу: соотношение жилой и общей площади, а также отношение площади кухни к общей"
   ]
  },
  {
   "cell_type": "code",
   "execution_count": 23,
   "metadata": {},
   "outputs": [
    {
     "data": {
      "text/html": [
       "<div>\n",
       "<style scoped>\n",
       "    .dataframe tbody tr th:only-of-type {\n",
       "        vertical-align: middle;\n",
       "    }\n",
       "\n",
       "    .dataframe tbody tr th {\n",
       "        vertical-align: top;\n",
       "    }\n",
       "\n",
       "    .dataframe thead th {\n",
       "        text-align: right;\n",
       "    }\n",
       "</style>\n",
       "<table border=\"1\" class=\"dataframe\">\n",
       "  <thead>\n",
       "    <tr style=\"text-align: right;\">\n",
       "      <th></th>\n",
       "      <th>total_images</th>\n",
       "      <th>last_price</th>\n",
       "      <th>total_area</th>\n",
       "      <th>first_day_exposition</th>\n",
       "      <th>rooms</th>\n",
       "      <th>ceiling_height</th>\n",
       "      <th>floors_total</th>\n",
       "      <th>living_area</th>\n",
       "      <th>floor</th>\n",
       "      <th>is_apartment</th>\n",
       "      <th>studio</th>\n",
       "      <th>open_plan</th>\n",
       "      <th>kitchen_area</th>\n",
       "      <th>balcony</th>\n",
       "      <th>locality_name</th>\n",
       "      <th>airports_nearest</th>\n",
       "      <th>cityCenters_nearest</th>\n",
       "      <th>parks_around3000</th>\n",
       "      <th>parks_nearest</th>\n",
       "      <th>ponds_around3000</th>\n",
       "      <th>ponds_nearest</th>\n",
       "      <th>days_exposition</th>\n",
       "      <th>price_m</th>\n",
       "    </tr>\n",
       "  </thead>\n",
       "  <tbody>\n",
       "    <tr>\n",
       "      <td>0</td>\n",
       "      <td>20</td>\n",
       "      <td>13000000.0</td>\n",
       "      <td>108.0</td>\n",
       "      <td>2019-03-07</td>\n",
       "      <td>3</td>\n",
       "      <td>2.70</td>\n",
       "      <td>16</td>\n",
       "      <td>51.0</td>\n",
       "      <td>8</td>\n",
       "      <td>NaN</td>\n",
       "      <td>False</td>\n",
       "      <td>False</td>\n",
       "      <td>25.0</td>\n",
       "      <td>0.0</td>\n",
       "      <td>Санкт-Петербург</td>\n",
       "      <td>18863.0</td>\n",
       "      <td>16028.0</td>\n",
       "      <td>1.0</td>\n",
       "      <td>482.0</td>\n",
       "      <td>2.0</td>\n",
       "      <td>755.0</td>\n",
       "      <td>181.0</td>\n",
       "      <td>120370.4</td>\n",
       "    </tr>\n",
       "    <tr>\n",
       "      <td>1</td>\n",
       "      <td>7</td>\n",
       "      <td>3350000.0</td>\n",
       "      <td>40.4</td>\n",
       "      <td>2018-12-04</td>\n",
       "      <td>1</td>\n",
       "      <td>2.77</td>\n",
       "      <td>11</td>\n",
       "      <td>18.6</td>\n",
       "      <td>1</td>\n",
       "      <td>NaN</td>\n",
       "      <td>False</td>\n",
       "      <td>False</td>\n",
       "      <td>11.0</td>\n",
       "      <td>2.0</td>\n",
       "      <td>посёлок Шушары</td>\n",
       "      <td>12817.0</td>\n",
       "      <td>18603.0</td>\n",
       "      <td>0.0</td>\n",
       "      <td>NaN</td>\n",
       "      <td>0.0</td>\n",
       "      <td>NaN</td>\n",
       "      <td>81.0</td>\n",
       "      <td>82920.8</td>\n",
       "    </tr>\n",
       "    <tr>\n",
       "      <td>2</td>\n",
       "      <td>10</td>\n",
       "      <td>5196000.0</td>\n",
       "      <td>56.0</td>\n",
       "      <td>2015-08-20</td>\n",
       "      <td>2</td>\n",
       "      <td>2.77</td>\n",
       "      <td>5</td>\n",
       "      <td>34.3</td>\n",
       "      <td>4</td>\n",
       "      <td>NaN</td>\n",
       "      <td>False</td>\n",
       "      <td>False</td>\n",
       "      <td>8.3</td>\n",
       "      <td>0.0</td>\n",
       "      <td>Санкт-Петербург</td>\n",
       "      <td>21741.0</td>\n",
       "      <td>13933.0</td>\n",
       "      <td>1.0</td>\n",
       "      <td>90.0</td>\n",
       "      <td>2.0</td>\n",
       "      <td>574.0</td>\n",
       "      <td>558.0</td>\n",
       "      <td>92785.7</td>\n",
       "    </tr>\n",
       "    <tr>\n",
       "      <td>3</td>\n",
       "      <td>0</td>\n",
       "      <td>64900000.0</td>\n",
       "      <td>159.0</td>\n",
       "      <td>2015-07-24</td>\n",
       "      <td>3</td>\n",
       "      <td>2.77</td>\n",
       "      <td>14</td>\n",
       "      <td>NaN</td>\n",
       "      <td>9</td>\n",
       "      <td>NaN</td>\n",
       "      <td>False</td>\n",
       "      <td>False</td>\n",
       "      <td>0.0</td>\n",
       "      <td>0.0</td>\n",
       "      <td>Санкт-Петербург</td>\n",
       "      <td>28098.0</td>\n",
       "      <td>6800.0</td>\n",
       "      <td>2.0</td>\n",
       "      <td>84.0</td>\n",
       "      <td>3.0</td>\n",
       "      <td>234.0</td>\n",
       "      <td>424.0</td>\n",
       "      <td>408176.1</td>\n",
       "    </tr>\n",
       "    <tr>\n",
       "      <td>4</td>\n",
       "      <td>2</td>\n",
       "      <td>10000000.0</td>\n",
       "      <td>100.0</td>\n",
       "      <td>2018-06-19</td>\n",
       "      <td>2</td>\n",
       "      <td>3.03</td>\n",
       "      <td>14</td>\n",
       "      <td>32.0</td>\n",
       "      <td>13</td>\n",
       "      <td>NaN</td>\n",
       "      <td>False</td>\n",
       "      <td>False</td>\n",
       "      <td>41.0</td>\n",
       "      <td>0.0</td>\n",
       "      <td>Санкт-Петербург</td>\n",
       "      <td>31856.0</td>\n",
       "      <td>8098.0</td>\n",
       "      <td>2.0</td>\n",
       "      <td>112.0</td>\n",
       "      <td>1.0</td>\n",
       "      <td>48.0</td>\n",
       "      <td>121.0</td>\n",
       "      <td>100000.0</td>\n",
       "    </tr>\n",
       "  </tbody>\n",
       "</table>\n",
       "</div>"
      ],
      "text/plain": [
       "   total_images  last_price  total_area first_day_exposition  rooms  \\\n",
       "0            20  13000000.0       108.0           2019-03-07      3   \n",
       "1             7   3350000.0        40.4           2018-12-04      1   \n",
       "2            10   5196000.0        56.0           2015-08-20      2   \n",
       "3             0  64900000.0       159.0           2015-07-24      3   \n",
       "4             2  10000000.0       100.0           2018-06-19      2   \n",
       "\n",
       "   ceiling_height  floors_total  living_area  floor is_apartment  studio  \\\n",
       "0            2.70            16         51.0      8          NaN   False   \n",
       "1            2.77            11         18.6      1          NaN   False   \n",
       "2            2.77             5         34.3      4          NaN   False   \n",
       "3            2.77            14          NaN      9          NaN   False   \n",
       "4            3.03            14         32.0     13          NaN   False   \n",
       "\n",
       "   open_plan  kitchen_area  balcony    locality_name  airports_nearest  \\\n",
       "0      False          25.0      0.0  Санкт-Петербург           18863.0   \n",
       "1      False          11.0      2.0   посёлок Шушары           12817.0   \n",
       "2      False           8.3      0.0  Санкт-Петербург           21741.0   \n",
       "3      False           0.0      0.0  Санкт-Петербург           28098.0   \n",
       "4      False          41.0      0.0  Санкт-Петербург           31856.0   \n",
       "\n",
       "   cityCenters_nearest  parks_around3000  parks_nearest  ponds_around3000  \\\n",
       "0              16028.0               1.0          482.0               2.0   \n",
       "1              18603.0               0.0            NaN               0.0   \n",
       "2              13933.0               1.0           90.0               2.0   \n",
       "3               6800.0               2.0           84.0               3.0   \n",
       "4               8098.0               2.0          112.0               1.0   \n",
       "\n",
       "   ponds_nearest  days_exposition   price_m  \n",
       "0          755.0            181.0  120370.4  \n",
       "1            NaN             81.0   82920.8  \n",
       "2          574.0            558.0   92785.7  \n",
       "3          234.0            424.0  408176.1  \n",
       "4           48.0            121.0  100000.0  "
      ]
     },
     "execution_count": 23,
     "metadata": {},
     "output_type": "execute_result"
    }
   ],
   "source": [
    "data_prep['price_m'] = (data_prep['last_price'] / data_prep['total_area']).round(1)\n",
    "#добавляем цену квадратного метра price_m и округляем до 1 знака после запятой\n",
    "data_prep.head()"
   ]
  },
  {
   "cell_type": "code",
   "execution_count": 24,
   "metadata": {},
   "outputs": [],
   "source": [
    "data_prep['price_m'] = (data_prep['last_price'] / data_prep['total_area']).round(1)\n",
    "#добавляем цену квадратного метра price_m и округляем до 1 знака после запятой"
   ]
  },
  {
   "cell_type": "code",
   "execution_count": 25,
   "metadata": {
    "scrolled": false
   },
   "outputs": [
    {
     "data": {
      "text/plain": [
       "Index(['total_images', 'last_price', 'total_area', 'first_day_exposition',\n",
       "       'rooms', 'ceiling_height', 'floors_total', 'living_area', 'floor',\n",
       "       'is_apartment', 'studio', 'open_plan', 'kitchen_area', 'balcony',\n",
       "       'locality_name', 'airports_nearest', 'cityCenters_nearest',\n",
       "       'parks_around3000', 'parks_nearest', 'ponds_around3000',\n",
       "       'ponds_nearest', 'days_exposition', 'price_m'],\n",
       "      dtype='object')"
      ]
     },
     "execution_count": 25,
     "metadata": {},
     "output_type": "execute_result"
    }
   ],
   "source": [
    "data_prep.columns"
   ]
  },
  {
   "cell_type": "code",
   "execution_count": 26,
   "metadata": {},
   "outputs": [
    {
     "data": {
      "text/html": [
       "<div>\n",
       "<style scoped>\n",
       "    .dataframe tbody tr th:only-of-type {\n",
       "        vertical-align: middle;\n",
       "    }\n",
       "\n",
       "    .dataframe tbody tr th {\n",
       "        vertical-align: top;\n",
       "    }\n",
       "\n",
       "    .dataframe thead th {\n",
       "        text-align: right;\n",
       "    }\n",
       "</style>\n",
       "<table border=\"1\" class=\"dataframe\">\n",
       "  <thead>\n",
       "    <tr style=\"text-align: right;\">\n",
       "      <th></th>\n",
       "      <th>total_images</th>\n",
       "      <th>last_price</th>\n",
       "      <th>total_area</th>\n",
       "      <th>first_day_exposition</th>\n",
       "      <th>rooms</th>\n",
       "      <th>ceiling_height</th>\n",
       "      <th>floors_total</th>\n",
       "      <th>living_area</th>\n",
       "      <th>floor</th>\n",
       "      <th>is_apartment</th>\n",
       "      <th>studio</th>\n",
       "      <th>open_plan</th>\n",
       "      <th>kitchen_area</th>\n",
       "      <th>balcony</th>\n",
       "      <th>locality_name</th>\n",
       "      <th>airports_nearest</th>\n",
       "      <th>cityCenters_nearest</th>\n",
       "      <th>parks_around3000</th>\n",
       "      <th>parks_nearest</th>\n",
       "      <th>ponds_around3000</th>\n",
       "      <th>ponds_nearest</th>\n",
       "      <th>days_exposition</th>\n",
       "      <th>price_m</th>\n",
       "    </tr>\n",
       "  </thead>\n",
       "  <tbody>\n",
       "    <tr>\n",
       "      <td>0</td>\n",
       "      <td>20</td>\n",
       "      <td>13000000.0</td>\n",
       "      <td>108.0</td>\n",
       "      <td>2019-03-07</td>\n",
       "      <td>3</td>\n",
       "      <td>2.70</td>\n",
       "      <td>16</td>\n",
       "      <td>51.0</td>\n",
       "      <td>8</td>\n",
       "      <td>NaN</td>\n",
       "      <td>False</td>\n",
       "      <td>False</td>\n",
       "      <td>25.0</td>\n",
       "      <td>0.0</td>\n",
       "      <td>Санкт-Петербург</td>\n",
       "      <td>18863.0</td>\n",
       "      <td>16028.0</td>\n",
       "      <td>1.0</td>\n",
       "      <td>482.0</td>\n",
       "      <td>2.0</td>\n",
       "      <td>755.0</td>\n",
       "      <td>181.0</td>\n",
       "      <td>120370.4</td>\n",
       "    </tr>\n",
       "    <tr>\n",
       "      <td>1</td>\n",
       "      <td>7</td>\n",
       "      <td>3350000.0</td>\n",
       "      <td>40.4</td>\n",
       "      <td>2018-12-04</td>\n",
       "      <td>1</td>\n",
       "      <td>2.77</td>\n",
       "      <td>11</td>\n",
       "      <td>18.6</td>\n",
       "      <td>1</td>\n",
       "      <td>NaN</td>\n",
       "      <td>False</td>\n",
       "      <td>False</td>\n",
       "      <td>11.0</td>\n",
       "      <td>2.0</td>\n",
       "      <td>посёлок Шушары</td>\n",
       "      <td>12817.0</td>\n",
       "      <td>18603.0</td>\n",
       "      <td>0.0</td>\n",
       "      <td>NaN</td>\n",
       "      <td>0.0</td>\n",
       "      <td>NaN</td>\n",
       "      <td>81.0</td>\n",
       "      <td>82920.8</td>\n",
       "    </tr>\n",
       "    <tr>\n",
       "      <td>2</td>\n",
       "      <td>10</td>\n",
       "      <td>5196000.0</td>\n",
       "      <td>56.0</td>\n",
       "      <td>2015-08-20</td>\n",
       "      <td>2</td>\n",
       "      <td>2.77</td>\n",
       "      <td>5</td>\n",
       "      <td>34.3</td>\n",
       "      <td>4</td>\n",
       "      <td>NaN</td>\n",
       "      <td>False</td>\n",
       "      <td>False</td>\n",
       "      <td>8.3</td>\n",
       "      <td>0.0</td>\n",
       "      <td>Санкт-Петербург</td>\n",
       "      <td>21741.0</td>\n",
       "      <td>13933.0</td>\n",
       "      <td>1.0</td>\n",
       "      <td>90.0</td>\n",
       "      <td>2.0</td>\n",
       "      <td>574.0</td>\n",
       "      <td>558.0</td>\n",
       "      <td>92785.7</td>\n",
       "    </tr>\n",
       "    <tr>\n",
       "      <td>3</td>\n",
       "      <td>0</td>\n",
       "      <td>64900000.0</td>\n",
       "      <td>159.0</td>\n",
       "      <td>2015-07-24</td>\n",
       "      <td>3</td>\n",
       "      <td>2.77</td>\n",
       "      <td>14</td>\n",
       "      <td>NaN</td>\n",
       "      <td>9</td>\n",
       "      <td>NaN</td>\n",
       "      <td>False</td>\n",
       "      <td>False</td>\n",
       "      <td>0.0</td>\n",
       "      <td>0.0</td>\n",
       "      <td>Санкт-Петербург</td>\n",
       "      <td>28098.0</td>\n",
       "      <td>6800.0</td>\n",
       "      <td>2.0</td>\n",
       "      <td>84.0</td>\n",
       "      <td>3.0</td>\n",
       "      <td>234.0</td>\n",
       "      <td>424.0</td>\n",
       "      <td>408176.1</td>\n",
       "    </tr>\n",
       "    <tr>\n",
       "      <td>4</td>\n",
       "      <td>2</td>\n",
       "      <td>10000000.0</td>\n",
       "      <td>100.0</td>\n",
       "      <td>2018-06-19</td>\n",
       "      <td>2</td>\n",
       "      <td>3.03</td>\n",
       "      <td>14</td>\n",
       "      <td>32.0</td>\n",
       "      <td>13</td>\n",
       "      <td>NaN</td>\n",
       "      <td>False</td>\n",
       "      <td>False</td>\n",
       "      <td>41.0</td>\n",
       "      <td>0.0</td>\n",
       "      <td>Санкт-Петербург</td>\n",
       "      <td>31856.0</td>\n",
       "      <td>8098.0</td>\n",
       "      <td>2.0</td>\n",
       "      <td>112.0</td>\n",
       "      <td>1.0</td>\n",
       "      <td>48.0</td>\n",
       "      <td>121.0</td>\n",
       "      <td>100000.0</td>\n",
       "    </tr>\n",
       "  </tbody>\n",
       "</table>\n",
       "</div>"
      ],
      "text/plain": [
       "   total_images  last_price  total_area first_day_exposition  rooms  \\\n",
       "0            20  13000000.0       108.0           2019-03-07      3   \n",
       "1             7   3350000.0        40.4           2018-12-04      1   \n",
       "2            10   5196000.0        56.0           2015-08-20      2   \n",
       "3             0  64900000.0       159.0           2015-07-24      3   \n",
       "4             2  10000000.0       100.0           2018-06-19      2   \n",
       "\n",
       "   ceiling_height  floors_total  living_area  floor is_apartment  studio  \\\n",
       "0            2.70            16         51.0      8          NaN   False   \n",
       "1            2.77            11         18.6      1          NaN   False   \n",
       "2            2.77             5         34.3      4          NaN   False   \n",
       "3            2.77            14          NaN      9          NaN   False   \n",
       "4            3.03            14         32.0     13          NaN   False   \n",
       "\n",
       "   open_plan  kitchen_area  balcony    locality_name  airports_nearest  \\\n",
       "0      False          25.0      0.0  Санкт-Петербург           18863.0   \n",
       "1      False          11.0      2.0   посёлок Шушары           12817.0   \n",
       "2      False           8.3      0.0  Санкт-Петербург           21741.0   \n",
       "3      False           0.0      0.0  Санкт-Петербург           28098.0   \n",
       "4      False          41.0      0.0  Санкт-Петербург           31856.0   \n",
       "\n",
       "   cityCenters_nearest  parks_around3000  parks_nearest  ponds_around3000  \\\n",
       "0              16028.0               1.0          482.0               2.0   \n",
       "1              18603.0               0.0            NaN               0.0   \n",
       "2              13933.0               1.0           90.0               2.0   \n",
       "3               6800.0               2.0           84.0               3.0   \n",
       "4               8098.0               2.0          112.0               1.0   \n",
       "\n",
       "   ponds_nearest  days_exposition   price_m  \n",
       "0          755.0            181.0  120370.4  \n",
       "1            NaN             81.0   82920.8  \n",
       "2          574.0            558.0   92785.7  \n",
       "3          234.0            424.0  408176.1  \n",
       "4           48.0            121.0  100000.0  "
      ]
     },
     "execution_count": 26,
     "metadata": {},
     "output_type": "execute_result"
    }
   ],
   "source": [
    "data_prep.head()"
   ]
  },
  {
   "cell_type": "code",
   "execution_count": 27,
   "metadata": {},
   "outputs": [],
   "source": [
    "data_cleared = data_prep.drop(columns = ['is_apartment', 'studio', \n",
    "                                          'open_plan','airports_nearest','parks_around3000', \n",
    "                                          'parks_nearest', 'ponds_around3000','ponds_nearest','total_images'])\n",
    "#убрать не нужные колонки, чтобы место не занимали, но основной датафрейм не трогаем"
   ]
  },
  {
   "cell_type": "code",
   "execution_count": 28,
   "metadata": {},
   "outputs": [
    {
     "data": {
      "text/plain": [
       "Index(['last_price', 'total_area', 'first_day_exposition', 'rooms',\n",
       "       'ceiling_height', 'floors_total', 'living_area', 'floor',\n",
       "       'kitchen_area', 'balcony', 'locality_name', 'cityCenters_nearest',\n",
       "       'days_exposition', 'price_m'],\n",
       "      dtype='object')"
      ]
     },
     "execution_count": 28,
     "metadata": {},
     "output_type": "execute_result"
    }
   ],
   "source": [
    "data_cleared.columns"
   ]
  },
  {
   "cell_type": "code",
   "execution_count": 29,
   "metadata": {},
   "outputs": [],
   "source": [
    "#меняем положение столбцов, удобнее чтобы видть цену метра рядом с ценой\n",
    "data_cleared = data_cleared.reindex(columns=['last_price', 'price_m', 'total_area','days_exposition', 'first_day_exposition', 'rooms',\n",
    "       'ceiling_height', 'floors_total', 'living_area', 'floor',\n",
    "       'kitchen_area', 'balcony', 'locality_name', 'cityCenters_nearest'])"
   ]
  },
  {
   "cell_type": "code",
   "execution_count": 30,
   "metadata": {},
   "outputs": [
    {
     "data": {
      "text/html": [
       "<div>\n",
       "<style scoped>\n",
       "    .dataframe tbody tr th:only-of-type {\n",
       "        vertical-align: middle;\n",
       "    }\n",
       "\n",
       "    .dataframe tbody tr th {\n",
       "        vertical-align: top;\n",
       "    }\n",
       "\n",
       "    .dataframe thead th {\n",
       "        text-align: right;\n",
       "    }\n",
       "</style>\n",
       "<table border=\"1\" class=\"dataframe\">\n",
       "  <thead>\n",
       "    <tr style=\"text-align: right;\">\n",
       "      <th></th>\n",
       "      <th>last_price</th>\n",
       "      <th>price_m</th>\n",
       "      <th>total_area</th>\n",
       "      <th>days_exposition</th>\n",
       "      <th>first_day_exposition</th>\n",
       "      <th>rooms</th>\n",
       "      <th>ceiling_height</th>\n",
       "      <th>floors_total</th>\n",
       "      <th>living_area</th>\n",
       "      <th>floor</th>\n",
       "      <th>kitchen_area</th>\n",
       "      <th>balcony</th>\n",
       "      <th>locality_name</th>\n",
       "      <th>cityCenters_nearest</th>\n",
       "    </tr>\n",
       "  </thead>\n",
       "  <tbody>\n",
       "    <tr>\n",
       "      <td>0</td>\n",
       "      <td>13000000.0</td>\n",
       "      <td>120370.4</td>\n",
       "      <td>108.0</td>\n",
       "      <td>181.0</td>\n",
       "      <td>2019-03-07</td>\n",
       "      <td>3</td>\n",
       "      <td>2.70</td>\n",
       "      <td>16</td>\n",
       "      <td>51.0</td>\n",
       "      <td>8</td>\n",
       "      <td>25.0</td>\n",
       "      <td>0.0</td>\n",
       "      <td>Санкт-Петербург</td>\n",
       "      <td>16028.0</td>\n",
       "    </tr>\n",
       "    <tr>\n",
       "      <td>1</td>\n",
       "      <td>3350000.0</td>\n",
       "      <td>82920.8</td>\n",
       "      <td>40.4</td>\n",
       "      <td>81.0</td>\n",
       "      <td>2018-12-04</td>\n",
       "      <td>1</td>\n",
       "      <td>2.77</td>\n",
       "      <td>11</td>\n",
       "      <td>18.6</td>\n",
       "      <td>1</td>\n",
       "      <td>11.0</td>\n",
       "      <td>2.0</td>\n",
       "      <td>посёлок Шушары</td>\n",
       "      <td>18603.0</td>\n",
       "    </tr>\n",
       "    <tr>\n",
       "      <td>2</td>\n",
       "      <td>5196000.0</td>\n",
       "      <td>92785.7</td>\n",
       "      <td>56.0</td>\n",
       "      <td>558.0</td>\n",
       "      <td>2015-08-20</td>\n",
       "      <td>2</td>\n",
       "      <td>2.77</td>\n",
       "      <td>5</td>\n",
       "      <td>34.3</td>\n",
       "      <td>4</td>\n",
       "      <td>8.3</td>\n",
       "      <td>0.0</td>\n",
       "      <td>Санкт-Петербург</td>\n",
       "      <td>13933.0</td>\n",
       "    </tr>\n",
       "    <tr>\n",
       "      <td>3</td>\n",
       "      <td>64900000.0</td>\n",
       "      <td>408176.1</td>\n",
       "      <td>159.0</td>\n",
       "      <td>424.0</td>\n",
       "      <td>2015-07-24</td>\n",
       "      <td>3</td>\n",
       "      <td>2.77</td>\n",
       "      <td>14</td>\n",
       "      <td>NaN</td>\n",
       "      <td>9</td>\n",
       "      <td>0.0</td>\n",
       "      <td>0.0</td>\n",
       "      <td>Санкт-Петербург</td>\n",
       "      <td>6800.0</td>\n",
       "    </tr>\n",
       "    <tr>\n",
       "      <td>4</td>\n",
       "      <td>10000000.0</td>\n",
       "      <td>100000.0</td>\n",
       "      <td>100.0</td>\n",
       "      <td>121.0</td>\n",
       "      <td>2018-06-19</td>\n",
       "      <td>2</td>\n",
       "      <td>3.03</td>\n",
       "      <td>14</td>\n",
       "      <td>32.0</td>\n",
       "      <td>13</td>\n",
       "      <td>41.0</td>\n",
       "      <td>0.0</td>\n",
       "      <td>Санкт-Петербург</td>\n",
       "      <td>8098.0</td>\n",
       "    </tr>\n",
       "  </tbody>\n",
       "</table>\n",
       "</div>"
      ],
      "text/plain": [
       "   last_price   price_m  total_area  days_exposition first_day_exposition  \\\n",
       "0  13000000.0  120370.4       108.0            181.0           2019-03-07   \n",
       "1   3350000.0   82920.8        40.4             81.0           2018-12-04   \n",
       "2   5196000.0   92785.7        56.0            558.0           2015-08-20   \n",
       "3  64900000.0  408176.1       159.0            424.0           2015-07-24   \n",
       "4  10000000.0  100000.0       100.0            121.0           2018-06-19   \n",
       "\n",
       "   rooms  ceiling_height  floors_total  living_area  floor  kitchen_area  \\\n",
       "0      3            2.70            16         51.0      8          25.0   \n",
       "1      1            2.77            11         18.6      1          11.0   \n",
       "2      2            2.77             5         34.3      4           8.3   \n",
       "3      3            2.77            14          NaN      9           0.0   \n",
       "4      2            3.03            14         32.0     13          41.0   \n",
       "\n",
       "   balcony    locality_name  cityCenters_nearest  \n",
       "0      0.0  Санкт-Петербург              16028.0  \n",
       "1      2.0   посёлок Шушары              18603.0  \n",
       "2      0.0  Санкт-Петербург              13933.0  \n",
       "3      0.0  Санкт-Петербург               6800.0  \n",
       "4      0.0  Санкт-Петербург               8098.0  "
      ]
     },
     "execution_count": 30,
     "metadata": {},
     "output_type": "execute_result"
    }
   ],
   "source": [
    "data_cleared.head()"
   ]
  },
  {
   "cell_type": "code",
   "execution_count": 31,
   "metadata": {},
   "outputs": [],
   "source": [
    "data_cleared['year_exposition'] = data_cleared['first_day_exposition'].dt.year\n",
    "data_cleared['month_exposition'] = data_cleared['first_day_exposition'].dt.month_name() \n",
    "data_cleared['weekday_exposition'] = data_cleared['first_day_exposition'].dt.day_name() \n",
    "#вводим новые колонки с годом, названием месяца и дня"
   ]
  },
  {
   "cell_type": "code",
   "execution_count": 32,
   "metadata": {
    "scrolled": true
   },
   "outputs": [],
   "source": [
    "#создадим функцию, которая будет смотреть какой этаж и делать группу с первым, последним и другим\n",
    "\n",
    "def floor_position(row):\n",
    "    if row['floor'] == 1:\n",
    "        return 'первый'\n",
    "    if row['floor'] == row['floors_total']:\n",
    "        return 'последний'\n",
    "    else:\n",
    "        return 'другой'"
   ]
  },
  {
   "cell_type": "code",
   "execution_count": 33,
   "metadata": {},
   "outputs": [],
   "source": [
    "data_cleared['floor_cat'] =  data_cleared.apply(floor_position, axis=1) #применяем"
   ]
  },
  {
   "cell_type": "code",
   "execution_count": 34,
   "metadata": {},
   "outputs": [
    {
     "data": {
      "text/html": [
       "<div>\n",
       "<style scoped>\n",
       "    .dataframe tbody tr th:only-of-type {\n",
       "        vertical-align: middle;\n",
       "    }\n",
       "\n",
       "    .dataframe tbody tr th {\n",
       "        vertical-align: top;\n",
       "    }\n",
       "\n",
       "    .dataframe thead th {\n",
       "        text-align: right;\n",
       "    }\n",
       "</style>\n",
       "<table border=\"1\" class=\"dataframe\">\n",
       "  <thead>\n",
       "    <tr style=\"text-align: right;\">\n",
       "      <th></th>\n",
       "      <th>last_price</th>\n",
       "      <th>price_m</th>\n",
       "      <th>total_area</th>\n",
       "      <th>days_exposition</th>\n",
       "      <th>first_day_exposition</th>\n",
       "      <th>rooms</th>\n",
       "      <th>ceiling_height</th>\n",
       "      <th>floors_total</th>\n",
       "      <th>living_area</th>\n",
       "      <th>floor</th>\n",
       "      <th>kitchen_area</th>\n",
       "      <th>balcony</th>\n",
       "      <th>locality_name</th>\n",
       "      <th>cityCenters_nearest</th>\n",
       "      <th>year_exposition</th>\n",
       "      <th>month_exposition</th>\n",
       "      <th>weekday_exposition</th>\n",
       "      <th>floor_cat</th>\n",
       "    </tr>\n",
       "  </thead>\n",
       "  <tbody>\n",
       "    <tr>\n",
       "      <td>12</td>\n",
       "      <td>3890000.0</td>\n",
       "      <td>72037.0</td>\n",
       "      <td>54.0</td>\n",
       "      <td>90.0</td>\n",
       "      <td>2016-06-30</td>\n",
       "      <td>2</td>\n",
       "      <td>2.77</td>\n",
       "      <td>5</td>\n",
       "      <td>30.0</td>\n",
       "      <td>5</td>\n",
       "      <td>9.0</td>\n",
       "      <td>0.0</td>\n",
       "      <td>Сертолово</td>\n",
       "      <td>NaN</td>\n",
       "      <td>2016</td>\n",
       "      <td>June</td>\n",
       "      <td>Thursday</td>\n",
       "      <td>последний</td>\n",
       "    </tr>\n",
       "    <tr>\n",
       "      <td>13</td>\n",
       "      <td>3550000.0</td>\n",
       "      <td>82943.9</td>\n",
       "      <td>42.8</td>\n",
       "      <td>366.0</td>\n",
       "      <td>2017-07-01</td>\n",
       "      <td>2</td>\n",
       "      <td>2.56</td>\n",
       "      <td>5</td>\n",
       "      <td>27.0</td>\n",
       "      <td>5</td>\n",
       "      <td>5.2</td>\n",
       "      <td>1.0</td>\n",
       "      <td>Петергоф</td>\n",
       "      <td>33058.0</td>\n",
       "      <td>2017</td>\n",
       "      <td>July</td>\n",
       "      <td>Saturday</td>\n",
       "      <td>последний</td>\n",
       "    </tr>\n",
       "    <tr>\n",
       "      <td>23</td>\n",
       "      <td>2950000.0</td>\n",
       "      <td>92187.5</td>\n",
       "      <td>32.0</td>\n",
       "      <td>615.0</td>\n",
       "      <td>2016-10-29</td>\n",
       "      <td>1</td>\n",
       "      <td>2.60</td>\n",
       "      <td>9</td>\n",
       "      <td>17.7</td>\n",
       "      <td>9</td>\n",
       "      <td>6.1</td>\n",
       "      <td>0.0</td>\n",
       "      <td>Санкт-Петербург</td>\n",
       "      <td>14211.0</td>\n",
       "      <td>2016</td>\n",
       "      <td>October</td>\n",
       "      <td>Saturday</td>\n",
       "      <td>последний</td>\n",
       "    </tr>\n",
       "    <tr>\n",
       "      <td>36</td>\n",
       "      <td>3790000.0</td>\n",
       "      <td>84222.2</td>\n",
       "      <td>45.0</td>\n",
       "      <td>139.0</td>\n",
       "      <td>2017-01-25</td>\n",
       "      <td>2</td>\n",
       "      <td>2.77</td>\n",
       "      <td>9</td>\n",
       "      <td>27.0</td>\n",
       "      <td>9</td>\n",
       "      <td>6.3</td>\n",
       "      <td>2.0</td>\n",
       "      <td>Санкт-Петербург</td>\n",
       "      <td>16461.0</td>\n",
       "      <td>2017</td>\n",
       "      <td>January</td>\n",
       "      <td>Wednesday</td>\n",
       "      <td>последний</td>\n",
       "    </tr>\n",
       "    <tr>\n",
       "      <td>43</td>\n",
       "      <td>9330000.0</td>\n",
       "      <td>194375.0</td>\n",
       "      <td>48.0</td>\n",
       "      <td>763.0</td>\n",
       "      <td>2017-01-10</td>\n",
       "      <td>2</td>\n",
       "      <td>3.00</td>\n",
       "      <td>4</td>\n",
       "      <td>28.0</td>\n",
       "      <td>4</td>\n",
       "      <td>7.5</td>\n",
       "      <td>0.0</td>\n",
       "      <td>Санкт-Петербург</td>\n",
       "      <td>10822.0</td>\n",
       "      <td>2017</td>\n",
       "      <td>January</td>\n",
       "      <td>Tuesday</td>\n",
       "      <td>последний</td>\n",
       "    </tr>\n",
       "  </tbody>\n",
       "</table>\n",
       "</div>"
      ],
      "text/plain": [
       "    last_price   price_m  total_area  days_exposition first_day_exposition  \\\n",
       "12   3890000.0   72037.0        54.0             90.0           2016-06-30   \n",
       "13   3550000.0   82943.9        42.8            366.0           2017-07-01   \n",
       "23   2950000.0   92187.5        32.0            615.0           2016-10-29   \n",
       "36   3790000.0   84222.2        45.0            139.0           2017-01-25   \n",
       "43   9330000.0  194375.0        48.0            763.0           2017-01-10   \n",
       "\n",
       "    rooms  ceiling_height  floors_total  living_area  floor  kitchen_area  \\\n",
       "12      2            2.77             5         30.0      5           9.0   \n",
       "13      2            2.56             5         27.0      5           5.2   \n",
       "23      1            2.60             9         17.7      9           6.1   \n",
       "36      2            2.77             9         27.0      9           6.3   \n",
       "43      2            3.00             4         28.0      4           7.5   \n",
       "\n",
       "    balcony    locality_name  cityCenters_nearest  year_exposition  \\\n",
       "12      0.0        Сертолово                  NaN             2016   \n",
       "13      1.0         Петергоф              33058.0             2017   \n",
       "23      0.0  Санкт-Петербург              14211.0             2016   \n",
       "36      2.0  Санкт-Петербург              16461.0             2017   \n",
       "43      0.0  Санкт-Петербург              10822.0             2017   \n",
       "\n",
       "   month_exposition weekday_exposition  floor_cat  \n",
       "12             June           Thursday  последний  \n",
       "13             July           Saturday  последний  \n",
       "23          October           Saturday  последний  \n",
       "36          January          Wednesday  последний  \n",
       "43          January            Tuesday  последний  "
      ]
     },
     "execution_count": 34,
     "metadata": {},
     "output_type": "execute_result"
    }
   ],
   "source": [
    "data_cleared.query('floor_cat == \"последний\"').head() #проверяем"
   ]
  },
  {
   "cell_type": "code",
   "execution_count": 35,
   "metadata": {},
   "outputs": [],
   "source": [
    "#введем новую колонку living_total_area - соотношение жилой и общей площади\n",
    "\n",
    "data_cleared['living_total_area'] = data_cleared['living_area'] / data_cleared['total_area']\n"
   ]
  },
  {
   "cell_type": "code",
   "execution_count": 36,
   "metadata": {},
   "outputs": [],
   "source": [
    "#введем новую колонку kitchen_total_area - отношение площади кухни к общей\n",
    "\n",
    "data_cleared['kitchen_total_area'] = data_cleared['kitchen_area'] / data_cleared['total_area']"
   ]
  },
  {
   "cell_type": "code",
   "execution_count": 37,
   "metadata": {},
   "outputs": [
    {
     "data": {
      "text/html": [
       "<div>\n",
       "<style scoped>\n",
       "    .dataframe tbody tr th:only-of-type {\n",
       "        vertical-align: middle;\n",
       "    }\n",
       "\n",
       "    .dataframe tbody tr th {\n",
       "        vertical-align: top;\n",
       "    }\n",
       "\n",
       "    .dataframe thead th {\n",
       "        text-align: right;\n",
       "    }\n",
       "</style>\n",
       "<table border=\"1\" class=\"dataframe\">\n",
       "  <thead>\n",
       "    <tr style=\"text-align: right;\">\n",
       "      <th></th>\n",
       "      <th>last_price</th>\n",
       "      <th>price_m</th>\n",
       "      <th>total_area</th>\n",
       "      <th>days_exposition</th>\n",
       "      <th>first_day_exposition</th>\n",
       "      <th>rooms</th>\n",
       "      <th>ceiling_height</th>\n",
       "      <th>floors_total</th>\n",
       "      <th>living_area</th>\n",
       "      <th>floor</th>\n",
       "      <th>kitchen_area</th>\n",
       "      <th>balcony</th>\n",
       "      <th>locality_name</th>\n",
       "      <th>cityCenters_nearest</th>\n",
       "      <th>year_exposition</th>\n",
       "      <th>month_exposition</th>\n",
       "      <th>weekday_exposition</th>\n",
       "      <th>floor_cat</th>\n",
       "      <th>living_total_area</th>\n",
       "      <th>kitchen_total_area</th>\n",
       "    </tr>\n",
       "  </thead>\n",
       "  <tbody>\n",
       "    <tr>\n",
       "      <td>0</td>\n",
       "      <td>13000000.0</td>\n",
       "      <td>120370.4</td>\n",
       "      <td>108.0</td>\n",
       "      <td>181.0</td>\n",
       "      <td>2019-03-07</td>\n",
       "      <td>3</td>\n",
       "      <td>2.70</td>\n",
       "      <td>16</td>\n",
       "      <td>51.0</td>\n",
       "      <td>8</td>\n",
       "      <td>25.0</td>\n",
       "      <td>0.0</td>\n",
       "      <td>Санкт-Петербург</td>\n",
       "      <td>16028.0</td>\n",
       "      <td>2019</td>\n",
       "      <td>March</td>\n",
       "      <td>Thursday</td>\n",
       "      <td>другой</td>\n",
       "      <td>0.472222</td>\n",
       "      <td>0.231481</td>\n",
       "    </tr>\n",
       "    <tr>\n",
       "      <td>1</td>\n",
       "      <td>3350000.0</td>\n",
       "      <td>82920.8</td>\n",
       "      <td>40.4</td>\n",
       "      <td>81.0</td>\n",
       "      <td>2018-12-04</td>\n",
       "      <td>1</td>\n",
       "      <td>2.77</td>\n",
       "      <td>11</td>\n",
       "      <td>18.6</td>\n",
       "      <td>1</td>\n",
       "      <td>11.0</td>\n",
       "      <td>2.0</td>\n",
       "      <td>посёлок Шушары</td>\n",
       "      <td>18603.0</td>\n",
       "      <td>2018</td>\n",
       "      <td>December</td>\n",
       "      <td>Tuesday</td>\n",
       "      <td>первый</td>\n",
       "      <td>0.460396</td>\n",
       "      <td>0.272277</td>\n",
       "    </tr>\n",
       "    <tr>\n",
       "      <td>2</td>\n",
       "      <td>5196000.0</td>\n",
       "      <td>92785.7</td>\n",
       "      <td>56.0</td>\n",
       "      <td>558.0</td>\n",
       "      <td>2015-08-20</td>\n",
       "      <td>2</td>\n",
       "      <td>2.77</td>\n",
       "      <td>5</td>\n",
       "      <td>34.3</td>\n",
       "      <td>4</td>\n",
       "      <td>8.3</td>\n",
       "      <td>0.0</td>\n",
       "      <td>Санкт-Петербург</td>\n",
       "      <td>13933.0</td>\n",
       "      <td>2015</td>\n",
       "      <td>August</td>\n",
       "      <td>Thursday</td>\n",
       "      <td>другой</td>\n",
       "      <td>0.612500</td>\n",
       "      <td>0.148214</td>\n",
       "    </tr>\n",
       "    <tr>\n",
       "      <td>3</td>\n",
       "      <td>64900000.0</td>\n",
       "      <td>408176.1</td>\n",
       "      <td>159.0</td>\n",
       "      <td>424.0</td>\n",
       "      <td>2015-07-24</td>\n",
       "      <td>3</td>\n",
       "      <td>2.77</td>\n",
       "      <td>14</td>\n",
       "      <td>NaN</td>\n",
       "      <td>9</td>\n",
       "      <td>0.0</td>\n",
       "      <td>0.0</td>\n",
       "      <td>Санкт-Петербург</td>\n",
       "      <td>6800.0</td>\n",
       "      <td>2015</td>\n",
       "      <td>July</td>\n",
       "      <td>Friday</td>\n",
       "      <td>другой</td>\n",
       "      <td>NaN</td>\n",
       "      <td>0.000000</td>\n",
       "    </tr>\n",
       "    <tr>\n",
       "      <td>4</td>\n",
       "      <td>10000000.0</td>\n",
       "      <td>100000.0</td>\n",
       "      <td>100.0</td>\n",
       "      <td>121.0</td>\n",
       "      <td>2018-06-19</td>\n",
       "      <td>2</td>\n",
       "      <td>3.03</td>\n",
       "      <td>14</td>\n",
       "      <td>32.0</td>\n",
       "      <td>13</td>\n",
       "      <td>41.0</td>\n",
       "      <td>0.0</td>\n",
       "      <td>Санкт-Петербург</td>\n",
       "      <td>8098.0</td>\n",
       "      <td>2018</td>\n",
       "      <td>June</td>\n",
       "      <td>Tuesday</td>\n",
       "      <td>другой</td>\n",
       "      <td>0.320000</td>\n",
       "      <td>0.410000</td>\n",
       "    </tr>\n",
       "  </tbody>\n",
       "</table>\n",
       "</div>"
      ],
      "text/plain": [
       "   last_price   price_m  total_area  days_exposition first_day_exposition  \\\n",
       "0  13000000.0  120370.4       108.0            181.0           2019-03-07   \n",
       "1   3350000.0   82920.8        40.4             81.0           2018-12-04   \n",
       "2   5196000.0   92785.7        56.0            558.0           2015-08-20   \n",
       "3  64900000.0  408176.1       159.0            424.0           2015-07-24   \n",
       "4  10000000.0  100000.0       100.0            121.0           2018-06-19   \n",
       "\n",
       "   rooms  ceiling_height  floors_total  living_area  floor  kitchen_area  \\\n",
       "0      3            2.70            16         51.0      8          25.0   \n",
       "1      1            2.77            11         18.6      1          11.0   \n",
       "2      2            2.77             5         34.3      4           8.3   \n",
       "3      3            2.77            14          NaN      9           0.0   \n",
       "4      2            3.03            14         32.0     13          41.0   \n",
       "\n",
       "   balcony    locality_name  cityCenters_nearest  year_exposition  \\\n",
       "0      0.0  Санкт-Петербург              16028.0             2019   \n",
       "1      2.0   посёлок Шушары              18603.0             2018   \n",
       "2      0.0  Санкт-Петербург              13933.0             2015   \n",
       "3      0.0  Санкт-Петербург               6800.0             2015   \n",
       "4      0.0  Санкт-Петербург               8098.0             2018   \n",
       "\n",
       "  month_exposition weekday_exposition floor_cat  living_total_area  \\\n",
       "0            March           Thursday    другой           0.472222   \n",
       "1         December            Tuesday    первый           0.460396   \n",
       "2           August           Thursday    другой           0.612500   \n",
       "3             July             Friday    другой                NaN   \n",
       "4             June            Tuesday    другой           0.320000   \n",
       "\n",
       "   kitchen_total_area  \n",
       "0            0.231481  \n",
       "1            0.272277  \n",
       "2            0.148214  \n",
       "3            0.000000  \n",
       "4            0.410000  "
      ]
     },
     "execution_count": 37,
     "metadata": {},
     "output_type": "execute_result"
    }
   ],
   "source": [
    "data_cleared.head() #проверяем, всё есть"
   ]
  },
  {
   "cell_type": "markdown",
   "metadata": {},
   "source": [
    "## Исследовательский анализ данных"
   ]
  },
  {
   "cell_type": "markdown",
   "metadata": {},
   "source": [
    "Изучите следующие параметры: площадь, цена, число комнат, высота потолков. Постройте гистограммы для каждого параметра."
   ]
  },
  {
   "cell_type": "code",
   "execution_count": 38,
   "metadata": {},
   "outputs": [],
   "source": [
    "import matplotlib.pyplot as plt"
   ]
  },
  {
   "cell_type": "code",
   "execution_count": 97,
   "metadata": {},
   "outputs": [
    {
     "data": {
      "text/plain": [
       "Text(0, 0.5, 'Количество объявлений')"
      ]
     },
     "execution_count": 97,
     "metadata": {},
     "output_type": "execute_result"
    },
    {
     "data": {
      "image/png": "[encoded data removed]",
      "text/plain": [
       "<Figure size 432x288 with 1 Axes>"
      ]
     },
     "metadata": {
      "needs_background": "light"
     },
     "output_type": "display_data"
    }
   ],
   "source": [
    "#посмотрим без границ, нужно увеличитьмасштаб\n",
    "data_cleared['total_area'].hist(bins=20)\n",
    "\n",
    "plt.title(\"Распределение частоты объявлений от общей площади\")\n",
    "plt.xlabel(\"Общая площадь, м2\")\n",
    "plt.ylabel(\"Количество объявлений\")"
   ]
  },
  {
   "cell_type": "code",
   "execution_count": 40,
   "metadata": {},
   "outputs": [
    {
     "data": {
      "text/plain": [
       "<matplotlib.axes._subplots.AxesSubplot at 0x7f5d7b3c9f90>"
      ]
     },
     "execution_count": 40,
     "metadata": {},
     "output_type": "execute_result"
    },
    {
     "data": {
      "image/png": "[encoded data removed]",
      "text/plain": [
       "<Figure size 432x288 with 1 Axes>"
      ]
     },
     "metadata": {
      "needs_background": "light"
     },
     "output_type": "display_data"
    }
   ],
   "source": [
    "data_cleared.boxplot(column='total_area')\n",
    "#да, есть выбивающиеся значения"
   ]
  },
  {
   "cell_type": "code",
   "execution_count": 41,
   "metadata": {
    "scrolled": true
   },
   "outputs": [
    {
     "data": {
      "text/plain": [
       "<matplotlib.axes._subplots.AxesSubplot at 0x7f5d7b135290>"
      ]
     },
     "execution_count": 41,
     "metadata": {},
     "output_type": "execute_result"
    },
    {
     "data": {
      "image/png": "[encoded data removed]",
      "text/plain": [
       "<Figure size 432x288 with 1 Axes>"
      ]
     },
     "metadata": {
      "needs_background": "light"
     },
     "output_type": "display_data"
    }
   ],
   "source": [
    "data_cleared['total_area'].hist(bins=20, range=(0, 400))\n",
    "#уже лучше: большинство квартир ок.9000 объявлений площадью ок 50 кв.м"
   ]
  },
  {
   "cell_type": "code",
   "execution_count": 42,
   "metadata": {},
   "outputs": [
    {
     "data": {
      "text/plain": [
       "<matplotlib.axes._subplots.AxesSubplot at 0x7f5d7b793b10>"
      ]
     },
     "execution_count": 42,
     "metadata": {},
     "output_type": "execute_result"
    },
    {
     "data": {
      "image/png": "[encoded data removed]",
      "text/plain": [
       "<Figure size 432x288 with 1 Axes>"
      ]
     },
     "metadata": {
      "needs_background": "light"
     },
     "output_type": "display_data"
    }
   ],
   "source": [
    "data_cleared.boxplot(column='last_price')\n",
    "#тут еще больше значения, что даже ящик с усами не увидеть:)"
   ]
  },
  {
   "cell_type": "code",
   "execution_count": 43,
   "metadata": {},
   "outputs": [
    {
     "data": {
      "text/plain": [
       "<matplotlib.axes._subplots.AxesSubplot at 0x7f5d7b149190>"
      ]
     },
     "execution_count": 43,
     "metadata": {},
     "output_type": "execute_result"
    },
    {
     "data": {
      "image/png": "[encoded data removed]",
      "text/plain": [
       "<Figure size 432x288 with 1 Axes>"
      ]
     },
     "metadata": {
      "needs_background": "light"
     },
     "output_type": "display_data"
    }
   ],
   "source": [
    "data_cleared['last_price'].hist(bins=100, range=(0, 30000000)) # поставим границы. красота, а не распределение!:)\n"
   ]
  },
  {
   "cell_type": "code",
   "execution_count": 44,
   "metadata": {},
   "outputs": [
    {
     "data": {
      "text/plain": [
       "<matplotlib.axes._subplots.AxesSubplot at 0x7f5d729c5090>"
      ]
     },
     "execution_count": 44,
     "metadata": {},
     "output_type": "execute_result"
    },
    {
     "data": {
      "image/png": "[encoded data removed]",
      "text/plain": [
       "<Figure size 432x288 with 1 Axes>"
      ]
     },
     "metadata": {
      "needs_background": "light"
     },
     "output_type": "display_data"
    }
   ],
   "source": [
    "data_cleared['rooms'].hist(bins=10, range=(0, 10))\n",
    "# в целом уже понятно, что большинство квартир 1, 2 комнатные, 3 чуть поменьше "
   ]
  },
  {
   "cell_type": "code",
   "execution_count": 45,
   "metadata": {},
   "outputs": [
    {
     "data": {
      "text/plain": [
       "<matplotlib.axes._subplots.AxesSubplot at 0x7f5d728f8a10>"
      ]
     },
     "execution_count": 45,
     "metadata": {},
     "output_type": "execute_result"
    },
    {
     "data": {
      "image/png": "[encoded data removed]",
      "text/plain": [
       "<Figure size 432x288 with 1 Axes>"
      ]
     },
     "metadata": {
      "needs_background": "light"
     },
     "output_type": "display_data"
    }
   ],
   "source": [
    "data_cleared['ceiling_height'].hist(bins=20, range=(2, 5))\n",
    "#значения большинства > 20000 объявлений с высотой потолков до 3 метров"
   ]
  },
  {
   "cell_type": "markdown",
   "metadata": {},
   "source": [
    "Изучите время продажи квартиры. Постройте гистограмму. Посчитайте среднее и медиану. Опишите, сколько обычно занимает продажа. Когда можно считать, что продажи прошли очень быстро, а когда необычно долго?"
   ]
  },
  {
   "cell_type": "code",
   "execution_count": 46,
   "metadata": {},
   "outputs": [
    {
     "name": "stdout",
     "output_type": "stream",
     "text": [
      "<class 'pandas.core.frame.DataFrame'>\n",
      "RangeIndex: 23699 entries, 0 to 23698\n",
      "Data columns (total 20 columns):\n",
      "last_price              23699 non-null float64\n",
      "price_m                 23699 non-null float64\n",
      "total_area              23699 non-null float64\n",
      "days_exposition         23699 non-null float64\n",
      "first_day_exposition    23699 non-null datetime64[ns]\n",
      "rooms                   23699 non-null int64\n",
      "ceiling_height          23699 non-null float64\n",
      "floors_total            23699 non-null int64\n",
      "living_area             21796 non-null float64\n",
      "floor                   23699 non-null int64\n",
      "kitchen_area            23699 non-null float64\n",
      "balcony                 23699 non-null float64\n",
      "locality_name           23650 non-null object\n",
      "cityCenters_nearest     18180 non-null float64\n",
      "year_exposition         23699 non-null int64\n",
      "month_exposition        23699 non-null object\n",
      "weekday_exposition      23699 non-null object\n",
      "floor_cat               23699 non-null object\n",
      "living_total_area       21796 non-null float64\n",
      "kitchen_total_area      23699 non-null float64\n",
      "dtypes: datetime64[ns](1), float64(11), int64(4), object(4)\n",
      "memory usage: 3.6+ MB\n"
     ]
    }
   ],
   "source": [
    "data_cleared.info()"
   ]
  },
  {
   "cell_type": "code",
   "execution_count": 47,
   "metadata": {},
   "outputs": [],
   "source": [
    "#посмотрим в какие дни была продажа квартир. вычитаем из first_day_exposition дни days_exposition и создадим новый столбец\n",
    "\n",
    "data_cleared['selling_day'] = data_cleared['first_day_exposition']\\\n",
    "                              + pd.to_timedelta(data_cleared['days_exposition'], unit = 'D')\n"
   ]
  },
  {
   "cell_type": "code",
   "execution_count": 48,
   "metadata": {
    "scrolled": true
   },
   "outputs": [
    {
     "data": {
      "text/plain": [
       "<matplotlib.axes._subplots.AxesSubplot at 0x7f5d728cb950>"
      ]
     },
     "execution_count": 48,
     "metadata": {},
     "output_type": "execute_result"
    },
    {
     "data": {
      "image/png": "[encoded data removed]",
      "text/plain": [
       "<Figure size 720x360 with 1 Axes>"
      ]
     },
     "metadata": {
      "needs_background": "light"
     },
     "output_type": "display_data"
    }
   ],
   "source": [
    "data_cleared['selling_day'].hist(bins=10, figsize=(10, 5))\n",
    "#на графике видим, что большинство продаж пришлось на 2018 год. сделаем его покрупнее\n"
   ]
  },
  {
   "cell_type": "code",
   "execution_count": 49,
   "metadata": {
    "scrolled": true
   },
   "outputs": [
    {
     "data": {
      "text/plain": [
       "<matplotlib.axes._subplots.AxesSubplot at 0x7f5d727ae890>"
      ]
     },
     "execution_count": 49,
     "metadata": {},
     "output_type": "execute_result"
    },
    {
     "data": {
      "image/png": "[encoded data removed]",
      "text/plain": [
       "<Figure size 720x360 with 1 Axes>"
      ]
     },
     "metadata": {
      "needs_background": "light"
     },
     "output_type": "display_data"
    }
   ],
   "source": [
    "data_cleared['selling_day'].hist(bins=20, figsize=(10, 5), range=('2017.02','2020'))\n",
    "#мы видим рост числа продаж с 2017 года до начала 2018ого, падение летом и снова рост.\n",
    "#в 2019 году также летом проседали продажи, но в целом уровень продаж снизился в сравнении с 2018ым\n",
    "#предполагаю, что вызвано снижением ставки по ипотеке(есть графиики)"
   ]
  },
  {
   "cell_type": "code",
   "execution_count": 50,
   "metadata": {},
   "outputs": [
    {
     "data": {
      "text/plain": [
       "<matplotlib.axes._subplots.AxesSubplot at 0x7f5d72731150>"
      ]
     },
     "execution_count": 50,
     "metadata": {},
     "output_type": "execute_result"
    },
    {
     "data": {
      "image/png": "[encoded data removed]",
      "text/plain": [
       "<Figure size 432x288 with 1 Axes>"
      ]
     },
     "metadata": {
      "needs_background": "light"
     },
     "output_type": "display_data"
    }
   ],
   "source": [
    "data_cleared.boxplot(column='days_exposition')\n",
    "#посмотрим на ящике с усами распределения значений"
   ]
  },
  {
   "cell_type": "code",
   "execution_count": 51,
   "metadata": {},
   "outputs": [
    {
     "data": {
      "text/plain": [
       "124.0"
      ]
     },
     "execution_count": 51,
     "metadata": {},
     "output_type": "execute_result"
    }
   ],
   "source": [
    "data_cleared['days_exposition'].median() #медиана 124 дня"
   ]
  },
  {
   "cell_type": "code",
   "execution_count": 52,
   "metadata": {
    "scrolled": true
   },
   "outputs": [
    {
     "data": {
      "text/plain": [
       "180.9035824296384"
      ]
     },
     "execution_count": 52,
     "metadata": {},
     "output_type": "execute_result"
    }
   ],
   "source": [
    "data_cleared['days_exposition'].mean() #среднее - 190"
   ]
  },
  {
   "cell_type": "code",
   "execution_count": 53,
   "metadata": {},
   "outputs": [
    {
     "data": {
      "text/plain": [
       "181.0     3181\n",
       "45.0       880\n",
       "60.0       538\n",
       "7.0        234\n",
       "30.0       208\n",
       "          ... \n",
       "1049.0       1\n",
       "951.0        1\n",
       "693.0        1\n",
       "1255.0       1\n",
       "773.0        1\n",
       "Name: days_exposition, Length: 1142, dtype: int64"
      ]
     },
     "execution_count": 53,
     "metadata": {},
     "output_type": "execute_result"
    }
   ],
   "source": [
    "data_cleared['days_exposition'].value_counts()\n",
    "#а через такой инструмент видим также, что много значений на 45, 60, 7 и 30 дней\n",
    "#может указывать на то, что применялись какие то услуги продвижегния или подобные вещи"
   ]
  },
  {
   "cell_type": "markdown",
   "metadata": {},
   "source": [
    "Когда можно считать, что продажи прошли очень быстро, а когда необычно долго?"
   ]
  },
  {
   "cell_type": "code",
   "execution_count": 54,
   "metadata": {},
   "outputs": [
    {
     "data": {
      "text/plain": [
       "<matplotlib.axes._subplots.AxesSubplot at 0x7f5d7266d090>"
      ]
     },
     "execution_count": 54,
     "metadata": {},
     "output_type": "execute_result"
    },
    {
     "data": {
      "image/png": "[encoded data removed]",
      "text/plain": [
       "<Figure size 432x288 with 1 Axes>"
      ]
     },
     "metadata": {
      "needs_background": "light"
     },
     "output_type": "display_data"
    }
   ],
   "source": [
    "data_cleared['days_exposition'].hist(bins=20,  range=(0, 200))\n",
    "#сделаем укрепнение графика в начале. видим, что значения идут по убыванию, а на 181 - резкий всплеск\n",
    "#я думаю дело в том, что объявление снимается автоматически системой и переопубликовывается"
   ]
  },
  {
   "cell_type": "code",
   "execution_count": 55,
   "metadata": {
    "scrolled": true
   },
   "outputs": [
    {
     "data": {
      "text/plain": [
       "<matplotlib.axes._subplots.AxesSubplot at 0x7f5d725a7890>"
      ]
     },
     "execution_count": 55,
     "metadata": {},
     "output_type": "execute_result"
    },
    {
     "data": {
      "image/png": "[encoded data removed]",
      "text/plain": [
       "<Figure size 720x360 with 1 Axes>"
      ]
     },
     "metadata": {
      "needs_background": "light"
     },
     "output_type": "display_data"
    }
   ],
   "source": [
    "data_cleared['days_exposition'].hist(bins=40,  range=(300, 1600), figsize=(10, 5))\n",
    "#при рассмотрении \"долгого\" конца графика, мы видим вполне нормальное сокращение объявлений без выбивающихся значений"
   ]
  },
  {
   "cell_type": "markdown",
   "metadata": {},
   "source": [
    "Уберите редкие и выбивающиеся значения. Опишите, какие особенности обнаружили."
   ]
  },
  {
   "cell_type": "code",
   "execution_count": 56,
   "metadata": {},
   "outputs": [],
   "source": [
    "#выше мы видели, что в days_exposition есть выбросы в графиках\n",
    "good_data = data_cleared.query('days_exposition != (0, 30, 45, 60, 90, 181)')"
   ]
  },
  {
   "cell_type": "code",
   "execution_count": 57,
   "metadata": {},
   "outputs": [
    {
     "data": {
      "text/plain": [
       "<matplotlib.axes._subplots.AxesSubplot at 0x7f5d724f28d0>"
      ]
     },
     "execution_count": 57,
     "metadata": {},
     "output_type": "execute_result"
    },
    {
     "data": {
      "image/png": "[encoded data removed]",
      "text/plain": [
       "<Figure size 432x288 with 1 Axes>"
      ]
     },
     "metadata": {
      "needs_background": "light"
     },
     "output_type": "display_data"
    }
   ],
   "source": [
    "good_data['days_exposition'].hist(bins=40,  range=(0, 200)) "
   ]
  },
  {
   "cell_type": "markdown",
   "metadata": {},
   "source": [
    "Какие факторы больше всего влияют на стоимость квартиры? Изучите, зависит ли цена от площади, числа комнат, удалённости от центра. Изучите зависимость цены от того, на каком этаже расположена квартира: первом, последнем или другом. Также изучите зависимость от даты размещения: дня недели, месяца и года."
   ]
  },
  {
   "cell_type": "markdown",
   "metadata": {},
   "source": [
    "Посмотрим зависимость цены кв м от площади"
   ]
  },
  {
   "cell_type": "code",
   "execution_count": 58,
   "metadata": {},
   "outputs": [
    {
     "data": {
      "text/plain": [
       "0.3106353690806038"
      ]
     },
     "execution_count": 58,
     "metadata": {},
     "output_type": "execute_result"
    },
    {
     "data": {
      "image/png": "[encoded data removed]",
      "text/plain": [
       "<Figure size 432x288 with 1 Axes>"
      ]
     },
     "metadata": {
      "needs_background": "light"
     },
     "output_type": "display_data"
    }
   ],
   "source": [
    "pt_total_area = good_data.pivot_table(index = 'total_area', values = 'price_m', aggfunc = ['mean', 'count', 'median'])\n",
    "\n",
    "pt_total_area.columns = ['mean', 'count', 'median']\n",
    "pt_total_area.plot(y = 'median', style = 'o')\n",
    "\n",
    "pt_total_area.sort_values('median', ascending = False)\n",
    "\n",
    "good_data['total_area'].corr(good_data['price_m'])"
   ]
  },
  {
   "cell_type": "markdown",
   "metadata": {},
   "source": [
    "Вывод: смотрим на график и коэф Пирсона 0.31, что говорит о том, что цена незначительно коррелирует с площадью: чем боьше площать, тем выше цена"
   ]
  },
  {
   "cell_type": "markdown",
   "metadata": {},
   "source": [
    "Зависимость цены и числа комнат"
   ]
  },
  {
   "cell_type": "code",
   "execution_count": 59,
   "metadata": {},
   "outputs": [
    {
     "data": {
      "text/plain": [
       "0.059366343206567224"
      ]
     },
     "execution_count": 59,
     "metadata": {},
     "output_type": "execute_result"
    },
    {
     "data": {
      "image/png": "[encoded data removed]",
      "text/plain": [
       "<Figure size 432x288 with 1 Axes>"
      ]
     },
     "metadata": {
      "needs_background": "light"
     },
     "output_type": "display_data"
    }
   ],
   "source": [
    "pt_rooms = good_data.pivot_table(index = 'rooms', values = 'price_m', aggfunc = ['mean', 'count', 'median'])\n",
    "\n",
    "pt_rooms.columns = ['mean', 'count', 'median']\n",
    "pt_rooms.query('count > 50').plot(y = 'median') #добавим запрос на количество значений больше 50\n",
    "\n",
    "pt_rooms.sort_values('median', ascending = False)\n",
    "\n",
    "good_data['rooms'].corr(good_data['price_m'])"
   ]
  },
  {
   "cell_type": "markdown",
   "metadata": {},
   "source": [
    "Вывод: чем ближе количество комнат к 3 тем ниже стоимость квадратного метра"
   ]
  },
  {
   "cell_type": "markdown",
   "metadata": {},
   "source": [
    "Смотрим зависимость цены от удаленности от центра"
   ]
  },
  {
   "cell_type": "code",
   "execution_count": 60,
   "metadata": {},
   "outputs": [
    {
     "data": {
      "text/plain": [
       "-0.3187284516406851"
      ]
     },
     "execution_count": 60,
     "metadata": {},
     "output_type": "execute_result"
    },
    {
     "data": {
      "image/png": "[encoded data removed]",
      "text/plain": [
       "<Figure size 432x288 with 1 Axes>"
      ]
     },
     "metadata": {
      "needs_background": "light"
     },
     "output_type": "display_data"
    }
   ],
   "source": [
    "good_data.plot(kind = 'scatter', y = 'price_m', x = 'cityCenters_nearest', alpha = 0.3)\n",
    "\n",
    "good_data['cityCenters_nearest'].corr(data['price_m'])"
   ]
  },
  {
   "cell_type": "markdown",
   "metadata": {},
   "source": [
    "На графике видно уплотнение точек и разростание их вверх, чем ближе к центру - тем больше дорогих квартир"
   ]
  },
  {
   "cell_type": "markdown",
   "metadata": {},
   "source": [
    "зависимость цены от того, на каком этаже расположена квартира: первом, последнем или другом"
   ]
  },
  {
   "cell_type": "code",
   "execution_count": 61,
   "metadata": {
    "scrolled": true
   },
   "outputs": [
    {
     "data": {
      "text/html": [
       "<div>\n",
       "<style scoped>\n",
       "    .dataframe tbody tr th:only-of-type {\n",
       "        vertical-align: middle;\n",
       "    }\n",
       "\n",
       "    .dataframe tbody tr th {\n",
       "        vertical-align: top;\n",
       "    }\n",
       "\n",
       "    .dataframe thead th {\n",
       "        text-align: right;\n",
       "    }\n",
       "</style>\n",
       "<table border=\"1\" class=\"dataframe\">\n",
       "  <thead>\n",
       "    <tr style=\"text-align: right;\">\n",
       "      <th></th>\n",
       "      <th>mean</th>\n",
       "      <th>count</th>\n",
       "      <th>median</th>\n",
       "    </tr>\n",
       "    <tr>\n",
       "      <th>floor_cat</th>\n",
       "      <th></th>\n",
       "      <th></th>\n",
       "      <th></th>\n",
       "    </tr>\n",
       "  </thead>\n",
       "  <tbody>\n",
       "    <tr>\n",
       "      <td>другой</td>\n",
       "      <td>101859.295407</td>\n",
       "      <td>14631</td>\n",
       "      <td>96873.4</td>\n",
       "    </tr>\n",
       "    <tr>\n",
       "      <td>первый</td>\n",
       "      <td>80050.959012</td>\n",
       "      <td>2408</td>\n",
       "      <td>80000.0</td>\n",
       "    </tr>\n",
       "    <tr>\n",
       "      <td>последний</td>\n",
       "      <td>92056.571021</td>\n",
       "      <td>2733</td>\n",
       "      <td>87248.3</td>\n",
       "    </tr>\n",
       "  </tbody>\n",
       "</table>\n",
       "</div>"
      ],
      "text/plain": [
       "                    mean  count   median\n",
       "floor_cat                               \n",
       "другой     101859.295407  14631  96873.4\n",
       "первый      80050.959012   2408  80000.0\n",
       "последний   92056.571021   2733  87248.3"
      ]
     },
     "execution_count": 61,
     "metadata": {},
     "output_type": "execute_result"
    },
    {
     "data": {
      "image/png": "[encoded data removed]",
      "text/plain": [
       "<Figure size 432x288 with 1 Axes>"
      ]
     },
     "metadata": {
      "needs_background": "light"
     },
     "output_type": "display_data"
    }
   ],
   "source": [
    "pt_floor = good_data.pivot_table(index = 'floor_cat', values = 'price_m', aggfunc = ['mean', 'count', 'median'])\n",
    "pt_floor.columns = ['mean', 'count', 'median']\n",
    "pt_floor.plot(y = 'median')\n",
    "pt_floor"
   ]
  },
  {
   "cell_type": "markdown",
   "metadata": {},
   "source": [
    "Вывод: квартиры на первом дешевле всего, на последнем тоже хуже берут в сравнении со всеми остальными"
   ]
  },
  {
   "cell_type": "markdown",
   "metadata": {},
   "source": [
    "Зависимость от даты размещения: дня недели, месяца и года: weekday_exposition, month_exposition\tи  year_exposition"
   ]
  },
  {
   "cell_type": "code",
   "execution_count": 62,
   "metadata": {
    "scrolled": false
   },
   "outputs": [
    {
     "data": {
      "text/html": [
       "<div>\n",
       "<style scoped>\n",
       "    .dataframe tbody tr th:only-of-type {\n",
       "        vertical-align: middle;\n",
       "    }\n",
       "\n",
       "    .dataframe tbody tr th {\n",
       "        vertical-align: top;\n",
       "    }\n",
       "\n",
       "    .dataframe thead th {\n",
       "        text-align: right;\n",
       "    }\n",
       "</style>\n",
       "<table border=\"1\" class=\"dataframe\">\n",
       "  <thead>\n",
       "    <tr style=\"text-align: right;\">\n",
       "      <th></th>\n",
       "      <th>mean</th>\n",
       "      <th>count</th>\n",
       "      <th>median</th>\n",
       "    </tr>\n",
       "    <tr>\n",
       "      <th>weekday_exposition</th>\n",
       "      <th></th>\n",
       "      <th></th>\n",
       "      <th></th>\n",
       "    </tr>\n",
       "  </thead>\n",
       "  <tbody>\n",
       "    <tr>\n",
       "      <td>Friday</td>\n",
       "      <td>97385.377326</td>\n",
       "      <td>3396</td>\n",
       "      <td>93270.2</td>\n",
       "    </tr>\n",
       "    <tr>\n",
       "      <td>Monday</td>\n",
       "      <td>97422.516582</td>\n",
       "      <td>2937</td>\n",
       "      <td>93750.0</td>\n",
       "    </tr>\n",
       "    <tr>\n",
       "      <td>Saturday</td>\n",
       "      <td>99079.218836</td>\n",
       "      <td>1598</td>\n",
       "      <td>92683.0</td>\n",
       "    </tr>\n",
       "    <tr>\n",
       "      <td>Sunday</td>\n",
       "      <td>95846.966384</td>\n",
       "      <td>1413</td>\n",
       "      <td>92857.1</td>\n",
       "    </tr>\n",
       "    <tr>\n",
       "      <td>Thursday</td>\n",
       "      <td>98497.218596</td>\n",
       "      <td>3646</td>\n",
       "      <td>94072.7</td>\n",
       "    </tr>\n",
       "    <tr>\n",
       "      <td>Tuesday</td>\n",
       "      <td>97876.913024</td>\n",
       "      <td>3486</td>\n",
       "      <td>94230.8</td>\n",
       "    </tr>\n",
       "    <tr>\n",
       "      <td>Wednesday</td>\n",
       "      <td>98217.798362</td>\n",
       "      <td>3296</td>\n",
       "      <td>94304.7</td>\n",
       "    </tr>\n",
       "  </tbody>\n",
       "</table>\n",
       "</div>"
      ],
      "text/plain": [
       "                            mean  count   median\n",
       "weekday_exposition                              \n",
       "Friday              97385.377326   3396  93270.2\n",
       "Monday              97422.516582   2937  93750.0\n",
       "Saturday            99079.218836   1598  92683.0\n",
       "Sunday              95846.966384   1413  92857.1\n",
       "Thursday            98497.218596   3646  94072.7\n",
       "Tuesday             97876.913024   3486  94230.8\n",
       "Wednesday           98217.798362   3296  94304.7"
      ]
     },
     "execution_count": 62,
     "metadata": {},
     "output_type": "execute_result"
    },
    {
     "data": {
      "image/png": "[encoded data removed]",
      "text/plain": [
       "<Figure size 432x288 with 1 Axes>"
      ]
     },
     "metadata": {
      "needs_background": "light"
     },
     "output_type": "display_data"
    }
   ],
   "source": [
    "pt_weekday = good_data.pivot_table(index = 'weekday_exposition', values = 'price_m', aggfunc = ['mean', 'count', 'median'])\n",
    "pt_weekday.columns = ['mean', 'count', 'median']\n",
    "pt_weekday.plot(y = 'median')\n",
    "pt_weekday"
   ]
  },
  {
   "cell_type": "markdown",
   "metadata": {},
   "source": [
    "Вывод: ниже всего цена в субботу и воскресенье, может потому, чтобы подогреть спрос и продать быстрее)"
   ]
  },
  {
   "cell_type": "code",
   "execution_count": 63,
   "metadata": {},
   "outputs": [
    {
     "data": {
      "text/html": [
       "<div>\n",
       "<style scoped>\n",
       "    .dataframe tbody tr th:only-of-type {\n",
       "        vertical-align: middle;\n",
       "    }\n",
       "\n",
       "    .dataframe tbody tr th {\n",
       "        vertical-align: top;\n",
       "    }\n",
       "\n",
       "    .dataframe thead th {\n",
       "        text-align: right;\n",
       "    }\n",
       "</style>\n",
       "<table border=\"1\" class=\"dataframe\">\n",
       "  <thead>\n",
       "    <tr style=\"text-align: right;\">\n",
       "      <th></th>\n",
       "      <th>mean</th>\n",
       "      <th>count</th>\n",
       "      <th>median</th>\n",
       "    </tr>\n",
       "    <tr>\n",
       "      <th>month_exposition</th>\n",
       "      <th></th>\n",
       "      <th></th>\n",
       "      <th></th>\n",
       "    </tr>\n",
       "  </thead>\n",
       "  <tbody>\n",
       "    <tr>\n",
       "      <td>May</td>\n",
       "      <td>97833.311131</td>\n",
       "      <td>1132</td>\n",
       "      <td>92252.55</td>\n",
       "    </tr>\n",
       "    <tr>\n",
       "      <td>June</td>\n",
       "      <td>96849.013961</td>\n",
       "      <td>1626</td>\n",
       "      <td>92298.70</td>\n",
       "    </tr>\n",
       "    <tr>\n",
       "      <td>March</td>\n",
       "      <td>96189.948898</td>\n",
       "      <td>1906</td>\n",
       "      <td>92913.70</td>\n",
       "    </tr>\n",
       "    <tr>\n",
       "      <td>December</td>\n",
       "      <td>98227.090439</td>\n",
       "      <td>1391</td>\n",
       "      <td>92982.50</td>\n",
       "    </tr>\n",
       "    <tr>\n",
       "      <td>April</td>\n",
       "      <td>99121.773784</td>\n",
       "      <td>1480</td>\n",
       "      <td>93198.10</td>\n",
       "    </tr>\n",
       "    <tr>\n",
       "      <td>July</td>\n",
       "      <td>98497.988157</td>\n",
       "      <td>1503</td>\n",
       "      <td>93478.30</td>\n",
       "    </tr>\n",
       "    <tr>\n",
       "      <td>February</td>\n",
       "      <td>96652.062882</td>\n",
       "      <td>2193</td>\n",
       "      <td>93506.50</td>\n",
       "    </tr>\n",
       "    <tr>\n",
       "      <td>October</td>\n",
       "      <td>96870.878492</td>\n",
       "      <td>1883</td>\n",
       "      <td>93750.00</td>\n",
       "    </tr>\n",
       "    <tr>\n",
       "      <td>January</td>\n",
       "      <td>98161.991470</td>\n",
       "      <td>1231</td>\n",
       "      <td>94210.50</td>\n",
       "    </tr>\n",
       "    <tr>\n",
       "      <td>November</td>\n",
       "      <td>98044.159240</td>\n",
       "      <td>2078</td>\n",
       "      <td>94781.40</td>\n",
       "    </tr>\n",
       "    <tr>\n",
       "      <td>September</td>\n",
       "      <td>99963.137138</td>\n",
       "      <td>1796</td>\n",
       "      <td>95118.85</td>\n",
       "    </tr>\n",
       "    <tr>\n",
       "      <td>August</td>\n",
       "      <td>98677.031874</td>\n",
       "      <td>1553</td>\n",
       "      <td>95238.10</td>\n",
       "    </tr>\n",
       "  </tbody>\n",
       "</table>\n",
       "</div>"
      ],
      "text/plain": [
       "                          mean  count    median\n",
       "month_exposition                               \n",
       "May               97833.311131   1132  92252.55\n",
       "June              96849.013961   1626  92298.70\n",
       "March             96189.948898   1906  92913.70\n",
       "December          98227.090439   1391  92982.50\n",
       "April             99121.773784   1480  93198.10\n",
       "July              98497.988157   1503  93478.30\n",
       "February          96652.062882   2193  93506.50\n",
       "October           96870.878492   1883  93750.00\n",
       "January           98161.991470   1231  94210.50\n",
       "November          98044.159240   2078  94781.40\n",
       "September         99963.137138   1796  95118.85\n",
       "August            98677.031874   1553  95238.10"
      ]
     },
     "execution_count": 63,
     "metadata": {},
     "output_type": "execute_result"
    },
    {
     "data": {
      "image/png": "[encoded data removed]",
      "text/plain": [
       "<Figure size 432x288 with 1 Axes>"
      ]
     },
     "metadata": {
      "needs_background": "light"
     },
     "output_type": "display_data"
    }
   ],
   "source": [
    "pt_month = good_data.pivot_table(index = 'month_exposition', values = 'price_m', aggfunc = ['mean', 'count', 'median'])\n",
    "pt_month.columns = ['mean', 'count', 'median']\n",
    "pt_month.plot(y = 'median')\n",
    "pt_month.sort_values(by='median')"
   ]
  },
  {
   "cell_type": "markdown",
   "metadata": {},
   "source": [
    "Вывод: летние месяцы характеизуются пониженным спросом и от этого и цену делают ниже, чтобы быстрее продать "
   ]
  },
  {
   "cell_type": "code",
   "execution_count": 64,
   "metadata": {},
   "outputs": [
    {
     "data": {
      "text/html": [
       "<div>\n",
       "<style scoped>\n",
       "    .dataframe tbody tr th:only-of-type {\n",
       "        vertical-align: middle;\n",
       "    }\n",
       "\n",
       "    .dataframe tbody tr th {\n",
       "        vertical-align: top;\n",
       "    }\n",
       "\n",
       "    .dataframe thead th {\n",
       "        text-align: right;\n",
       "    }\n",
       "</style>\n",
       "<table border=\"1\" class=\"dataframe\">\n",
       "  <thead>\n",
       "    <tr style=\"text-align: right;\">\n",
       "      <th></th>\n",
       "      <th>mean</th>\n",
       "      <th>count</th>\n",
       "      <th>median</th>\n",
       "    </tr>\n",
       "    <tr>\n",
       "      <th>year_exposition</th>\n",
       "      <th></th>\n",
       "      <th></th>\n",
       "      <th></th>\n",
       "    </tr>\n",
       "  </thead>\n",
       "  <tbody>\n",
       "    <tr>\n",
       "      <td>2014</td>\n",
       "      <td>120637.589076</td>\n",
       "      <td>119</td>\n",
       "      <td>105157.90</td>\n",
       "    </tr>\n",
       "    <tr>\n",
       "      <td>2015</td>\n",
       "      <td>102545.205888</td>\n",
       "      <td>1121</td>\n",
       "      <td>92785.70</td>\n",
       "    </tr>\n",
       "    <tr>\n",
       "      <td>2016</td>\n",
       "      <td>97936.765346</td>\n",
       "      <td>2675</td>\n",
       "      <td>91555.60</td>\n",
       "    </tr>\n",
       "    <tr>\n",
       "      <td>2017</td>\n",
       "      <td>97014.198547</td>\n",
       "      <td>7638</td>\n",
       "      <td>92090.35</td>\n",
       "    </tr>\n",
       "    <tr>\n",
       "      <td>2018</td>\n",
       "      <td>96507.886331</td>\n",
       "      <td>7199</td>\n",
       "      <td>95000.00</td>\n",
       "    </tr>\n",
       "    <tr>\n",
       "      <td>2019</td>\n",
       "      <td>105502.010392</td>\n",
       "      <td>1020</td>\n",
       "      <td>103100.95</td>\n",
       "    </tr>\n",
       "  </tbody>\n",
       "</table>\n",
       "</div>"
      ],
      "text/plain": [
       "                          mean  count     median\n",
       "year_exposition                                 \n",
       "2014             120637.589076    119  105157.90\n",
       "2015             102545.205888   1121   92785.70\n",
       "2016              97936.765346   2675   91555.60\n",
       "2017              97014.198547   7638   92090.35\n",
       "2018              96507.886331   7199   95000.00\n",
       "2019             105502.010392   1020  103100.95"
      ]
     },
     "execution_count": 64,
     "metadata": {},
     "output_type": "execute_result"
    },
    {
     "data": {
      "image/png": "[encoded data removed]",
      "text/plain": [
       "<Figure size 432x288 with 1 Axes>"
      ]
     },
     "metadata": {
      "needs_background": "light"
     },
     "output_type": "display_data"
    }
   ],
   "source": [
    "pt_year = good_data.pivot_table(index = 'year_exposition', values = 'price_m', aggfunc = ['mean', 'count', 'median'])\n",
    "pt_year.columns = ['mean', 'count', 'median']\n",
    "pt_year.plot(y = 'median')\n",
    "pt_year"
   ]
  },
  {
   "cell_type": "markdown",
   "metadata": {},
   "source": [
    "Вывод: видим хороший провал в яме 2015-16-17, скорее всего по высокой ставке ипотеки - оттужа и снижение цены для повышения спроса"
   ]
  },
  {
   "cell_type": "markdown",
   "metadata": {},
   "source": [
    "Выберите 10 населённых пунктов с наибольшим числом объявлений. Посчитайте среднюю цену квадратного метра в этих населённых пунктах. Выделите населённые пункты с самой высокой и низкой стоимостью жилья. Эти данные можно найти по имени в столбце locality_name."
   ]
  },
  {
   "cell_type": "code",
   "execution_count": 65,
   "metadata": {},
   "outputs": [
    {
     "data": {
      "text/plain": [
       "Санкт-Петербург      13061\n",
       "посёлок Мурино         504\n",
       "посёлок Шушары         389\n",
       "Всеволожск             331\n",
       "Колпино                301\n",
       "Пушкин                 297\n",
       "посёлок Парголово      286\n",
       "деревня Кудрово        286\n",
       "Гатчина                259\n",
       "Выборг                 204\n",
       "Name: locality_name, dtype: int64"
      ]
     },
     "execution_count": 65,
     "metadata": {},
     "output_type": "execute_result"
    }
   ],
   "source": [
    "top10_cities = good_data['locality_name'].value_counts().head(10)\n",
    "top10_cities\n",
    "\n",
    "#10 населенных пунктов с самым большим количеством объявлений"
   ]
  },
  {
   "cell_type": "code",
   "execution_count": 100,
   "metadata": {},
   "outputs": [
    {
     "data": {
      "text/html": [
       "<div>\n",
       "<style scoped>\n",
       "    .dataframe tbody tr th:only-of-type {\n",
       "        vertical-align: middle;\n",
       "    }\n",
       "\n",
       "    .dataframe tbody tr th {\n",
       "        vertical-align: top;\n",
       "    }\n",
       "\n",
       "    .dataframe thead th {\n",
       "        text-align: right;\n",
       "    }\n",
       "</style>\n",
       "<table border=\"1\" class=\"dataframe\">\n",
       "  <thead>\n",
       "    <tr style=\"text-align: right;\">\n",
       "      <th></th>\n",
       "      <th>last_price</th>\n",
       "      <th>price_m</th>\n",
       "      <th>total_area</th>\n",
       "      <th>rooms</th>\n",
       "      <th>cityCenters_nearest</th>\n",
       "    </tr>\n",
       "  </thead>\n",
       "  <tbody>\n",
       "    <tr>\n",
       "      <td>last_price</td>\n",
       "      <td>1.000000</td>\n",
       "      <td>0.739458</td>\n",
       "      <td>0.644013</td>\n",
       "      <td>0.355721</td>\n",
       "      <td>-0.195106</td>\n",
       "    </tr>\n",
       "    <tr>\n",
       "      <td>price_m</td>\n",
       "      <td>0.739458</td>\n",
       "      <td>1.000000</td>\n",
       "      <td>0.310635</td>\n",
       "      <td>0.059366</td>\n",
       "      <td>-0.318728</td>\n",
       "    </tr>\n",
       "    <tr>\n",
       "      <td>total_area</td>\n",
       "      <td>0.644013</td>\n",
       "      <td>0.310635</td>\n",
       "      <td>1.000000</td>\n",
       "      <td>0.760151</td>\n",
       "      <td>-0.229575</td>\n",
       "    </tr>\n",
       "    <tr>\n",
       "      <td>rooms</td>\n",
       "      <td>0.355721</td>\n",
       "      <td>0.059366</td>\n",
       "      <td>0.760151</td>\n",
       "      <td>1.000000</td>\n",
       "      <td>-0.187083</td>\n",
       "    </tr>\n",
       "    <tr>\n",
       "      <td>cityCenters_nearest</td>\n",
       "      <td>-0.195106</td>\n",
       "      <td>-0.318728</td>\n",
       "      <td>-0.229575</td>\n",
       "      <td>-0.187083</td>\n",
       "      <td>1.000000</td>\n",
       "    </tr>\n",
       "  </tbody>\n",
       "</table>\n",
       "</div>"
      ],
      "text/plain": [
       "                     last_price   price_m  total_area     rooms  \\\n",
       "last_price             1.000000  0.739458    0.644013  0.355721   \n",
       "price_m                0.739458  1.000000    0.310635  0.059366   \n",
       "total_area             0.644013  0.310635    1.000000  0.760151   \n",
       "rooms                  0.355721  0.059366    0.760151  1.000000   \n",
       "cityCenters_nearest   -0.195106 -0.318728   -0.229575 -0.187083   \n",
       "\n",
       "                     cityCenters_nearest  \n",
       "last_price                     -0.195106  \n",
       "price_m                        -0.318728  \n",
       "total_area                     -0.229575  \n",
       "rooms                          -0.187083  \n",
       "cityCenters_nearest             1.000000  "
      ]
     },
     "execution_count": 100,
     "metadata": {},
     "output_type": "execute_result"
    }
   ],
   "source": [
    "data_for_vis = good_data[['last_price', 'price_m', 'total_area', 'rooms', 'cityCenters_nearest']].corr()\n",
    "data_for_vis"
   ]
  },
  {
   "cell_type": "code",
   "execution_count": 108,
   "metadata": {},
   "outputs": [
    {
     "data": {
      "text/plain": [
       "<seaborn.axisgrid.PairGrid at 0x7f5d4e802950>"
      ]
     },
     "execution_count": 108,
     "metadata": {},
     "output_type": "execute_result"
    },
    {
     "data": {
      "image/png": "[encoded data removed]",
      "text/plain": [
       "<Figure size 720x720 with 30 Axes>"
      ]
     },
     "metadata": {
      "needs_background": "light"
     },
     "output_type": "display_data"
    }
   ],
   "source": [
    "import seaborn as sns\n",
    "sns.pairplot(data_for_vis, height = 2, aspect = 1)"
   ]
  },
  {
   "cell_type": "code",
   "execution_count": 66,
   "metadata": {},
   "outputs": [
    {
     "data": {
      "text/html": [
       "<div>\n",
       "<style scoped>\n",
       "    .dataframe tbody tr th:only-of-type {\n",
       "        vertical-align: middle;\n",
       "    }\n",
       "\n",
       "    .dataframe tbody tr th {\n",
       "        vertical-align: top;\n",
       "    }\n",
       "\n",
       "    .dataframe thead th {\n",
       "        text-align: right;\n",
       "    }\n",
       "</style>\n",
       "<table border=\"1\" class=\"dataframe\">\n",
       "  <thead>\n",
       "    <tr style=\"text-align: right;\">\n",
       "      <th></th>\n",
       "      <th>count</th>\n",
       "      <th>mean</th>\n",
       "    </tr>\n",
       "    <tr>\n",
       "      <th>locality_name</th>\n",
       "      <th></th>\n",
       "      <th></th>\n",
       "    </tr>\n",
       "  </thead>\n",
       "  <tbody>\n",
       "    <tr>\n",
       "      <td>Санкт-Петербург</td>\n",
       "      <td>13061</td>\n",
       "      <td>112591.603009</td>\n",
       "    </tr>\n",
       "    <tr>\n",
       "      <td>посёлок Мурино</td>\n",
       "      <td>504</td>\n",
       "      <td>85660.046230</td>\n",
       "    </tr>\n",
       "    <tr>\n",
       "      <td>посёлок Шушары</td>\n",
       "      <td>389</td>\n",
       "      <td>77916.405913</td>\n",
       "    </tr>\n",
       "    <tr>\n",
       "      <td>Всеволожск</td>\n",
       "      <td>331</td>\n",
       "      <td>68348.375227</td>\n",
       "    </tr>\n",
       "    <tr>\n",
       "      <td>Колпино</td>\n",
       "      <td>301</td>\n",
       "      <td>74923.889701</td>\n",
       "    </tr>\n",
       "    <tr>\n",
       "      <td>Пушкин</td>\n",
       "      <td>297</td>\n",
       "      <td>102280.194949</td>\n",
       "    </tr>\n",
       "    <tr>\n",
       "      <td>посёлок Парголово</td>\n",
       "      <td>286</td>\n",
       "      <td>89494.925524</td>\n",
       "    </tr>\n",
       "    <tr>\n",
       "      <td>деревня Кудрово</td>\n",
       "      <td>286</td>\n",
       "      <td>92436.627622</td>\n",
       "    </tr>\n",
       "    <tr>\n",
       "      <td>Гатчина</td>\n",
       "      <td>259</td>\n",
       "      <td>67742.873359</td>\n",
       "    </tr>\n",
       "    <tr>\n",
       "      <td>Выборг</td>\n",
       "      <td>204</td>\n",
       "      <td>56847.342157</td>\n",
       "    </tr>\n",
       "  </tbody>\n",
       "</table>\n",
       "</div>"
      ],
      "text/plain": [
       "                   count           mean\n",
       "locality_name                          \n",
       "Санкт-Петербург    13061  112591.603009\n",
       "посёлок Мурино       504   85660.046230\n",
       "посёлок Шушары       389   77916.405913\n",
       "Всеволожск           331   68348.375227\n",
       "Колпино              301   74923.889701\n",
       "Пушкин               297  102280.194949\n",
       "посёлок Парголово    286   89494.925524\n",
       "деревня Кудрово      286   92436.627622\n",
       "Гатчина              259   67742.873359\n",
       "Выборг               204   56847.342157"
      ]
     },
     "execution_count": 66,
     "metadata": {},
     "output_type": "execute_result"
    }
   ],
   "source": [
    "top10_cities_pt = good_data.pivot_table(index = 'locality_name', values = 'price_m', aggfunc=['count', 'mean'])\n",
    "top10_cities_pt.columns = ['count', 'mean']\n",
    "top10_cities_pt = top10_cities_pt.sort_values('count', ascending = False).head(10)\n",
    "top10_cities_pt\n",
    "\n"
   ]
  },
  {
   "cell_type": "code",
   "execution_count": 67,
   "metadata": {},
   "outputs": [
    {
     "data": {
      "text/html": [
       "<div>\n",
       "<style scoped>\n",
       "    .dataframe tbody tr th:only-of-type {\n",
       "        vertical-align: middle;\n",
       "    }\n",
       "\n",
       "    .dataframe tbody tr th {\n",
       "        vertical-align: top;\n",
       "    }\n",
       "\n",
       "    .dataframe thead th {\n",
       "        text-align: right;\n",
       "    }\n",
       "</style>\n",
       "<table border=\"1\" class=\"dataframe\">\n",
       "  <thead>\n",
       "    <tr style=\"text-align: right;\">\n",
       "      <th></th>\n",
       "      <th>count</th>\n",
       "      <th>mean</th>\n",
       "    </tr>\n",
       "    <tr>\n",
       "      <th>locality_name</th>\n",
       "      <th></th>\n",
       "      <th></th>\n",
       "    </tr>\n",
       "  </thead>\n",
       "  <tbody>\n",
       "    <tr>\n",
       "      <td>Санкт-Петербург</td>\n",
       "      <td>13061</td>\n",
       "      <td>112591.603009</td>\n",
       "    </tr>\n",
       "  </tbody>\n",
       "</table>\n",
       "</div>"
      ],
      "text/plain": [
       "                 count           mean\n",
       "locality_name                        \n",
       "Санкт-Петербург  13061  112591.603009"
      ]
     },
     "execution_count": 67,
     "metadata": {},
     "output_type": "execute_result"
    }
   ],
   "source": [
    "#самая высокая стоимость\n",
    "top10_cities_pt[top10_cities_pt['mean'] == top10_cities_pt['mean'].max()]\n"
   ]
  },
  {
   "cell_type": "code",
   "execution_count": 68,
   "metadata": {},
   "outputs": [
    {
     "data": {
      "text/html": [
       "<div>\n",
       "<style scoped>\n",
       "    .dataframe tbody tr th:only-of-type {\n",
       "        vertical-align: middle;\n",
       "    }\n",
       "\n",
       "    .dataframe tbody tr th {\n",
       "        vertical-align: top;\n",
       "    }\n",
       "\n",
       "    .dataframe thead th {\n",
       "        text-align: right;\n",
       "    }\n",
       "</style>\n",
       "<table border=\"1\" class=\"dataframe\">\n",
       "  <thead>\n",
       "    <tr style=\"text-align: right;\">\n",
       "      <th></th>\n",
       "      <th>count</th>\n",
       "      <th>mean</th>\n",
       "    </tr>\n",
       "    <tr>\n",
       "      <th>locality_name</th>\n",
       "      <th></th>\n",
       "      <th></th>\n",
       "    </tr>\n",
       "  </thead>\n",
       "  <tbody>\n",
       "    <tr>\n",
       "      <td>Выборг</td>\n",
       "      <td>204</td>\n",
       "      <td>56847.342157</td>\n",
       "    </tr>\n",
       "  </tbody>\n",
       "</table>\n",
       "</div>"
      ],
      "text/plain": [
       "               count          mean\n",
       "locality_name                     \n",
       "Выборг           204  56847.342157"
      ]
     },
     "execution_count": 68,
     "metadata": {},
     "output_type": "execute_result"
    }
   ],
   "source": [
    "#самая низкая стоимость\n",
    "top10_cities_pt[top10_cities_pt['mean'] == top10_cities_pt['mean'].min()]"
   ]
  },
  {
   "cell_type": "markdown",
   "metadata": {},
   "source": [
    "Вывод: самая высокая цена в Санкт-Петербурге, а самая низкая - в Выборге"
   ]
  },
  {
   "cell_type": "markdown",
   "metadata": {},
   "source": [
    "Изучите предложения квартир: для каждой квартиры есть информация о расстоянии до центра. Выделите квартиры в Санкт-Петербурге (locality_name). Ваша задача — выяснить, какая область входит в центр. Создайте столбец с расстоянием до центра в километрах: округлите до целых значений. После этого посчитайте среднюю цену для каждого километра. Постройте график: он должен показывать, как цена зависит от удалённости от центра. Определите границу, где график сильно меняется, — это и будет центральная зона."
   ]
  },
  {
   "cell_type": "code",
   "execution_count": 69,
   "metadata": {},
   "outputs": [
    {
     "name": "stderr",
     "output_type": "stream",
     "text": [
      "/opt/conda/lib/python3.7/site-packages/ipykernel_launcher.py:1: SettingWithCopyWarning: \n",
      "A value is trying to be set on a copy of a slice from a DataFrame.\n",
      "Try using .loc[row_indexer,col_indexer] = value instead\n",
      "\n",
      "See the caveats in the documentation: http://pandas.pydata.org/pandas-docs/stable/user_guide/indexing.html#returning-a-view-versus-a-copy\n",
      "  \"\"\"Entry point for launching an IPython kernel.\n",
      "/opt/conda/lib/python3.7/site-packages/ipykernel_launcher.py:2: SettingWithCopyWarning: \n",
      "A value is trying to be set on a copy of a slice from a DataFrame.\n",
      "Try using .loc[row_indexer,col_indexer] = value instead\n",
      "\n",
      "See the caveats in the documentation: http://pandas.pydata.org/pandas-docs/stable/user_guide/indexing.html#returning-a-view-versus-a-copy\n",
      "  \n",
      "/opt/conda/lib/python3.7/site-packages/ipykernel_launcher.py:3: SettingWithCopyWarning: \n",
      "A value is trying to be set on a copy of a slice from a DataFrame.\n",
      "Try using .loc[row_indexer,col_indexer] = value instead\n",
      "\n",
      "See the caveats in the documentation: http://pandas.pydata.org/pandas-docs/stable/user_guide/indexing.html#returning-a-view-versus-a-copy\n",
      "  This is separate from the ipykernel package so we can avoid doing imports until\n"
     ]
    },
    {
     "data": {
      "text/html": [
       "<div>\n",
       "<style scoped>\n",
       "    .dataframe tbody tr th:only-of-type {\n",
       "        vertical-align: middle;\n",
       "    }\n",
       "\n",
       "    .dataframe tbody tr th {\n",
       "        vertical-align: top;\n",
       "    }\n",
       "\n",
       "    .dataframe thead th {\n",
       "        text-align: right;\n",
       "    }\n",
       "</style>\n",
       "<table border=\"1\" class=\"dataframe\">\n",
       "  <thead>\n",
       "    <tr style=\"text-align: right;\">\n",
       "      <th></th>\n",
       "      <th>last_price</th>\n",
       "      <th>price_m</th>\n",
       "      <th>total_area</th>\n",
       "      <th>days_exposition</th>\n",
       "      <th>first_day_exposition</th>\n",
       "      <th>rooms</th>\n",
       "      <th>ceiling_height</th>\n",
       "      <th>floors_total</th>\n",
       "      <th>living_area</th>\n",
       "      <th>floor</th>\n",
       "      <th>kitchen_area</th>\n",
       "      <th>balcony</th>\n",
       "      <th>locality_name</th>\n",
       "      <th>cityCenters_nearest</th>\n",
       "      <th>year_exposition</th>\n",
       "      <th>month_exposition</th>\n",
       "      <th>weekday_exposition</th>\n",
       "      <th>floor_cat</th>\n",
       "      <th>living_total_area</th>\n",
       "      <th>kitchen_total_area</th>\n",
       "      <th>selling_day</th>\n",
       "      <th>cityCenters_nearest_km</th>\n",
       "    </tr>\n",
       "  </thead>\n",
       "  <tbody>\n",
       "    <tr>\n",
       "      <td>1</td>\n",
       "      <td>3350000.0</td>\n",
       "      <td>82920.8</td>\n",
       "      <td>40.40</td>\n",
       "      <td>81.0</td>\n",
       "      <td>2018-12-04</td>\n",
       "      <td>1</td>\n",
       "      <td>2.77</td>\n",
       "      <td>11</td>\n",
       "      <td>18.6</td>\n",
       "      <td>1</td>\n",
       "      <td>11.0</td>\n",
       "      <td>2.0</td>\n",
       "      <td>посёлок Шушары</td>\n",
       "      <td>18603.0</td>\n",
       "      <td>2018</td>\n",
       "      <td>December</td>\n",
       "      <td>Tuesday</td>\n",
       "      <td>первый</td>\n",
       "      <td>0.460396</td>\n",
       "      <td>0.272277</td>\n",
       "      <td>2019-02-23</td>\n",
       "      <td>18</td>\n",
       "    </tr>\n",
       "    <tr>\n",
       "      <td>2</td>\n",
       "      <td>5196000.0</td>\n",
       "      <td>92785.7</td>\n",
       "      <td>56.00</td>\n",
       "      <td>558.0</td>\n",
       "      <td>2015-08-20</td>\n",
       "      <td>2</td>\n",
       "      <td>2.77</td>\n",
       "      <td>5</td>\n",
       "      <td>34.3</td>\n",
       "      <td>4</td>\n",
       "      <td>8.3</td>\n",
       "      <td>0.0</td>\n",
       "      <td>Санкт-Петербург</td>\n",
       "      <td>13933.0</td>\n",
       "      <td>2015</td>\n",
       "      <td>August</td>\n",
       "      <td>Thursday</td>\n",
       "      <td>другой</td>\n",
       "      <td>0.612500</td>\n",
       "      <td>0.148214</td>\n",
       "      <td>2017-02-28</td>\n",
       "      <td>13</td>\n",
       "    </tr>\n",
       "    <tr>\n",
       "      <td>3</td>\n",
       "      <td>64900000.0</td>\n",
       "      <td>408176.1</td>\n",
       "      <td>159.00</td>\n",
       "      <td>424.0</td>\n",
       "      <td>2015-07-24</td>\n",
       "      <td>3</td>\n",
       "      <td>2.77</td>\n",
       "      <td>14</td>\n",
       "      <td>NaN</td>\n",
       "      <td>9</td>\n",
       "      <td>0.0</td>\n",
       "      <td>0.0</td>\n",
       "      <td>Санкт-Петербург</td>\n",
       "      <td>6800.0</td>\n",
       "      <td>2015</td>\n",
       "      <td>July</td>\n",
       "      <td>Friday</td>\n",
       "      <td>другой</td>\n",
       "      <td>NaN</td>\n",
       "      <td>0.000000</td>\n",
       "      <td>2016-09-20</td>\n",
       "      <td>6</td>\n",
       "    </tr>\n",
       "    <tr>\n",
       "      <td>4</td>\n",
       "      <td>10000000.0</td>\n",
       "      <td>100000.0</td>\n",
       "      <td>100.00</td>\n",
       "      <td>121.0</td>\n",
       "      <td>2018-06-19</td>\n",
       "      <td>2</td>\n",
       "      <td>3.03</td>\n",
       "      <td>14</td>\n",
       "      <td>32.0</td>\n",
       "      <td>13</td>\n",
       "      <td>41.0</td>\n",
       "      <td>0.0</td>\n",
       "      <td>Санкт-Петербург</td>\n",
       "      <td>8098.0</td>\n",
       "      <td>2018</td>\n",
       "      <td>June</td>\n",
       "      <td>Tuesday</td>\n",
       "      <td>другой</td>\n",
       "      <td>0.320000</td>\n",
       "      <td>0.410000</td>\n",
       "      <td>2018-10-18</td>\n",
       "      <td>8</td>\n",
       "    </tr>\n",
       "    <tr>\n",
       "      <td>5</td>\n",
       "      <td>2890000.0</td>\n",
       "      <td>95065.8</td>\n",
       "      <td>30.40</td>\n",
       "      <td>55.0</td>\n",
       "      <td>2018-09-10</td>\n",
       "      <td>1</td>\n",
       "      <td>2.77</td>\n",
       "      <td>12</td>\n",
       "      <td>14.4</td>\n",
       "      <td>5</td>\n",
       "      <td>9.1</td>\n",
       "      <td>0.0</td>\n",
       "      <td>городской посёлок Янино-1</td>\n",
       "      <td>NaN</td>\n",
       "      <td>2018</td>\n",
       "      <td>September</td>\n",
       "      <td>Monday</td>\n",
       "      <td>другой</td>\n",
       "      <td>0.473684</td>\n",
       "      <td>0.299342</td>\n",
       "      <td>2018-11-04</td>\n",
       "      <td>100</td>\n",
       "    </tr>\n",
       "    <tr>\n",
       "      <td>...</td>\n",
       "      <td>...</td>\n",
       "      <td>...</td>\n",
       "      <td>...</td>\n",
       "      <td>...</td>\n",
       "      <td>...</td>\n",
       "      <td>...</td>\n",
       "      <td>...</td>\n",
       "      <td>...</td>\n",
       "      <td>...</td>\n",
       "      <td>...</td>\n",
       "      <td>...</td>\n",
       "      <td>...</td>\n",
       "      <td>...</td>\n",
       "      <td>...</td>\n",
       "      <td>...</td>\n",
       "      <td>...</td>\n",
       "      <td>...</td>\n",
       "      <td>...</td>\n",
       "      <td>...</td>\n",
       "      <td>...</td>\n",
       "      <td>...</td>\n",
       "      <td>...</td>\n",
       "    </tr>\n",
       "    <tr>\n",
       "      <td>23691</td>\n",
       "      <td>9470000.0</td>\n",
       "      <td>129904.0</td>\n",
       "      <td>72.90</td>\n",
       "      <td>519.0</td>\n",
       "      <td>2016-10-13</td>\n",
       "      <td>2</td>\n",
       "      <td>2.75</td>\n",
       "      <td>25</td>\n",
       "      <td>40.3</td>\n",
       "      <td>7</td>\n",
       "      <td>10.6</td>\n",
       "      <td>1.0</td>\n",
       "      <td>Санкт-Петербург</td>\n",
       "      <td>4489.0</td>\n",
       "      <td>2016</td>\n",
       "      <td>October</td>\n",
       "      <td>Thursday</td>\n",
       "      <td>другой</td>\n",
       "      <td>0.552812</td>\n",
       "      <td>0.145405</td>\n",
       "      <td>2018-03-16</td>\n",
       "      <td>4</td>\n",
       "    </tr>\n",
       "    <tr>\n",
       "      <td>23692</td>\n",
       "      <td>1350000.0</td>\n",
       "      <td>45000.0</td>\n",
       "      <td>30.00</td>\n",
       "      <td>413.0</td>\n",
       "      <td>2017-07-07</td>\n",
       "      <td>1</td>\n",
       "      <td>2.77</td>\n",
       "      <td>5</td>\n",
       "      <td>17.5</td>\n",
       "      <td>4</td>\n",
       "      <td>6.0</td>\n",
       "      <td>0.0</td>\n",
       "      <td>Тихвин</td>\n",
       "      <td>NaN</td>\n",
       "      <td>2017</td>\n",
       "      <td>July</td>\n",
       "      <td>Friday</td>\n",
       "      <td>другой</td>\n",
       "      <td>0.583333</td>\n",
       "      <td>0.200000</td>\n",
       "      <td>2018-08-24</td>\n",
       "      <td>100</td>\n",
       "    </tr>\n",
       "    <tr>\n",
       "      <td>23693</td>\n",
       "      <td>4600000.0</td>\n",
       "      <td>73717.9</td>\n",
       "      <td>62.40</td>\n",
       "      <td>239.0</td>\n",
       "      <td>2016-08-05</td>\n",
       "      <td>3</td>\n",
       "      <td>2.60</td>\n",
       "      <td>9</td>\n",
       "      <td>40.0</td>\n",
       "      <td>8</td>\n",
       "      <td>8.0</td>\n",
       "      <td>0.0</td>\n",
       "      <td>Петергоф</td>\n",
       "      <td>34104.0</td>\n",
       "      <td>2016</td>\n",
       "      <td>August</td>\n",
       "      <td>Friday</td>\n",
       "      <td>другой</td>\n",
       "      <td>0.641026</td>\n",
       "      <td>0.128205</td>\n",
       "      <td>2017-04-01</td>\n",
       "      <td>34</td>\n",
       "    </tr>\n",
       "    <tr>\n",
       "      <td>23695</td>\n",
       "      <td>3100000.0</td>\n",
       "      <td>52542.4</td>\n",
       "      <td>59.00</td>\n",
       "      <td>45.0</td>\n",
       "      <td>2018-01-15</td>\n",
       "      <td>3</td>\n",
       "      <td>2.77</td>\n",
       "      <td>5</td>\n",
       "      <td>38.0</td>\n",
       "      <td>4</td>\n",
       "      <td>8.5</td>\n",
       "      <td>0.0</td>\n",
       "      <td>Тосно</td>\n",
       "      <td>NaN</td>\n",
       "      <td>2018</td>\n",
       "      <td>January</td>\n",
       "      <td>Monday</td>\n",
       "      <td>другой</td>\n",
       "      <td>0.644068</td>\n",
       "      <td>0.144068</td>\n",
       "      <td>2018-03-01</td>\n",
       "      <td>100</td>\n",
       "    </tr>\n",
       "    <tr>\n",
       "      <td>23697</td>\n",
       "      <td>11475000.0</td>\n",
       "      <td>149511.4</td>\n",
       "      <td>76.75</td>\n",
       "      <td>602.0</td>\n",
       "      <td>2017-03-28</td>\n",
       "      <td>2</td>\n",
       "      <td>3.00</td>\n",
       "      <td>17</td>\n",
       "      <td>NaN</td>\n",
       "      <td>12</td>\n",
       "      <td>23.3</td>\n",
       "      <td>2.0</td>\n",
       "      <td>Санкт-Петербург</td>\n",
       "      <td>10364.0</td>\n",
       "      <td>2017</td>\n",
       "      <td>March</td>\n",
       "      <td>Tuesday</td>\n",
       "      <td>другой</td>\n",
       "      <td>NaN</td>\n",
       "      <td>0.303583</td>\n",
       "      <td>2018-11-20</td>\n",
       "      <td>10</td>\n",
       "    </tr>\n",
       "  </tbody>\n",
       "</table>\n",
       "<p>19772 rows × 22 columns</p>\n",
       "</div>"
      ],
      "text/plain": [
       "       last_price   price_m  total_area  days_exposition first_day_exposition  \\\n",
       "1       3350000.0   82920.8       40.40             81.0           2018-12-04   \n",
       "2       5196000.0   92785.7       56.00            558.0           2015-08-20   \n",
       "3      64900000.0  408176.1      159.00            424.0           2015-07-24   \n",
       "4      10000000.0  100000.0      100.00            121.0           2018-06-19   \n",
       "5       2890000.0   95065.8       30.40             55.0           2018-09-10   \n",
       "...           ...       ...         ...              ...                  ...   \n",
       "23691   9470000.0  129904.0       72.90            519.0           2016-10-13   \n",
       "23692   1350000.0   45000.0       30.00            413.0           2017-07-07   \n",
       "23693   4600000.0   73717.9       62.40            239.0           2016-08-05   \n",
       "23695   3100000.0   52542.4       59.00             45.0           2018-01-15   \n",
       "23697  11475000.0  149511.4       76.75            602.0           2017-03-28   \n",
       "\n",
       "       rooms  ceiling_height  floors_total  living_area  floor  kitchen_area  \\\n",
       "1          1            2.77            11         18.6      1          11.0   \n",
       "2          2            2.77             5         34.3      4           8.3   \n",
       "3          3            2.77            14          NaN      9           0.0   \n",
       "4          2            3.03            14         32.0     13          41.0   \n",
       "5          1            2.77            12         14.4      5           9.1   \n",
       "...      ...             ...           ...          ...    ...           ...   \n",
       "23691      2            2.75            25         40.3      7          10.6   \n",
       "23692      1            2.77             5         17.5      4           6.0   \n",
       "23693      3            2.60             9         40.0      8           8.0   \n",
       "23695      3            2.77             5         38.0      4           8.5   \n",
       "23697      2            3.00            17          NaN     12          23.3   \n",
       "\n",
       "       balcony              locality_name  cityCenters_nearest  \\\n",
       "1          2.0             посёлок Шушары              18603.0   \n",
       "2          0.0            Санкт-Петербург              13933.0   \n",
       "3          0.0            Санкт-Петербург               6800.0   \n",
       "4          0.0            Санкт-Петербург               8098.0   \n",
       "5          0.0  городской посёлок Янино-1                  NaN   \n",
       "...        ...                        ...                  ...   \n",
       "23691      1.0            Санкт-Петербург               4489.0   \n",
       "23692      0.0                     Тихвин                  NaN   \n",
       "23693      0.0                   Петергоф              34104.0   \n",
       "23695      0.0                      Тосно                  NaN   \n",
       "23697      2.0            Санкт-Петербург              10364.0   \n",
       "\n",
       "       year_exposition month_exposition weekday_exposition floor_cat  \\\n",
       "1                 2018         December            Tuesday    первый   \n",
       "2                 2015           August           Thursday    другой   \n",
       "3                 2015             July             Friday    другой   \n",
       "4                 2018             June            Tuesday    другой   \n",
       "5                 2018        September             Monday    другой   \n",
       "...                ...              ...                ...       ...   \n",
       "23691             2016          October           Thursday    другой   \n",
       "23692             2017             July             Friday    другой   \n",
       "23693             2016           August             Friday    другой   \n",
       "23695             2018          January             Monday    другой   \n",
       "23697             2017            March            Tuesday    другой   \n",
       "\n",
       "       living_total_area  kitchen_total_area selling_day  \\\n",
       "1               0.460396            0.272277  2019-02-23   \n",
       "2               0.612500            0.148214  2017-02-28   \n",
       "3                    NaN            0.000000  2016-09-20   \n",
       "4               0.320000            0.410000  2018-10-18   \n",
       "5               0.473684            0.299342  2018-11-04   \n",
       "...                  ...                 ...         ...   \n",
       "23691           0.552812            0.145405  2018-03-16   \n",
       "23692           0.583333            0.200000  2018-08-24   \n",
       "23693           0.641026            0.128205  2017-04-01   \n",
       "23695           0.644068            0.144068  2018-03-01   \n",
       "23697                NaN            0.303583  2018-11-20   \n",
       "\n",
       "       cityCenters_nearest_km  \n",
       "1                          18  \n",
       "2                          13  \n",
       "3                           6  \n",
       "4                           8  \n",
       "5                         100  \n",
       "...                       ...  \n",
       "23691                       4  \n",
       "23692                     100  \n",
       "23693                      34  \n",
       "23695                     100  \n",
       "23697                      10  \n",
       "\n",
       "[19772 rows x 22 columns]"
      ]
     },
     "execution_count": 69,
     "metadata": {},
     "output_type": "execute_result"
    }
   ],
   "source": [
    "good_data['cityCenters_nearest_km'] = good_data['cityCenters_nearest'] / 1000\n",
    "good_data['cityCenters_nearest_km'] = good_data['cityCenters_nearest_km'].fillna(100)\n",
    "good_data['cityCenters_nearest_km'] = good_data['cityCenters_nearest_km'].astype('int')\n",
    "good_data"
   ]
  },
  {
   "cell_type": "code",
   "execution_count": 70,
   "metadata": {},
   "outputs": [
    {
     "data": {
      "text/html": [
       "<div>\n",
       "<style scoped>\n",
       "    .dataframe tbody tr th:only-of-type {\n",
       "        vertical-align: middle;\n",
       "    }\n",
       "\n",
       "    .dataframe tbody tr th {\n",
       "        vertical-align: top;\n",
       "    }\n",
       "\n",
       "    .dataframe thead th {\n",
       "        text-align: right;\n",
       "    }\n",
       "</style>\n",
       "<table border=\"1\" class=\"dataframe\">\n",
       "  <thead>\n",
       "    <tr style=\"text-align: right;\">\n",
       "      <th></th>\n",
       "      <th>price_m</th>\n",
       "    </tr>\n",
       "    <tr>\n",
       "      <th>cityCenters_nearest_km</th>\n",
       "      <th></th>\n",
       "    </tr>\n",
       "  </thead>\n",
       "  <tbody>\n",
       "    <tr>\n",
       "      <td>0</td>\n",
       "      <td>176295.760870</td>\n",
       "    </tr>\n",
       "    <tr>\n",
       "      <td>1</td>\n",
       "      <td>156372.524352</td>\n",
       "    </tr>\n",
       "    <tr>\n",
       "      <td>2</td>\n",
       "      <td>144217.039095</td>\n",
       "    </tr>\n",
       "    <tr>\n",
       "      <td>3</td>\n",
       "      <td>126875.230296</td>\n",
       "    </tr>\n",
       "    <tr>\n",
       "      <td>4</td>\n",
       "      <td>136511.594400</td>\n",
       "    </tr>\n",
       "    <tr>\n",
       "      <td>5</td>\n",
       "      <td>146713.371405</td>\n",
       "    </tr>\n",
       "    <tr>\n",
       "      <td>6</td>\n",
       "      <td>145280.913172</td>\n",
       "    </tr>\n",
       "    <tr>\n",
       "      <td>7</td>\n",
       "      <td>142707.700890</td>\n",
       "    </tr>\n",
       "    <tr>\n",
       "      <td>8</td>\n",
       "      <td>118631.347858</td>\n",
       "    </tr>\n",
       "    <tr>\n",
       "      <td>9</td>\n",
       "      <td>108386.092857</td>\n",
       "    </tr>\n",
       "  </tbody>\n",
       "</table>\n",
       "</div>"
      ],
      "text/plain": [
       "                              price_m\n",
       "cityCenters_nearest_km               \n",
       "0                       176295.760870\n",
       "1                       156372.524352\n",
       "2                       144217.039095\n",
       "3                       126875.230296\n",
       "4                       136511.594400\n",
       "5                       146713.371405\n",
       "6                       145280.913172\n",
       "7                       142707.700890\n",
       "8                       118631.347858\n",
       "9                       108386.092857"
      ]
     },
     "execution_count": 70,
     "metadata": {},
     "output_type": "execute_result"
    },
    {
     "data": {
      "image/png": "[encoded data removed]",
      "text/plain": [
       "<Figure size 432x288 with 1 Axes>"
      ]
     },
     "metadata": {
      "needs_background": "light"
     },
     "output_type": "display_data"
    }
   ],
   "source": [
    "pt_center = good_data.query('locality_name == \"Санкт-Петербург\" and cityCenters_nearest_km !=100')\\\n",
    "                            .pivot_table(index = 'cityCenters_nearest_km', values = 'price_m',\\\n",
    "                            aggfunc = 'mean')\n",
    "pt_center.plot()\n",
    "pt_center.head(10)"
   ]
  },
  {
   "cell_type": "markdown",
   "metadata": {},
   "source": [
    "Вывод: после 7ого километра идет спад цены с 140 до 118 за квадрат"
   ]
  },
  {
   "cell_type": "markdown",
   "metadata": {},
   "source": [
    "Выделите сегмент квартир в центре. Проанализируйте эту территорию и изучите следующие параметры: площадь, цена, число комнат, высота потолков. Также выделите факторы, которые влияют на стоимость квартиры (число комнат, этаж, удалённость от центра, дата размещения объявления). Сделайте выводы. Отличаются ли они от общих выводов по всему городу?"
   ]
  },
  {
   "cell_type": "code",
   "execution_count": 71,
   "metadata": {
    "scrolled": false
   },
   "outputs": [
    {
     "data": {
      "text/plain": [
       "(2982, 22)"
      ]
     },
     "execution_count": 71,
     "metadata": {},
     "output_type": "execute_result"
    }
   ],
   "source": [
    "#выделим квартиры в центре, беря за радиус 7 км\n",
    "data_center_spb = good_data.query('cityCenters_nearest_km <= 7 and locality_name == \"Санкт-Петербург\"')\n",
    "data_center_spb.shape"
   ]
  },
  {
   "cell_type": "markdown",
   "metadata": {},
   "source": [
    "Смотрим на зависимости цены от площади в центре"
   ]
  },
  {
   "cell_type": "code",
   "execution_count": 72,
   "metadata": {},
   "outputs": [
    {
     "data": {
      "text/html": [
       "<div>\n",
       "<style scoped>\n",
       "    .dataframe tbody tr th:only-of-type {\n",
       "        vertical-align: middle;\n",
       "    }\n",
       "\n",
       "    .dataframe tbody tr th {\n",
       "        vertical-align: top;\n",
       "    }\n",
       "\n",
       "    .dataframe thead th {\n",
       "        text-align: right;\n",
       "    }\n",
       "</style>\n",
       "<table border=\"1\" class=\"dataframe\">\n",
       "  <thead>\n",
       "    <tr style=\"text-align: right;\">\n",
       "      <th></th>\n",
       "      <th>mean</th>\n",
       "      <th>count</th>\n",
       "      <th>median</th>\n",
       "    </tr>\n",
       "    <tr>\n",
       "      <th>total_area</th>\n",
       "      <th></th>\n",
       "      <th></th>\n",
       "      <th></th>\n",
       "    </tr>\n",
       "  </thead>\n",
       "  <tbody>\n",
       "    <tr>\n",
       "      <td>113.0</td>\n",
       "      <td>188091.014286</td>\n",
       "      <td>7</td>\n",
       "      <td>208849.60</td>\n",
       "    </tr>\n",
       "    <tr>\n",
       "      <td>109.0</td>\n",
       "      <td>178036.683333</td>\n",
       "      <td>6</td>\n",
       "      <td>190990.80</td>\n",
       "    </tr>\n",
       "    <tr>\n",
       "      <td>114.0</td>\n",
       "      <td>256951.900000</td>\n",
       "      <td>6</td>\n",
       "      <td>164912.25</td>\n",
       "    </tr>\n",
       "    <tr>\n",
       "      <td>160.0</td>\n",
       "      <td>202341.666667</td>\n",
       "      <td>9</td>\n",
       "      <td>162500.00</td>\n",
       "    </tr>\n",
       "    <tr>\n",
       "      <td>123.0</td>\n",
       "      <td>183089.433333</td>\n",
       "      <td>6</td>\n",
       "      <td>159024.40</td>\n",
       "    </tr>\n",
       "    <tr>\n",
       "      <td>...</td>\n",
       "      <td>...</td>\n",
       "      <td>...</td>\n",
       "      <td>...</td>\n",
       "    </tr>\n",
       "    <tr>\n",
       "      <td>79.0</td>\n",
       "      <td>106482.821429</td>\n",
       "      <td>14</td>\n",
       "      <td>95569.60</td>\n",
       "    </tr>\n",
       "    <tr>\n",
       "      <td>115.0</td>\n",
       "      <td>148101.450000</td>\n",
       "      <td>6</td>\n",
       "      <td>94347.85</td>\n",
       "    </tr>\n",
       "    <tr>\n",
       "      <td>93.0</td>\n",
       "      <td>131315.850000</td>\n",
       "      <td>16</td>\n",
       "      <td>93817.20</td>\n",
       "    </tr>\n",
       "    <tr>\n",
       "      <td>86.0</td>\n",
       "      <td>112407.053846</td>\n",
       "      <td>13</td>\n",
       "      <td>93023.30</td>\n",
       "    </tr>\n",
       "    <tr>\n",
       "      <td>112.0</td>\n",
       "      <td>96502.983333</td>\n",
       "      <td>6</td>\n",
       "      <td>90178.55</td>\n",
       "    </tr>\n",
       "  </tbody>\n",
       "</table>\n",
       "<p>97 rows × 3 columns</p>\n",
       "</div>"
      ],
      "text/plain": [
       "                     mean  count     median\n",
       "total_area                                 \n",
       "113.0       188091.014286      7  208849.60\n",
       "109.0       178036.683333      6  190990.80\n",
       "114.0       256951.900000      6  164912.25\n",
       "160.0       202341.666667      9  162500.00\n",
       "123.0       183089.433333      6  159024.40\n",
       "...                   ...    ...        ...\n",
       "79.0        106482.821429     14   95569.60\n",
       "115.0       148101.450000      6   94347.85\n",
       "93.0        131315.850000     16   93817.20\n",
       "86.0        112407.053846     13   93023.30\n",
       "112.0        96502.983333      6   90178.55\n",
       "\n",
       "[97 rows x 3 columns]"
      ]
     },
     "execution_count": 72,
     "metadata": {},
     "output_type": "execute_result"
    },
    {
     "data": {
      "image/png": "[encoded data removed]",
      "text/plain": [
       "<Figure size 432x288 with 1 Axes>"
      ]
     },
     "metadata": {
      "needs_background": "light"
     },
     "output_type": "display_data"
    }
   ],
   "source": [
    "data_center_spb_area_pt = data_center_spb.pivot_table(index = 'total_area', values = 'price_m', aggfunc = ['mean', 'count', 'median'])\n",
    "data_center_spb_area_pt.columns = ['mean', 'count', 'median']\n",
    "data_center_spb_area_pt.query('count > 5').plot(y = 'median')\n",
    "\n",
    "data_center_spb_area_pt.query('count > 5').sort_values('median', ascending = False)"
   ]
  },
  {
   "cell_type": "markdown",
   "metadata": {},
   "source": [
    "Вывод: если провести среднюю, то видно, цена с небольших площадей уменьшается до 100, а после идут какие то вбросы и с натяжкой можно сказать, что цена снова растет. Нужен дополнительный анализ выбивающихся значений"
   ]
  },
  {
   "cell_type": "markdown",
   "metadata": {},
   "source": [
    "Смотрим на зависимости цены от высоты потолков в центре"
   ]
  },
  {
   "cell_type": "code",
   "execution_count": 73,
   "metadata": {},
   "outputs": [
    {
     "data": {
      "text/html": [
       "<div>\n",
       "<style scoped>\n",
       "    .dataframe tbody tr th:only-of-type {\n",
       "        vertical-align: middle;\n",
       "    }\n",
       "\n",
       "    .dataframe tbody tr th {\n",
       "        vertical-align: top;\n",
       "    }\n",
       "\n",
       "    .dataframe thead th {\n",
       "        text-align: right;\n",
       "    }\n",
       "</style>\n",
       "<table border=\"1\" class=\"dataframe\">\n",
       "  <thead>\n",
       "    <tr style=\"text-align: right;\">\n",
       "      <th></th>\n",
       "      <th>mean</th>\n",
       "      <th>count</th>\n",
       "      <th>median</th>\n",
       "    </tr>\n",
       "    <tr>\n",
       "      <th>ceiling_height</th>\n",
       "      <th></th>\n",
       "      <th></th>\n",
       "      <th></th>\n",
       "    </tr>\n",
       "  </thead>\n",
       "  <tbody>\n",
       "    <tr>\n",
       "      <td>3.01</td>\n",
       "      <td>248978.666667</td>\n",
       "      <td>3</td>\n",
       "      <td>255020.10</td>\n",
       "    </tr>\n",
       "    <tr>\n",
       "      <td>3.53</td>\n",
       "      <td>291969.433333</td>\n",
       "      <td>3</td>\n",
       "      <td>240825.70</td>\n",
       "    </tr>\n",
       "    <tr>\n",
       "      <td>3.04</td>\n",
       "      <td>198708.750000</td>\n",
       "      <td>4</td>\n",
       "      <td>203721.55</td>\n",
       "    </tr>\n",
       "    <tr>\n",
       "      <td>3.11</td>\n",
       "      <td>199097.260000</td>\n",
       "      <td>5</td>\n",
       "      <td>178023.30</td>\n",
       "    </tr>\n",
       "    <tr>\n",
       "      <td>3.06</td>\n",
       "      <td>163032.150000</td>\n",
       "      <td>4</td>\n",
       "      <td>167491.10</td>\n",
       "    </tr>\n",
       "  </tbody>\n",
       "</table>\n",
       "</div>"
      ],
      "text/plain": [
       "                         mean  count     median\n",
       "ceiling_height                                 \n",
       "3.01            248978.666667      3  255020.10\n",
       "3.53            291969.433333      3  240825.70\n",
       "3.04            198708.750000      4  203721.55\n",
       "3.11            199097.260000      5  178023.30\n",
       "3.06            163032.150000      4  167491.10"
      ]
     },
     "execution_count": 73,
     "metadata": {},
     "output_type": "execute_result"
    },
    {
     "data": {
      "image/png": "[encoded data removed]",
      "text/plain": [
       "<Figure size 432x288 with 1 Axes>"
      ]
     },
     "metadata": {
      "needs_background": "light"
     },
     "output_type": "display_data"
    }
   ],
   "source": [
    "data_center_spb_ceiling_pt = data_center_spb.pivot_table(index = 'ceiling_height', values = 'price_m', aggfunc = ['mean', 'count', 'median'])\n",
    "data_center_spb_ceiling_pt.columns = ['mean', 'count', 'median']\n",
    "data_center_spb_ceiling_pt.query('count > 2').plot(y = 'median')\n",
    "\n",
    "data_center_spb_ceiling_pt.query('count > 2').sort_values('median', ascending = False).head()"
   ]
  },
  {
   "cell_type": "markdown",
   "metadata": {},
   "source": [
    "Вывод: видим увеличение цены для квартир с потолками от 3 метров"
   ]
  },
  {
   "cell_type": "markdown",
   "metadata": {},
   "source": [
    "Смотрим на зависимости цены от количества комнат в центре"
   ]
  },
  {
   "cell_type": "code",
   "execution_count": 74,
   "metadata": {},
   "outputs": [
    {
     "data": {
      "text/html": [
       "<div>\n",
       "<style scoped>\n",
       "    .dataframe tbody tr th:only-of-type {\n",
       "        vertical-align: middle;\n",
       "    }\n",
       "\n",
       "    .dataframe tbody tr th {\n",
       "        vertical-align: top;\n",
       "    }\n",
       "\n",
       "    .dataframe thead th {\n",
       "        text-align: right;\n",
       "    }\n",
       "</style>\n",
       "<table border=\"1\" class=\"dataframe\">\n",
       "  <thead>\n",
       "    <tr style=\"text-align: right;\">\n",
       "      <th></th>\n",
       "      <th>mean</th>\n",
       "      <th>count</th>\n",
       "      <th>median</th>\n",
       "    </tr>\n",
       "    <tr>\n",
       "      <th>rooms</th>\n",
       "      <th></th>\n",
       "      <th></th>\n",
       "      <th></th>\n",
       "    </tr>\n",
       "  </thead>\n",
       "  <tbody>\n",
       "    <tr>\n",
       "      <td>1</td>\n",
       "      <td>146644.807966</td>\n",
       "      <td>477</td>\n",
       "      <td>139547.00</td>\n",
       "    </tr>\n",
       "    <tr>\n",
       "      <td>2</td>\n",
       "      <td>136536.988294</td>\n",
       "      <td>897</td>\n",
       "      <td>123333.30</td>\n",
       "    </tr>\n",
       "    <tr>\n",
       "      <td>3</td>\n",
       "      <td>140117.269493</td>\n",
       "      <td>908</td>\n",
       "      <td>113709.80</td>\n",
       "    </tr>\n",
       "    <tr>\n",
       "      <td>4</td>\n",
       "      <td>141289.806888</td>\n",
       "      <td>392</td>\n",
       "      <td>109143.15</td>\n",
       "    </tr>\n",
       "    <tr>\n",
       "      <td>6</td>\n",
       "      <td>165202.010000</td>\n",
       "      <td>60</td>\n",
       "      <td>102996.45</td>\n",
       "    </tr>\n",
       "    <tr>\n",
       "      <td>5</td>\n",
       "      <td>147279.508380</td>\n",
       "      <td>179</td>\n",
       "      <td>102604.20</td>\n",
       "    </tr>\n",
       "  </tbody>\n",
       "</table>\n",
       "</div>"
      ],
      "text/plain": [
       "                mean  count     median\n",
       "rooms                                 \n",
       "1      146644.807966    477  139547.00\n",
       "2      136536.988294    897  123333.30\n",
       "3      140117.269493    908  113709.80\n",
       "4      141289.806888    392  109143.15\n",
       "6      165202.010000     60  102996.45\n",
       "5      147279.508380    179  102604.20"
      ]
     },
     "execution_count": 74,
     "metadata": {},
     "output_type": "execute_result"
    },
    {
     "data": {
      "image/png": "[encoded data removed]",
      "text/plain": [
       "<Figure size 432x288 with 1 Axes>"
      ]
     },
     "metadata": {
      "needs_background": "light"
     },
     "output_type": "display_data"
    }
   ],
   "source": [
    "data_center_room_spb_pt = data_center_spb.pivot_table(index = 'rooms', values = 'price_m', aggfunc = ['mean', 'count', 'median'])\n",
    "data_center_room_spb_pt.columns = ['mean', 'count', 'median']\n",
    "data_center_room_spb_pt.query('count > 50').plot(y = 'median')\n",
    "\n",
    "data_center_room_spb_pt.query('count > 50').sort_values('median', ascending = False)"
   ]
  },
  {
   "cell_type": "markdown",
   "metadata": {},
   "source": [
    "Вывод: мы видим, что цена за квадрат сильно уменьшается с увеличением комнат"
   ]
  },
  {
   "cell_type": "markdown",
   "metadata": {},
   "source": [
    "Смотрим на зависимости цены от этажа в центре"
   ]
  },
  {
   "cell_type": "code",
   "execution_count": 75,
   "metadata": {},
   "outputs": [
    {
     "data": {
      "text/html": [
       "<div>\n",
       "<style scoped>\n",
       "    .dataframe tbody tr th:only-of-type {\n",
       "        vertical-align: middle;\n",
       "    }\n",
       "\n",
       "    .dataframe tbody tr th {\n",
       "        vertical-align: top;\n",
       "    }\n",
       "\n",
       "    .dataframe thead th {\n",
       "        text-align: right;\n",
       "    }\n",
       "</style>\n",
       "<table border=\"1\" class=\"dataframe\">\n",
       "  <thead>\n",
       "    <tr style=\"text-align: right;\">\n",
       "      <th></th>\n",
       "      <th>mean</th>\n",
       "      <th>count</th>\n",
       "      <th>median</th>\n",
       "    </tr>\n",
       "    <tr>\n",
       "      <th>floor_cat</th>\n",
       "      <th></th>\n",
       "      <th></th>\n",
       "      <th></th>\n",
       "    </tr>\n",
       "  </thead>\n",
       "  <tbody>\n",
       "    <tr>\n",
       "      <td>другой</td>\n",
       "      <td>146211.215202</td>\n",
       "      <td>2151</td>\n",
       "      <td>125799.6</td>\n",
       "    </tr>\n",
       "    <tr>\n",
       "      <td>последний</td>\n",
       "      <td>139983.638058</td>\n",
       "      <td>515</td>\n",
       "      <td>114079.9</td>\n",
       "    </tr>\n",
       "    <tr>\n",
       "      <td>первый</td>\n",
       "      <td>115879.003797</td>\n",
       "      <td>316</td>\n",
       "      <td>107603.6</td>\n",
       "    </tr>\n",
       "  </tbody>\n",
       "</table>\n",
       "</div>"
      ],
      "text/plain": [
       "                    mean  count    median\n",
       "floor_cat                                \n",
       "другой     146211.215202   2151  125799.6\n",
       "последний  139983.638058    515  114079.9\n",
       "первый     115879.003797    316  107603.6"
      ]
     },
     "execution_count": 75,
     "metadata": {},
     "output_type": "execute_result"
    },
    {
     "data": {
      "image/png": "[encoded data removed]",
      "text/plain": [
       "<Figure size 432x288 with 1 Axes>"
      ]
     },
     "metadata": {
      "needs_background": "light"
     },
     "output_type": "display_data"
    }
   ],
   "source": [
    "data_center_floor_spb_pt = data_center_spb.pivot_table(index = 'floor_cat', values = 'price_m', aggfunc = ['mean', 'count', 'median'])\n",
    "data_center_floor_spb_pt.columns = ['mean', 'count', 'median']\n",
    "data_center_floor_spb_pt.plot(y = 'median')\n",
    "\n",
    "data_center_floor_spb_pt.sort_values('median', ascending = False)"
   ]
  },
  {
   "cell_type": "markdown",
   "metadata": {},
   "source": [
    "Вывод: похожая история с общей выборкой, не хотят на первых этажах. Хотя коммерческая недвига была бы очень востребована. Но это уже другая история:)"
   ]
  },
  {
   "cell_type": "markdown",
   "metadata": {},
   "source": [
    "Смотрим на зависимости цены от удаленности в центре"
   ]
  },
  {
   "cell_type": "code",
   "execution_count": 76,
   "metadata": {},
   "outputs": [
    {
     "data": {
      "text/plain": [
       "<matplotlib.axes._subplots.AxesSubplot at 0x7f5d7238fa10>"
      ]
     },
     "execution_count": 76,
     "metadata": {},
     "output_type": "execute_result"
    },
    {
     "data": {
      "image/png": "[encoded data removed]",
      "text/plain": [
       "<Figure size 432x288 with 1 Axes>"
      ]
     },
     "metadata": {
      "needs_background": "light"
     },
     "output_type": "display_data"
    }
   ],
   "source": [
    "data_center_spb.plot(kind = 'scatter', y = 'price_m', x = 'cityCenters_nearest', alpha = 0.3)"
   ]
  },
  {
   "cell_type": "markdown",
   "metadata": {},
   "source": [
    "Вывод: четкой зависимости не видим, но мы уже делали выборку же по центру"
   ]
  },
  {
   "cell_type": "markdown",
   "metadata": {},
   "source": [
    "Смотрим на зависимости цены от даты размещения в центре"
   ]
  },
  {
   "cell_type": "code",
   "execution_count": 77,
   "metadata": {},
   "outputs": [
    {
     "data": {
      "text/plain": [
       "<matplotlib.axes._subplots.AxesSubplot at 0x7f5d722a1a10>"
      ]
     },
     "execution_count": 77,
     "metadata": {},
     "output_type": "execute_result"
    },
    {
     "data": {
      "image/png": "[encoded data removed]",
      "text/plain": [
       "<Figure size 432x288 with 1 Axes>"
      ]
     },
     "metadata": {
      "needs_background": "light"
     },
     "output_type": "display_data"
    },
    {
     "data": {
      "image/png": "[encoded data removed]",
      "text/plain": [
       "<Figure size 432x288 with 1 Axes>"
      ]
     },
     "metadata": {
      "needs_background": "light"
     },
     "output_type": "display_data"
    },
    {
     "data": {
      "image/png": "[encoded data removed]",
      "text/plain": [
       "<Figure size 432x288 with 1 Axes>"
      ]
     },
     "metadata": {
      "needs_background": "light"
     },
     "output_type": "display_data"
    }
   ],
   "source": [
    "data_center_weekday_spb_pt = data_center_spb.pivot_table(index = 'weekday_exposition', values = 'price_m', aggfunc = ['mean', 'count', 'median'])\n",
    "data_center_weekday_spb_pt.columns = ['mean', 'count', 'median']\n",
    "data_center_weekday_spb_pt.plot(y = 'median')\n",
    "\n",
    "data_center_month_spb_pt = data_center_spb.pivot_table(index = 'month_exposition', values = 'price_m', aggfunc = ['mean', 'count', 'median'])\n",
    "data_center_month_spb_pt.columns = ['mean', 'count', 'median']\n",
    "data_center_month_spb_pt.plot(y = 'median')\n",
    "\n",
    "data_center_year_spb_pt = data_center_spb.pivot_table(index = 'year_exposition', values = 'price_m', aggfunc = ['mean', 'count', 'median'])\n",
    "data_center_year_spb_pt.columns = ['mean', 'count', 'median']\n",
    "data_center_year_spb_pt.plot(y = 'median')\n",
    "#data_center_weekday_spb_pt.sort_values('median', ascending = False)"
   ]
  },
  {
   "cell_type": "markdown",
   "metadata": {},
   "source": [
    "Вывод: просадки во вторник - не как в общей выборке! В июне - похоже с общей выборкой , а по годам дела обстоят немного подругому, что в 2015ый, посткризисный год начался рост, а в общей - только с 2016ого"
   ]
  },
  {
   "cell_type": "markdown",
   "metadata": {},
   "source": [
    "## Общий вывод"
   ]
  },
  {
   "cell_type": "markdown",
   "metadata": {},
   "source": [
    "Мы провели анализ и обработали архив объявлений на продажу квартир в Санкт-Петербурге и окрестностям.\n",
    "\n",
    "Обработали пропущенные значения там, где это необходимо, заменили типы данных на необходимые для удобной работы.\n",
    "\n",
    "Посчитали и добавили в таблицу цену квадратного метра жилья, вывели из даты дни недели, месяцы и года размещения объявлений, добавили категории по этажам квартир. \n",
    "\n",
    "Изучили следующие параметры на наличие выбивающихся значений - площадь, цена, число комнат, высота потолков. \n",
    "\n",
    "Были определены аномалии в данных параметрах. \n",
    "\n",
    "Изучая время продажи квартир мы выявили, что  есть ровные значения снятия публикаций - 181, 90, 60, 45, 30. Скорее всего, это система объявлений - Яндекс Недвижимость снимала объявления.\n",
    "\n",
    "Мы выявили, что на стоимость квадратного метра квартиры больше всего влияют количество комнат, этаж квартиры, близость к центру. \n",
    "Судя, по резкости изменения цен в зависимости от удаления от центра СПБ, мы выявили центр города в радиусе 7 километров и проводили уже анализ для центра.\n",
    "\n",
    "Незначительно на стоимость квадратного метра влияют день, месяц, год размещения и общая площадь. \n",
    "\n",
    "Зная, что в 2014 году был обвал рынка недвижимости, мы это видим на графиках общих и центр, но восстановление цены в центере началось уже в 2015ом, а общем - в 2016ом.\n",
    "\n",
    "В целом еще необходимо учитывать и другие момнеты, как возраст дома, необходим ли ремонт и другие параметры, т.к. в Санкт-Петербурге прекрасный, но старинный исторический центр."
   ]
  }
 ],
 "metadata": {
  "ExecuteTimeLog": [
   {
    "duration": 592,
    "start_time": "2021-12-27T12:40:59.540Z"
   },
   {
    "duration": 72,
    "start_time": "2021-12-27T12:41:44.607Z"
   },
   {
    "duration": 98,
    "start_time": "2021-12-27T12:42:16.487Z"
   },
   {
    "duration": 89,
    "start_time": "2021-12-27T12:43:01.095Z"
   },
   {
    "duration": 102,
    "start_time": "2021-12-27T12:43:10.693Z"
   },
   {
    "duration": 87,
    "start_time": "2021-12-27T12:43:40.462Z"
   },
   {
    "duration": 80,
    "start_time": "2021-12-27T12:43:43.077Z"
   },
   {
    "duration": 5,
    "start_time": "2021-12-27T12:43:54.597Z"
   },
   {
    "duration": 336,
    "start_time": "2021-12-27T12:44:05.514Z"
   },
   {
    "duration": 4,
    "start_time": "2021-12-27T12:44:19.449Z"
   },
   {
    "duration": 4,
    "start_time": "2021-12-27T12:44:25.492Z"
   },
   {
    "duration": 10,
    "start_time": "2021-12-27T12:44:40.203Z"
   },
   {
    "duration": 280,
    "start_time": "2021-12-27T12:45:10.079Z"
   },
   {
    "duration": 273,
    "start_time": "2021-12-27T12:45:12.788Z"
   },
   {
    "duration": 64,
    "start_time": "2021-12-27T12:45:20.147Z"
   },
   {
    "duration": 6,
    "start_time": "2021-12-27T12:51:04.724Z"
   },
   {
    "duration": 5,
    "start_time": "2021-12-27T12:51:16.698Z"
   },
   {
    "duration": 22,
    "start_time": "2021-12-27T12:51:36.290Z"
   },
   {
    "duration": 861,
    "start_time": "2021-12-29T11:41:44.536Z"
   },
   {
    "duration": 161,
    "start_time": "2021-12-29T11:41:46.129Z"
   },
   {
    "duration": 8,
    "start_time": "2021-12-29T11:42:09.561Z"
   },
   {
    "duration": 3,
    "start_time": "2021-12-29T11:45:55.293Z"
   },
   {
    "duration": 34,
    "start_time": "2021-12-29T11:46:01.076Z"
   },
   {
    "duration": 644,
    "start_time": "2022-01-07T11:27:12.735Z"
   },
   {
    "duration": 576,
    "start_time": "2022-01-07T11:27:18.713Z"
   },
   {
    "duration": 95,
    "start_time": "2022-01-07T11:27:19.291Z"
   },
   {
    "duration": 4,
    "start_time": "2022-01-07T11:27:19.389Z"
   },
   {
    "duration": 5,
    "start_time": "2022-01-07T11:27:19.396Z"
   },
   {
    "duration": 20,
    "start_time": "2022-01-07T11:27:19.402Z"
   },
   {
    "duration": 16,
    "start_time": "2022-01-07T11:27:19.424Z"
   },
   {
    "duration": 86,
    "start_time": "2022-01-07T11:27:19.442Z"
   },
   {
    "duration": 5,
    "start_time": "2022-01-07T11:27:19.530Z"
   },
   {
    "duration": 771,
    "start_time": "2022-01-08T11:15:12.186Z"
   },
   {
    "duration": 127,
    "start_time": "2022-01-08T11:15:12.960Z"
   },
   {
    "duration": 5,
    "start_time": "2022-01-08T11:15:13.090Z"
   },
   {
    "duration": 5,
    "start_time": "2022-01-08T11:15:13.098Z"
   },
   {
    "duration": 32,
    "start_time": "2022-01-08T11:15:13.105Z"
   },
   {
    "duration": 16,
    "start_time": "2022-01-08T11:15:13.162Z"
   },
   {
    "duration": 130,
    "start_time": "2022-01-08T11:15:13.180Z"
   },
   {
    "duration": 7,
    "start_time": "2022-01-08T11:15:13.313Z"
   },
   {
    "duration": 511,
    "start_time": "2022-01-08T11:41:02.980Z"
   },
   {
    "duration": 9,
    "start_time": "2022-01-08T11:44:56.524Z"
   },
   {
    "duration": 55,
    "start_time": "2022-01-08T11:53:42.540Z"
   },
   {
    "duration": 18,
    "start_time": "2022-01-08T11:53:57.573Z"
   },
   {
    "duration": 17,
    "start_time": "2022-01-08T11:54:01.174Z"
   },
   {
    "duration": 17,
    "start_time": "2022-01-08T11:54:13.511Z"
   },
   {
    "duration": 504,
    "start_time": "2022-01-08T11:54:20.451Z"
   },
   {
    "duration": 10,
    "start_time": "2022-01-08T11:56:42.565Z"
   },
   {
    "duration": 12,
    "start_time": "2022-01-08T11:56:52.366Z"
   },
   {
    "duration": 40,
    "start_time": "2022-01-08T11:56:55.912Z"
   },
   {
    "duration": 10,
    "start_time": "2022-01-08T11:57:20.014Z"
   },
   {
    "duration": 81,
    "start_time": "2022-01-08T12:02:11.876Z"
   },
   {
    "duration": 340,
    "start_time": "2022-01-08T12:02:29.903Z"
   },
   {
    "duration": 256,
    "start_time": "2022-01-08T12:02:36.943Z"
   },
   {
    "duration": 12,
    "start_time": "2022-01-08T12:02:47.975Z"
   },
   {
    "duration": 19,
    "start_time": "2022-01-08T12:02:56.749Z"
   },
   {
    "duration": 9,
    "start_time": "2022-01-08T12:34:26.359Z"
   },
   {
    "duration": 7,
    "start_time": "2022-01-08T12:34:38.872Z"
   },
   {
    "duration": 11,
    "start_time": "2022-01-08T12:34:47.999Z"
   },
   {
    "duration": 7,
    "start_time": "2022-01-08T12:35:24.818Z"
   },
   {
    "duration": 7,
    "start_time": "2022-01-08T12:35:29.459Z"
   },
   {
    "duration": 34,
    "start_time": "2022-01-08T12:38:03.638Z"
   },
   {
    "duration": 353,
    "start_time": "2022-01-08T12:41:38.287Z"
   },
   {
    "duration": 49,
    "start_time": "2022-01-08T12:41:49.535Z"
   },
   {
    "duration": 50,
    "start_time": "2022-01-08T12:42:59.104Z"
   },
   {
    "duration": 15,
    "start_time": "2022-01-08T12:43:06.305Z"
   },
   {
    "duration": 10494,
    "start_time": "2022-01-08T12:44:41.152Z"
   },
   {
    "duration": 285,
    "start_time": "2022-01-08T12:45:28.078Z"
   },
   {
    "duration": 251,
    "start_time": "2022-01-08T12:45:52.988Z"
   },
   {
    "duration": 10691,
    "start_time": "2022-01-08T12:46:17.113Z"
   },
   {
    "duration": 12,
    "start_time": "2022-01-08T12:46:47.418Z"
   },
   {
    "duration": 16,
    "start_time": "2022-01-08T12:47:03.031Z"
   },
   {
    "duration": 16,
    "start_time": "2022-01-08T12:47:13.010Z"
   },
   {
    "duration": 17,
    "start_time": "2022-01-08T12:47:24.666Z"
   },
   {
    "duration": 11,
    "start_time": "2022-01-08T12:47:57.088Z"
   },
   {
    "duration": 12,
    "start_time": "2022-01-08T13:15:29.252Z"
   },
   {
    "duration": 61,
    "start_time": "2022-01-08T13:18:16.517Z"
   },
   {
    "duration": 48,
    "start_time": "2022-01-08T13:18:58.541Z"
   },
   {
    "duration": 411,
    "start_time": "2022-01-08T13:19:09.253Z"
   },
   {
    "duration": 242,
    "start_time": "2022-01-08T13:19:13.745Z"
   },
   {
    "duration": 14,
    "start_time": "2022-01-08T13:19:52.670Z"
   },
   {
    "duration": 49,
    "start_time": "2022-01-08T13:20:25.491Z"
   },
   {
    "duration": 51,
    "start_time": "2022-01-08T13:21:52.102Z"
   },
   {
    "duration": 63,
    "start_time": "2022-01-08T13:22:03.424Z"
   },
   {
    "duration": 35,
    "start_time": "2022-01-08T13:25:28.459Z"
   },
   {
    "duration": 12,
    "start_time": "2022-01-08T13:25:57.609Z"
   },
   {
    "duration": 48,
    "start_time": "2022-01-08T14:16:58.222Z"
   },
   {
    "duration": 29,
    "start_time": "2022-01-08T14:17:07.911Z"
   },
   {
    "duration": 30,
    "start_time": "2022-01-08T14:17:39.684Z"
   },
   {
    "duration": 27,
    "start_time": "2022-01-08T14:17:46.570Z"
   },
   {
    "duration": 46,
    "start_time": "2022-01-08T14:17:54.341Z"
   },
   {
    "duration": 5,
    "start_time": "2022-01-08T14:18:20.440Z"
   },
   {
    "duration": 7,
    "start_time": "2022-01-08T14:18:26.720Z"
   },
   {
    "duration": 246,
    "start_time": "2022-01-08T14:18:33.857Z"
   },
   {
    "duration": 16,
    "start_time": "2022-01-08T14:18:44.291Z"
   },
   {
    "duration": 17,
    "start_time": "2022-01-08T14:19:45.616Z"
   },
   {
    "duration": 5,
    "start_time": "2022-01-08T14:21:18.312Z"
   },
   {
    "duration": 3,
    "start_time": "2022-01-08T14:23:07.318Z"
   },
   {
    "duration": 5,
    "start_time": "2022-01-08T14:25:10.359Z"
   },
   {
    "duration": 5,
    "start_time": "2022-01-08T14:25:25.564Z"
   },
   {
    "duration": 9,
    "start_time": "2022-01-08T14:26:06.385Z"
   },
   {
    "duration": 15,
    "start_time": "2022-01-08T14:26:11.211Z"
   },
   {
    "duration": 17,
    "start_time": "2022-01-08T14:26:25.415Z"
   },
   {
    "duration": 8,
    "start_time": "2022-01-08T14:27:37.858Z"
   },
   {
    "duration": 9,
    "start_time": "2022-01-08T14:27:56.172Z"
   },
   {
    "duration": 15,
    "start_time": "2022-01-08T14:28:35.289Z"
   },
   {
    "duration": 8,
    "start_time": "2022-01-08T14:29:46.131Z"
   },
   {
    "duration": 4,
    "start_time": "2022-01-08T14:54:44.413Z"
   },
   {
    "duration": 16,
    "start_time": "2022-01-08T14:55:01.838Z"
   },
   {
    "duration": 599,
    "start_time": "2022-01-10T11:13:26.538Z"
   },
   {
    "duration": 94,
    "start_time": "2022-01-10T11:13:27.139Z"
   },
   {
    "duration": 5,
    "start_time": "2022-01-10T11:13:27.235Z"
   },
   {
    "duration": 6,
    "start_time": "2022-01-10T11:13:27.242Z"
   },
   {
    "duration": 23,
    "start_time": "2022-01-10T11:13:27.249Z"
   },
   {
    "duration": 8,
    "start_time": "2022-01-10T11:13:27.274Z"
   },
   {
    "duration": 14,
    "start_time": "2022-01-10T11:13:27.284Z"
   },
   {
    "duration": 90,
    "start_time": "2022-01-10T11:13:27.300Z"
   },
   {
    "duration": 12,
    "start_time": "2022-01-10T11:13:27.392Z"
   },
   {
    "duration": 22,
    "start_time": "2022-01-10T11:13:27.405Z"
   },
   {
    "duration": 18,
    "start_time": "2022-01-10T11:13:27.441Z"
   },
   {
    "duration": 9,
    "start_time": "2022-01-10T11:13:27.460Z"
   },
   {
    "duration": 14,
    "start_time": "2022-01-10T11:13:27.470Z"
   },
   {
    "duration": 3,
    "start_time": "2022-01-10T11:13:27.486Z"
   },
   {
    "duration": 12,
    "start_time": "2022-01-10T11:13:27.490Z"
   },
   {
    "duration": 13,
    "start_time": "2022-01-10T11:13:27.504Z"
   },
   {
    "duration": 9,
    "start_time": "2022-01-10T11:13:27.519Z"
   },
   {
    "duration": 12,
    "start_time": "2022-01-10T11:13:27.530Z"
   },
   {
    "duration": 12,
    "start_time": "2022-01-10T11:13:27.544Z"
   },
   {
    "duration": 16,
    "start_time": "2022-01-10T11:13:27.558Z"
   },
   {
    "duration": 4,
    "start_time": "2022-01-10T12:21:51.390Z"
   },
   {
    "duration": 22,
    "start_time": "2022-01-10T12:22:04.723Z"
   },
   {
    "duration": 18,
    "start_time": "2022-01-10T12:26:05.111Z"
   },
   {
    "duration": 18,
    "start_time": "2022-01-10T12:26:12.371Z"
   },
   {
    "duration": 19,
    "start_time": "2022-01-10T12:26:29.183Z"
   },
   {
    "duration": 21,
    "start_time": "2022-01-10T12:26:35.537Z"
   },
   {
    "duration": 292,
    "start_time": "2022-01-10T13:17:07.938Z"
   },
   {
    "duration": 8,
    "start_time": "2022-01-10T13:17:22.801Z"
   },
   {
    "duration": 14,
    "start_time": "2022-01-10T13:17:27.877Z"
   },
   {
    "duration": 10,
    "start_time": "2022-01-10T13:18:02.504Z"
   },
   {
    "duration": 31,
    "start_time": "2022-01-10T13:20:04.360Z"
   },
   {
    "duration": 258,
    "start_time": "2022-01-10T13:20:55.774Z"
   },
   {
    "duration": 20,
    "start_time": "2022-01-10T13:22:02.344Z"
   },
   {
    "duration": 81,
    "start_time": "2022-01-10T13:25:39.415Z"
   },
   {
    "duration": 86,
    "start_time": "2022-01-10T13:26:47.476Z"
   },
   {
    "duration": 67,
    "start_time": "2022-01-10T13:26:56.633Z"
   },
   {
    "duration": 86,
    "start_time": "2022-01-10T13:27:24.485Z"
   },
   {
    "duration": 5,
    "start_time": "2022-01-10T13:27:53.685Z"
   },
   {
    "duration": 8,
    "start_time": "2022-01-10T13:29:03.557Z"
   },
   {
    "duration": 15,
    "start_time": "2022-01-10T13:29:12.115Z"
   },
   {
    "duration": 205,
    "start_time": "2022-01-10T13:31:44.690Z"
   },
   {
    "duration": 6,
    "start_time": "2022-01-10T13:31:54.683Z"
   },
   {
    "duration": 14,
    "start_time": "2022-01-10T13:31:57.209Z"
   },
   {
    "duration": 6,
    "start_time": "2022-01-10T13:33:36.424Z"
   },
   {
    "duration": 14,
    "start_time": "2022-01-10T13:33:38.102Z"
   },
   {
    "duration": 4,
    "start_time": "2022-01-10T13:34:50.319Z"
   },
   {
    "duration": 7,
    "start_time": "2022-01-10T13:35:19.130Z"
   },
   {
    "duration": 14,
    "start_time": "2022-01-10T13:35:21.180Z"
   },
   {
    "duration": 7,
    "start_time": "2022-01-10T13:40:36.109Z"
   },
   {
    "duration": 18,
    "start_time": "2022-01-10T13:40:43.677Z"
   },
   {
    "duration": 23,
    "start_time": "2022-01-10T13:41:15.876Z"
   },
   {
    "duration": 27,
    "start_time": "2022-01-10T13:42:47.730Z"
   },
   {
    "duration": 35,
    "start_time": "2022-01-10T13:43:06.126Z"
   },
   {
    "duration": 22,
    "start_time": "2022-01-10T13:45:25.023Z"
   },
   {
    "duration": 6,
    "start_time": "2022-01-10T13:52:28.920Z"
   },
   {
    "duration": 12,
    "start_time": "2022-01-10T13:52:32.340Z"
   },
   {
    "duration": 19,
    "start_time": "2022-01-10T13:52:39.328Z"
   },
   {
    "duration": 3,
    "start_time": "2022-01-10T13:52:42.286Z"
   },
   {
    "duration": 4,
    "start_time": "2022-01-10T13:52:43.947Z"
   },
   {
    "duration": 6,
    "start_time": "2022-01-10T13:52:46.157Z"
   },
   {
    "duration": 4,
    "start_time": "2022-01-10T13:52:47.333Z"
   },
   {
    "duration": 7,
    "start_time": "2022-01-10T13:52:49.056Z"
   },
   {
    "duration": 15,
    "start_time": "2022-01-10T13:52:50.942Z"
   },
   {
    "duration": 20,
    "start_time": "2022-01-10T13:52:54.769Z"
   },
   {
    "duration": 86,
    "start_time": "2022-01-10T13:53:44.448Z"
   },
   {
    "duration": 3,
    "start_time": "2022-01-10T14:17:34.201Z"
   },
   {
    "duration": 493,
    "start_time": "2022-01-10T14:18:09.165Z"
   },
   {
    "duration": 64,
    "start_time": "2022-01-10T14:21:26.807Z"
   },
   {
    "duration": 85,
    "start_time": "2022-01-10T14:23:41.830Z"
   },
   {
    "duration": 67,
    "start_time": "2022-01-10T14:24:01.912Z"
   },
   {
    "duration": 98,
    "start_time": "2022-01-10T14:25:09.441Z"
   },
   {
    "duration": 206,
    "start_time": "2022-01-10T14:25:13.711Z"
   },
   {
    "duration": 78,
    "start_time": "2022-01-10T14:30:29.801Z"
   },
   {
    "duration": 64,
    "start_time": "2022-01-10T14:31:07.142Z"
   },
   {
    "duration": 68,
    "start_time": "2022-01-10T14:34:51.672Z"
   },
   {
    "duration": 3,
    "start_time": "2022-01-10T14:35:00.171Z"
   },
   {
    "duration": 522,
    "start_time": "2022-01-10T14:35:13.512Z"
   },
   {
    "duration": 15,
    "start_time": "2022-01-10T14:35:21.179Z"
   },
   {
    "duration": 211,
    "start_time": "2022-01-10T14:36:11.792Z"
   },
   {
    "duration": 219,
    "start_time": "2022-01-10T14:36:32.138Z"
   },
   {
    "duration": 196,
    "start_time": "2022-01-10T14:36:38.692Z"
   },
   {
    "duration": 198,
    "start_time": "2022-01-10T14:36:58.151Z"
   },
   {
    "duration": 30,
    "start_time": "2022-01-10T14:37:26.020Z"
   },
   {
    "duration": 31,
    "start_time": "2022-01-10T14:37:53.509Z"
   },
   {
    "duration": 26,
    "start_time": "2022-01-10T14:38:07.675Z"
   },
   {
    "duration": 26,
    "start_time": "2022-01-10T14:38:29.642Z"
   },
   {
    "duration": 19,
    "start_time": "2022-01-10T14:40:31.322Z"
   },
   {
    "duration": 4,
    "start_time": "2022-01-10T14:43:48.106Z"
   },
   {
    "duration": 5573,
    "start_time": "2022-01-10T14:44:11.964Z"
   },
   {
    "duration": 4,
    "start_time": "2022-01-10T14:44:55.795Z"
   },
   {
    "duration": 19,
    "start_time": "2022-01-10T14:45:00.856Z"
   },
   {
    "duration": 16,
    "start_time": "2022-01-10T14:45:39.034Z"
   },
   {
    "duration": 118,
    "start_time": "2022-01-10T14:48:29.117Z"
   },
   {
    "duration": 220,
    "start_time": "2022-01-10T14:49:35.671Z"
   },
   {
    "duration": 148,
    "start_time": "2022-01-10T14:49:41.958Z"
   },
   {
    "duration": 176,
    "start_time": "2022-01-10T14:50:07.866Z"
   },
   {
    "duration": 175,
    "start_time": "2022-01-10T14:50:36.047Z"
   },
   {
    "duration": 187,
    "start_time": "2022-01-10T14:53:04.102Z"
   },
   {
    "duration": 1625,
    "start_time": "2022-01-10T14:54:20.576Z"
   },
   {
    "duration": 168,
    "start_time": "2022-01-10T14:54:28.451Z"
   },
   {
    "duration": 181,
    "start_time": "2022-01-10T14:58:22.778Z"
   },
   {
    "duration": 396,
    "start_time": "2022-01-10T14:58:27.484Z"
   },
   {
    "duration": 301,
    "start_time": "2022-01-10T14:58:32.777Z"
   },
   {
    "duration": 304,
    "start_time": "2022-01-10T14:58:58.645Z"
   },
   {
    "duration": 309,
    "start_time": "2022-01-10T14:59:19.645Z"
   },
   {
    "duration": 187,
    "start_time": "2022-01-10T15:00:11.277Z"
   },
   {
    "duration": 185,
    "start_time": "2022-01-10T15:00:17.799Z"
   },
   {
    "duration": 173,
    "start_time": "2022-01-10T15:00:21.369Z"
   },
   {
    "duration": 294,
    "start_time": "2022-01-10T15:00:33.226Z"
   },
   {
    "duration": 175,
    "start_time": "2022-01-10T15:00:40.213Z"
   },
   {
    "duration": 193,
    "start_time": "2022-01-10T15:00:44.046Z"
   },
   {
    "duration": 197,
    "start_time": "2022-01-10T15:00:49.788Z"
   },
   {
    "duration": 208,
    "start_time": "2022-01-10T15:01:06.356Z"
   },
   {
    "duration": 348,
    "start_time": "2022-01-10T15:01:18.693Z"
   },
   {
    "duration": 338,
    "start_time": "2022-01-10T15:01:22.884Z"
   },
   {
    "duration": 175,
    "start_time": "2022-01-10T15:01:27.399Z"
   },
   {
    "duration": 648,
    "start_time": "2022-01-11T06:07:18.860Z"
   },
   {
    "duration": 89,
    "start_time": "2022-01-11T06:07:19.510Z"
   },
   {
    "duration": 4,
    "start_time": "2022-01-11T06:07:19.602Z"
   },
   {
    "duration": 5,
    "start_time": "2022-01-11T06:07:19.607Z"
   },
   {
    "duration": 39,
    "start_time": "2022-01-11T06:07:19.613Z"
   },
   {
    "duration": 9,
    "start_time": "2022-01-11T06:07:19.654Z"
   },
   {
    "duration": 15,
    "start_time": "2022-01-11T06:07:19.665Z"
   },
   {
    "duration": 83,
    "start_time": "2022-01-11T06:07:19.683Z"
   },
   {
    "duration": 9,
    "start_time": "2022-01-11T06:07:19.768Z"
   },
   {
    "duration": 19,
    "start_time": "2022-01-11T06:07:19.778Z"
   },
   {
    "duration": 44,
    "start_time": "2022-01-11T06:07:19.799Z"
   },
   {
    "duration": 6,
    "start_time": "2022-01-11T06:07:19.845Z"
   },
   {
    "duration": 11,
    "start_time": "2022-01-11T06:07:19.853Z"
   },
   {
    "duration": 3,
    "start_time": "2022-01-11T06:07:19.866Z"
   },
   {
    "duration": 6,
    "start_time": "2022-01-11T06:07:19.870Z"
   },
   {
    "duration": 7,
    "start_time": "2022-01-11T06:07:19.877Z"
   },
   {
    "duration": 4,
    "start_time": "2022-01-11T06:07:19.886Z"
   },
   {
    "duration": 11,
    "start_time": "2022-01-11T06:07:19.891Z"
   },
   {
    "duration": 37,
    "start_time": "2022-01-11T06:07:19.904Z"
   },
   {
    "duration": 8,
    "start_time": "2022-01-11T06:07:19.942Z"
   },
   {
    "duration": 6,
    "start_time": "2022-01-11T06:07:19.952Z"
   },
   {
    "duration": 13,
    "start_time": "2022-01-11T06:07:19.960Z"
   },
   {
    "duration": 19,
    "start_time": "2022-01-11T06:07:19.976Z"
   },
   {
    "duration": 4,
    "start_time": "2022-01-11T06:07:19.997Z"
   },
   {
    "duration": 39,
    "start_time": "2022-01-11T06:07:20.003Z"
   },
   {
    "duration": 407,
    "start_time": "2022-01-11T06:07:20.044Z"
   },
   {
    "duration": 746,
    "start_time": "2022-01-11T06:07:19.707Z"
   },
   {
    "duration": 744,
    "start_time": "2022-01-11T06:07:19.711Z"
   },
   {
    "duration": 742,
    "start_time": "2022-01-11T06:07:19.714Z"
   },
   {
    "duration": 740,
    "start_time": "2022-01-11T06:07:19.718Z"
   },
   {
    "duration": 738,
    "start_time": "2022-01-11T06:07:19.721Z"
   },
   {
    "duration": 736,
    "start_time": "2022-01-11T06:07:19.724Z"
   },
   {
    "duration": 736,
    "start_time": "2022-01-11T06:07:19.726Z"
   },
   {
    "duration": 733,
    "start_time": "2022-01-11T06:07:19.730Z"
   },
   {
    "duration": 733,
    "start_time": "2022-01-11T06:07:19.732Z"
   },
   {
    "duration": 731,
    "start_time": "2022-01-11T06:07:19.735Z"
   },
   {
    "duration": 729,
    "start_time": "2022-01-11T06:07:19.738Z"
   },
   {
    "duration": 703,
    "start_time": "2022-01-11T06:07:19.765Z"
   },
   {
    "duration": 691,
    "start_time": "2022-01-11T06:07:19.778Z"
   },
   {
    "duration": 688,
    "start_time": "2022-01-11T06:07:19.782Z"
   },
   {
    "duration": 685,
    "start_time": "2022-01-11T06:07:19.786Z"
   },
   {
    "duration": 213,
    "start_time": "2022-01-11T06:07:51.946Z"
   },
   {
    "duration": 18,
    "start_time": "2022-01-11T06:08:12.928Z"
   },
   {
    "duration": 10,
    "start_time": "2022-01-11T06:08:45.870Z"
   },
   {
    "duration": 4,
    "start_time": "2022-01-11T06:08:48.290Z"
   },
   {
    "duration": 7,
    "start_time": "2022-01-11T06:09:35.662Z"
   },
   {
    "duration": 13,
    "start_time": "2022-01-11T06:09:38.982Z"
   },
   {
    "duration": 26,
    "start_time": "2022-01-11T06:09:57.987Z"
   },
   {
    "duration": 4,
    "start_time": "2022-01-11T06:10:00.107Z"
   },
   {
    "duration": 1156,
    "start_time": "2022-01-11T06:10:02.786Z"
   },
   {
    "duration": 32,
    "start_time": "2022-01-11T06:10:05.052Z"
   },
   {
    "duration": 5,
    "start_time": "2022-01-11T06:10:15.312Z"
   },
   {
    "duration": 8,
    "start_time": "2022-01-11T06:10:16.320Z"
   },
   {
    "duration": 17,
    "start_time": "2022-01-11T06:10:17.008Z"
   },
   {
    "duration": 73,
    "start_time": "2022-01-11T06:10:36.695Z"
   },
   {
    "duration": 215,
    "start_time": "2022-01-11T06:10:37.958Z"
   },
   {
    "duration": 286,
    "start_time": "2022-01-11T06:11:36.031Z"
   },
   {
    "duration": 300,
    "start_time": "2022-01-11T06:23:06.782Z"
   },
   {
    "duration": 300,
    "start_time": "2022-01-11T06:23:22.384Z"
   },
   {
    "duration": 176,
    "start_time": "2022-01-11T06:23:34.044Z"
   },
   {
    "duration": 175,
    "start_time": "2022-01-11T06:23:39.274Z"
   },
   {
    "duration": 178,
    "start_time": "2022-01-11T06:26:15.238Z"
   },
   {
    "duration": 180,
    "start_time": "2022-01-11T06:26:43.317Z"
   },
   {
    "duration": 225,
    "start_time": "2022-01-11T06:27:09.223Z"
   },
   {
    "duration": 207,
    "start_time": "2022-01-11T06:28:18.183Z"
   },
   {
    "duration": 228,
    "start_time": "2022-01-11T06:28:54.734Z"
   },
   {
    "duration": 361,
    "start_time": "2022-01-11T06:29:00.273Z"
   },
   {
    "duration": 215,
    "start_time": "2022-01-11T06:29:07.086Z"
   },
   {
    "duration": 229,
    "start_time": "2022-01-11T06:29:16.537Z"
   },
   {
    "duration": 189,
    "start_time": "2022-01-11T06:29:21.559Z"
   },
   {
    "duration": 181,
    "start_time": "2022-01-11T06:29:27.488Z"
   },
   {
    "duration": 187,
    "start_time": "2022-01-11T06:29:30.903Z"
   },
   {
    "duration": 128,
    "start_time": "2022-01-11T06:29:57.080Z"
   },
   {
    "duration": 125,
    "start_time": "2022-01-11T06:30:40.771Z"
   },
   {
    "duration": 378,
    "start_time": "2022-01-11T06:30:50.007Z"
   },
   {
    "duration": 179,
    "start_time": "2022-01-11T06:30:58.041Z"
   },
   {
    "duration": 166,
    "start_time": "2022-01-11T06:31:04.449Z"
   },
   {
    "duration": 145,
    "start_time": "2022-01-11T06:32:38.463Z"
   },
   {
    "duration": 198,
    "start_time": "2022-01-11T06:32:42.409Z"
   },
   {
    "duration": 203,
    "start_time": "2022-01-11T06:35:06.220Z"
   },
   {
    "duration": 178,
    "start_time": "2022-01-11T06:35:14.053Z"
   },
   {
    "duration": 203,
    "start_time": "2022-01-11T06:35:26.390Z"
   },
   {
    "duration": 197,
    "start_time": "2022-01-11T06:43:12.330Z"
   },
   {
    "duration": 12,
    "start_time": "2022-01-11T06:43:57.623Z"
   },
   {
    "duration": 2,
    "start_time": "2022-01-11T06:46:19.054Z"
   },
   {
    "duration": 318,
    "start_time": "2022-01-11T06:46:44.262Z"
   },
   {
    "duration": 11,
    "start_time": "2022-01-11T06:48:35.154Z"
   },
   {
    "duration": 5328,
    "start_time": "2022-01-11T06:51:18.628Z"
   },
   {
    "duration": 3,
    "start_time": "2022-01-11T06:51:32.675Z"
   },
   {
    "duration": 584,
    "start_time": "2022-01-11T06:51:39.642Z"
   },
   {
    "duration": 94,
    "start_time": "2022-01-11T06:51:40.228Z"
   },
   {
    "duration": 3,
    "start_time": "2022-01-11T06:51:40.324Z"
   },
   {
    "duration": 4,
    "start_time": "2022-01-11T06:51:40.340Z"
   },
   {
    "duration": 27,
    "start_time": "2022-01-11T06:51:40.347Z"
   },
   {
    "duration": 7,
    "start_time": "2022-01-11T06:51:40.376Z"
   },
   {
    "duration": 25,
    "start_time": "2022-01-11T06:51:40.385Z"
   },
   {
    "duration": 87,
    "start_time": "2022-01-11T06:51:40.413Z"
   },
   {
    "duration": 11,
    "start_time": "2022-01-11T06:51:40.502Z"
   },
   {
    "duration": 37,
    "start_time": "2022-01-11T06:51:40.514Z"
   },
   {
    "duration": 16,
    "start_time": "2022-01-11T06:51:40.553Z"
   },
   {
    "duration": 8,
    "start_time": "2022-01-11T06:51:40.571Z"
   },
   {
    "duration": 15,
    "start_time": "2022-01-11T06:51:40.581Z"
   },
   {
    "duration": 4,
    "start_time": "2022-01-11T06:51:40.598Z"
   },
   {
    "duration": 37,
    "start_time": "2022-01-11T06:51:40.604Z"
   },
   {
    "duration": 17,
    "start_time": "2022-01-11T06:51:40.643Z"
   },
   {
    "duration": 6,
    "start_time": "2022-01-11T06:51:40.661Z"
   },
   {
    "duration": 13,
    "start_time": "2022-01-11T06:51:40.669Z"
   },
   {
    "duration": 10,
    "start_time": "2022-01-11T06:51:40.684Z"
   },
   {
    "duration": 24,
    "start_time": "2022-01-11T06:51:40.695Z"
   },
   {
    "duration": 7,
    "start_time": "2022-01-11T06:51:40.721Z"
   },
   {
    "duration": 18,
    "start_time": "2022-01-11T06:51:40.729Z"
   },
   {
    "duration": 19,
    "start_time": "2022-01-11T06:51:40.750Z"
   },
   {
    "duration": 4,
    "start_time": "2022-01-11T06:51:40.771Z"
   },
   {
    "duration": 17,
    "start_time": "2022-01-11T06:51:40.776Z"
   },
   {
    "duration": 22,
    "start_time": "2022-01-11T06:51:40.795Z"
   },
   {
    "duration": 25,
    "start_time": "2022-01-11T06:51:40.819Z"
   },
   {
    "duration": 4,
    "start_time": "2022-01-11T06:51:40.846Z"
   },
   {
    "duration": 11,
    "start_time": "2022-01-11T06:51:40.851Z"
   },
   {
    "duration": 32,
    "start_time": "2022-01-11T06:51:40.864Z"
   },
   {
    "duration": 32,
    "start_time": "2022-01-11T06:51:40.897Z"
   },
   {
    "duration": 5,
    "start_time": "2022-01-11T06:51:40.930Z"
   },
   {
    "duration": 1014,
    "start_time": "2022-01-11T06:51:40.941Z"
   },
   {
    "duration": 22,
    "start_time": "2022-01-11T06:51:41.957Z"
   },
   {
    "duration": 5,
    "start_time": "2022-01-11T06:51:41.981Z"
   },
   {
    "duration": 9,
    "start_time": "2022-01-11T06:51:41.988Z"
   },
   {
    "duration": 44,
    "start_time": "2022-01-11T06:51:41.999Z"
   },
   {
    "duration": 72,
    "start_time": "2022-01-11T06:51:42.044Z"
   },
   {
    "duration": 244,
    "start_time": "2022-01-11T06:51:42.117Z"
   },
   {
    "duration": 140,
    "start_time": "2022-01-11T06:51:42.362Z"
   },
   {
    "duration": 198,
    "start_time": "2022-01-11T06:51:42.503Z"
   },
   {
    "duration": 156,
    "start_time": "2022-01-11T06:51:42.703Z"
   },
   {
    "duration": 317,
    "start_time": "2022-01-11T06:51:42.861Z"
   },
   {
    "duration": 179,
    "start_time": "2022-01-11T06:51:43.180Z"
   },
   {
    "duration": 200,
    "start_time": "2022-01-11T06:51:43.361Z"
   },
   {
    "duration": 11,
    "start_time": "2022-01-11T06:51:43.562Z"
   },
   {
    "duration": 2,
    "start_time": "2022-01-11T06:51:43.574Z"
   },
   {
    "duration": 5890,
    "start_time": "2022-01-11T06:51:43.578Z"
   },
   {
    "duration": 16,
    "start_time": "2022-01-11T06:52:07.459Z"
   },
   {
    "duration": 548,
    "start_time": "2022-01-11T06:52:31.578Z"
   },
   {
    "duration": 102,
    "start_time": "2022-01-11T06:52:32.128Z"
   },
   {
    "duration": 5,
    "start_time": "2022-01-11T06:52:32.231Z"
   },
   {
    "duration": 18,
    "start_time": "2022-01-11T06:52:32.242Z"
   },
   {
    "duration": 24,
    "start_time": "2022-01-11T06:52:32.262Z"
   },
   {
    "duration": 26,
    "start_time": "2022-01-11T06:52:32.288Z"
   },
   {
    "duration": 22,
    "start_time": "2022-01-11T06:52:32.315Z"
   },
   {
    "duration": 77,
    "start_time": "2022-01-11T06:52:32.340Z"
   },
   {
    "duration": 24,
    "start_time": "2022-01-11T06:52:32.420Z"
   },
   {
    "duration": 33,
    "start_time": "2022-01-11T06:52:32.447Z"
   },
   {
    "duration": 40,
    "start_time": "2022-01-11T06:52:32.482Z"
   },
   {
    "duration": 6,
    "start_time": "2022-01-11T06:52:32.524Z"
   },
   {
    "duration": 48,
    "start_time": "2022-01-11T06:52:32.532Z"
   },
   {
    "duration": 10,
    "start_time": "2022-01-11T06:52:32.582Z"
   },
   {
    "duration": 17,
    "start_time": "2022-01-11T06:52:32.594Z"
   },
   {
    "duration": 22,
    "start_time": "2022-01-11T06:52:32.613Z"
   },
   {
    "duration": 23,
    "start_time": "2022-01-11T06:52:32.637Z"
   },
   {
    "duration": 8,
    "start_time": "2022-01-11T06:52:32.662Z"
   },
   {
    "duration": 4,
    "start_time": "2022-01-11T06:52:32.672Z"
   },
   {
    "duration": 14,
    "start_time": "2022-01-11T06:52:32.678Z"
   },
   {
    "duration": 10,
    "start_time": "2022-01-11T06:52:32.693Z"
   },
   {
    "duration": 15,
    "start_time": "2022-01-11T06:52:32.705Z"
   },
   {
    "duration": 36,
    "start_time": "2022-01-11T06:52:32.723Z"
   },
   {
    "duration": 4,
    "start_time": "2022-01-11T06:52:32.762Z"
   },
   {
    "duration": 6,
    "start_time": "2022-01-11T06:52:32.767Z"
   },
   {
    "duration": 23,
    "start_time": "2022-01-11T06:52:32.775Z"
   },
   {
    "duration": 44,
    "start_time": "2022-01-11T06:52:32.800Z"
   },
   {
    "duration": 5,
    "start_time": "2022-01-11T06:52:32.846Z"
   },
   {
    "duration": 16,
    "start_time": "2022-01-11T06:52:32.853Z"
   },
   {
    "duration": 17,
    "start_time": "2022-01-11T06:52:32.871Z"
   },
   {
    "duration": 58,
    "start_time": "2022-01-11T06:52:32.890Z"
   },
   {
    "duration": 5,
    "start_time": "2022-01-11T06:52:32.951Z"
   },
   {
    "duration": 1057,
    "start_time": "2022-01-11T06:52:32.958Z"
   },
   {
    "duration": 33,
    "start_time": "2022-01-11T06:52:34.017Z"
   },
   {
    "duration": 6,
    "start_time": "2022-01-11T06:52:34.053Z"
   },
   {
    "duration": 11,
    "start_time": "2022-01-11T06:52:34.060Z"
   },
   {
    "duration": 15,
    "start_time": "2022-01-11T06:52:34.073Z"
   },
   {
    "duration": 91,
    "start_time": "2022-01-11T06:52:34.090Z"
   },
   {
    "duration": 242,
    "start_time": "2022-01-11T06:52:34.182Z"
   },
   {
    "duration": 143,
    "start_time": "2022-01-11T06:52:34.425Z"
   },
   {
    "duration": 210,
    "start_time": "2022-01-11T06:52:34.570Z"
   },
   {
    "duration": 162,
    "start_time": "2022-01-11T06:52:34.781Z"
   },
   {
    "duration": 354,
    "start_time": "2022-01-11T06:52:34.945Z"
   },
   {
    "duration": 197,
    "start_time": "2022-01-11T06:52:35.300Z"
   },
   {
    "duration": 207,
    "start_time": "2022-01-11T06:52:35.499Z"
   },
   {
    "duration": 2,
    "start_time": "2022-01-11T06:52:35.708Z"
   },
   {
    "duration": 348,
    "start_time": "2022-01-11T06:52:35.711Z"
   },
   {
    "duration": 21,
    "start_time": "2022-01-11T06:54:19.945Z"
   },
   {
    "duration": 557,
    "start_time": "2022-01-11T06:54:58.961Z"
   },
   {
    "duration": 97,
    "start_time": "2022-01-11T06:54:59.520Z"
   },
   {
    "duration": 5,
    "start_time": "2022-01-11T06:54:59.619Z"
   },
   {
    "duration": 15,
    "start_time": "2022-01-11T06:54:59.626Z"
   },
   {
    "duration": 25,
    "start_time": "2022-01-11T06:54:59.643Z"
   },
   {
    "duration": 10,
    "start_time": "2022-01-11T06:54:59.670Z"
   },
   {
    "duration": 11,
    "start_time": "2022-01-11T06:54:59.682Z"
   },
   {
    "duration": 104,
    "start_time": "2022-01-11T06:54:59.697Z"
   },
   {
    "duration": 8,
    "start_time": "2022-01-11T06:54:59.804Z"
   },
   {
    "duration": 44,
    "start_time": "2022-01-11T06:54:59.813Z"
   },
   {
    "duration": 19,
    "start_time": "2022-01-11T06:54:59.859Z"
   },
   {
    "duration": 5,
    "start_time": "2022-01-11T06:54:59.879Z"
   },
   {
    "duration": 12,
    "start_time": "2022-01-11T06:54:59.886Z"
   },
   {
    "duration": 41,
    "start_time": "2022-01-11T06:54:59.900Z"
   },
   {
    "duration": 3,
    "start_time": "2022-01-11T06:54:59.943Z"
   },
   {
    "duration": 14,
    "start_time": "2022-01-11T06:54:59.948Z"
   },
   {
    "duration": 4,
    "start_time": "2022-01-11T06:54:59.964Z"
   },
   {
    "duration": 6,
    "start_time": "2022-01-11T06:54:59.970Z"
   },
   {
    "duration": 3,
    "start_time": "2022-01-11T06:54:59.978Z"
   },
   {
    "duration": 12,
    "start_time": "2022-01-11T06:54:59.982Z"
   },
   {
    "duration": 8,
    "start_time": "2022-01-11T06:54:59.995Z"
   },
   {
    "duration": 45,
    "start_time": "2022-01-11T06:55:00.005Z"
   },
   {
    "duration": 24,
    "start_time": "2022-01-11T06:55:00.055Z"
   },
   {
    "duration": 3,
    "start_time": "2022-01-11T06:55:00.081Z"
   },
   {
    "duration": 8,
    "start_time": "2022-01-11T06:55:00.086Z"
   },
   {
    "duration": 49,
    "start_time": "2022-01-11T06:55:00.095Z"
   },
   {
    "duration": 11,
    "start_time": "2022-01-11T06:55:00.148Z"
   },
   {
    "duration": 5,
    "start_time": "2022-01-11T06:55:00.161Z"
   },
   {
    "duration": 9,
    "start_time": "2022-01-11T06:55:00.168Z"
   },
   {
    "duration": 24,
    "start_time": "2022-01-11T06:55:00.179Z"
   },
   {
    "duration": 52,
    "start_time": "2022-01-11T06:55:00.205Z"
   },
   {
    "duration": 4,
    "start_time": "2022-01-11T06:55:00.259Z"
   },
   {
    "duration": 556,
    "start_time": "2022-01-11T06:55:00.265Z"
   },
   {
    "duration": 38,
    "start_time": "2022-01-11T06:55:00.823Z"
   },
   {
    "duration": 4,
    "start_time": "2022-01-11T06:55:00.863Z"
   },
   {
    "duration": 15,
    "start_time": "2022-01-11T06:55:00.868Z"
   },
   {
    "duration": 28,
    "start_time": "2022-01-11T06:55:00.884Z"
   },
   {
    "duration": 82,
    "start_time": "2022-01-11T06:55:00.914Z"
   },
   {
    "duration": 239,
    "start_time": "2022-01-11T06:55:00.997Z"
   },
   {
    "duration": 142,
    "start_time": "2022-01-11T06:55:01.238Z"
   },
   {
    "duration": 217,
    "start_time": "2022-01-11T06:55:01.381Z"
   },
   {
    "duration": 187,
    "start_time": "2022-01-11T06:55:01.600Z"
   },
   {
    "duration": 356,
    "start_time": "2022-01-11T06:55:01.789Z"
   },
   {
    "duration": 188,
    "start_time": "2022-01-11T06:55:02.147Z"
   },
   {
    "duration": 194,
    "start_time": "2022-01-11T06:55:02.341Z"
   },
   {
    "duration": 24,
    "start_time": "2022-01-11T06:55:02.537Z"
   },
   {
    "duration": 24,
    "start_time": "2022-01-11T06:55:02.563Z"
   },
   {
    "duration": 314,
    "start_time": "2022-01-11T06:55:02.589Z"
   },
   {
    "duration": 167,
    "start_time": "2022-01-11T06:56:09.627Z"
   },
   {
    "duration": 183,
    "start_time": "2022-01-11T06:56:15.656Z"
   },
   {
    "duration": 220,
    "start_time": "2022-01-11T06:56:17.618Z"
   },
   {
    "duration": 354,
    "start_time": "2022-01-11T07:00:11.105Z"
   },
   {
    "duration": 18,
    "start_time": "2022-01-11T07:00:35.147Z"
   },
   {
    "duration": 212,
    "start_time": "2022-01-11T07:02:10.516Z"
   },
   {
    "duration": 6,
    "start_time": "2022-01-11T07:02:15.641Z"
   },
   {
    "duration": 6,
    "start_time": "2022-01-11T07:02:23.745Z"
   },
   {
    "duration": 6,
    "start_time": "2022-01-11T07:02:31.863Z"
   },
   {
    "duration": 17,
    "start_time": "2022-01-11T07:02:45.366Z"
   },
   {
    "duration": 13,
    "start_time": "2022-01-11T07:03:12.425Z"
   },
   {
    "duration": 359,
    "start_time": "2022-01-11T07:03:27.309Z"
   },
   {
    "duration": 205,
    "start_time": "2022-01-11T07:03:37.672Z"
   },
   {
    "duration": 194,
    "start_time": "2022-01-11T07:04:29.663Z"
   },
   {
    "duration": 222,
    "start_time": "2022-01-11T07:05:15.938Z"
   },
   {
    "duration": 215,
    "start_time": "2022-01-11T07:07:25.185Z"
   },
   {
    "duration": 70,
    "start_time": "2022-01-11T07:07:37.268Z"
   },
   {
    "duration": 186,
    "start_time": "2022-01-11T07:07:45.064Z"
   },
   {
    "duration": 35,
    "start_time": "2022-01-11T07:08:09.626Z"
   },
   {
    "duration": 201,
    "start_time": "2022-01-11T07:10:41.319Z"
   },
   {
    "duration": 219,
    "start_time": "2022-01-11T07:10:49.935Z"
   },
   {
    "duration": 211,
    "start_time": "2022-01-11T07:11:01.675Z"
   },
   {
    "duration": 302,
    "start_time": "2022-01-11T07:11:09.903Z"
   },
   {
    "duration": 211,
    "start_time": "2022-01-11T07:11:14.005Z"
   },
   {
    "duration": 218,
    "start_time": "2022-01-11T07:11:20.782Z"
   },
   {
    "duration": 245,
    "start_time": "2022-01-11T07:11:28.201Z"
   },
   {
    "duration": 240,
    "start_time": "2022-01-11T07:11:49.968Z"
   },
   {
    "duration": 6,
    "start_time": "2022-01-11T07:16:27.197Z"
   },
   {
    "duration": 5,
    "start_time": "2022-01-11T07:16:36.458Z"
   },
   {
    "duration": 142,
    "start_time": "2022-01-11T07:17:11.831Z"
   },
   {
    "duration": 135,
    "start_time": "2022-01-11T07:17:40.450Z"
   },
   {
    "duration": 189,
    "start_time": "2022-01-11T07:19:29.537Z"
   },
   {
    "duration": 189,
    "start_time": "2022-01-11T07:20:16.942Z"
   },
   {
    "duration": 193,
    "start_time": "2022-01-11T07:20:27.383Z"
   },
   {
    "duration": 198,
    "start_time": "2022-01-11T07:21:45.253Z"
   },
   {
    "duration": 227,
    "start_time": "2022-01-11T07:22:00.456Z"
   },
   {
    "duration": 309,
    "start_time": "2022-01-11T07:23:05.937Z"
   },
   {
    "duration": 195,
    "start_time": "2022-01-11T07:23:30.484Z"
   },
   {
    "duration": 203,
    "start_time": "2022-01-11T07:23:51.256Z"
   },
   {
    "duration": 221,
    "start_time": "2022-01-11T07:23:55.770Z"
   },
   {
    "duration": 233,
    "start_time": "2022-01-11T07:24:00.556Z"
   },
   {
    "duration": 242,
    "start_time": "2022-01-11T07:24:22.743Z"
   },
   {
    "duration": 257,
    "start_time": "2022-01-11T07:24:32.350Z"
   },
   {
    "duration": 267,
    "start_time": "2022-01-11T07:24:55.805Z"
   },
   {
    "duration": 231,
    "start_time": "2022-01-11T07:25:05.775Z"
   },
   {
    "duration": 236,
    "start_time": "2022-01-11T07:26:22.110Z"
   },
   {
    "duration": 5,
    "start_time": "2022-01-11T07:26:41.699Z"
   },
   {
    "duration": 252,
    "start_time": "2022-01-11T07:26:51.950Z"
   },
   {
    "duration": 2781,
    "start_time": "2022-01-11T07:27:35.676Z"
   },
   {
    "duration": 2686,
    "start_time": "2022-01-11T07:27:57.982Z"
   },
   {
    "duration": 8,
    "start_time": "2022-01-11T07:28:26.441Z"
   },
   {
    "duration": 7,
    "start_time": "2022-01-11T07:30:10.281Z"
   },
   {
    "duration": 68,
    "start_time": "2022-01-11T11:16:17.160Z"
   },
   {
    "duration": 22,
    "start_time": "2022-01-11T11:21:45.283Z"
   },
   {
    "duration": 18,
    "start_time": "2022-01-11T11:22:54.659Z"
   },
   {
    "duration": 32,
    "start_time": "2022-01-11T11:23:33.259Z"
   },
   {
    "duration": 11,
    "start_time": "2022-01-11T11:24:32.734Z"
   },
   {
    "duration": 49,
    "start_time": "2022-01-11T11:24:40.913Z"
   },
   {
    "duration": 12,
    "start_time": "2022-01-11T11:30:24.138Z"
   },
   {
    "duration": 12,
    "start_time": "2022-01-11T11:30:38.215Z"
   },
   {
    "duration": 223,
    "start_time": "2022-01-11T11:31:03.536Z"
   },
   {
    "duration": 14,
    "start_time": "2022-01-11T11:31:50.976Z"
   },
   {
    "duration": 315,
    "start_time": "2022-01-11T11:31:54.087Z"
   },
   {
    "duration": 12,
    "start_time": "2022-01-11T11:32:08.381Z"
   },
   {
    "duration": 7,
    "start_time": "2022-01-11T11:32:43.699Z"
   },
   {
    "duration": 13,
    "start_time": "2022-01-11T11:33:03.823Z"
   },
   {
    "duration": 216,
    "start_time": "2022-01-11T11:33:06.288Z"
   },
   {
    "duration": 9,
    "start_time": "2022-01-11T11:34:38.150Z"
   },
   {
    "duration": 198,
    "start_time": "2022-01-11T11:34:40.831Z"
   },
   {
    "duration": 204,
    "start_time": "2022-01-11T11:34:55.171Z"
   },
   {
    "duration": 194,
    "start_time": "2022-01-11T11:34:59.597Z"
   },
   {
    "duration": 212,
    "start_time": "2022-01-11T11:35:06.748Z"
   },
   {
    "duration": 7,
    "start_time": "2022-01-11T11:35:14.264Z"
   },
   {
    "duration": 175,
    "start_time": "2022-01-11T11:36:11.437Z"
   },
   {
    "duration": 196,
    "start_time": "2022-01-11T11:36:14.886Z"
   },
   {
    "duration": 219,
    "start_time": "2022-01-11T11:36:21.443Z"
   },
   {
    "duration": 150,
    "start_time": "2022-01-11T11:36:59.535Z"
   },
   {
    "duration": 17,
    "start_time": "2022-01-11T11:39:28.191Z"
   },
   {
    "duration": 30,
    "start_time": "2022-01-11T11:40:29.589Z"
   },
   {
    "duration": 208,
    "start_time": "2022-01-11T11:42:04.704Z"
   },
   {
    "duration": 204,
    "start_time": "2022-01-11T11:42:11.480Z"
   },
   {
    "duration": 289,
    "start_time": "2022-01-11T11:42:21.199Z"
   },
   {
    "duration": 202,
    "start_time": "2022-01-11T11:42:42.148Z"
   },
   {
    "duration": 31,
    "start_time": "2022-01-11T11:44:11.444Z"
   },
   {
    "duration": 5,
    "start_time": "2022-01-11T11:44:55.846Z"
   },
   {
    "duration": 211,
    "start_time": "2022-01-11T11:45:16.591Z"
   },
   {
    "duration": 192,
    "start_time": "2022-01-11T11:45:52.659Z"
   },
   {
    "duration": 413,
    "start_time": "2022-01-11T11:47:06.196Z"
   },
   {
    "duration": 193,
    "start_time": "2022-01-11T11:47:11.156Z"
   },
   {
    "duration": 12,
    "start_time": "2022-01-11T11:47:37.204Z"
   },
   {
    "duration": 12,
    "start_time": "2022-01-11T11:47:56.080Z"
   },
   {
    "duration": 214,
    "start_time": "2022-01-11T11:49:07.500Z"
   },
   {
    "duration": 214,
    "start_time": "2022-01-11T11:53:09.031Z"
   },
   {
    "duration": 206,
    "start_time": "2022-01-11T11:53:28.813Z"
   },
   {
    "duration": 215,
    "start_time": "2022-01-11T11:53:58.408Z"
   },
   {
    "duration": 360,
    "start_time": "2022-01-11T11:55:13.143Z"
   },
   {
    "duration": 180,
    "start_time": "2022-01-11T11:56:12.986Z"
   },
   {
    "duration": 194,
    "start_time": "2022-01-11T11:56:51.472Z"
   },
   {
    "duration": 8,
    "start_time": "2022-01-11T11:57:10.328Z"
   },
   {
    "duration": 197,
    "start_time": "2022-01-11T11:57:52.781Z"
   },
   {
    "duration": 450,
    "start_time": "2022-01-11T12:00:00.300Z"
   },
   {
    "duration": 439,
    "start_time": "2022-01-11T12:01:58.327Z"
   },
   {
    "duration": 199,
    "start_time": "2022-01-11T12:03:59.057Z"
   },
   {
    "duration": 361,
    "start_time": "2022-01-11T12:04:34.173Z"
   },
   {
    "duration": 183,
    "start_time": "2022-01-11T12:04:43.301Z"
   },
   {
    "duration": 172,
    "start_time": "2022-01-11T12:05:08.796Z"
   },
   {
    "duration": 175,
    "start_time": "2022-01-11T12:05:13.653Z"
   },
   {
    "duration": 169,
    "start_time": "2022-01-11T12:06:19.973Z"
   },
   {
    "duration": 178,
    "start_time": "2022-01-11T12:08:46.034Z"
   },
   {
    "duration": 243,
    "start_time": "2022-01-11T12:09:21.823Z"
   },
   {
    "duration": 273,
    "start_time": "2022-01-11T12:09:52.309Z"
   },
   {
    "duration": 172,
    "start_time": "2022-01-11T12:14:10.419Z"
   },
   {
    "duration": 9,
    "start_time": "2022-01-11T13:16:49.717Z"
   },
   {
    "duration": 8,
    "start_time": "2022-01-11T13:17:00.961Z"
   },
   {
    "duration": 10,
    "start_time": "2022-01-11T13:18:24.210Z"
   },
   {
    "duration": 8,
    "start_time": "2022-01-11T13:18:53.507Z"
   },
   {
    "duration": 206,
    "start_time": "2022-01-11T13:19:04.641Z"
   },
   {
    "duration": 399,
    "start_time": "2022-01-11T13:19:09.120Z"
   },
   {
    "duration": 202,
    "start_time": "2022-01-11T13:19:13.888Z"
   },
   {
    "duration": 8,
    "start_time": "2022-01-11T13:19:23.467Z"
   },
   {
    "duration": 8,
    "start_time": "2022-01-11T13:19:28.895Z"
   },
   {
    "duration": 400,
    "start_time": "2022-01-11T13:21:22.013Z"
   },
   {
    "duration": 32,
    "start_time": "2022-01-11T13:21:32.146Z"
   },
   {
    "duration": 27,
    "start_time": "2022-01-11T13:22:08.984Z"
   },
   {
    "duration": 30,
    "start_time": "2022-01-11T13:22:15.959Z"
   },
   {
    "duration": 23,
    "start_time": "2022-01-11T13:22:23.007Z"
   },
   {
    "duration": 8,
    "start_time": "2022-01-11T13:22:38.426Z"
   },
   {
    "duration": 7,
    "start_time": "2022-01-11T13:22:41.038Z"
   },
   {
    "duration": 18,
    "start_time": "2022-01-11T13:25:14.550Z"
   },
   {
    "duration": 12,
    "start_time": "2022-01-11T13:25:28.594Z"
   },
   {
    "duration": 7,
    "start_time": "2022-01-11T13:26:27.244Z"
   },
   {
    "duration": 33,
    "start_time": "2022-01-11T13:26:42.242Z"
   },
   {
    "duration": 36,
    "start_time": "2022-01-11T13:26:57.708Z"
   },
   {
    "duration": 35,
    "start_time": "2022-01-11T13:28:52.362Z"
   },
   {
    "duration": 188,
    "start_time": "2022-01-11T13:29:06.528Z"
   },
   {
    "duration": 217,
    "start_time": "2022-01-11T13:29:25.449Z"
   },
   {
    "duration": 174,
    "start_time": "2022-01-11T13:29:45.884Z"
   },
   {
    "duration": 245,
    "start_time": "2022-01-11T13:31:28.134Z"
   },
   {
    "duration": 12,
    "start_time": "2022-01-11T13:31:46.142Z"
   },
   {
    "duration": 34,
    "start_time": "2022-01-11T13:31:52.779Z"
   },
   {
    "duration": 25,
    "start_time": "2022-01-11T13:32:01.658Z"
   },
   {
    "duration": 25,
    "start_time": "2022-01-11T13:32:13.885Z"
   },
   {
    "duration": 5595,
    "start_time": "2022-01-11T13:33:04.640Z"
   },
   {
    "duration": 26,
    "start_time": "2022-01-11T13:33:55.252Z"
   },
   {
    "duration": 199,
    "start_time": "2022-01-11T13:34:26.532Z"
   },
   {
    "duration": 186,
    "start_time": "2022-01-11T13:34:59.437Z"
   },
   {
    "duration": 199,
    "start_time": "2022-01-11T13:35:22.691Z"
   },
   {
    "duration": 179,
    "start_time": "2022-01-11T13:35:32.291Z"
   },
   {
    "duration": 182,
    "start_time": "2022-01-11T13:35:41.282Z"
   },
   {
    "duration": 175,
    "start_time": "2022-01-11T13:36:17.697Z"
   },
   {
    "duration": 76,
    "start_time": "2022-01-11T13:36:46.261Z"
   },
   {
    "duration": 205,
    "start_time": "2022-01-11T13:36:53.533Z"
   },
   {
    "duration": 205,
    "start_time": "2022-01-11T13:37:01.812Z"
   },
   {
    "duration": 618,
    "start_time": "2022-01-11T13:37:10.726Z"
   },
   {
    "duration": 11,
    "start_time": "2022-01-11T13:41:10.244Z"
   },
   {
    "duration": 196,
    "start_time": "2022-01-11T13:41:19.140Z"
   },
   {
    "duration": 10,
    "start_time": "2022-01-11T13:41:22.891Z"
   },
   {
    "duration": 265,
    "start_time": "2022-01-11T13:44:23.109Z"
   },
   {
    "duration": 263,
    "start_time": "2022-01-11T13:46:14.002Z"
   },
   {
    "duration": 297,
    "start_time": "2022-01-11T13:46:28.239Z"
   },
   {
    "duration": 195,
    "start_time": "2022-01-11T13:46:41.107Z"
   },
   {
    "duration": 196,
    "start_time": "2022-01-11T13:46:48.479Z"
   },
   {
    "duration": 220,
    "start_time": "2022-01-11T13:47:04.727Z"
   },
   {
    "duration": 213,
    "start_time": "2022-01-11T13:47:20.341Z"
   },
   {
    "duration": 211,
    "start_time": "2022-01-11T13:49:29.439Z"
   },
   {
    "duration": 200,
    "start_time": "2022-01-11T13:49:40.034Z"
   },
   {
    "duration": 268,
    "start_time": "2022-01-11T13:50:39.160Z"
   },
   {
    "duration": 200,
    "start_time": "2022-01-11T13:50:57.813Z"
   },
   {
    "duration": 188,
    "start_time": "2022-01-11T13:51:12.672Z"
   },
   {
    "duration": 216,
    "start_time": "2022-01-11T13:51:24.448Z"
   },
   {
    "duration": 186,
    "start_time": "2022-01-11T13:51:42.651Z"
   },
   {
    "duration": 295,
    "start_time": "2022-01-11T13:51:47.366Z"
   },
   {
    "duration": 270,
    "start_time": "2022-01-11T13:51:51.830Z"
   },
   {
    "duration": 218,
    "start_time": "2022-01-11T13:51:55.426Z"
   },
   {
    "duration": 228,
    "start_time": "2022-01-11T13:52:00.376Z"
   },
   {
    "duration": 201,
    "start_time": "2022-01-11T13:57:03.931Z"
   },
   {
    "duration": 176,
    "start_time": "2022-01-11T14:00:52.995Z"
   },
   {
    "duration": 183,
    "start_time": "2022-01-11T14:01:00.564Z"
   },
   {
    "duration": 180,
    "start_time": "2022-01-11T14:01:02.621Z"
   },
   {
    "duration": 177,
    "start_time": "2022-01-11T14:01:06.644Z"
   },
   {
    "duration": 183,
    "start_time": "2022-01-11T14:01:16.829Z"
   },
   {
    "duration": 321,
    "start_time": "2022-01-11T14:02:49.459Z"
   },
   {
    "duration": 189,
    "start_time": "2022-01-11T14:08:25.044Z"
   },
   {
    "duration": 181,
    "start_time": "2022-01-11T14:08:56.145Z"
   },
   {
    "duration": 577,
    "start_time": "2022-01-11T14:09:26.042Z"
   },
   {
    "duration": 480,
    "start_time": "2022-01-11T14:09:50.362Z"
   },
   {
    "duration": 194,
    "start_time": "2022-01-11T14:21:54.645Z"
   },
   {
    "duration": 194,
    "start_time": "2022-01-11T14:22:02.060Z"
   },
   {
    "duration": 568,
    "start_time": "2022-01-13T06:14:45.511Z"
   },
   {
    "duration": 81,
    "start_time": "2022-01-13T06:14:46.081Z"
   },
   {
    "duration": 4,
    "start_time": "2022-01-13T06:14:48.311Z"
   },
   {
    "duration": 3,
    "start_time": "2022-01-13T06:14:48.783Z"
   },
   {
    "duration": 20,
    "start_time": "2022-01-13T06:14:49.644Z"
   },
   {
    "duration": 7,
    "start_time": "2022-01-13T06:14:50.176Z"
   },
   {
    "duration": 10,
    "start_time": "2022-01-13T06:14:51.593Z"
   },
   {
    "duration": 64,
    "start_time": "2022-01-13T06:14:51.924Z"
   },
   {
    "duration": 8,
    "start_time": "2022-01-13T06:14:53.271Z"
   },
   {
    "duration": 22,
    "start_time": "2022-01-13T06:14:53.652Z"
   },
   {
    "duration": 16,
    "start_time": "2022-01-13T06:14:57.936Z"
   },
   {
    "duration": 3,
    "start_time": "2022-01-13T06:14:59.300Z"
   },
   {
    "duration": 9,
    "start_time": "2022-01-13T06:15:02.652Z"
   },
   {
    "duration": 3,
    "start_time": "2022-01-13T06:15:02.960Z"
   },
   {
    "duration": 4,
    "start_time": "2022-01-13T06:15:07.067Z"
   },
   {
    "duration": 4,
    "start_time": "2022-01-13T06:15:07.523Z"
   },
   {
    "duration": 5,
    "start_time": "2022-01-13T06:15:09.548Z"
   },
   {
    "duration": 5,
    "start_time": "2022-01-13T06:15:21.260Z"
   },
   {
    "duration": 4,
    "start_time": "2022-01-13T06:15:53.097Z"
   },
   {
    "duration": 8,
    "start_time": "2022-01-13T06:15:55.452Z"
   },
   {
    "duration": 5,
    "start_time": "2022-01-13T06:15:55.956Z"
   },
   {
    "duration": 12,
    "start_time": "2022-01-13T06:15:56.756Z"
   },
   {
    "duration": 538,
    "start_time": "2022-01-16T11:48:02.341Z"
   },
   {
    "duration": 87,
    "start_time": "2022-01-16T11:48:02.881Z"
   },
   {
    "duration": 3,
    "start_time": "2022-01-16T11:48:02.970Z"
   },
   {
    "duration": 11,
    "start_time": "2022-01-16T11:48:02.975Z"
   },
   {
    "duration": 29,
    "start_time": "2022-01-16T11:48:02.991Z"
   },
   {
    "duration": 8,
    "start_time": "2022-01-16T11:48:03.021Z"
   },
   {
    "duration": 13,
    "start_time": "2022-01-16T11:48:03.030Z"
   },
   {
    "duration": 95,
    "start_time": "2022-01-16T11:48:03.045Z"
   },
   {
    "duration": 9,
    "start_time": "2022-01-16T11:48:03.142Z"
   },
   {
    "duration": 22,
    "start_time": "2022-01-16T11:48:03.152Z"
   },
   {
    "duration": 39,
    "start_time": "2022-01-16T11:48:03.175Z"
   },
   {
    "duration": 6,
    "start_time": "2022-01-16T11:48:03.215Z"
   },
   {
    "duration": 11,
    "start_time": "2022-01-16T11:48:03.222Z"
   },
   {
    "duration": 3,
    "start_time": "2022-01-16T11:48:03.234Z"
   },
   {
    "duration": 7,
    "start_time": "2022-01-16T11:48:03.239Z"
   },
   {
    "duration": 16,
    "start_time": "2022-01-16T11:48:03.247Z"
   },
   {
    "duration": 12,
    "start_time": "2022-01-16T11:48:03.264Z"
   },
   {
    "duration": 6,
    "start_time": "2022-01-16T11:48:03.278Z"
   },
   {
    "duration": 3,
    "start_time": "2022-01-16T11:48:03.291Z"
   },
   {
    "duration": 9,
    "start_time": "2022-01-16T11:48:03.296Z"
   },
   {
    "duration": 6,
    "start_time": "2022-01-16T11:48:03.307Z"
   },
   {
    "duration": 12,
    "start_time": "2022-01-16T11:48:03.315Z"
   },
   {
    "duration": 21,
    "start_time": "2022-01-16T11:48:03.330Z"
   },
   {
    "duration": 3,
    "start_time": "2022-01-16T11:48:03.353Z"
   },
   {
    "duration": 33,
    "start_time": "2022-01-16T11:48:03.358Z"
   },
   {
    "duration": 21,
    "start_time": "2022-01-16T11:48:03.393Z"
   },
   {
    "duration": 16,
    "start_time": "2022-01-16T11:48:03.416Z"
   },
   {
    "duration": 4,
    "start_time": "2022-01-16T11:48:03.434Z"
   },
   {
    "duration": 9,
    "start_time": "2022-01-16T11:48:03.440Z"
   },
   {
    "duration": 16,
    "start_time": "2022-01-16T11:48:03.451Z"
   },
   {
    "duration": 44,
    "start_time": "2022-01-16T11:48:03.469Z"
   },
   {
    "duration": 3,
    "start_time": "2022-01-16T11:48:03.515Z"
   },
   {
    "duration": 564,
    "start_time": "2022-01-16T11:48:03.520Z"
   },
   {
    "duration": 23,
    "start_time": "2022-01-16T11:48:04.086Z"
   },
   {
    "duration": 3,
    "start_time": "2022-01-16T11:48:04.111Z"
   },
   {
    "duration": 6,
    "start_time": "2022-01-16T11:48:04.116Z"
   },
   {
    "duration": 19,
    "start_time": "2022-01-16T11:48:04.123Z"
   },
   {
    "duration": 96,
    "start_time": "2022-01-16T11:48:04.144Z"
   },
   {
    "duration": 257,
    "start_time": "2022-01-16T11:48:04.241Z"
   },
   {
    "duration": 147,
    "start_time": "2022-01-16T11:48:04.499Z"
   },
   {
    "duration": 208,
    "start_time": "2022-01-16T11:48:04.647Z"
   },
   {
    "duration": 163,
    "start_time": "2022-01-16T11:48:04.857Z"
   },
   {
    "duration": 371,
    "start_time": "2022-01-16T11:48:05.022Z"
   },
   {
    "duration": 198,
    "start_time": "2022-01-16T11:48:05.394Z"
   },
   {
    "duration": 214,
    "start_time": "2022-01-16T11:48:05.594Z"
   },
   {
    "duration": 12,
    "start_time": "2022-01-16T11:48:05.809Z"
   },
   {
    "duration": 8,
    "start_time": "2022-01-16T11:48:05.823Z"
   },
   {
    "duration": 276,
    "start_time": "2022-01-16T11:48:05.832Z"
   },
   {
    "duration": 278,
    "start_time": "2022-01-16T11:48:06.110Z"
   },
   {
    "duration": 160,
    "start_time": "2022-01-16T11:48:06.392Z"
   },
   {
    "duration": 4,
    "start_time": "2022-01-16T11:48:06.554Z"
   },
   {
    "duration": 14,
    "start_time": "2022-01-16T11:48:06.560Z"
   },
   {
    "duration": 16,
    "start_time": "2022-01-16T11:48:06.575Z"
   },
   {
    "duration": 283,
    "start_time": "2022-01-16T11:48:06.593Z"
   },
   {
    "duration": 272,
    "start_time": "2022-01-16T11:48:06.878Z"
   },
   {
    "duration": 9,
    "start_time": "2022-01-16T11:48:07.151Z"
   },
   {
    "duration": 256,
    "start_time": "2022-01-16T11:48:07.162Z"
   },
   {
    "duration": 246,
    "start_time": "2022-01-16T11:48:07.420Z"
   },
   {
    "duration": 225,
    "start_time": "2022-01-16T11:48:07.668Z"
   },
   {
    "duration": 453,
    "start_time": "2022-01-16T11:48:07.895Z"
   },
   {
    "duration": 195,
    "start_time": "2022-01-16T11:48:08.350Z"
   },
   {
    "duration": 203,
    "start_time": "2022-01-16T11:48:08.547Z"
   },
   {
    "duration": 199,
    "start_time": "2022-01-16T11:48:08.751Z"
   },
   {
    "duration": 228,
    "start_time": "2022-01-16T11:48:08.952Z"
   },
   {
    "duration": 12,
    "start_time": "2022-01-16T11:48:09.181Z"
   },
   {
    "duration": 26,
    "start_time": "2022-01-16T11:48:09.195Z"
   },
   {
    "duration": 7,
    "start_time": "2022-01-16T11:48:09.224Z"
   },
   {
    "duration": 9,
    "start_time": "2022-01-16T11:48:09.238Z"
   },
   {
    "duration": 69,
    "start_time": "2022-01-16T11:48:09.249Z"
   },
   {
    "duration": 211,
    "start_time": "2022-01-16T11:48:09.320Z"
   },
   {
    "duration": 8,
    "start_time": "2022-01-16T11:48:09.533Z"
   },
   {
    "duration": 304,
    "start_time": "2022-01-16T11:48:09.543Z"
   },
   {
    "duration": 228,
    "start_time": "2022-01-16T11:48:09.849Z"
   },
   {
    "duration": 244,
    "start_time": "2022-01-16T11:48:10.079Z"
   },
   {
    "duration": 200,
    "start_time": "2022-01-16T11:48:10.325Z"
   },
   {
    "duration": 325,
    "start_time": "2022-01-16T11:48:10.527Z"
   },
   {
    "duration": 553,
    "start_time": "2022-01-16T11:48:10.853Z"
   },
   {
    "duration": 5,
    "start_time": "2022-01-16T11:49:04.431Z"
   },
   {
    "duration": 4,
    "start_time": "2022-01-16T11:49:22.818Z"
   },
   {
    "duration": 5,
    "start_time": "2022-01-16T11:49:46.961Z"
   },
   {
    "duration": 4,
    "start_time": "2022-01-16T11:50:07.633Z"
   },
   {
    "duration": 42,
    "start_time": "2022-01-16T11:51:35.503Z"
   },
   {
    "duration": 6,
    "start_time": "2022-01-16T11:52:02.347Z"
   },
   {
    "duration": 202,
    "start_time": "2022-01-16T11:58:39.952Z"
   },
   {
    "duration": 3,
    "start_time": "2022-01-16T11:58:47.512Z"
   },
   {
    "duration": 6,
    "start_time": "2022-01-16T11:58:54.237Z"
   },
   {
    "duration": 3304,
    "start_time": "2022-01-16T11:59:23.435Z"
   },
   {
    "duration": 1012,
    "start_time": "2022-01-16T11:59:35.072Z"
   },
   {
    "duration": 135,
    "start_time": "2022-01-16T11:59:49.579Z"
   },
   {
    "duration": 5,
    "start_time": "2022-01-16T11:59:58.861Z"
   },
   {
    "duration": 5,
    "start_time": "2022-01-16T12:00:21.738Z"
   },
   {
    "duration": 19,
    "start_time": "2022-01-16T12:00:37.026Z"
   },
   {
    "duration": 13,
    "start_time": "2022-01-16T12:01:24.163Z"
   },
   {
    "duration": 5,
    "start_time": "2022-01-16T12:04:59.650Z"
   },
   {
    "duration": 212,
    "start_time": "2022-01-16T12:10:16.173Z"
   },
   {
    "duration": 208,
    "start_time": "2022-01-16T12:11:43.212Z"
   },
   {
    "duration": 210,
    "start_time": "2022-01-16T12:11:47.232Z"
   },
   {
    "duration": 131,
    "start_time": "2022-01-16T12:14:57.353Z"
   },
   {
    "duration": 12,
    "start_time": "2022-01-16T12:15:12.851Z"
   },
   {
    "duration": 13,
    "start_time": "2022-01-16T12:17:42.340Z"
   },
   {
    "duration": 6918,
    "start_time": "2022-01-16T12:17:46.075Z"
   },
   {
    "duration": 5464,
    "start_time": "2022-01-16T12:18:58.302Z"
   },
   {
    "duration": 6514,
    "start_time": "2022-01-16T12:19:12.413Z"
   },
   {
    "duration": 6404,
    "start_time": "2022-01-16T12:22:30.145Z"
   },
   {
    "duration": 6082,
    "start_time": "2022-01-16T12:22:43.521Z"
   },
   {
    "duration": 6186,
    "start_time": "2022-01-16T12:22:58.716Z"
   },
   {
    "duration": 6040,
    "start_time": "2022-01-16T12:23:10.557Z"
   },
   {
    "duration": 6498,
    "start_time": "2022-01-16T12:23:24.136Z"
   }
  ],
  "kernelspec": {
   "display_name": "Python 3",
   "language": "python",
   "name": "python3"
  },
  "language_info": {
   "codemirror_mode": {
    "name": "ipython",
    "version": 3
   },
   "file_extension": ".py",
   "mimetype": "text/x-python",
   "name": "python",
   "nbconvert_exporter": "python",
   "pygments_lexer": "ipython3",
   "version": "3.8.5"
  },
  "toc": {
   "base_numbering": 1,
   "nav_menu": {},
   "number_sections": true,
   "sideBar": true,
   "skip_h1_title": true,
   "title_cell": "Содержание",
   "title_sidebar": "Contents",
   "toc_cell": true,
   "toc_position": {
    "height": "calc(100% - 180px)",
    "left": "10px",
    "top": "150px",
    "width": "164.995px"
   },
   "toc_section_display": true,
   "toc_window_display": false
  }
 },
 "nbformat": 4,
 "nbformat_minor": 2
}
