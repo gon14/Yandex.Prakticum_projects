{
 "cells": [
  {
   "cell_type": "markdown",
   "metadata": {},
   "source": [
    "# Определение перспективного тарифа для мобильного оператора"
   ]
  },
  {
   "cell_type": "markdown",
   "metadata": {},
   "source": [
    "Вы аналитик компании «Мегалайн» — федерального оператора сотовой связи. Клиентам предлагают два тарифных плана: «Смарт» и «Ультра». Чтобы скорректировать рекламный бюджет, коммерческий департамент хочет понять, какой тариф приносит больше денег\n",
    "\n",
    "Вам предстоит сделать предварительный анализ тарифов на небольшой выборке клиентов. В вашем распоряжении данные 500 пользователей «Мегалайна»: кто они, откуда, каким тарифом пользуются, сколько звонков и сообщений каждый отправил за 2018 год. Нужно проанализировать поведение клиентов и сделать вывод — какой тариф лучше."
   ]
  },
  {
   "cell_type": "markdown",
   "metadata": {},
   "source": [
    "## Шаг 1. Изучаем общую информацию"
   ]
  },
  {
   "cell_type": "code",
   "execution_count": 1,
   "metadata": {},
   "outputs": [],
   "source": [
    "import pandas as pd\n",
    "from scipy import stats as st\n",
    "import numpy as np\n",
    "import matplotlib.pyplot as plt\n",
    "import seaborn as sns"
   ]
  },
  {
   "cell_type": "code",
   "execution_count": 2,
   "metadata": {},
   "outputs": [],
   "source": [
    "calls = pd.read_csv('/datasets/calls.csv')"
   ]
  },
  {
   "cell_type": "code",
   "execution_count": 3,
   "metadata": {},
   "outputs": [],
   "source": [
    "internet = pd.read_csv('/datasets/internet.csv')"
   ]
  },
  {
   "cell_type": "code",
   "execution_count": 4,
   "metadata": {},
   "outputs": [],
   "source": [
    "messages = pd.read_csv('/datasets/messages.csv')"
   ]
  },
  {
   "cell_type": "code",
   "execution_count": 5,
   "metadata": {},
   "outputs": [],
   "source": [
    "tariffs = pd.read_csv('/datasets/tariffs.csv')"
   ]
  },
  {
   "cell_type": "code",
   "execution_count": 6,
   "metadata": {},
   "outputs": [],
   "source": [
    "users = pd.read_csv('/datasets/users.csv')"
   ]
  },
  {
   "cell_type": "code",
   "execution_count": 7,
   "metadata": {},
   "outputs": [
    {
     "data": {
      "text/html": [
       "<div>\n",
       "<style scoped>\n",
       "    .dataframe tbody tr th:only-of-type {\n",
       "        vertical-align: middle;\n",
       "    }\n",
       "\n",
       "    .dataframe tbody tr th {\n",
       "        vertical-align: top;\n",
       "    }\n",
       "\n",
       "    .dataframe thead th {\n",
       "        text-align: right;\n",
       "    }\n",
       "</style>\n",
       "<table border=\"1\" class=\"dataframe\">\n",
       "  <thead>\n",
       "    <tr style=\"text-align: right;\">\n",
       "      <th></th>\n",
       "      <th>id</th>\n",
       "      <th>call_date</th>\n",
       "      <th>duration</th>\n",
       "      <th>user_id</th>\n",
       "    </tr>\n",
       "  </thead>\n",
       "  <tbody>\n",
       "    <tr>\n",
       "      <td>0</td>\n",
       "      <td>1000_0</td>\n",
       "      <td>2018-07-25</td>\n",
       "      <td>0.00</td>\n",
       "      <td>1000</td>\n",
       "    </tr>\n",
       "    <tr>\n",
       "      <td>1</td>\n",
       "      <td>1000_1</td>\n",
       "      <td>2018-08-17</td>\n",
       "      <td>0.00</td>\n",
       "      <td>1000</td>\n",
       "    </tr>\n",
       "    <tr>\n",
       "      <td>2</td>\n",
       "      <td>1000_2</td>\n",
       "      <td>2018-06-11</td>\n",
       "      <td>2.85</td>\n",
       "      <td>1000</td>\n",
       "    </tr>\n",
       "    <tr>\n",
       "      <td>3</td>\n",
       "      <td>1000_3</td>\n",
       "      <td>2018-09-21</td>\n",
       "      <td>13.80</td>\n",
       "      <td>1000</td>\n",
       "    </tr>\n",
       "    <tr>\n",
       "      <td>4</td>\n",
       "      <td>1000_4</td>\n",
       "      <td>2018-12-15</td>\n",
       "      <td>5.18</td>\n",
       "      <td>1000</td>\n",
       "    </tr>\n",
       "  </tbody>\n",
       "</table>\n",
       "</div>"
      ],
      "text/plain": [
       "       id   call_date  duration  user_id\n",
       "0  1000_0  2018-07-25      0.00     1000\n",
       "1  1000_1  2018-08-17      0.00     1000\n",
       "2  1000_2  2018-06-11      2.85     1000\n",
       "3  1000_3  2018-09-21     13.80     1000\n",
       "4  1000_4  2018-12-15      5.18     1000"
      ]
     },
     "execution_count": 7,
     "metadata": {},
     "output_type": "execute_result"
    }
   ],
   "source": [
    "calls.head()"
   ]
  },
  {
   "cell_type": "code",
   "execution_count": 8,
   "metadata": {},
   "outputs": [
    {
     "data": {
      "text/html": [
       "<div>\n",
       "<style scoped>\n",
       "    .dataframe tbody tr th:only-of-type {\n",
       "        vertical-align: middle;\n",
       "    }\n",
       "\n",
       "    .dataframe tbody tr th {\n",
       "        vertical-align: top;\n",
       "    }\n",
       "\n",
       "    .dataframe thead th {\n",
       "        text-align: right;\n",
       "    }\n",
       "</style>\n",
       "<table border=\"1\" class=\"dataframe\">\n",
       "  <thead>\n",
       "    <tr style=\"text-align: right;\">\n",
       "      <th></th>\n",
       "      <th>Unnamed: 0</th>\n",
       "      <th>id</th>\n",
       "      <th>mb_used</th>\n",
       "      <th>session_date</th>\n",
       "      <th>user_id</th>\n",
       "    </tr>\n",
       "  </thead>\n",
       "  <tbody>\n",
       "    <tr>\n",
       "      <td>0</td>\n",
       "      <td>0</td>\n",
       "      <td>1000_0</td>\n",
       "      <td>112.95</td>\n",
       "      <td>2018-11-25</td>\n",
       "      <td>1000</td>\n",
       "    </tr>\n",
       "    <tr>\n",
       "      <td>1</td>\n",
       "      <td>1</td>\n",
       "      <td>1000_1</td>\n",
       "      <td>1052.81</td>\n",
       "      <td>2018-09-07</td>\n",
       "      <td>1000</td>\n",
       "    </tr>\n",
       "    <tr>\n",
       "      <td>2</td>\n",
       "      <td>2</td>\n",
       "      <td>1000_2</td>\n",
       "      <td>1197.26</td>\n",
       "      <td>2018-06-25</td>\n",
       "      <td>1000</td>\n",
       "    </tr>\n",
       "    <tr>\n",
       "      <td>3</td>\n",
       "      <td>3</td>\n",
       "      <td>1000_3</td>\n",
       "      <td>550.27</td>\n",
       "      <td>2018-08-22</td>\n",
       "      <td>1000</td>\n",
       "    </tr>\n",
       "    <tr>\n",
       "      <td>4</td>\n",
       "      <td>4</td>\n",
       "      <td>1000_4</td>\n",
       "      <td>302.56</td>\n",
       "      <td>2018-09-24</td>\n",
       "      <td>1000</td>\n",
       "    </tr>\n",
       "  </tbody>\n",
       "</table>\n",
       "</div>"
      ],
      "text/plain": [
       "   Unnamed: 0      id  mb_used session_date  user_id\n",
       "0           0  1000_0   112.95   2018-11-25     1000\n",
       "1           1  1000_1  1052.81   2018-09-07     1000\n",
       "2           2  1000_2  1197.26   2018-06-25     1000\n",
       "3           3  1000_3   550.27   2018-08-22     1000\n",
       "4           4  1000_4   302.56   2018-09-24     1000"
      ]
     },
     "execution_count": 8,
     "metadata": {},
     "output_type": "execute_result"
    }
   ],
   "source": [
    "internet.head()"
   ]
  },
  {
   "cell_type": "code",
   "execution_count": 9,
   "metadata": {},
   "outputs": [
    {
     "data": {
      "text/html": [
       "<div>\n",
       "<style scoped>\n",
       "    .dataframe tbody tr th:only-of-type {\n",
       "        vertical-align: middle;\n",
       "    }\n",
       "\n",
       "    .dataframe tbody tr th {\n",
       "        vertical-align: top;\n",
       "    }\n",
       "\n",
       "    .dataframe thead th {\n",
       "        text-align: right;\n",
       "    }\n",
       "</style>\n",
       "<table border=\"1\" class=\"dataframe\">\n",
       "  <thead>\n",
       "    <tr style=\"text-align: right;\">\n",
       "      <th></th>\n",
       "      <th>id</th>\n",
       "      <th>message_date</th>\n",
       "      <th>user_id</th>\n",
       "    </tr>\n",
       "  </thead>\n",
       "  <tbody>\n",
       "    <tr>\n",
       "      <td>0</td>\n",
       "      <td>1000_0</td>\n",
       "      <td>2018-06-27</td>\n",
       "      <td>1000</td>\n",
       "    </tr>\n",
       "    <tr>\n",
       "      <td>1</td>\n",
       "      <td>1000_1</td>\n",
       "      <td>2018-10-08</td>\n",
       "      <td>1000</td>\n",
       "    </tr>\n",
       "    <tr>\n",
       "      <td>2</td>\n",
       "      <td>1000_2</td>\n",
       "      <td>2018-08-04</td>\n",
       "      <td>1000</td>\n",
       "    </tr>\n",
       "    <tr>\n",
       "      <td>3</td>\n",
       "      <td>1000_3</td>\n",
       "      <td>2018-06-16</td>\n",
       "      <td>1000</td>\n",
       "    </tr>\n",
       "    <tr>\n",
       "      <td>4</td>\n",
       "      <td>1000_4</td>\n",
       "      <td>2018-12-05</td>\n",
       "      <td>1000</td>\n",
       "    </tr>\n",
       "  </tbody>\n",
       "</table>\n",
       "</div>"
      ],
      "text/plain": [
       "       id message_date  user_id\n",
       "0  1000_0   2018-06-27     1000\n",
       "1  1000_1   2018-10-08     1000\n",
       "2  1000_2   2018-08-04     1000\n",
       "3  1000_3   2018-06-16     1000\n",
       "4  1000_4   2018-12-05     1000"
      ]
     },
     "execution_count": 9,
     "metadata": {},
     "output_type": "execute_result"
    }
   ],
   "source": [
    "messages.head()"
   ]
  },
  {
   "cell_type": "code",
   "execution_count": 85,
   "metadata": {
    "scrolled": true
   },
   "outputs": [
    {
     "data": {
      "text/html": [
       "<div>\n",
       "<style scoped>\n",
       "    .dataframe tbody tr th:only-of-type {\n",
       "        vertical-align: middle;\n",
       "    }\n",
       "\n",
       "    .dataframe tbody tr th {\n",
       "        vertical-align: top;\n",
       "    }\n",
       "\n",
       "    .dataframe thead th {\n",
       "        text-align: right;\n",
       "    }\n",
       "</style>\n",
       "<table border=\"1\" class=\"dataframe\">\n",
       "  <thead>\n",
       "    <tr style=\"text-align: right;\">\n",
       "      <th></th>\n",
       "      <th>messages_included</th>\n",
       "      <th>mb_per_month_included</th>\n",
       "      <th>minutes_included</th>\n",
       "      <th>rub_monthly_fee</th>\n",
       "      <th>rub_per_gb</th>\n",
       "      <th>rub_per_message</th>\n",
       "      <th>rub_per_minute</th>\n",
       "      <th>tariff</th>\n",
       "      <th>gb_per_month_included</th>\n",
       "    </tr>\n",
       "  </thead>\n",
       "  <tbody>\n",
       "    <tr>\n",
       "      <td>0</td>\n",
       "      <td>50</td>\n",
       "      <td>15360</td>\n",
       "      <td>500</td>\n",
       "      <td>550</td>\n",
       "      <td>200</td>\n",
       "      <td>3</td>\n",
       "      <td>3</td>\n",
       "      <td>smart</td>\n",
       "      <td>15.0</td>\n",
       "    </tr>\n",
       "    <tr>\n",
       "      <td>1</td>\n",
       "      <td>1000</td>\n",
       "      <td>30720</td>\n",
       "      <td>3000</td>\n",
       "      <td>1950</td>\n",
       "      <td>150</td>\n",
       "      <td>1</td>\n",
       "      <td>1</td>\n",
       "      <td>ultra</td>\n",
       "      <td>30.0</td>\n",
       "    </tr>\n",
       "  </tbody>\n",
       "</table>\n",
       "</div>"
      ],
      "text/plain": [
       "   messages_included  mb_per_month_included  minutes_included  \\\n",
       "0                 50                  15360               500   \n",
       "1               1000                  30720              3000   \n",
       "\n",
       "   rub_monthly_fee  rub_per_gb  rub_per_message  rub_per_minute tariff  \\\n",
       "0              550         200                3               3  smart   \n",
       "1             1950         150                1               1  ultra   \n",
       "\n",
       "   gb_per_month_included  \n",
       "0                   15.0  \n",
       "1                   30.0  "
      ]
     },
     "execution_count": 85,
     "metadata": {},
     "output_type": "execute_result"
    }
   ],
   "source": [
    "tariffs.rename(columns={'tariff_name': 'tariff'}, inplace=True) #переименуем колонку, чтобы удобнее merge делать в будущем\n",
    "tariffs"
   ]
  },
  {
   "cell_type": "code",
   "execution_count": 84,
   "metadata": {},
   "outputs": [],
   "source": [
    "tariffs['gb_per_month_included'] = tariffs['mb_per_month_included'] / 1024 #добавим ГБ для удобства"
   ]
  },
  {
   "cell_type": "code",
   "execution_count": 12,
   "metadata": {},
   "outputs": [
    {
     "data": {
      "text/html": [
       "<div>\n",
       "<style scoped>\n",
       "    .dataframe tbody tr th:only-of-type {\n",
       "        vertical-align: middle;\n",
       "    }\n",
       "\n",
       "    .dataframe tbody tr th {\n",
       "        vertical-align: top;\n",
       "    }\n",
       "\n",
       "    .dataframe thead th {\n",
       "        text-align: right;\n",
       "    }\n",
       "</style>\n",
       "<table border=\"1\" class=\"dataframe\">\n",
       "  <thead>\n",
       "    <tr style=\"text-align: right;\">\n",
       "      <th></th>\n",
       "      <th>messages_included</th>\n",
       "      <th>mb_per_month_included</th>\n",
       "      <th>minutes_included</th>\n",
       "      <th>rub_monthly_fee</th>\n",
       "      <th>rub_per_gb</th>\n",
       "      <th>rub_per_message</th>\n",
       "      <th>rub_per_minute</th>\n",
       "      <th>tariff</th>\n",
       "      <th>gb_per_month_included</th>\n",
       "    </tr>\n",
       "  </thead>\n",
       "  <tbody>\n",
       "    <tr>\n",
       "      <td>0</td>\n",
       "      <td>50</td>\n",
       "      <td>15360</td>\n",
       "      <td>500</td>\n",
       "      <td>550</td>\n",
       "      <td>200</td>\n",
       "      <td>3</td>\n",
       "      <td>3</td>\n",
       "      <td>smart</td>\n",
       "      <td>15.0</td>\n",
       "    </tr>\n",
       "    <tr>\n",
       "      <td>1</td>\n",
       "      <td>1000</td>\n",
       "      <td>30720</td>\n",
       "      <td>3000</td>\n",
       "      <td>1950</td>\n",
       "      <td>150</td>\n",
       "      <td>1</td>\n",
       "      <td>1</td>\n",
       "      <td>ultra</td>\n",
       "      <td>30.0</td>\n",
       "    </tr>\n",
       "  </tbody>\n",
       "</table>\n",
       "</div>"
      ],
      "text/plain": [
       "   messages_included  mb_per_month_included  minutes_included  \\\n",
       "0                 50                  15360               500   \n",
       "1               1000                  30720              3000   \n",
       "\n",
       "   rub_monthly_fee  rub_per_gb  rub_per_message  rub_per_minute tariff  \\\n",
       "0              550         200                3               3  smart   \n",
       "1             1950         150                1               1  ultra   \n",
       "\n",
       "   gb_per_month_included  \n",
       "0                   15.0  \n",
       "1                   30.0  "
      ]
     },
     "execution_count": 12,
     "metadata": {},
     "output_type": "execute_result"
    }
   ],
   "source": [
    "tariffs"
   ]
  },
  {
   "cell_type": "code",
   "execution_count": 13,
   "metadata": {
    "scrolled": true
   },
   "outputs": [
    {
     "data": {
      "text/html": [
       "<div>\n",
       "<style scoped>\n",
       "    .dataframe tbody tr th:only-of-type {\n",
       "        vertical-align: middle;\n",
       "    }\n",
       "\n",
       "    .dataframe tbody tr th {\n",
       "        vertical-align: top;\n",
       "    }\n",
       "\n",
       "    .dataframe thead th {\n",
       "        text-align: right;\n",
       "    }\n",
       "</style>\n",
       "<table border=\"1\" class=\"dataframe\">\n",
       "  <thead>\n",
       "    <tr style=\"text-align: right;\">\n",
       "      <th></th>\n",
       "      <th>user_id</th>\n",
       "      <th>age</th>\n",
       "      <th>churn_date</th>\n",
       "      <th>city</th>\n",
       "      <th>first_name</th>\n",
       "      <th>last_name</th>\n",
       "      <th>reg_date</th>\n",
       "      <th>tariff</th>\n",
       "    </tr>\n",
       "  </thead>\n",
       "  <tbody>\n",
       "    <tr>\n",
       "      <td>0</td>\n",
       "      <td>1000</td>\n",
       "      <td>52</td>\n",
       "      <td>NaN</td>\n",
       "      <td>Краснодар</td>\n",
       "      <td>Рафаил</td>\n",
       "      <td>Верещагин</td>\n",
       "      <td>2018-05-25</td>\n",
       "      <td>ultra</td>\n",
       "    </tr>\n",
       "    <tr>\n",
       "      <td>1</td>\n",
       "      <td>1001</td>\n",
       "      <td>41</td>\n",
       "      <td>NaN</td>\n",
       "      <td>Москва</td>\n",
       "      <td>Иван</td>\n",
       "      <td>Ежов</td>\n",
       "      <td>2018-11-01</td>\n",
       "      <td>smart</td>\n",
       "    </tr>\n",
       "    <tr>\n",
       "      <td>2</td>\n",
       "      <td>1002</td>\n",
       "      <td>59</td>\n",
       "      <td>NaN</td>\n",
       "      <td>Стерлитамак</td>\n",
       "      <td>Евгений</td>\n",
       "      <td>Абрамович</td>\n",
       "      <td>2018-06-17</td>\n",
       "      <td>smart</td>\n",
       "    </tr>\n",
       "    <tr>\n",
       "      <td>3</td>\n",
       "      <td>1003</td>\n",
       "      <td>23</td>\n",
       "      <td>NaN</td>\n",
       "      <td>Москва</td>\n",
       "      <td>Белла</td>\n",
       "      <td>Белякова</td>\n",
       "      <td>2018-08-17</td>\n",
       "      <td>ultra</td>\n",
       "    </tr>\n",
       "    <tr>\n",
       "      <td>4</td>\n",
       "      <td>1004</td>\n",
       "      <td>68</td>\n",
       "      <td>NaN</td>\n",
       "      <td>Новокузнецк</td>\n",
       "      <td>Татьяна</td>\n",
       "      <td>Авдеенко</td>\n",
       "      <td>2018-05-14</td>\n",
       "      <td>ultra</td>\n",
       "    </tr>\n",
       "  </tbody>\n",
       "</table>\n",
       "</div>"
      ],
      "text/plain": [
       "   user_id  age churn_date         city first_name  last_name    reg_date  \\\n",
       "0     1000   52        NaN    Краснодар     Рафаил  Верещагин  2018-05-25   \n",
       "1     1001   41        NaN       Москва       Иван       Ежов  2018-11-01   \n",
       "2     1002   59        NaN  Стерлитамак    Евгений  Абрамович  2018-06-17   \n",
       "3     1003   23        NaN       Москва      Белла   Белякова  2018-08-17   \n",
       "4     1004   68        NaN  Новокузнецк    Татьяна   Авдеенко  2018-05-14   \n",
       "\n",
       "  tariff  \n",
       "0  ultra  \n",
       "1  smart  \n",
       "2  smart  \n",
       "3  ultra  \n",
       "4  ultra  "
      ]
     },
     "execution_count": 13,
     "metadata": {},
     "output_type": "execute_result"
    }
   ],
   "source": [
    "users.head()"
   ]
  },
  {
   "cell_type": "code",
   "execution_count": 14,
   "metadata": {},
   "outputs": [
    {
     "name": "stdout",
     "output_type": "stream",
     "text": [
      "<class 'pandas.core.frame.DataFrame'>\n",
      "RangeIndex: 500 entries, 0 to 499\n",
      "Data columns (total 8 columns):\n",
      "user_id       500 non-null int64\n",
      "age           500 non-null int64\n",
      "churn_date    38 non-null object\n",
      "city          500 non-null object\n",
      "first_name    500 non-null object\n",
      "last_name     500 non-null object\n",
      "reg_date      500 non-null object\n",
      "tariff        500 non-null object\n",
      "dtypes: int64(2), object(6)\n",
      "memory usage: 31.4+ KB\n"
     ]
    }
   ],
   "source": [
    "users.info() #churn_date и reg_date привести к daytime"
   ]
  },
  {
   "cell_type": "code",
   "execution_count": 15,
   "metadata": {},
   "outputs": [
    {
     "name": "stdout",
     "output_type": "stream",
     "text": [
      "<class 'pandas.core.frame.DataFrame'>\n",
      "RangeIndex: 202607 entries, 0 to 202606\n",
      "Data columns (total 4 columns):\n",
      "id           202607 non-null object\n",
      "call_date    202607 non-null object\n",
      "duration     202607 non-null float64\n",
      "user_id      202607 non-null int64\n",
      "dtypes: float64(1), int64(1), object(2)\n",
      "memory usage: 6.2+ MB\n"
     ]
    }
   ],
   "source": [
    "calls.info()"
   ]
  },
  {
   "cell_type": "code",
   "execution_count": 16,
   "metadata": {},
   "outputs": [
    {
     "name": "stdout",
     "output_type": "stream",
     "text": [
      "<class 'pandas.core.frame.DataFrame'>\n",
      "RangeIndex: 149396 entries, 0 to 149395\n",
      "Data columns (total 5 columns):\n",
      "Unnamed: 0      149396 non-null int64\n",
      "id              149396 non-null object\n",
      "mb_used         149396 non-null float64\n",
      "session_date    149396 non-null object\n",
      "user_id         149396 non-null int64\n",
      "dtypes: float64(1), int64(2), object(2)\n",
      "memory usage: 5.7+ MB\n"
     ]
    }
   ],
   "source": [
    "internet.info()"
   ]
  },
  {
   "cell_type": "code",
   "execution_count": 17,
   "metadata": {},
   "outputs": [
    {
     "name": "stdout",
     "output_type": "stream",
     "text": [
      "<class 'pandas.core.frame.DataFrame'>\n",
      "RangeIndex: 123036 entries, 0 to 123035\n",
      "Data columns (total 3 columns):\n",
      "id              123036 non-null object\n",
      "message_date    123036 non-null object\n",
      "user_id         123036 non-null int64\n",
      "dtypes: int64(1), object(2)\n",
      "memory usage: 2.8+ MB\n"
     ]
    }
   ],
   "source": [
    "messages.info()"
   ]
  },
  {
   "cell_type": "code",
   "execution_count": 18,
   "metadata": {},
   "outputs": [
    {
     "name": "stdout",
     "output_type": "stream",
     "text": [
      "<class 'pandas.core.frame.DataFrame'>\n",
      "RangeIndex: 2 entries, 0 to 1\n",
      "Data columns (total 9 columns):\n",
      "messages_included        2 non-null int64\n",
      "mb_per_month_included    2 non-null int64\n",
      "minutes_included         2 non-null int64\n",
      "rub_monthly_fee          2 non-null int64\n",
      "rub_per_gb               2 non-null int64\n",
      "rub_per_message          2 non-null int64\n",
      "rub_per_minute           2 non-null int64\n",
      "tariff                   2 non-null object\n",
      "gb_per_month_included    2 non-null float64\n",
      "dtypes: float64(1), int64(7), object(1)\n",
      "memory usage: 272.0+ bytes\n"
     ]
    }
   ],
   "source": [
    "tariffs.info()"
   ]
  },
  {
   "cell_type": "markdown",
   "metadata": {},
   "source": [
    "## Шаг 2. Подготавливаем данные"
   ]
  },
  {
   "cell_type": "markdown",
   "metadata": {},
   "source": [
    "Приведите данные к нужным типам;\n",
    "\n",
    "Найдите и исправьте ошибки в данных, если они есть.\n",
    "Поясните, какие ошибки вы нашли и как их исправили. \n",
    "\n",
    "В данных вы найдёте звонки с нулевой продолжительностью. Это не ошибка: нулями обозначены пропущенные звонки, поэтому их не нужно удалять.\n",
    "\n",
    "Посчитайте для каждого пользователя:\n",
    "\n",
    "количество сделанных звонков и израсходованных минут разговора по месяцам;\n",
    "\n",
    "количество отправленных сообщений по месяцам;\n",
    "\n",
    "объем израсходованного интернет-трафика по месяцам;\n",
    "\n",
    "помесячную выручку с каждого пользователя (вычтите бесплатный лимит из суммарного количества звонков, сообщений и интернет-трафика; \n",
    "\n",
    "остаток умножьте на значение из тарифного плана; \n",
    "прибавьте абонентскую плату, соответствующую тарифному плану)."
   ]
  },
  {
   "cell_type": "code",
   "execution_count": 19,
   "metadata": {},
   "outputs": [
    {
     "data": {
      "text/plain": [
       "Index(['Unnamed: 0', 'id', 'mb_used', 'session_date', 'user_id'], dtype='object')"
      ]
     },
     "execution_count": 19,
     "metadata": {},
     "output_type": "execute_result"
    }
   ],
   "source": [
    "internet.columns"
   ]
  },
  {
   "cell_type": "code",
   "execution_count": 20,
   "metadata": {},
   "outputs": [],
   "source": [
    "internet = internet.drop('Unnamed: 0', 1)"
   ]
  },
  {
   "cell_type": "code",
   "execution_count": 21,
   "metadata": {},
   "outputs": [
    {
     "data": {
      "text/html": [
       "<div>\n",
       "<style scoped>\n",
       "    .dataframe tbody tr th:only-of-type {\n",
       "        vertical-align: middle;\n",
       "    }\n",
       "\n",
       "    .dataframe tbody tr th {\n",
       "        vertical-align: top;\n",
       "    }\n",
       "\n",
       "    .dataframe thead th {\n",
       "        text-align: right;\n",
       "    }\n",
       "</style>\n",
       "<table border=\"1\" class=\"dataframe\">\n",
       "  <thead>\n",
       "    <tr style=\"text-align: right;\">\n",
       "      <th></th>\n",
       "      <th>user_id</th>\n",
       "      <th>age</th>\n",
       "      <th>churn_date</th>\n",
       "      <th>city</th>\n",
       "      <th>first_name</th>\n",
       "      <th>last_name</th>\n",
       "      <th>reg_date</th>\n",
       "      <th>tariff</th>\n",
       "    </tr>\n",
       "  </thead>\n",
       "  <tbody>\n",
       "    <tr>\n",
       "      <td>0</td>\n",
       "      <td>1000</td>\n",
       "      <td>52</td>\n",
       "      <td>NaN</td>\n",
       "      <td>Краснодар</td>\n",
       "      <td>Рафаил</td>\n",
       "      <td>Верещагин</td>\n",
       "      <td>2018-05-25</td>\n",
       "      <td>ultra</td>\n",
       "    </tr>\n",
       "    <tr>\n",
       "      <td>1</td>\n",
       "      <td>1001</td>\n",
       "      <td>41</td>\n",
       "      <td>NaN</td>\n",
       "      <td>Москва</td>\n",
       "      <td>Иван</td>\n",
       "      <td>Ежов</td>\n",
       "      <td>2018-11-01</td>\n",
       "      <td>smart</td>\n",
       "    </tr>\n",
       "    <tr>\n",
       "      <td>2</td>\n",
       "      <td>1002</td>\n",
       "      <td>59</td>\n",
       "      <td>NaN</td>\n",
       "      <td>Стерлитамак</td>\n",
       "      <td>Евгений</td>\n",
       "      <td>Абрамович</td>\n",
       "      <td>2018-06-17</td>\n",
       "      <td>smart</td>\n",
       "    </tr>\n",
       "    <tr>\n",
       "      <td>3</td>\n",
       "      <td>1003</td>\n",
       "      <td>23</td>\n",
       "      <td>NaN</td>\n",
       "      <td>Москва</td>\n",
       "      <td>Белла</td>\n",
       "      <td>Белякова</td>\n",
       "      <td>2018-08-17</td>\n",
       "      <td>ultra</td>\n",
       "    </tr>\n",
       "    <tr>\n",
       "      <td>4</td>\n",
       "      <td>1004</td>\n",
       "      <td>68</td>\n",
       "      <td>NaN</td>\n",
       "      <td>Новокузнецк</td>\n",
       "      <td>Татьяна</td>\n",
       "      <td>Авдеенко</td>\n",
       "      <td>2018-05-14</td>\n",
       "      <td>ultra</td>\n",
       "    </tr>\n",
       "  </tbody>\n",
       "</table>\n",
       "</div>"
      ],
      "text/plain": [
       "   user_id  age churn_date         city first_name  last_name    reg_date  \\\n",
       "0     1000   52        NaN    Краснодар     Рафаил  Верещагин  2018-05-25   \n",
       "1     1001   41        NaN       Москва       Иван       Ежов  2018-11-01   \n",
       "2     1002   59        NaN  Стерлитамак    Евгений  Абрамович  2018-06-17   \n",
       "3     1003   23        NaN       Москва      Белла   Белякова  2018-08-17   \n",
       "4     1004   68        NaN  Новокузнецк    Татьяна   Авдеенко  2018-05-14   \n",
       "\n",
       "  tariff  \n",
       "0  ultra  \n",
       "1  smart  \n",
       "2  smart  \n",
       "3  ultra  \n",
       "4  ultra  "
      ]
     },
     "execution_count": 21,
     "metadata": {},
     "output_type": "execute_result"
    }
   ],
   "source": [
    "users.head()"
   ]
  },
  {
   "cell_type": "markdown",
   "metadata": {},
   "source": [
    "Поменяем тип данных на daytime"
   ]
  },
  {
   "cell_type": "code",
   "execution_count": 22,
   "metadata": {},
   "outputs": [],
   "source": [
    "users.churn_date = pd.to_datetime(users.churn_date, format='%Y-%m-%d')"
   ]
  },
  {
   "cell_type": "code",
   "execution_count": 23,
   "metadata": {},
   "outputs": [],
   "source": [
    "users.reg_date = pd.to_datetime(users.reg_date, format='%Y-%m-%d')"
   ]
  },
  {
   "cell_type": "code",
   "execution_count": 24,
   "metadata": {},
   "outputs": [],
   "source": [
    "calls.call_date  = pd.to_datetime(calls.call_date, format='%Y-%m-%d')"
   ]
  },
  {
   "cell_type": "code",
   "execution_count": 25,
   "metadata": {},
   "outputs": [],
   "source": [
    "internet.session_date  = pd.to_datetime(internet.session_date , format='%Y-%m-%d')"
   ]
  },
  {
   "cell_type": "code",
   "execution_count": 26,
   "metadata": {},
   "outputs": [],
   "source": [
    "messages.message_date = pd.to_datetime(messages.message_date , format='%Y-%m-%d')"
   ]
  },
  {
   "cell_type": "markdown",
   "metadata": {},
   "source": [
    "Создадим столбцы с месяцами, чтобы показать когда произошло событие"
   ]
  },
  {
   "cell_type": "code",
   "execution_count": 27,
   "metadata": {},
   "outputs": [],
   "source": [
    "calls['month'] = calls[\"call_date\"].dt.month"
   ]
  },
  {
   "cell_type": "code",
   "execution_count": 28,
   "metadata": {},
   "outputs": [],
   "source": [
    "messages['month'] = messages[\"message_date\"].dt.month"
   ]
  },
  {
   "cell_type": "code",
   "execution_count": 29,
   "metadata": {},
   "outputs": [],
   "source": [
    "internet['month'] = internet['session_date'].dt.month"
   ]
  },
  {
   "cell_type": "markdown",
   "metadata": {},
   "source": [
    "<b/>количество сделанных звонков и израсходованных минут разговора по месяцам<b/>"
   ]
  },
  {
   "cell_type": "code",
   "execution_count": 70,
   "metadata": {},
   "outputs": [
    {
     "data": {
      "text/html": [
       "<div>\n",
       "<style scoped>\n",
       "    .dataframe tbody tr th:only-of-type {\n",
       "        vertical-align: middle;\n",
       "    }\n",
       "\n",
       "    .dataframe tbody tr th {\n",
       "        vertical-align: top;\n",
       "    }\n",
       "\n",
       "    .dataframe thead th {\n",
       "        text-align: right;\n",
       "    }\n",
       "</style>\n",
       "<table border=\"1\" class=\"dataframe\">\n",
       "  <thead>\n",
       "    <tr style=\"text-align: right;\">\n",
       "      <th></th>\n",
       "      <th></th>\n",
       "      <th>calls_sum</th>\n",
       "    </tr>\n",
       "    <tr>\n",
       "      <th>user_id</th>\n",
       "      <th>month</th>\n",
       "      <th></th>\n",
       "    </tr>\n",
       "  </thead>\n",
       "  <tbody>\n",
       "    <tr>\n",
       "      <td rowspan=\"5\" valign=\"top\">1000</td>\n",
       "      <td>5</td>\n",
       "      <td>151</td>\n",
       "    </tr>\n",
       "    <tr>\n",
       "      <td>6</td>\n",
       "      <td>159</td>\n",
       "    </tr>\n",
       "    <tr>\n",
       "      <td>7</td>\n",
       "      <td>319</td>\n",
       "    </tr>\n",
       "    <tr>\n",
       "      <td>8</td>\n",
       "      <td>390</td>\n",
       "    </tr>\n",
       "    <tr>\n",
       "      <td>9</td>\n",
       "      <td>441</td>\n",
       "    </tr>\n",
       "  </tbody>\n",
       "</table>\n",
       "</div>"
      ],
      "text/plain": [
       "               calls_sum\n",
       "user_id month           \n",
       "1000    5            151\n",
       "        6            159\n",
       "        7            319\n",
       "        8            390\n",
       "        9            441"
      ]
     },
     "execution_count": 70,
     "metadata": {},
     "output_type": "execute_result"
    }
   ],
   "source": [
    "calls_sum = calls.pivot_table(index=['user_id', 'month'], values=['duration'],aggfunc=[np.sum]).apply(np.ceil).astype('int')\n",
    "#округялем звонки в большую сторону как делает оператор\n",
    "calls_sum.columns = ['calls_sum'] \n",
    "\n",
    "calls_sum.head(5)"
   ]
  },
  {
   "cell_type": "code",
   "execution_count": 69,
   "metadata": {
    "scrolled": true
   },
   "outputs": [
    {
     "data": {
      "text/html": [
       "<div>\n",
       "<style scoped>\n",
       "    .dataframe tbody tr th:only-of-type {\n",
       "        vertical-align: middle;\n",
       "    }\n",
       "\n",
       "    .dataframe tbody tr th {\n",
       "        vertical-align: top;\n",
       "    }\n",
       "\n",
       "    .dataframe thead th {\n",
       "        text-align: right;\n",
       "    }\n",
       "</style>\n",
       "<table border=\"1\" class=\"dataframe\">\n",
       "  <thead>\n",
       "    <tr style=\"text-align: right;\">\n",
       "      <th></th>\n",
       "      <th></th>\n",
       "      <th>calls_count</th>\n",
       "    </tr>\n",
       "    <tr>\n",
       "      <th>user_id</th>\n",
       "      <th>month</th>\n",
       "      <th></th>\n",
       "    </tr>\n",
       "  </thead>\n",
       "  <tbody>\n",
       "    <tr>\n",
       "      <td rowspan=\"5\" valign=\"top\">1000</td>\n",
       "      <td>5</td>\n",
       "      <td>22</td>\n",
       "    </tr>\n",
       "    <tr>\n",
       "      <td>6</td>\n",
       "      <td>43</td>\n",
       "    </tr>\n",
       "    <tr>\n",
       "      <td>7</td>\n",
       "      <td>47</td>\n",
       "    </tr>\n",
       "    <tr>\n",
       "      <td>8</td>\n",
       "      <td>52</td>\n",
       "    </tr>\n",
       "    <tr>\n",
       "      <td>9</td>\n",
       "      <td>58</td>\n",
       "    </tr>\n",
       "  </tbody>\n",
       "</table>\n",
       "</div>"
      ],
      "text/plain": [
       "               calls_count\n",
       "user_id month             \n",
       "1000    5               22\n",
       "        6               43\n",
       "        7               47\n",
       "        8               52\n",
       "        9               58"
      ]
     },
     "execution_count": 69,
     "metadata": {},
     "output_type": "execute_result"
    }
   ],
   "source": [
    "calls_count = calls.pivot_table(index=['user_id', 'month'], values=['id'],aggfunc='count')\n",
    "calls_count.columns = ['calls_count']\n",
    "calls_count.head(5)"
   ]
  },
  {
   "cell_type": "markdown",
   "metadata": {},
   "source": [
    "<b/>количество отправленных сообщений по месяцам<b/>"
   ]
  },
  {
   "cell_type": "code",
   "execution_count": 68,
   "metadata": {},
   "outputs": [
    {
     "data": {
      "text/html": [
       "<div>\n",
       "<style scoped>\n",
       "    .dataframe tbody tr th:only-of-type {\n",
       "        vertical-align: middle;\n",
       "    }\n",
       "\n",
       "    .dataframe tbody tr th {\n",
       "        vertical-align: top;\n",
       "    }\n",
       "\n",
       "    .dataframe thead th {\n",
       "        text-align: right;\n",
       "    }\n",
       "</style>\n",
       "<table border=\"1\" class=\"dataframe\">\n",
       "  <thead>\n",
       "    <tr style=\"text-align: right;\">\n",
       "      <th></th>\n",
       "      <th></th>\n",
       "      <th>messages_count</th>\n",
       "    </tr>\n",
       "    <tr>\n",
       "      <th>user_id</th>\n",
       "      <th>month</th>\n",
       "      <th></th>\n",
       "    </tr>\n",
       "  </thead>\n",
       "  <tbody>\n",
       "    <tr>\n",
       "      <td rowspan=\"5\" valign=\"top\">1000</td>\n",
       "      <td>5</td>\n",
       "      <td>22</td>\n",
       "    </tr>\n",
       "    <tr>\n",
       "      <td>6</td>\n",
       "      <td>60</td>\n",
       "    </tr>\n",
       "    <tr>\n",
       "      <td>7</td>\n",
       "      <td>75</td>\n",
       "    </tr>\n",
       "    <tr>\n",
       "      <td>8</td>\n",
       "      <td>81</td>\n",
       "    </tr>\n",
       "    <tr>\n",
       "      <td>9</td>\n",
       "      <td>57</td>\n",
       "    </tr>\n",
       "  </tbody>\n",
       "</table>\n",
       "</div>"
      ],
      "text/plain": [
       "               messages_count\n",
       "user_id month                \n",
       "1000    5                  22\n",
       "        6                  60\n",
       "        7                  75\n",
       "        8                  81\n",
       "        9                  57"
      ]
     },
     "execution_count": 68,
     "metadata": {},
     "output_type": "execute_result"
    }
   ],
   "source": [
    "messages_count = messages.pivot_table(index=['user_id', 'month'], values=['id'],aggfunc='count')\n",
    "messages_count.columns = ['messages_count']\n",
    "messages_count.head(5)"
   ]
  },
  {
   "cell_type": "markdown",
   "metadata": {},
   "source": [
    "<b/>объем израсходованного интернет-трафика по месяцам<b/>"
   ]
  },
  {
   "cell_type": "code",
   "execution_count": 67,
   "metadata": {},
   "outputs": [
    {
     "data": {
      "text/html": [
       "<div>\n",
       "<style scoped>\n",
       "    .dataframe tbody tr th:only-of-type {\n",
       "        vertical-align: middle;\n",
       "    }\n",
       "\n",
       "    .dataframe tbody tr th {\n",
       "        vertical-align: top;\n",
       "    }\n",
       "\n",
       "    .dataframe thead th {\n",
       "        text-align: right;\n",
       "    }\n",
       "</style>\n",
       "<table border=\"1\" class=\"dataframe\">\n",
       "  <thead>\n",
       "    <tr style=\"text-align: right;\">\n",
       "      <th></th>\n",
       "      <th></th>\n",
       "      <th>internet_sum</th>\n",
       "    </tr>\n",
       "    <tr>\n",
       "      <th>user_id</th>\n",
       "      <th>month</th>\n",
       "      <th></th>\n",
       "    </tr>\n",
       "  </thead>\n",
       "  <tbody>\n",
       "    <tr>\n",
       "      <td rowspan=\"5\" valign=\"top\">1000</td>\n",
       "      <td>5</td>\n",
       "      <td>2253.49</td>\n",
       "    </tr>\n",
       "    <tr>\n",
       "      <td>6</td>\n",
       "      <td>23233.77</td>\n",
       "    </tr>\n",
       "    <tr>\n",
       "      <td>7</td>\n",
       "      <td>14003.64</td>\n",
       "    </tr>\n",
       "    <tr>\n",
       "      <td>8</td>\n",
       "      <td>14055.93</td>\n",
       "    </tr>\n",
       "    <tr>\n",
       "      <td>9</td>\n",
       "      <td>14568.91</td>\n",
       "    </tr>\n",
       "  </tbody>\n",
       "</table>\n",
       "</div>"
      ],
      "text/plain": [
       "               internet_sum\n",
       "user_id month              \n",
       "1000    5           2253.49\n",
       "        6          23233.77\n",
       "        7          14003.64\n",
       "        8          14055.93\n",
       "        9          14568.91"
      ]
     },
     "execution_count": 67,
     "metadata": {},
     "output_type": "execute_result"
    }
   ],
   "source": [
    "internet_volume = internet.pivot_table(index=['user_id', 'month'], values=['mb_used'],aggfunc=[np.sum])\n",
    "internet_volume.columns = ['internet_sum']\n",
    "internet_volume.head(5)"
   ]
  },
  {
   "cell_type": "code",
   "execution_count": 71,
   "metadata": {},
   "outputs": [
    {
     "data": {
      "text/html": [
       "<div>\n",
       "<style scoped>\n",
       "    .dataframe tbody tr th:only-of-type {\n",
       "        vertical-align: middle;\n",
       "    }\n",
       "\n",
       "    .dataframe tbody tr th {\n",
       "        vertical-align: top;\n",
       "    }\n",
       "\n",
       "    .dataframe thead th {\n",
       "        text-align: right;\n",
       "    }\n",
       "</style>\n",
       "<table border=\"1\" class=\"dataframe\">\n",
       "  <thead>\n",
       "    <tr style=\"text-align: right;\">\n",
       "      <th></th>\n",
       "      <th></th>\n",
       "      <th>internet_sum</th>\n",
       "      <th>internet_sum_gb</th>\n",
       "    </tr>\n",
       "    <tr>\n",
       "      <th>user_id</th>\n",
       "      <th>month</th>\n",
       "      <th></th>\n",
       "      <th></th>\n",
       "    </tr>\n",
       "  </thead>\n",
       "  <tbody>\n",
       "    <tr>\n",
       "      <td rowspan=\"5\" valign=\"top\">1000</td>\n",
       "      <td>5</td>\n",
       "      <td>2253.49</td>\n",
       "      <td>3</td>\n",
       "    </tr>\n",
       "    <tr>\n",
       "      <td>6</td>\n",
       "      <td>23233.77</td>\n",
       "      <td>23</td>\n",
       "    </tr>\n",
       "    <tr>\n",
       "      <td>7</td>\n",
       "      <td>14003.64</td>\n",
       "      <td>14</td>\n",
       "    </tr>\n",
       "    <tr>\n",
       "      <td>8</td>\n",
       "      <td>14055.93</td>\n",
       "      <td>14</td>\n",
       "    </tr>\n",
       "    <tr>\n",
       "      <td>9</td>\n",
       "      <td>14568.91</td>\n",
       "      <td>15</td>\n",
       "    </tr>\n",
       "  </tbody>\n",
       "</table>\n",
       "</div>"
      ],
      "text/plain": [
       "               internet_sum  internet_sum_gb\n",
       "user_id month                               \n",
       "1000    5           2253.49                3\n",
       "        6          23233.77               23\n",
       "        7          14003.64               14\n",
       "        8          14055.93               14\n",
       "        9          14568.91               15"
      ]
     },
     "execution_count": 71,
     "metadata": {},
     "output_type": "execute_result"
    }
   ],
   "source": [
    "internet_volume['internet_sum_gb'] = (internet_volume['internet_sum']/1024).apply(np.ceil).astype('int')\n",
    "#переводим в ГБ и округялем значения в большую сторону, как описано в задании\n",
    "internet_volume.head(5)"
   ]
  },
  {
   "cell_type": "markdown",
   "metadata": {},
   "source": [
    "помесячную выручку с каждого пользователя (вычтите бесплатный лимит из суммарного количества звонков, сообщений и интернет-трафика; остаток умножьте на значение из тарифного плана; прибавьте абонентскую плату, соответствующую тарифному плану)"
   ]
  },
  {
   "cell_type": "code",
   "execution_count": 72,
   "metadata": {
    "scrolled": true
   },
   "outputs": [
    {
     "data": {
      "text/html": [
       "<div>\n",
       "<style scoped>\n",
       "    .dataframe tbody tr th:only-of-type {\n",
       "        vertical-align: middle;\n",
       "    }\n",
       "\n",
       "    .dataframe tbody tr th {\n",
       "        vertical-align: top;\n",
       "    }\n",
       "\n",
       "    .dataframe thead th {\n",
       "        text-align: right;\n",
       "    }\n",
       "</style>\n",
       "<table border=\"1\" class=\"dataframe\">\n",
       "  <thead>\n",
       "    <tr style=\"text-align: right;\">\n",
       "      <th></th>\n",
       "      <th></th>\n",
       "      <th>calls_sum</th>\n",
       "      <th>calls_count</th>\n",
       "    </tr>\n",
       "    <tr>\n",
       "      <th>user_id</th>\n",
       "      <th>month</th>\n",
       "      <th></th>\n",
       "      <th></th>\n",
       "    </tr>\n",
       "  </thead>\n",
       "  <tbody>\n",
       "    <tr>\n",
       "      <td rowspan=\"5\" valign=\"top\">1000</td>\n",
       "      <td>5</td>\n",
       "      <td>151</td>\n",
       "      <td>22</td>\n",
       "    </tr>\n",
       "    <tr>\n",
       "      <td>6</td>\n",
       "      <td>159</td>\n",
       "      <td>43</td>\n",
       "    </tr>\n",
       "    <tr>\n",
       "      <td>7</td>\n",
       "      <td>319</td>\n",
       "      <td>47</td>\n",
       "    </tr>\n",
       "    <tr>\n",
       "      <td>8</td>\n",
       "      <td>390</td>\n",
       "      <td>52</td>\n",
       "    </tr>\n",
       "    <tr>\n",
       "      <td>9</td>\n",
       "      <td>441</td>\n",
       "      <td>58</td>\n",
       "    </tr>\n",
       "  </tbody>\n",
       "</table>\n",
       "</div>"
      ],
      "text/plain": [
       "               calls_sum  calls_count\n",
       "user_id month                        \n",
       "1000    5            151           22\n",
       "        6            159           43\n",
       "        7            319           47\n",
       "        8            390           52\n",
       "        9            441           58"
      ]
     },
     "execution_count": 72,
     "metadata": {},
     "output_type": "execute_result"
    }
   ],
   "source": [
    "data1 = pd.merge(calls_sum,calls_count, on=['user_id','month']) #делаем итеративно соединение 4 таблиц, т.к.кучей ядро падает\n",
    "data1.head(5)"
   ]
  },
  {
   "cell_type": "code",
   "execution_count": 73,
   "metadata": {
    "scrolled": true
   },
   "outputs": [
    {
     "data": {
      "text/html": [
       "<div>\n",
       "<style scoped>\n",
       "    .dataframe tbody tr th:only-of-type {\n",
       "        vertical-align: middle;\n",
       "    }\n",
       "\n",
       "    .dataframe tbody tr th {\n",
       "        vertical-align: top;\n",
       "    }\n",
       "\n",
       "    .dataframe thead th {\n",
       "        text-align: right;\n",
       "    }\n",
       "</style>\n",
       "<table border=\"1\" class=\"dataframe\">\n",
       "  <thead>\n",
       "    <tr style=\"text-align: right;\">\n",
       "      <th></th>\n",
       "      <th></th>\n",
       "      <th>calls_sum</th>\n",
       "      <th>calls_count</th>\n",
       "      <th>messages_count</th>\n",
       "    </tr>\n",
       "    <tr>\n",
       "      <th>user_id</th>\n",
       "      <th>month</th>\n",
       "      <th></th>\n",
       "      <th></th>\n",
       "      <th></th>\n",
       "    </tr>\n",
       "  </thead>\n",
       "  <tbody>\n",
       "    <tr>\n",
       "      <td rowspan=\"5\" valign=\"top\">1000</td>\n",
       "      <td>5</td>\n",
       "      <td>151</td>\n",
       "      <td>22</td>\n",
       "      <td>22</td>\n",
       "    </tr>\n",
       "    <tr>\n",
       "      <td>6</td>\n",
       "      <td>159</td>\n",
       "      <td>43</td>\n",
       "      <td>60</td>\n",
       "    </tr>\n",
       "    <tr>\n",
       "      <td>7</td>\n",
       "      <td>319</td>\n",
       "      <td>47</td>\n",
       "      <td>75</td>\n",
       "    </tr>\n",
       "    <tr>\n",
       "      <td>8</td>\n",
       "      <td>390</td>\n",
       "      <td>52</td>\n",
       "      <td>81</td>\n",
       "    </tr>\n",
       "    <tr>\n",
       "      <td>9</td>\n",
       "      <td>441</td>\n",
       "      <td>58</td>\n",
       "      <td>57</td>\n",
       "    </tr>\n",
       "  </tbody>\n",
       "</table>\n",
       "</div>"
      ],
      "text/plain": [
       "               calls_sum  calls_count  messages_count\n",
       "user_id month                                        \n",
       "1000    5            151           22              22\n",
       "        6            159           43              60\n",
       "        7            319           47              75\n",
       "        8            390           52              81\n",
       "        9            441           58              57"
      ]
     },
     "execution_count": 73,
     "metadata": {},
     "output_type": "execute_result"
    }
   ],
   "source": [
    "data2 = pd.merge(data1, messages_count, on=['user_id','month']) #делаем итеративно соединение 4 таблиц, т.к.кучей ядро падает\n",
    "data2.head(5)"
   ]
  },
  {
   "cell_type": "code",
   "execution_count": 74,
   "metadata": {
    "scrolled": true
   },
   "outputs": [
    {
     "data": {
      "text/html": [
       "<div>\n",
       "<style scoped>\n",
       "    .dataframe tbody tr th:only-of-type {\n",
       "        vertical-align: middle;\n",
       "    }\n",
       "\n",
       "    .dataframe tbody tr th {\n",
       "        vertical-align: top;\n",
       "    }\n",
       "\n",
       "    .dataframe thead th {\n",
       "        text-align: right;\n",
       "    }\n",
       "</style>\n",
       "<table border=\"1\" class=\"dataframe\">\n",
       "  <thead>\n",
       "    <tr style=\"text-align: right;\">\n",
       "      <th></th>\n",
       "      <th></th>\n",
       "      <th>calls_sum</th>\n",
       "      <th>calls_count</th>\n",
       "      <th>messages_count</th>\n",
       "      <th>internet_sum_gb</th>\n",
       "    </tr>\n",
       "    <tr>\n",
       "      <th>user_id</th>\n",
       "      <th>month</th>\n",
       "      <th></th>\n",
       "      <th></th>\n",
       "      <th></th>\n",
       "      <th></th>\n",
       "    </tr>\n",
       "  </thead>\n",
       "  <tbody>\n",
       "    <tr>\n",
       "      <td rowspan=\"5\" valign=\"top\">1000</td>\n",
       "      <td>5</td>\n",
       "      <td>151</td>\n",
       "      <td>22</td>\n",
       "      <td>22</td>\n",
       "      <td>3</td>\n",
       "    </tr>\n",
       "    <tr>\n",
       "      <td>6</td>\n",
       "      <td>159</td>\n",
       "      <td>43</td>\n",
       "      <td>60</td>\n",
       "      <td>23</td>\n",
       "    </tr>\n",
       "    <tr>\n",
       "      <td>7</td>\n",
       "      <td>319</td>\n",
       "      <td>47</td>\n",
       "      <td>75</td>\n",
       "      <td>14</td>\n",
       "    </tr>\n",
       "    <tr>\n",
       "      <td>8</td>\n",
       "      <td>390</td>\n",
       "      <td>52</td>\n",
       "      <td>81</td>\n",
       "      <td>14</td>\n",
       "    </tr>\n",
       "    <tr>\n",
       "      <td>9</td>\n",
       "      <td>441</td>\n",
       "      <td>58</td>\n",
       "      <td>57</td>\n",
       "      <td>15</td>\n",
       "    </tr>\n",
       "  </tbody>\n",
       "</table>\n",
       "</div>"
      ],
      "text/plain": [
       "               calls_sum  calls_count  messages_count  internet_sum_gb\n",
       "user_id month                                                         \n",
       "1000    5            151           22              22                3\n",
       "        6            159           43              60               23\n",
       "        7            319           47              75               14\n",
       "        8            390           52              81               14\n",
       "        9            441           58              57               15"
      ]
     },
     "execution_count": 74,
     "metadata": {},
     "output_type": "execute_result"
    }
   ],
   "source": [
    "data3 = pd.merge(data2, internet_volume, on=['user_id','month']) #делаем итеративно соединение 4 таблиц, т.к.кучей ядро падает\n",
    "data3 = data3.drop('internet_sum', 1)\n",
    "data3.head(5)"
   ]
  },
  {
   "cell_type": "code",
   "execution_count": 75,
   "metadata": {},
   "outputs": [
    {
     "data": {
      "text/html": [
       "<div>\n",
       "<style scoped>\n",
       "    .dataframe tbody tr th:only-of-type {\n",
       "        vertical-align: middle;\n",
       "    }\n",
       "\n",
       "    .dataframe tbody tr th {\n",
       "        vertical-align: top;\n",
       "    }\n",
       "\n",
       "    .dataframe thead th {\n",
       "        text-align: right;\n",
       "    }\n",
       "</style>\n",
       "<table border=\"1\" class=\"dataframe\">\n",
       "  <thead>\n",
       "    <tr style=\"text-align: right;\">\n",
       "      <th></th>\n",
       "      <th>user_id</th>\n",
       "      <th>month</th>\n",
       "      <th>calls_sum</th>\n",
       "      <th>calls_count</th>\n",
       "      <th>messages_count</th>\n",
       "      <th>internet_sum_gb</th>\n",
       "    </tr>\n",
       "  </thead>\n",
       "  <tbody>\n",
       "    <tr>\n",
       "      <td>0</td>\n",
       "      <td>1000</td>\n",
       "      <td>5</td>\n",
       "      <td>151</td>\n",
       "      <td>22</td>\n",
       "      <td>22</td>\n",
       "      <td>3</td>\n",
       "    </tr>\n",
       "    <tr>\n",
       "      <td>1</td>\n",
       "      <td>1000</td>\n",
       "      <td>6</td>\n",
       "      <td>159</td>\n",
       "      <td>43</td>\n",
       "      <td>60</td>\n",
       "      <td>23</td>\n",
       "    </tr>\n",
       "    <tr>\n",
       "      <td>2</td>\n",
       "      <td>1000</td>\n",
       "      <td>7</td>\n",
       "      <td>319</td>\n",
       "      <td>47</td>\n",
       "      <td>75</td>\n",
       "      <td>14</td>\n",
       "    </tr>\n",
       "    <tr>\n",
       "      <td>3</td>\n",
       "      <td>1000</td>\n",
       "      <td>8</td>\n",
       "      <td>390</td>\n",
       "      <td>52</td>\n",
       "      <td>81</td>\n",
       "      <td>14</td>\n",
       "    </tr>\n",
       "    <tr>\n",
       "      <td>4</td>\n",
       "      <td>1000</td>\n",
       "      <td>9</td>\n",
       "      <td>441</td>\n",
       "      <td>58</td>\n",
       "      <td>57</td>\n",
       "      <td>15</td>\n",
       "    </tr>\n",
       "  </tbody>\n",
       "</table>\n",
       "</div>"
      ],
      "text/plain": [
       "   user_id  month  calls_sum  calls_count  messages_count  internet_sum_gb\n",
       "0     1000      5        151           22              22                3\n",
       "1     1000      6        159           43              60               23\n",
       "2     1000      7        319           47              75               14\n",
       "3     1000      8        390           52              81               14\n",
       "4     1000      9        441           58              57               15"
      ]
     },
     "execution_count": 75,
     "metadata": {},
     "output_type": "execute_result"
    }
   ],
   "source": [
    "data4 = data3.reset_index() #убираем мультииндекс\n",
    "data4.head(5)"
   ]
  },
  {
   "cell_type": "code",
   "execution_count": 39,
   "metadata": {
    "scrolled": true
   },
   "outputs": [
    {
     "name": "stdout",
     "output_type": "stream",
     "text": [
      "<class 'pandas.core.frame.DataFrame'>\n",
      "Int64Index: 2667 entries, 0 to 2666\n",
      "Data columns (total 13 columns):\n",
      "user_id            2667 non-null int64\n",
      "month              2667 non-null int64\n",
      "calls_sum          2667 non-null int64\n",
      "calls_count        2667 non-null int64\n",
      "messages_count     2667 non-null int64\n",
      "internet_sum_gb    2667 non-null int64\n",
      "age                2667 non-null int64\n",
      "churn_date         139 non-null datetime64[ns]\n",
      "city               2667 non-null object\n",
      "first_name         2667 non-null object\n",
      "last_name          2667 non-null object\n",
      "reg_date           2667 non-null datetime64[ns]\n",
      "tariff             2667 non-null object\n",
      "dtypes: datetime64[ns](2), int64(7), object(4)\n",
      "memory usage: 291.7+ KB\n"
     ]
    }
   ],
   "source": [
    "data_user_profit = pd.merge(data4, users, on='user_id') \n",
    "data_user_profit.info()"
   ]
  },
  {
   "cell_type": "code",
   "execution_count": 40,
   "metadata": {},
   "outputs": [
    {
     "data": {
      "text/plain": [
       "Index(['user_id', 'month', 'calls_sum', 'calls_count', 'messages_count',\n",
       "       'internet_sum_gb', 'age', 'churn_date', 'city', 'first_name',\n",
       "       'last_name', 'reg_date', 'tariff'],\n",
       "      dtype='object')"
      ]
     },
     "execution_count": 40,
     "metadata": {},
     "output_type": "execute_result"
    }
   ],
   "source": [
    "data_user_profit.columns"
   ]
  },
  {
   "cell_type": "code",
   "execution_count": 41,
   "metadata": {},
   "outputs": [],
   "source": [
    "data_user_profit = data_user_profit.drop(['calls_count','age', 'churn_date', 'first_name',\n",
    "       'last_name', 'reg_date'], 1)"
   ]
  },
  {
   "cell_type": "code",
   "execution_count": 42,
   "metadata": {},
   "outputs": [],
   "source": [
    "#data_user_profit.query('tariff == \"smart\" & calls_sum > 500')"
   ]
  },
  {
   "cell_type": "markdown",
   "metadata": {},
   "source": [
    "помесячную выручку с каждого пользователя (вычтите бесплатный лимит из суммарного количества звонков, сообщений и интернет-трафика; остаток умножьте на значение из тарифного плана; прибавьте абонентскую плату, соответствующую тарифному плану)."
   ]
  },
  {
   "cell_type": "code",
   "execution_count": 43,
   "metadata": {},
   "outputs": [],
   "source": [
    "data_profit_tariff = pd.merge(data_user_profit, tariffs, on='tariff')"
   ]
  },
  {
   "cell_type": "code",
   "execution_count": 44,
   "metadata": {
    "scrolled": true
   },
   "outputs": [],
   "source": [
    "data_profit_tariff.drop('mb_per_month_included', 1, inplace=True)"
   ]
  },
  {
   "cell_type": "code",
   "execution_count": 45,
   "metadata": {},
   "outputs": [],
   "source": [
    "data_profit_tariff.rename(columns={'messages_count':'mes_count', 'internet_sum_gb':'int_sum_gb',\n",
    "        'messages_included':'mess_incl', 'minutes_included':'min_incl', 'gb_per_month_included':'int_gb_incl', 'rub_per_message':'rub_per_mess', 'rub_per_minute':'rub_per_min'\n",
    "       }, inplace=True) #привести к виду, чтобы умещалось в ширину окна"
   ]
  },
  {
   "cell_type": "code",
   "execution_count": 46,
   "metadata": {
    "scrolled": true
   },
   "outputs": [
    {
     "name": "stdout",
     "output_type": "stream",
     "text": [
      "<class 'pandas.core.frame.DataFrame'>\n",
      "Int64Index: 2667 entries, 0 to 2666\n",
      "Data columns (total 14 columns):\n",
      "user_id            2667 non-null int64\n",
      "month              2667 non-null int64\n",
      "calls_sum          2667 non-null int64\n",
      "mes_count          2667 non-null int64\n",
      "int_sum_gb         2667 non-null int64\n",
      "city               2667 non-null object\n",
      "tariff             2667 non-null object\n",
      "mess_incl          2667 non-null int64\n",
      "min_incl           2667 non-null int64\n",
      "rub_monthly_fee    2667 non-null int64\n",
      "rub_per_gb         2667 non-null int64\n",
      "rub_per_mess       2667 non-null int64\n",
      "rub_per_min        2667 non-null int64\n",
      "int_gb_incl        2667 non-null int64\n",
      "dtypes: int64(12), object(2)\n",
      "memory usage: 312.5+ KB\n"
     ]
    }
   ],
   "source": [
    "data_profit_tariff['int_gb_incl'] = data_profit_tariff['int_gb_incl'].astype('int')\n",
    "data_profit_tariff.info()"
   ]
  },
  {
   "cell_type": "code",
   "execution_count": 47,
   "metadata": {},
   "outputs": [
    {
     "data": {
      "text/html": [
       "<div>\n",
       "<style scoped>\n",
       "    .dataframe tbody tr th:only-of-type {\n",
       "        vertical-align: middle;\n",
       "    }\n",
       "\n",
       "    .dataframe tbody tr th {\n",
       "        vertical-align: top;\n",
       "    }\n",
       "\n",
       "    .dataframe thead th {\n",
       "        text-align: right;\n",
       "    }\n",
       "</style>\n",
       "<table border=\"1\" class=\"dataframe\">\n",
       "  <thead>\n",
       "    <tr style=\"text-align: right;\">\n",
       "      <th></th>\n",
       "      <th>user_id</th>\n",
       "      <th>month</th>\n",
       "      <th>calls_sum</th>\n",
       "      <th>mes_count</th>\n",
       "      <th>int_sum_gb</th>\n",
       "      <th>city</th>\n",
       "      <th>tariff</th>\n",
       "      <th>mess_incl</th>\n",
       "      <th>min_incl</th>\n",
       "      <th>rub_monthly_fee</th>\n",
       "      <th>rub_per_gb</th>\n",
       "      <th>rub_per_mess</th>\n",
       "      <th>rub_per_min</th>\n",
       "      <th>int_gb_incl</th>\n",
       "    </tr>\n",
       "  </thead>\n",
       "  <tbody>\n",
       "    <tr>\n",
       "      <td>0</td>\n",
       "      <td>1000</td>\n",
       "      <td>5</td>\n",
       "      <td>151</td>\n",
       "      <td>22</td>\n",
       "      <td>3</td>\n",
       "      <td>Краснодар</td>\n",
       "      <td>ultra</td>\n",
       "      <td>1000</td>\n",
       "      <td>3000</td>\n",
       "      <td>1950</td>\n",
       "      <td>150</td>\n",
       "      <td>1</td>\n",
       "      <td>1</td>\n",
       "      <td>30</td>\n",
       "    </tr>\n",
       "    <tr>\n",
       "      <td>1</td>\n",
       "      <td>1000</td>\n",
       "      <td>6</td>\n",
       "      <td>159</td>\n",
       "      <td>60</td>\n",
       "      <td>23</td>\n",
       "      <td>Краснодар</td>\n",
       "      <td>ultra</td>\n",
       "      <td>1000</td>\n",
       "      <td>3000</td>\n",
       "      <td>1950</td>\n",
       "      <td>150</td>\n",
       "      <td>1</td>\n",
       "      <td>1</td>\n",
       "      <td>30</td>\n",
       "    </tr>\n",
       "    <tr>\n",
       "      <td>2</td>\n",
       "      <td>1000</td>\n",
       "      <td>7</td>\n",
       "      <td>319</td>\n",
       "      <td>75</td>\n",
       "      <td>14</td>\n",
       "      <td>Краснодар</td>\n",
       "      <td>ultra</td>\n",
       "      <td>1000</td>\n",
       "      <td>3000</td>\n",
       "      <td>1950</td>\n",
       "      <td>150</td>\n",
       "      <td>1</td>\n",
       "      <td>1</td>\n",
       "      <td>30</td>\n",
       "    </tr>\n",
       "    <tr>\n",
       "      <td>3</td>\n",
       "      <td>1000</td>\n",
       "      <td>8</td>\n",
       "      <td>390</td>\n",
       "      <td>81</td>\n",
       "      <td>14</td>\n",
       "      <td>Краснодар</td>\n",
       "      <td>ultra</td>\n",
       "      <td>1000</td>\n",
       "      <td>3000</td>\n",
       "      <td>1950</td>\n",
       "      <td>150</td>\n",
       "      <td>1</td>\n",
       "      <td>1</td>\n",
       "      <td>30</td>\n",
       "    </tr>\n",
       "    <tr>\n",
       "      <td>4</td>\n",
       "      <td>1000</td>\n",
       "      <td>9</td>\n",
       "      <td>441</td>\n",
       "      <td>57</td>\n",
       "      <td>15</td>\n",
       "      <td>Краснодар</td>\n",
       "      <td>ultra</td>\n",
       "      <td>1000</td>\n",
       "      <td>3000</td>\n",
       "      <td>1950</td>\n",
       "      <td>150</td>\n",
       "      <td>1</td>\n",
       "      <td>1</td>\n",
       "      <td>30</td>\n",
       "    </tr>\n",
       "  </tbody>\n",
       "</table>\n",
       "</div>"
      ],
      "text/plain": [
       "   user_id  month  calls_sum  mes_count  int_sum_gb       city tariff  \\\n",
       "0     1000      5        151         22           3  Краснодар  ultra   \n",
       "1     1000      6        159         60          23  Краснодар  ultra   \n",
       "2     1000      7        319         75          14  Краснодар  ultra   \n",
       "3     1000      8        390         81          14  Краснодар  ultra   \n",
       "4     1000      9        441         57          15  Краснодар  ultra   \n",
       "\n",
       "   mess_incl  min_incl  rub_monthly_fee  rub_per_gb  rub_per_mess  \\\n",
       "0       1000      3000             1950         150             1   \n",
       "1       1000      3000             1950         150             1   \n",
       "2       1000      3000             1950         150             1   \n",
       "3       1000      3000             1950         150             1   \n",
       "4       1000      3000             1950         150             1   \n",
       "\n",
       "   rub_per_min  int_gb_incl  \n",
       "0            1           30  \n",
       "1            1           30  \n",
       "2            1           30  \n",
       "3            1           30  \n",
       "4            1           30  "
      ]
     },
     "execution_count": 47,
     "metadata": {},
     "output_type": "execute_result"
    }
   ],
   "source": [
    "data_profit_tariff.head(5)"
   ]
  },
  {
   "cell_type": "code",
   "execution_count": 48,
   "metadata": {},
   "outputs": [],
   "source": [
    "#создадим функцию, которая будет считать прибыль для каждой строчки - месяца\n",
    "#и перебираем все условия, чтобы не было 0 и отрицательных чисел\n",
    "\n",
    "def profit_calc(row):\n",
    "    if row['calls_sum'] < row['min_incl'] and row['mes_count'] < row ['mess_incl'] and row['int_sum_gb'] < row['int_gb_incl']:\n",
    "        return row['rub_monthly_fee']\n",
    "    elif row['calls_sum'] > row['min_incl'] and row['mes_count'] > row ['mess_incl'] and row['int_sum_gb'] > row['int_gb_incl']:\n",
    "        return row['rub_monthly_fee']\\\n",
    "               + (row['calls_sum'] - row['min_incl']) * row['rub_per_min']\\\n",
    "               + (row['mes_count'] - row['mess_incl']) * row['rub_per_mess']\\\n",
    "               + (row['int_sum_gb'] - row['int_gb_incl']) * row['rub_per_gb']\n",
    "    elif row['calls_sum'] > row['min_incl'] and row['mes_count'] > row ['mess_incl']:\n",
    "        return row['rub_monthly_fee']\\\n",
    "               + (row['calls_sum'] - row['min_incl']) * row['rub_per_min']\\\n",
    "               + (row['mes_count'] - row['mess_incl']) * row['rub_per_mess']\n",
    "    elif row['calls_sum'] > row['min_incl'] and row['int_sum_gb'] > row['int_gb_incl']:\n",
    "        return row['rub_monthly_fee']\\\n",
    "               + (row['calls_sum'] - row['min_incl']) * row['rub_per_min']\\\n",
    "               + (row['int_sum_gb'] - row['int_gb_incl']) * row['rub_per_gb']\n",
    "    elif row['calls_sum'] >= row['min_incl']:\n",
    "        return row['rub_monthly_fee']\\\n",
    "               + (row['calls_sum'] - row['min_incl']) * row['rub_per_min']\n",
    "    elif row['mes_count'] > row ['mess_incl'] and row['int_sum_gb'] > row['int_gb_incl']:\n",
    "        return row['rub_monthly_fee']\\\n",
    "               + (row['mes_count'] - row['mess_incl']) * row['rub_per_mess']\\\n",
    "               + (row['int_sum_gb'] - row['int_gb_incl']) * row['rub_per_gb']\n",
    "    elif row['mes_count'] >= row ['mess_incl']:\n",
    "        return row['rub_monthly_fee']\\\n",
    "               + (row['mes_count'] - row['mess_incl']) * row['rub_per_mess']\n",
    "    elif row['int_sum_gb'] >= row['int_gb_incl']:\n",
    "        return row['rub_monthly_fee']\\\n",
    "               + (row['int_sum_gb'] - row['int_gb_incl']) * row['rub_per_gb']   "
   ]
  },
  {
   "cell_type": "code",
   "execution_count": 49,
   "metadata": {},
   "outputs": [],
   "source": [
    "#data_profit_tariff[pd.isnull(data_profit_tariff['profit'])] проверял какие данные с NaN"
   ]
  },
  {
   "cell_type": "code",
   "execution_count": 50,
   "metadata": {},
   "outputs": [],
   "source": [
    "data_profit_tariff['profit'] =  data_profit_tariff.apply(profit_calc, axis=1) #применяем"
   ]
  },
  {
   "cell_type": "code",
   "execution_count": 51,
   "metadata": {},
   "outputs": [
    {
     "data": {
      "text/html": [
       "<div>\n",
       "<style scoped>\n",
       "    .dataframe tbody tr th:only-of-type {\n",
       "        vertical-align: middle;\n",
       "    }\n",
       "\n",
       "    .dataframe tbody tr th {\n",
       "        vertical-align: top;\n",
       "    }\n",
       "\n",
       "    .dataframe thead th {\n",
       "        text-align: right;\n",
       "    }\n",
       "</style>\n",
       "<table border=\"1\" class=\"dataframe\">\n",
       "  <thead>\n",
       "    <tr style=\"text-align: right;\">\n",
       "      <th></th>\n",
       "      <th>user_id</th>\n",
       "      <th>month</th>\n",
       "      <th>calls_sum</th>\n",
       "      <th>mes_count</th>\n",
       "      <th>int_sum_gb</th>\n",
       "      <th>city</th>\n",
       "      <th>tariff</th>\n",
       "      <th>mess_incl</th>\n",
       "      <th>min_incl</th>\n",
       "      <th>rub_monthly_fee</th>\n",
       "      <th>rub_per_gb</th>\n",
       "      <th>rub_per_mess</th>\n",
       "      <th>rub_per_min</th>\n",
       "      <th>int_gb_incl</th>\n",
       "      <th>profit</th>\n",
       "    </tr>\n",
       "  </thead>\n",
       "  <tbody>\n",
       "    <tr>\n",
       "      <td>0</td>\n",
       "      <td>1000</td>\n",
       "      <td>5</td>\n",
       "      <td>151</td>\n",
       "      <td>22</td>\n",
       "      <td>3</td>\n",
       "      <td>Краснодар</td>\n",
       "      <td>ultra</td>\n",
       "      <td>1000</td>\n",
       "      <td>3000</td>\n",
       "      <td>1950</td>\n",
       "      <td>150</td>\n",
       "      <td>1</td>\n",
       "      <td>1</td>\n",
       "      <td>30</td>\n",
       "      <td>1950</td>\n",
       "    </tr>\n",
       "    <tr>\n",
       "      <td>1</td>\n",
       "      <td>1000</td>\n",
       "      <td>6</td>\n",
       "      <td>159</td>\n",
       "      <td>60</td>\n",
       "      <td>23</td>\n",
       "      <td>Краснодар</td>\n",
       "      <td>ultra</td>\n",
       "      <td>1000</td>\n",
       "      <td>3000</td>\n",
       "      <td>1950</td>\n",
       "      <td>150</td>\n",
       "      <td>1</td>\n",
       "      <td>1</td>\n",
       "      <td>30</td>\n",
       "      <td>1950</td>\n",
       "    </tr>\n",
       "    <tr>\n",
       "      <td>2</td>\n",
       "      <td>1000</td>\n",
       "      <td>7</td>\n",
       "      <td>319</td>\n",
       "      <td>75</td>\n",
       "      <td>14</td>\n",
       "      <td>Краснодар</td>\n",
       "      <td>ultra</td>\n",
       "      <td>1000</td>\n",
       "      <td>3000</td>\n",
       "      <td>1950</td>\n",
       "      <td>150</td>\n",
       "      <td>1</td>\n",
       "      <td>1</td>\n",
       "      <td>30</td>\n",
       "      <td>1950</td>\n",
       "    </tr>\n",
       "    <tr>\n",
       "      <td>3</td>\n",
       "      <td>1000</td>\n",
       "      <td>8</td>\n",
       "      <td>390</td>\n",
       "      <td>81</td>\n",
       "      <td>14</td>\n",
       "      <td>Краснодар</td>\n",
       "      <td>ultra</td>\n",
       "      <td>1000</td>\n",
       "      <td>3000</td>\n",
       "      <td>1950</td>\n",
       "      <td>150</td>\n",
       "      <td>1</td>\n",
       "      <td>1</td>\n",
       "      <td>30</td>\n",
       "      <td>1950</td>\n",
       "    </tr>\n",
       "    <tr>\n",
       "      <td>4</td>\n",
       "      <td>1000</td>\n",
       "      <td>9</td>\n",
       "      <td>441</td>\n",
       "      <td>57</td>\n",
       "      <td>15</td>\n",
       "      <td>Краснодар</td>\n",
       "      <td>ultra</td>\n",
       "      <td>1000</td>\n",
       "      <td>3000</td>\n",
       "      <td>1950</td>\n",
       "      <td>150</td>\n",
       "      <td>1</td>\n",
       "      <td>1</td>\n",
       "      <td>30</td>\n",
       "      <td>1950</td>\n",
       "    </tr>\n",
       "  </tbody>\n",
       "</table>\n",
       "</div>"
      ],
      "text/plain": [
       "   user_id  month  calls_sum  mes_count  int_sum_gb       city tariff  \\\n",
       "0     1000      5        151         22           3  Краснодар  ultra   \n",
       "1     1000      6        159         60          23  Краснодар  ultra   \n",
       "2     1000      7        319         75          14  Краснодар  ultra   \n",
       "3     1000      8        390         81          14  Краснодар  ultra   \n",
       "4     1000      9        441         57          15  Краснодар  ultra   \n",
       "\n",
       "   mess_incl  min_incl  rub_monthly_fee  rub_per_gb  rub_per_mess  \\\n",
       "0       1000      3000             1950         150             1   \n",
       "1       1000      3000             1950         150             1   \n",
       "2       1000      3000             1950         150             1   \n",
       "3       1000      3000             1950         150             1   \n",
       "4       1000      3000             1950         150             1   \n",
       "\n",
       "   rub_per_min  int_gb_incl  profit  \n",
       "0            1           30    1950  \n",
       "1            1           30    1950  \n",
       "2            1           30    1950  \n",
       "3            1           30    1950  \n",
       "4            1           30    1950  "
      ]
     },
     "execution_count": 51,
     "metadata": {},
     "output_type": "execute_result"
    }
   ],
   "source": [
    "data_profit_tariff.head()"
   ]
  },
  {
   "cell_type": "code",
   "execution_count": 52,
   "metadata": {
    "scrolled": true
   },
   "outputs": [
    {
     "data": {
      "text/plain": [
       "count    2667.000000\n",
       "mean     1476.921260\n",
       "std       791.085739\n",
       "min       550.000000\n",
       "25%       676.000000\n",
       "50%      1550.000000\n",
       "75%      1950.000000\n",
       "max      6614.000000\n",
       "Name: profit, dtype: float64"
      ]
     },
     "execution_count": 52,
     "metadata": {},
     "output_type": "execute_result"
    }
   ],
   "source": [
    "data_profit_tariff['profit'].describe() # проверяем, чтобы не было отрицательных и 0 значений - функция сработала корректно"
   ]
  },
  {
   "cell_type": "markdown",
   "metadata": {},
   "source": [
    "## Шаг 3. Анализируем данные"
   ]
  },
  {
   "cell_type": "markdown",
   "metadata": {},
   "source": [
    "Опишите поведение клиентов оператора, исходя из выборки. Сколько минут разговора, сколько сообщений и какой объём интернет-трафика требуется пользователям каждого тарифа в месяц? Посчитайте среднее количество, дисперсию и стандартное отклонение. Постройте гистограммы. Опишите распределения."
   ]
  },
  {
   "cell_type": "code",
   "execution_count": 53,
   "metadata": {},
   "outputs": [],
   "source": [
    "data_analysis = data_profit_tariff[['user_id', 'month', 'calls_sum','mes_count','int_sum_gb','tariff' , 'profit', 'city']]"
   ]
  },
  {
   "cell_type": "code",
   "execution_count": 54,
   "metadata": {
    "scrolled": false
   },
   "outputs": [
    {
     "data": {
      "text/html": [
       "<div>\n",
       "<style scoped>\n",
       "    .dataframe tbody tr th:only-of-type {\n",
       "        vertical-align: middle;\n",
       "    }\n",
       "\n",
       "    .dataframe tbody tr th {\n",
       "        vertical-align: top;\n",
       "    }\n",
       "\n",
       "    .dataframe thead th {\n",
       "        text-align: right;\n",
       "    }\n",
       "</style>\n",
       "<table border=\"1\" class=\"dataframe\">\n",
       "  <thead>\n",
       "    <tr style=\"text-align: right;\">\n",
       "      <th></th>\n",
       "      <th>user_id</th>\n",
       "      <th>month</th>\n",
       "      <th>calls_sum</th>\n",
       "      <th>mes_count</th>\n",
       "      <th>int_sum_gb</th>\n",
       "      <th>tariff</th>\n",
       "      <th>profit</th>\n",
       "      <th>city</th>\n",
       "    </tr>\n",
       "  </thead>\n",
       "  <tbody>\n",
       "    <tr>\n",
       "      <td>0</td>\n",
       "      <td>1000</td>\n",
       "      <td>5</td>\n",
       "      <td>151</td>\n",
       "      <td>22</td>\n",
       "      <td>3</td>\n",
       "      <td>ultra</td>\n",
       "      <td>1950</td>\n",
       "      <td>Краснодар</td>\n",
       "    </tr>\n",
       "    <tr>\n",
       "      <td>1</td>\n",
       "      <td>1000</td>\n",
       "      <td>6</td>\n",
       "      <td>159</td>\n",
       "      <td>60</td>\n",
       "      <td>23</td>\n",
       "      <td>ultra</td>\n",
       "      <td>1950</td>\n",
       "      <td>Краснодар</td>\n",
       "    </tr>\n",
       "    <tr>\n",
       "      <td>2</td>\n",
       "      <td>1000</td>\n",
       "      <td>7</td>\n",
       "      <td>319</td>\n",
       "      <td>75</td>\n",
       "      <td>14</td>\n",
       "      <td>ultra</td>\n",
       "      <td>1950</td>\n",
       "      <td>Краснодар</td>\n",
       "    </tr>\n",
       "    <tr>\n",
       "      <td>3</td>\n",
       "      <td>1000</td>\n",
       "      <td>8</td>\n",
       "      <td>390</td>\n",
       "      <td>81</td>\n",
       "      <td>14</td>\n",
       "      <td>ultra</td>\n",
       "      <td>1950</td>\n",
       "      <td>Краснодар</td>\n",
       "    </tr>\n",
       "    <tr>\n",
       "      <td>4</td>\n",
       "      <td>1000</td>\n",
       "      <td>9</td>\n",
       "      <td>441</td>\n",
       "      <td>57</td>\n",
       "      <td>15</td>\n",
       "      <td>ultra</td>\n",
       "      <td>1950</td>\n",
       "      <td>Краснодар</td>\n",
       "    </tr>\n",
       "  </tbody>\n",
       "</table>\n",
       "</div>"
      ],
      "text/plain": [
       "   user_id  month  calls_sum  mes_count  int_sum_gb tariff  profit       city\n",
       "0     1000      5        151         22           3  ultra    1950  Краснодар\n",
       "1     1000      6        159         60          23  ultra    1950  Краснодар\n",
       "2     1000      7        319         75          14  ultra    1950  Краснодар\n",
       "3     1000      8        390         81          14  ultra    1950  Краснодар\n",
       "4     1000      9        441         57          15  ultra    1950  Краснодар"
      ]
     },
     "execution_count": 54,
     "metadata": {},
     "output_type": "execute_result"
    }
   ],
   "source": [
    "data_analysis.head(5) #создадим новый датафрейм для удобства"
   ]
  },
  {
   "cell_type": "code",
   "execution_count": 55,
   "metadata": {},
   "outputs": [
    {
     "data": {
      "text/html": [
       "<div>\n",
       "<style scoped>\n",
       "    .dataframe tbody tr th:only-of-type {\n",
       "        vertical-align: middle;\n",
       "    }\n",
       "\n",
       "    .dataframe tbody tr th {\n",
       "        vertical-align: top;\n",
       "    }\n",
       "\n",
       "    .dataframe thead tr th {\n",
       "        text-align: left;\n",
       "    }\n",
       "\n",
       "    .dataframe thead tr:last-of-type th {\n",
       "        text-align: right;\n",
       "    }\n",
       "</style>\n",
       "<table border=\"1\" class=\"dataframe\">\n",
       "  <thead>\n",
       "    <tr>\n",
       "      <th></th>\n",
       "      <th>sum</th>\n",
       "      <th>count</th>\n",
       "    </tr>\n",
       "    <tr>\n",
       "      <th></th>\n",
       "      <th>profit</th>\n",
       "      <th>profit</th>\n",
       "    </tr>\n",
       "    <tr>\n",
       "      <th>tariff</th>\n",
       "      <th></th>\n",
       "      <th></th>\n",
       "    </tr>\n",
       "  </thead>\n",
       "  <tbody>\n",
       "    <tr>\n",
       "      <td>smart</td>\n",
       "      <td>2398149.0</td>\n",
       "      <td>1915.0</td>\n",
       "    </tr>\n",
       "    <tr>\n",
       "      <td>ultra</td>\n",
       "      <td>1540800.0</td>\n",
       "      <td>752.0</td>\n",
       "    </tr>\n",
       "  </tbody>\n",
       "</table>\n",
       "</div>"
      ],
      "text/plain": [
       "              sum   count\n",
       "           profit  profit\n",
       "tariff                   \n",
       "smart   2398149.0  1915.0\n",
       "ultra   1540800.0   752.0"
      ]
     },
     "execution_count": 55,
     "metadata": {},
     "output_type": "execute_result"
    }
   ],
   "source": [
    "data_analysis.pivot_table(index=['tariff'],\n",
    "                          values=['profit'],\n",
    "                          aggfunc=['sum','count'])\\\n",
    "                          .apply(np.ceil)"
   ]
  },
  {
   "cell_type": "markdown",
   "metadata": {},
   "source": [
    "Создаем датафрейм с данными скольок нужно минут разговора, сообщений и какой объём интернет-трафика требуется пользователям каждого тарифа в месяц? Смотрим медиану, среднее, дисперсию и стандартное отклонение"
   ]
  },
  {
   "cell_type": "code",
   "execution_count": 56,
   "metadata": {},
   "outputs": [
    {
     "data": {
      "text/html": [
       "<div>\n",
       "<style scoped>\n",
       "    .dataframe tbody tr th:only-of-type {\n",
       "        vertical-align: middle;\n",
       "    }\n",
       "\n",
       "    .dataframe tbody tr th {\n",
       "        vertical-align: top;\n",
       "    }\n",
       "\n",
       "    .dataframe thead tr th {\n",
       "        text-align: left;\n",
       "    }\n",
       "\n",
       "    .dataframe thead tr:last-of-type th {\n",
       "        text-align: right;\n",
       "    }\n",
       "</style>\n",
       "<table border=\"1\" class=\"dataframe\">\n",
       "  <thead>\n",
       "    <tr>\n",
       "      <th></th>\n",
       "      <th colspan=\"4\" halign=\"left\">median</th>\n",
       "      <th colspan=\"4\" halign=\"left\">mean</th>\n",
       "      <th colspan=\"4\" halign=\"left\">var</th>\n",
       "      <th colspan=\"4\" halign=\"left\">std</th>\n",
       "    </tr>\n",
       "    <tr>\n",
       "      <th></th>\n",
       "      <th>calls_sum</th>\n",
       "      <th>int_sum_gb</th>\n",
       "      <th>mes_count</th>\n",
       "      <th>profit</th>\n",
       "      <th>calls_sum</th>\n",
       "      <th>int_sum_gb</th>\n",
       "      <th>mes_count</th>\n",
       "      <th>profit</th>\n",
       "      <th>calls_sum</th>\n",
       "      <th>int_sum_gb</th>\n",
       "      <th>mes_count</th>\n",
       "      <th>profit</th>\n",
       "      <th>calls_sum</th>\n",
       "      <th>int_sum_gb</th>\n",
       "      <th>mes_count</th>\n",
       "      <th>profit</th>\n",
       "    </tr>\n",
       "    <tr>\n",
       "      <th>tariff</th>\n",
       "      <th></th>\n",
       "      <th></th>\n",
       "      <th></th>\n",
       "      <th></th>\n",
       "      <th></th>\n",
       "      <th></th>\n",
       "      <th></th>\n",
       "      <th></th>\n",
       "      <th></th>\n",
       "      <th></th>\n",
       "      <th></th>\n",
       "      <th></th>\n",
       "      <th></th>\n",
       "      <th></th>\n",
       "      <th></th>\n",
       "      <th></th>\n",
       "    </tr>\n",
       "  </thead>\n",
       "  <tbody>\n",
       "    <tr>\n",
       "      <td>smart</td>\n",
       "      <td>404.0</td>\n",
       "      <td>17.0</td>\n",
       "      <td>34.0</td>\n",
       "      <td>950.0</td>\n",
       "      <td>398.0</td>\n",
       "      <td>17.0</td>\n",
       "      <td>39.0</td>\n",
       "      <td>1253.0</td>\n",
       "      <td>31530.0</td>\n",
       "      <td>33.0</td>\n",
       "      <td>719.0</td>\n",
       "      <td>649177.0</td>\n",
       "      <td>178.0</td>\n",
       "      <td>6.0</td>\n",
       "      <td>27.0</td>\n",
       "      <td>806.0</td>\n",
       "    </tr>\n",
       "    <tr>\n",
       "      <td>ultra</td>\n",
       "      <td>507.0</td>\n",
       "      <td>19.0</td>\n",
       "      <td>53.0</td>\n",
       "      <td>1950.0</td>\n",
       "      <td>527.0</td>\n",
       "      <td>20.0</td>\n",
       "      <td>62.0</td>\n",
       "      <td>2049.0</td>\n",
       "      <td>86697.0</td>\n",
       "      <td>89.0</td>\n",
       "      <td>2009.0</td>\n",
       "      <td>110818.0</td>\n",
       "      <td>295.0</td>\n",
       "      <td>10.0</td>\n",
       "      <td>45.0</td>\n",
       "      <td>333.0</td>\n",
       "    </tr>\n",
       "  </tbody>\n",
       "</table>\n",
       "</div>"
      ],
      "text/plain": [
       "          median                                   mean                       \\\n",
       "       calls_sum int_sum_gb mes_count  profit calls_sum int_sum_gb mes_count   \n",
       "tariff                                                                         \n",
       "smart      404.0       17.0      34.0   950.0     398.0       17.0      39.0   \n",
       "ultra      507.0       19.0      53.0  1950.0     527.0       20.0      62.0   \n",
       "\n",
       "                     var                                      std             \\\n",
       "        profit calls_sum int_sum_gb mes_count    profit calls_sum int_sum_gb   \n",
       "tariff                                                                         \n",
       "smart   1253.0   31530.0       33.0     719.0  649177.0     178.0        6.0   \n",
       "ultra   2049.0   86697.0       89.0    2009.0  110818.0     295.0       10.0   \n",
       "\n",
       "                         \n",
       "       mes_count profit  \n",
       "tariff                   \n",
       "smart       27.0  806.0  \n",
       "ultra       45.0  333.0  "
      ]
     },
     "execution_count": 56,
     "metadata": {},
     "output_type": "execute_result"
    }
   ],
   "source": [
    "data_analysis.pivot_table(index=['tariff'],\n",
    "                          values=['calls_sum','mes_count', 'int_sum_gb', 'profit'],\n",
    "                          aggfunc=[\"median\",\"mean\",'var','std'])\\\n",
    "                          .apply(np.ceil)"
   ]
  },
  {
   "cell_type": "markdown",
   "metadata": {},
   "source": [
    "Строим гистограммы"
   ]
  },
  {
   "cell_type": "code",
   "execution_count": 93,
   "metadata": {
    "scrolled": true
   },
   "outputs": [
    {
     "data": {
      "image/png": "[encoded data removed]",
      "text/plain": [
       "<Figure size 720x360 with 1 Axes>"
      ]
     },
     "metadata": {
      "needs_background": "light"
     },
     "output_type": "display_data"
    }
   ],
   "source": [
    "data_analysis.query('tariff == \"smart\"')['calls_sum'].plot(kind = 'hist',bins = 50, label = 'smart', figsize = (10,5))\n",
    "data_analysis.query('tariff == \"ultra\"')['calls_sum'].plot(kind = 'hist',bins = 50, alpha =0.7, label = 'ultra', \n",
    "                                                                                                figsize = (10,5))\n",
    "\n",
    "plt.title('Звонки')\n",
    "plt.legend()\n",
    "plt.show()"
   ]
  },
  {
   "cell_type": "markdown",
   "metadata": {},
   "source": [
    "Посмоотрим на вид распеределения"
   ]
  },
  {
   "cell_type": "code",
   "execution_count": 97,
   "metadata": {
    "scrolled": true
   },
   "outputs": [
    {
     "data": {
      "image/png": "[encoded data removed]",
      "text/plain": [
       "<Figure size 432x288 with 1 Axes>"
      ]
     },
     "metadata": {
      "needs_background": "light"
     },
     "output_type": "display_data"
    }
   ],
   "source": [
    "sns.distplot(data_analysis.query('tariff == \"smart\"')['calls_sum'], \n",
    "             color=\"dodgerblue\", \n",
    "             label='smart', \n",
    "             hist_kws={'alpha':.7}, \n",
    "             kde_kws={'linewidth':3})\n",
    "\n",
    "sns.distplot(data_analysis.query('tariff == \"ultra\"')['calls_sum'], \n",
    "             color=\"orange\", \n",
    "             label=\"ultra\", \n",
    "             hist_kws={'alpha':.7}, \n",
    "             kde_kws={'linewidth':3})\n",
    "\n",
    "plt.title('Звонки распределение')\n",
    "plt.legend()\n",
    "plt.show()"
   ]
  },
  {
   "cell_type": "code",
   "execution_count": 82,
   "metadata": {
    "scrolled": false
   },
   "outputs": [
    {
     "data": {
      "image/png": "[encoded data removed]",
      "text/plain": [
       "<Figure size 720x360 with 1 Axes>"
      ]
     },
     "metadata": {
      "needs_background": "light"
     },
     "output_type": "display_data"
    }
   ],
   "source": [
    "data_analysis.query('tariff == \"smart\"')['mes_count'].plot(kind = 'hist',bins = 50, label = 'smart', figsize = (10,5))\n",
    "data_analysis.query('tariff == \"ultra\"')['mes_count'].plot(kind = 'hist',bins = 50, alpha =0.7, label = 'ultra', \n",
    "                                                                                                figsize = (10,5))\n",
    "\n",
    "plt.title('Сообщения')\n",
    "plt.legend()\n",
    "plt.show()"
   ]
  },
  {
   "cell_type": "markdown",
   "metadata": {},
   "source": [
    "Посмоотрим на вид распеределения"
   ]
  },
  {
   "cell_type": "code",
   "execution_count": 96,
   "metadata": {},
   "outputs": [
    {
     "data": {
      "image/png": "[encoded data removed]",
      "text/plain": [
       "<Figure size 432x288 with 1 Axes>"
      ]
     },
     "metadata": {
      "needs_background": "light"
     },
     "output_type": "display_data"
    }
   ],
   "source": [
    "sns.distplot(data_analysis.query('tariff == \"smart\"')['mes_count'], \n",
    "             color=\"dodgerblue\", \n",
    "             label='smart', \n",
    "             hist_kws={'alpha':.7}, \n",
    "             kde_kws={'linewidth':3})\n",
    "\n",
    "sns.distplot(data_analysis.query('tariff == \"ultra\"')['mes_count'], \n",
    "             color=\"orange\", \n",
    "             label=\"ultra\", \n",
    "             hist_kws={'alpha':.7}, \n",
    "             kde_kws={'linewidth':3})\n",
    "\n",
    "plt.title('Сообщения распределение')\n",
    "plt.legend()\n",
    "plt.show()"
   ]
  },
  {
   "cell_type": "code",
   "execution_count": 77,
   "metadata": {
    "scrolled": true
   },
   "outputs": [
    {
     "data": {
      "image/png": "[encoded data removed]",
      "text/plain": [
       "<Figure size 720x360 with 1 Axes>"
      ]
     },
     "metadata": {
      "needs_background": "light"
     },
     "output_type": "display_data"
    }
   ],
   "source": [
    "data_analysis.query('tariff == \"smart\"')['int_sum_gb'].plot(kind = 'hist',bins = 50, label = 'smart', figsize = (10,5))\n",
    "data_analysis.query('tariff == \"ultra\"')['int_sum_gb'].plot(kind = 'hist',bins = 50, alpha =0.7, label = 'ultra', \n",
    "                                                                                                figsize = (10,5))\n",
    "\n",
    "plt.title('Интернет')\n",
    "plt.legend()\n",
    "plt.show()"
   ]
  },
  {
   "cell_type": "code",
   "execution_count": 95,
   "metadata": {},
   "outputs": [
    {
     "data": {
      "image/png": "[encoded data removed]",
      "text/plain": [
       "<Figure size 432x288 with 1 Axes>"
      ]
     },
     "metadata": {
      "needs_background": "light"
     },
     "output_type": "display_data"
    }
   ],
   "source": [
    "sns.distplot(data_analysis.query('tariff == \"smart\"')['int_sum_gb'], \n",
    "             color=\"dodgerblue\", \n",
    "             label='smart', \n",
    "             hist_kws={'alpha':.7}, \n",
    "             kde_kws={'linewidth':3})\n",
    "\n",
    "sns.distplot(data_analysis.query('tariff == \"ultra\"')['int_sum_gb'], \n",
    "             color=\"orange\", \n",
    "             label=\"ultra\", \n",
    "             hist_kws={'alpha':.7}, \n",
    "             kde_kws={'linewidth':3})\n",
    "\n",
    "plt.title('Интернет распределение')\n",
    "plt.legend()\n",
    "plt.show()"
   ]
  },
  {
   "cell_type": "code",
   "execution_count": 81,
   "metadata": {
    "scrolled": false
   },
   "outputs": [
    {
     "data": {
      "image/png": "[encoded data removed]",
      "text/plain": [
       "<Figure size 720x360 with 1 Axes>"
      ]
     },
     "metadata": {
      "needs_background": "light"
     },
     "output_type": "display_data"
    }
   ],
   "source": [
    "data_analysis.query('tariff == \"smart\"')['profit'].plot(kind = 'hist',bins = 30, label = 'smart', figsize = (10,5))\n",
    "data_analysis.query('tariff == \"ultra\"')['profit'].plot(kind = 'hist',bins = 30, alpha =0.7, label = 'ultra', \n",
    "                                                                                                figsize = (10,5))\n",
    "\n",
    "plt.title('Доход')\n",
    "plt.legend()\n",
    "plt.show()"
   ]
  },
  {
   "cell_type": "markdown",
   "metadata": {},
   "source": [
    "На доходе уже распределение не посмотрим, т.к. есть очень сильно выбивающиеся значанеия: те, кто платит тольок абонентскую плату. И поэтомуу distplot построится не очень красиво."
   ]
  },
  {
   "cell_type": "markdown",
   "metadata": {},
   "source": [
    "Вывод: На гистограммах видно,у тарифа \"ультра\" гистограммы скошены немного вправо, у \"смарт\" скошены немного влево. Это видно и по медианам и средним, которые делали в таблицах выше, а также по графикам распределения. Пользователи тарифа \"ультра\" не тратят весь базовый пакет минут и количества смс, в отличие от тарифа \"смарт\" - это может пригодиться для рекланого отдела, чтобы делать более эффективные маркетинговые сообщения."
   ]
  },
  {
   "cell_type": "code",
   "execution_count": null,
   "metadata": {},
   "outputs": [],
   "source": []
  },
  {
   "cell_type": "markdown",
   "metadata": {},
   "source": [
    "## Шаг 4. Проверяем гипотезы"
   ]
  },
  {
   "cell_type": "markdown",
   "metadata": {},
   "source": [
    "<b/>Первая гипотеза<b/> "
   ]
  },
  {
   "cell_type": "markdown",
   "metadata": {},
   "source": [
    "Нулевая гипотеза: средняя выручка пользователей тарифов «Ультра» и «Смарт» равны\n",
    "\n",
    "Альтернативная гипотеза : средняя выручка пользователей тарифов «Ультра» и «Смарт» различается\n",
    "\n",
    "Проверим нулевую гипотезу\n",
    "\n",
    "Будем использовать двухсторонний t-тест и сравнивать с альфой - в 5 %."
   ]
  },
  {
   "cell_type": "code",
   "execution_count": 61,
   "metadata": {},
   "outputs": [
    {
     "name": "stdout",
     "output_type": "stream",
     "text": [
      "p-значение: 7.81690869801331e-233\n",
      "Отвергаем нулевую гипотезу\n"
     ]
    }
   ],
   "source": [
    "alpha = 0.05\n",
    "\n",
    "profit_smart = data_analysis.query('tariff == \"smart\"')['profit']\n",
    "profit_ultra = data_analysis.query('tariff == \"ultra\"')['profit']\n",
    "\n",
    "result = st.ttest_ind(profit_smart,profit_ultra, equal_var=False) #который не предполагает равную дисперсию совокупности\n",
    "\n",
    "prob = result.pvalue\n",
    "print(\"p-значение:\", prob)\n",
    "if prob < alpha:\n",
    "    print(\"Отвергаем нулевую гипотезу\")\n",
    "else:\n",
    "    print(\"Не отвергаем нулевую гипотезу\") "
   ]
  },
  {
   "cell_type": "code",
   "execution_count": 62,
   "metadata": {},
   "outputs": [
    {
     "name": "stdout",
     "output_type": "stream",
     "text": [
      "Дисперсия первой совокупности: 648837.90701525\n",
      "Дисперсия второй совокупности: 110670.41081937529\n"
     ]
    }
   ],
   "source": [
    "print('Дисперсия первой совокупности:',np.var(profit_smart))\n",
    "print('Дисперсия второй совокупности:',np.var(profit_ultra))"
   ]
  },
  {
   "cell_type": "markdown",
   "metadata": {},
   "source": [
    "Вывод: альфа больше р-значения, значит следует, что средние значение выручки разных тарифов не равно, поэтому принимаем альтернативную гипотезу."
   ]
  },
  {
   "cell_type": "markdown",
   "metadata": {},
   "source": [
    "<b/>Вторая гипотеза<b/> "
   ]
  },
  {
   "cell_type": "markdown",
   "metadata": {},
   "source": [
    "Нулевая гипотеза: средняя выручка пользователей из Москвы <b>не отличается</b> от выручки пользователей из других регионов.\n",
    "\n",
    "Альтернативная гипотеза : средняя выручка пользователей из Москвы <b>отличается</b> от выручки пользователей из других регионов.\n",
    "\n",
    "Проверим нулевую гипотезу\n",
    "\n",
    "Будем использовать двухсторонний t-тест и сравнивать с альфой - в 5 %.\n"
   ]
  },
  {
   "cell_type": "code",
   "execution_count": 63,
   "metadata": {},
   "outputs": [
    {
     "name": "stdout",
     "output_type": "stream",
     "text": [
      "p-значение: 0.0738202477776709\n",
      "Не отвергаем нулевую гипотезу\n"
     ]
    }
   ],
   "source": [
    "alpha = 0.05\n",
    "\n",
    "city_moscow = data_analysis.query('city == \"Москва\"')['profit']\n",
    "city_other = data_analysis.query('city != \"Москва\"')['profit']\n",
    "\n",
    "result_city = st.ttest_ind(city_moscow,city_other, equal_var=False) #который не предполагает равную дисперсию совокупности\n",
    "\n",
    "prob_city = result_city.pvalue\n",
    "print(\"p-значение:\", prob_city)\n",
    "if prob_city < alpha:\n",
    "    print(\"Отвергаем нулевую гипотезу\")\n",
    "else:\n",
    "    print(\"Не отвергаем нулевую гипотезу\")\n",
    "    "
   ]
  },
  {
   "cell_type": "code",
   "execution_count": 64,
   "metadata": {},
   "outputs": [
    {
     "name": "stdout",
     "output_type": "stream",
     "text": [
      "Дисперсия первой совокупности: 587650.9680729713\n",
      "Дисперсия второй совокупности: 633261.4588337935\n"
     ]
    }
   ],
   "source": [
    "print('Дисперсия первой совокупности:',np.var(city_moscow))\n",
    "print('Дисперсия второй совокупности:',np.var(city_other))"
   ]
  },
  {
   "cell_type": "markdown",
   "metadata": {},
   "source": [
    "Вывод: средняя выручка пользователей из Москвы не отличается от средней выручки из других городов"
   ]
  },
  {
   "cell_type": "markdown",
   "metadata": {},
   "source": [
    "## Шаг 5 Общий вывод"
   ]
  },
  {
   "cell_type": "markdown",
   "metadata": {},
   "source": [
    "Мы провели предварительный анализ данных на небольшой выборке - 500 человек. Но уже по ней можно сделать главный ввод, который задал коммерческий депортамент:\n",
    "тариф ультра приносит на одного пользователя 1950 р/месяц, а \"смарт\" только 950 р/мес. Это по медианным значениям. Моэтому стоит скорректировать рекламные бюджеты в сторону тарифа \"ультра\".\n",
    "\n",
    "По моему мнению, в дальнейшем, чтобы строить рекламную стратегию нужно изучить пол/возрастные категории и делать стратифицировнные выборки, чтобы максимально эффективно использовать рекламные возможности, как таргетированная реклама. Но это вопрос уже другого проекта.\n",
    "\n",
    "Также в этом прокте мы проверили 2 гипотизы используя двухсторонний t-тест с альфой - в 5 %: \n",
    "1ая гипотиза, что средняя выручка пользователей тарифов «Ультра» и «Смарт» равны - её мы отвергли,\n",
    "2ая гипотиза, что средняя выручка пользователей из Москвы не отличается от средней выручки из других городов - не отвергли, тоесть вывод верный."
   ]
  }
 ],
 "metadata": {
  "ExecuteTimeLog": [
   {
    "duration": 725,
    "start_time": "2022-01-17T06:59:52.161Z"
   },
   {
    "duration": 641,
    "start_time": "2022-01-17T07:01:34.938Z"
   },
   {
    "duration": 121,
    "start_time": "2022-01-17T07:01:39.658Z"
   },
   {
    "duration": 521,
    "start_time": "2022-01-17T07:03:22.984Z"
   },
   {
    "duration": 22,
    "start_time": "2022-01-17T07:03:27.206Z"
   },
   {
    "duration": 11,
    "start_time": "2022-01-17T07:03:39.138Z"
   },
   {
    "duration": 18,
    "start_time": "2022-01-17T07:04:01.544Z"
   },
   {
    "duration": 12,
    "start_time": "2022-01-17T07:04:24.312Z"
   },
   {
    "duration": 12,
    "start_time": "2022-01-17T07:04:26.513Z"
   },
   {
    "duration": 10,
    "start_time": "2022-01-17T07:04:28.365Z"
   },
   {
    "duration": 12,
    "start_time": "2022-01-17T07:04:29.783Z"
   },
   {
    "duration": 14,
    "start_time": "2022-01-17T07:04:34.008Z"
   },
   {
    "duration": 1386,
    "start_time": "2022-01-19T08:27:56.093Z"
   },
   {
    "duration": 601,
    "start_time": "2022-01-19T08:27:57.482Z"
   },
   {
    "duration": 16,
    "start_time": "2022-01-19T08:27:58.087Z"
   },
   {
    "duration": 15,
    "start_time": "2022-01-19T08:27:58.106Z"
   },
   {
    "duration": 10,
    "start_time": "2022-01-19T08:27:58.124Z"
   },
   {
    "duration": 44,
    "start_time": "2022-01-19T08:27:58.137Z"
   },
   {
    "duration": 15,
    "start_time": "2022-01-19T08:27:58.184Z"
   },
   {
    "duration": 34,
    "start_time": "2022-01-19T08:28:17.059Z"
   },
   {
    "duration": 12,
    "start_time": "2022-01-19T08:28:25.873Z"
   },
   {
    "duration": 70,
    "start_time": "2022-01-19T08:44:24.172Z"
   },
   {
    "duration": 28,
    "start_time": "2022-01-19T08:44:31.351Z"
   },
   {
    "duration": 40,
    "start_time": "2022-01-19T08:44:38.505Z"
   },
   {
    "duration": 41,
    "start_time": "2022-01-19T08:44:40.205Z"
   },
   {
    "duration": 24,
    "start_time": "2022-01-19T08:44:49.267Z"
   },
   {
    "duration": 9,
    "start_time": "2022-01-19T08:44:50.550Z"
   },
   {
    "duration": 9,
    "start_time": "2022-01-19T08:44:52.531Z"
   },
   {
    "duration": 13,
    "start_time": "2022-01-19T08:54:29.251Z"
   },
   {
    "duration": 12,
    "start_time": "2022-01-19T08:54:44.437Z"
   },
   {
    "duration": 13,
    "start_time": "2022-01-19T08:54:54.510Z"
   },
   {
    "duration": 15,
    "start_time": "2022-01-19T08:55:03.704Z"
   },
   {
    "duration": 6,
    "start_time": "2022-01-19T09:00:44.962Z"
   },
   {
    "duration": 481,
    "start_time": "2022-01-19T09:01:11.291Z"
   },
   {
    "duration": 26,
    "start_time": "2022-01-19T09:02:01.798Z"
   },
   {
    "duration": 27,
    "start_time": "2022-01-19T09:02:10.709Z"
   },
   {
    "duration": 13,
    "start_time": "2022-01-19T09:02:17.329Z"
   },
   {
    "duration": 24,
    "start_time": "2022-01-19T09:02:19.447Z"
   },
   {
    "duration": 1321,
    "start_time": "2022-01-19T09:09:42.224Z"
   },
   {
    "duration": 579,
    "start_time": "2022-01-19T09:09:44.699Z"
   },
   {
    "duration": 16,
    "start_time": "2022-01-19T09:09:47.319Z"
   },
   {
    "duration": 13,
    "start_time": "2022-01-19T09:09:50.313Z"
   },
   {
    "duration": 12,
    "start_time": "2022-01-19T09:19:29.028Z"
   },
   {
    "duration": 12,
    "start_time": "2022-01-19T09:19:30.603Z"
   },
   {
    "duration": 14,
    "start_time": "2022-01-19T09:19:32.101Z"
   },
   {
    "duration": 10,
    "start_time": "2022-01-19T09:19:33.740Z"
   },
   {
    "duration": 31,
    "start_time": "2022-01-19T09:19:36.356Z"
   },
   {
    "duration": 24,
    "start_time": "2022-01-19T09:19:37.180Z"
   },
   {
    "duration": 10,
    "start_time": "2022-01-19T09:19:56.448Z"
   },
   {
    "duration": 6,
    "start_time": "2022-01-19T09:20:00.674Z"
   },
   {
    "duration": 12,
    "start_time": "2022-01-19T09:20:01.708Z"
   },
   {
    "duration": 80,
    "start_time": "2022-01-19T09:20:02.469Z"
   },
   {
    "duration": 27,
    "start_time": "2022-01-19T09:20:09.905Z"
   },
   {
    "duration": 4,
    "start_time": "2022-01-19T09:22:40.735Z"
   },
   {
    "duration": 3,
    "start_time": "2022-01-19T09:22:54.096Z"
   },
   {
    "duration": 596,
    "start_time": "2022-01-19T09:23:29.241Z"
   },
   {
    "duration": 307,
    "start_time": "2022-01-19T09:23:34.354Z"
   },
   {
    "duration": 1542,
    "start_time": "2022-01-19T09:23:43.649Z"
   },
   {
    "duration": 514,
    "start_time": "2022-01-19T09:23:45.193Z"
   },
   {
    "duration": 15,
    "start_time": "2022-01-19T09:23:45.710Z"
   },
   {
    "duration": 16,
    "start_time": "2022-01-19T09:23:45.728Z"
   },
   {
    "duration": 15,
    "start_time": "2022-01-19T09:23:45.747Z"
   },
   {
    "duration": 19,
    "start_time": "2022-01-19T09:23:45.765Z"
   },
   {
    "duration": 19,
    "start_time": "2022-01-19T09:23:45.788Z"
   },
   {
    "duration": 47,
    "start_time": "2022-01-19T09:23:45.812Z"
   },
   {
    "duration": 31,
    "start_time": "2022-01-19T09:23:45.864Z"
   },
   {
    "duration": 67,
    "start_time": "2022-01-19T09:23:45.899Z"
   },
   {
    "duration": 24,
    "start_time": "2022-01-19T09:23:45.969Z"
   },
   {
    "duration": 10,
    "start_time": "2022-01-19T09:23:45.995Z"
   },
   {
    "duration": 10,
    "start_time": "2022-01-19T09:23:46.007Z"
   },
   {
    "duration": 12,
    "start_time": "2022-01-19T09:23:46.059Z"
   },
   {
    "duration": 6,
    "start_time": "2022-01-19T09:23:46.073Z"
   },
   {
    "duration": 107,
    "start_time": "2022-01-19T09:23:46.082Z"
   },
   {
    "duration": 1593,
    "start_time": "2022-01-19T09:30:32.395Z"
   },
   {
    "duration": 558,
    "start_time": "2022-01-19T09:30:33.991Z"
   },
   {
    "duration": 20,
    "start_time": "2022-01-19T09:30:34.552Z"
   },
   {
    "duration": 16,
    "start_time": "2022-01-19T09:30:34.576Z"
   },
   {
    "duration": 14,
    "start_time": "2022-01-19T09:30:34.595Z"
   },
   {
    "duration": 60,
    "start_time": "2022-01-19T09:30:34.612Z"
   },
   {
    "duration": 16,
    "start_time": "2022-01-19T09:30:34.674Z"
   },
   {
    "duration": 10,
    "start_time": "2022-01-19T09:30:34.693Z"
   },
   {
    "duration": 69,
    "start_time": "2022-01-19T09:30:34.706Z"
   },
   {
    "duration": 24,
    "start_time": "2022-01-19T09:30:34.777Z"
   },
   {
    "duration": 24,
    "start_time": "2022-01-19T09:30:34.804Z"
   },
   {
    "duration": 36,
    "start_time": "2022-01-19T09:30:34.830Z"
   },
   {
    "duration": 10,
    "start_time": "2022-01-19T09:30:34.868Z"
   },
   {
    "duration": 18,
    "start_time": "2022-01-19T09:30:34.880Z"
   },
   {
    "duration": 4,
    "start_time": "2022-01-19T09:30:34.901Z"
   },
   {
    "duration": 559,
    "start_time": "2022-01-19T09:30:34.909Z"
   },
   {
    "duration": -73,
    "start_time": "2022-01-19T09:30:35.544Z"
   },
   {
    "duration": 595,
    "start_time": "2022-01-19T09:31:23.892Z"
   },
   {
    "duration": 447,
    "start_time": "2022-01-19T09:32:07.832Z"
   },
   {
    "duration": 498,
    "start_time": "2022-01-19T09:32:38.009Z"
   },
   {
    "duration": 53,
    "start_time": "2022-01-19T09:36:19.637Z"
   },
   {
    "duration": 86,
    "start_time": "2022-01-19T09:36:27.288Z"
   },
   {
    "duration": 109,
    "start_time": "2022-01-19T09:40:45.974Z"
   },
   {
    "duration": 104,
    "start_time": "2022-01-19T09:40:59.181Z"
   },
   {
    "duration": 83,
    "start_time": "2022-01-19T09:42:18.814Z"
   },
   {
    "duration": 67,
    "start_time": "2022-01-19T09:42:42.911Z"
   },
   {
    "duration": 402,
    "start_time": "2022-01-19T09:43:05.754Z"
   },
   {
    "duration": 511,
    "start_time": "2022-01-19T11:14:20.195Z"
   },
   {
    "duration": 1384,
    "start_time": "2022-01-19T11:14:27.545Z"
   },
   {
    "duration": 1503,
    "start_time": "2022-01-19T11:14:28.931Z"
   },
   {
    "duration": 16,
    "start_time": "2022-01-19T11:14:30.440Z"
   },
   {
    "duration": 20,
    "start_time": "2022-01-19T11:14:30.458Z"
   },
   {
    "duration": 19,
    "start_time": "2022-01-19T11:14:30.481Z"
   },
   {
    "duration": 24,
    "start_time": "2022-01-19T11:14:30.502Z"
   },
   {
    "duration": 39,
    "start_time": "2022-01-19T11:14:30.529Z"
   },
   {
    "duration": 21,
    "start_time": "2022-01-19T11:14:30.571Z"
   },
   {
    "duration": 39,
    "start_time": "2022-01-19T11:14:30.595Z"
   },
   {
    "duration": 42,
    "start_time": "2022-01-19T11:14:30.638Z"
   },
   {
    "duration": 27,
    "start_time": "2022-01-19T11:14:30.683Z"
   },
   {
    "duration": 12,
    "start_time": "2022-01-19T11:14:30.713Z"
   },
   {
    "duration": 36,
    "start_time": "2022-01-19T11:14:30.727Z"
   },
   {
    "duration": 19,
    "start_time": "2022-01-19T11:14:30.765Z"
   },
   {
    "duration": 5,
    "start_time": "2022-01-19T11:14:30.787Z"
   },
   {
    "duration": 100,
    "start_time": "2022-01-19T11:14:30.794Z"
   },
   {
    "duration": 82,
    "start_time": "2022-01-19T11:14:34.748Z"
   },
   {
    "duration": 2647,
    "start_time": "2022-01-19T11:17:06.407Z"
   },
   {
    "duration": 70,
    "start_time": "2022-01-19T11:17:20.109Z"
   },
   {
    "duration": 407,
    "start_time": "2022-01-19T11:17:55.792Z"
   },
   {
    "duration": 88,
    "start_time": "2022-01-19T11:21:08.707Z"
   },
   {
    "duration": 365,
    "start_time": "2022-01-19T11:21:59.526Z"
   },
   {
    "duration": 382,
    "start_time": "2022-01-19T11:33:24.743Z"
   },
   {
    "duration": 60,
    "start_time": "2022-01-19T11:33:47.346Z"
   },
   {
    "duration": 27,
    "start_time": "2022-01-19T11:33:58.293Z"
   },
   {
    "duration": 268,
    "start_time": "2022-01-19T11:34:30.679Z"
   },
   {
    "duration": 27,
    "start_time": "2022-01-19T11:34:37.717Z"
   },
   {
    "duration": 136,
    "start_time": "2022-01-19T11:35:13.733Z"
   },
   {
    "duration": 42,
    "start_time": "2022-01-19T11:35:19.341Z"
   },
   {
    "duration": 88,
    "start_time": "2022-01-19T11:37:30.969Z"
   },
   {
    "duration": 265,
    "start_time": "2022-01-19T11:37:33.213Z"
   },
   {
    "duration": 166,
    "start_time": "2022-01-19T11:37:39.888Z"
   },
   {
    "duration": 4,
    "start_time": "2022-01-19T12:06:36.177Z"
   },
   {
    "duration": 651,
    "start_time": "2022-01-19T12:10:56.799Z"
   },
   {
    "duration": 1388,
    "start_time": "2022-01-19T12:11:09.344Z"
   },
   {
    "duration": 535,
    "start_time": "2022-01-19T12:11:10.734Z"
   },
   {
    "duration": 16,
    "start_time": "2022-01-19T12:11:11.272Z"
   },
   {
    "duration": 11,
    "start_time": "2022-01-19T12:11:11.291Z"
   },
   {
    "duration": 9,
    "start_time": "2022-01-19T12:11:11.305Z"
   },
   {
    "duration": 44,
    "start_time": "2022-01-19T12:11:11.317Z"
   },
   {
    "duration": 16,
    "start_time": "2022-01-19T12:11:11.364Z"
   },
   {
    "duration": 11,
    "start_time": "2022-01-19T12:11:11.383Z"
   },
   {
    "duration": 78,
    "start_time": "2022-01-19T12:11:11.397Z"
   },
   {
    "duration": 23,
    "start_time": "2022-01-19T12:11:11.477Z"
   },
   {
    "duration": 19,
    "start_time": "2022-01-19T12:11:11.503Z"
   },
   {
    "duration": 41,
    "start_time": "2022-01-19T12:11:11.525Z"
   },
   {
    "duration": 8,
    "start_time": "2022-01-19T12:11:11.568Z"
   },
   {
    "duration": 11,
    "start_time": "2022-01-19T12:11:11.578Z"
   },
   {
    "duration": 6,
    "start_time": "2022-01-19T12:11:11.592Z"
   },
   {
    "duration": 146,
    "start_time": "2022-01-19T12:11:11.600Z"
   },
   {
    "duration": 1304,
    "start_time": "2022-01-19T12:18:51.616Z"
   },
   {
    "duration": 520,
    "start_time": "2022-01-19T12:18:52.923Z"
   },
   {
    "duration": 16,
    "start_time": "2022-01-19T12:18:53.446Z"
   },
   {
    "duration": 20,
    "start_time": "2022-01-19T12:18:53.465Z"
   },
   {
    "duration": 12,
    "start_time": "2022-01-19T12:18:53.488Z"
   },
   {
    "duration": 13,
    "start_time": "2022-01-19T12:18:53.502Z"
   },
   {
    "duration": 56,
    "start_time": "2022-01-19T12:18:53.517Z"
   },
   {
    "duration": 21,
    "start_time": "2022-01-19T12:18:53.575Z"
   },
   {
    "duration": 34,
    "start_time": "2022-01-19T12:18:53.601Z"
   },
   {
    "duration": 39,
    "start_time": "2022-01-19T12:18:53.639Z"
   },
   {
    "duration": 27,
    "start_time": "2022-01-19T12:18:53.681Z"
   },
   {
    "duration": 15,
    "start_time": "2022-01-19T12:18:53.711Z"
   },
   {
    "duration": 34,
    "start_time": "2022-01-19T12:18:53.729Z"
   },
   {
    "duration": 18,
    "start_time": "2022-01-19T12:18:53.765Z"
   },
   {
    "duration": 9,
    "start_time": "2022-01-19T12:18:53.786Z"
   },
   {
    "duration": 10,
    "start_time": "2022-01-19T12:18:53.797Z"
   },
   {
    "duration": 8,
    "start_time": "2022-01-19T12:18:53.810Z"
   },
   {
    "duration": 272,
    "start_time": "2022-01-19T12:19:45.836Z"
   },
   {
    "duration": 224,
    "start_time": "2022-01-19T12:19:49.623Z"
   },
   {
    "duration": 8,
    "start_time": "2022-01-19T12:20:44.930Z"
   },
   {
    "duration": 211,
    "start_time": "2022-01-19T12:20:57.164Z"
   },
   {
    "duration": 7,
    "start_time": "2022-01-19T12:21:06.251Z"
   },
   {
    "duration": 9,
    "start_time": "2022-01-19T12:21:13.536Z"
   },
   {
    "duration": 89,
    "start_time": "2022-01-19T12:24:45.496Z"
   },
   {
    "duration": 314,
    "start_time": "2022-01-19T12:25:35.926Z"
   },
   {
    "duration": 316,
    "start_time": "2022-01-19T12:26:11.804Z"
   },
   {
    "duration": 81,
    "start_time": "2022-01-19T12:28:54.709Z"
   },
   {
    "duration": 4,
    "start_time": "2022-01-19T12:32:10.332Z"
   },
   {
    "duration": 3,
    "start_time": "2022-01-19T12:32:12.349Z"
   },
   {
    "duration": 378,
    "start_time": "2022-01-19T12:42:39.453Z"
   },
   {
    "duration": 309,
    "start_time": "2022-01-19T12:42:52.854Z"
   },
   {
    "duration": 1780,
    "start_time": "2022-01-19T12:43:02.260Z"
   },
   {
    "duration": 720,
    "start_time": "2022-01-19T12:43:04.043Z"
   },
   {
    "duration": 22,
    "start_time": "2022-01-19T12:43:04.770Z"
   },
   {
    "duration": 16,
    "start_time": "2022-01-19T12:43:04.795Z"
   },
   {
    "duration": 55,
    "start_time": "2022-01-19T12:43:04.813Z"
   },
   {
    "duration": 16,
    "start_time": "2022-01-19T12:43:04.871Z"
   },
   {
    "duration": 15,
    "start_time": "2022-01-19T12:43:04.890Z"
   },
   {
    "duration": 53,
    "start_time": "2022-01-19T12:43:04.908Z"
   },
   {
    "duration": 30,
    "start_time": "2022-01-19T12:43:04.963Z"
   },
   {
    "duration": 22,
    "start_time": "2022-01-19T12:43:04.995Z"
   },
   {
    "duration": 18,
    "start_time": "2022-01-19T12:43:05.060Z"
   },
   {
    "duration": 14,
    "start_time": "2022-01-19T12:43:05.081Z"
   },
   {
    "duration": 15,
    "start_time": "2022-01-19T12:43:05.098Z"
   },
   {
    "duration": 46,
    "start_time": "2022-01-19T12:43:05.117Z"
   },
   {
    "duration": 11,
    "start_time": "2022-01-19T12:43:05.166Z"
   },
   {
    "duration": 4,
    "start_time": "2022-01-19T12:43:05.180Z"
   },
   {
    "duration": 5,
    "start_time": "2022-01-19T12:43:05.187Z"
   },
   {
    "duration": 6,
    "start_time": "2022-01-19T12:43:05.195Z"
   },
   {
    "duration": 5,
    "start_time": "2022-01-19T12:43:05.204Z"
   },
   {
    "duration": 18,
    "start_time": "2022-01-19T12:43:12.229Z"
   },
   {
    "duration": 9,
    "start_time": "2022-01-19T12:43:19.997Z"
   },
   {
    "duration": 6,
    "start_time": "2022-01-19T12:43:41.804Z"
   },
   {
    "duration": 496,
    "start_time": "2022-01-19T12:43:43.058Z"
   },
   {
    "duration": 560,
    "start_time": "2022-01-19T12:44:01.084Z"
   },
   {
    "duration": 104,
    "start_time": "2022-01-19T12:44:22.479Z"
   },
   {
    "duration": 290,
    "start_time": "2022-01-19T12:44:25.209Z"
   },
   {
    "duration": 243,
    "start_time": "2022-01-19T12:44:27.703Z"
   },
   {
    "duration": 178,
    "start_time": "2022-01-19T12:44:29.046Z"
   },
   {
    "duration": 20,
    "start_time": "2022-01-19T12:44:30.546Z"
   },
   {
    "duration": 31,
    "start_time": "2022-01-19T12:44:31.941Z"
   },
   {
    "duration": 9,
    "start_time": "2022-01-19T12:44:43.677Z"
   },
   {
    "duration": 9,
    "start_time": "2022-01-19T12:44:44.780Z"
   },
   {
    "duration": 16,
    "start_time": "2022-01-19T12:44:50.414Z"
   },
   {
    "duration": 200,
    "start_time": "2022-01-19T12:50:00.557Z"
   },
   {
    "duration": 30,
    "start_time": "2022-01-19T12:50:02.967Z"
   },
   {
    "duration": 2282,
    "start_time": "2022-01-19T12:50:56.055Z"
   },
   {
    "duration": 122,
    "start_time": "2022-01-19T12:51:25.740Z"
   },
   {
    "duration": 10,
    "start_time": "2022-01-19T12:51:31.060Z"
   },
   {
    "duration": 17,
    "start_time": "2022-01-19T12:51:33.036Z"
   },
   {
    "duration": 13,
    "start_time": "2022-01-19T12:51:42.270Z"
   },
   {
    "duration": 23,
    "start_time": "2022-01-19T12:52:16.386Z"
   },
   {
    "duration": 9,
    "start_time": "2022-01-19T12:52:42.098Z"
   },
   {
    "duration": 10,
    "start_time": "2022-01-19T12:53:10.969Z"
   },
   {
    "duration": 10,
    "start_time": "2022-01-19T12:53:13.644Z"
   },
   {
    "duration": 14,
    "start_time": "2022-01-19T12:53:16.572Z"
   },
   {
    "duration": 6,
    "start_time": "2022-01-19T12:53:42.694Z"
   },
   {
    "duration": 8,
    "start_time": "2022-01-19T12:53:43.817Z"
   },
   {
    "duration": 5,
    "start_time": "2022-01-19T12:53:55.553Z"
   },
   {
    "duration": 3759,
    "start_time": "2022-01-19T12:53:56.558Z"
   },
   {
    "duration": 16,
    "start_time": "2022-01-19T12:54:09.313Z"
   },
   {
    "duration": 9,
    "start_time": "2022-01-19T12:54:15.566Z"
   },
   {
    "duration": 30,
    "start_time": "2022-01-19T12:54:22.716Z"
   },
   {
    "duration": 14,
    "start_time": "2022-01-19T12:54:30.026Z"
   },
   {
    "duration": 7,
    "start_time": "2022-01-19T12:54:41.856Z"
   },
   {
    "duration": 6,
    "start_time": "2022-01-19T12:54:43.417Z"
   },
   {
    "duration": 11,
    "start_time": "2022-01-19T12:54:44.292Z"
   },
   {
    "duration": 15,
    "start_time": "2022-01-19T13:00:15.409Z"
   },
   {
    "duration": 373,
    "start_time": "2022-01-19T13:00:42.378Z"
   },
   {
    "duration": 341,
    "start_time": "2022-01-19T13:00:49.021Z"
   },
   {
    "duration": 336,
    "start_time": "2022-01-19T13:00:54.231Z"
   },
   {
    "duration": 339,
    "start_time": "2022-01-19T13:01:04.487Z"
   },
   {
    "duration": 349,
    "start_time": "2022-01-19T13:01:14.348Z"
   },
   {
    "duration": 17,
    "start_time": "2022-01-19T13:01:31.130Z"
   },
   {
    "duration": 29,
    "start_time": "2022-01-19T13:02:06.783Z"
   },
   {
    "duration": 42,
    "start_time": "2022-01-19T13:02:56.466Z"
   },
   {
    "duration": 12,
    "start_time": "2022-01-19T13:03:02.331Z"
   },
   {
    "duration": 19,
    "start_time": "2022-01-19T13:03:06.130Z"
   },
   {
    "duration": 23,
    "start_time": "2022-01-19T13:03:21.672Z"
   },
   {
    "duration": 6,
    "start_time": "2022-01-19T13:03:36.798Z"
   },
   {
    "duration": 10,
    "start_time": "2022-01-19T13:03:38.593Z"
   },
   {
    "duration": 23,
    "start_time": "2022-01-19T13:03:44.091Z"
   },
   {
    "duration": 58,
    "start_time": "2022-01-19T13:04:02.471Z"
   },
   {
    "duration": 17,
    "start_time": "2022-01-19T13:04:06.009Z"
   },
   {
    "duration": 19,
    "start_time": "2022-01-19T13:04:29.276Z"
   },
   {
    "duration": 317,
    "start_time": "2022-01-19T13:05:05.233Z"
   },
   {
    "duration": 25,
    "start_time": "2022-01-19T13:05:13.952Z"
   },
   {
    "duration": 15,
    "start_time": "2022-01-19T13:05:16.638Z"
   },
   {
    "duration": 12,
    "start_time": "2022-01-19T13:06:12.736Z"
   },
   {
    "duration": 36,
    "start_time": "2022-01-19T13:08:31.107Z"
   },
   {
    "duration": 37,
    "start_time": "2022-01-19T13:08:52.794Z"
   },
   {
    "duration": 83,
    "start_time": "2022-01-19T13:09:42.455Z"
   },
   {
    "duration": 135,
    "start_time": "2022-01-19T13:10:53.296Z"
   },
   {
    "duration": 341,
    "start_time": "2022-01-19T13:11:37.090Z"
   },
   {
    "duration": 81,
    "start_time": "2022-01-19T13:11:42.266Z"
   },
   {
    "duration": 14,
    "start_time": "2022-01-19T13:13:11.997Z"
   },
   {
    "duration": 430,
    "start_time": "2022-01-19T13:13:30.607Z"
   },
   {
    "duration": 323,
    "start_time": "2022-01-19T13:13:43.502Z"
   },
   {
    "duration": 97,
    "start_time": "2022-01-19T13:15:08.978Z"
   },
   {
    "duration": 33,
    "start_time": "2022-01-19T13:19:52.573Z"
   },
   {
    "duration": 13,
    "start_time": "2022-01-19T13:19:53.749Z"
   },
   {
    "duration": 21,
    "start_time": "2022-01-19T13:20:11.116Z"
   },
   {
    "duration": 25,
    "start_time": "2022-01-19T13:20:15.643Z"
   },
   {
    "duration": 57,
    "start_time": "2022-01-19T13:20:30.047Z"
   },
   {
    "duration": 53,
    "start_time": "2022-01-19T13:21:28.524Z"
   },
   {
    "duration": 65,
    "start_time": "2022-01-19T13:21:51.712Z"
   },
   {
    "duration": 65,
    "start_time": "2022-01-19T13:21:58.636Z"
   },
   {
    "duration": 50,
    "start_time": "2022-01-19T13:23:55.760Z"
   },
   {
    "duration": 38,
    "start_time": "2022-01-19T13:24:13.329Z"
   },
   {
    "duration": 54,
    "start_time": "2022-01-19T13:24:20.093Z"
   },
   {
    "duration": 45,
    "start_time": "2022-01-19T13:24:25.311Z"
   },
   {
    "duration": 36,
    "start_time": "2022-01-19T13:27:11.826Z"
   },
   {
    "duration": 6,
    "start_time": "2022-01-19T13:30:56.655Z"
   },
   {
    "duration": 4,
    "start_time": "2022-01-19T13:31:26.259Z"
   },
   {
    "duration": 11,
    "start_time": "2022-01-19T13:31:31.487Z"
   },
   {
    "duration": 36,
    "start_time": "2022-01-19T13:33:14.529Z"
   },
   {
    "duration": 41,
    "start_time": "2022-01-19T13:34:12.855Z"
   },
   {
    "duration": 16,
    "start_time": "2022-01-19T13:34:20.682Z"
   },
   {
    "duration": 42,
    "start_time": "2022-01-19T13:45:50.467Z"
   },
   {
    "duration": 16,
    "start_time": "2022-01-19T13:47:15.998Z"
   },
   {
    "duration": 36,
    "start_time": "2022-01-19T13:47:34.666Z"
   },
   {
    "duration": 5,
    "start_time": "2022-01-19T13:51:04.951Z"
   },
   {
    "duration": 341,
    "start_time": "2022-01-19T13:51:28.214Z"
   },
   {
    "duration": 554,
    "start_time": "2022-01-19T13:51:38.977Z"
   },
   {
    "duration": 8,
    "start_time": "2022-01-19T13:53:33.361Z"
   },
   {
    "duration": 5628,
    "start_time": "2022-01-19T13:53:34.965Z"
   },
   {
    "duration": 31,
    "start_time": "2022-01-19T13:53:57.793Z"
   },
   {
    "duration": 35,
    "start_time": "2022-01-19T13:54:16.309Z"
   },
   {
    "duration": 579,
    "start_time": "2022-01-19T13:54:21.069Z"
   },
   {
    "duration": 2743,
    "start_time": "2022-01-19T13:54:28.197Z"
   },
   {
    "duration": 15,
    "start_time": "2022-01-19T13:54:41.577Z"
   },
   {
    "duration": 38,
    "start_time": "2022-01-19T13:54:53.008Z"
   },
   {
    "duration": 13,
    "start_time": "2022-01-19T13:55:51.403Z"
   },
   {
    "duration": 195,
    "start_time": "2022-01-19T13:56:03.979Z"
   },
   {
    "duration": 44,
    "start_time": "2022-01-19T13:56:10.193Z"
   },
   {
    "duration": 33,
    "start_time": "2022-01-19T13:56:12.082Z"
   },
   {
    "duration": 13,
    "start_time": "2022-01-19T13:56:15.004Z"
   },
   {
    "duration": 60,
    "start_time": "2022-01-19T13:57:06.560Z"
   },
   {
    "duration": 47,
    "start_time": "2022-01-19T13:57:18.985Z"
   },
   {
    "duration": 43,
    "start_time": "2022-01-19T13:57:25.353Z"
   },
   {
    "duration": 83,
    "start_time": "2022-01-19T13:57:53.904Z"
   },
   {
    "duration": 40,
    "start_time": "2022-01-19T13:58:15.016Z"
   },
   {
    "duration": 1619,
    "start_time": "2022-01-19T14:20:11.513Z"
   },
   {
    "duration": 1294,
    "start_time": "2022-01-19T14:20:17.161Z"
   },
   {
    "duration": 42,
    "start_time": "2022-01-19T14:20:49.483Z"
   },
   {
    "duration": 328,
    "start_time": "2022-01-19T14:21:13.080Z"
   },
   {
    "duration": 36,
    "start_time": "2022-01-19T14:21:23.325Z"
   },
   {
    "duration": 28,
    "start_time": "2022-01-19T14:21:31.024Z"
   },
   {
    "duration": 16,
    "start_time": "2022-01-19T14:21:41.140Z"
   },
   {
    "duration": 38,
    "start_time": "2022-01-19T14:22:05.020Z"
   },
   {
    "duration": 39,
    "start_time": "2022-01-19T14:22:10.426Z"
   },
   {
    "duration": 35,
    "start_time": "2022-01-19T14:22:15.824Z"
   },
   {
    "duration": 74,
    "start_time": "2022-01-19T14:23:52.986Z"
   },
   {
    "duration": 5,
    "start_time": "2022-01-19T14:25:05.947Z"
   },
   {
    "duration": 43,
    "start_time": "2022-01-19T14:25:11.761Z"
   },
   {
    "duration": 1353,
    "start_time": "2022-01-19T14:35:31.421Z"
   },
   {
    "duration": 393,
    "start_time": "2022-01-19T14:36:01.094Z"
   },
   {
    "duration": 47,
    "start_time": "2022-01-19T14:36:19.620Z"
   },
   {
    "duration": 373,
    "start_time": "2022-01-19T14:36:33.009Z"
   },
   {
    "duration": 44,
    "start_time": "2022-01-19T14:38:28.722Z"
   },
   {
    "duration": 44,
    "start_time": "2022-01-19T14:38:48.879Z"
   },
   {
    "duration": 369,
    "start_time": "2022-01-19T14:39:08.971Z"
   },
   {
    "duration": 40,
    "start_time": "2022-01-19T14:39:27.047Z"
   },
   {
    "duration": 61,
    "start_time": "2022-01-19T14:39:32.135Z"
   },
   {
    "duration": 43,
    "start_time": "2022-01-19T14:39:42.862Z"
   },
   {
    "duration": 48,
    "start_time": "2022-01-19T14:40:19.529Z"
   },
   {
    "duration": 312,
    "start_time": "2022-01-19T14:41:22.416Z"
   },
   {
    "duration": 20,
    "start_time": "2022-01-19T14:41:35.747Z"
   },
   {
    "duration": 1300,
    "start_time": "2022-01-19T14:41:55.579Z"
   },
   {
    "duration": 26,
    "start_time": "2022-01-19T14:42:09.591Z"
   },
   {
    "duration": 103,
    "start_time": "2022-01-19T14:42:25.575Z"
   },
   {
    "duration": 383,
    "start_time": "2022-01-19T14:42:30.981Z"
   },
   {
    "duration": 31,
    "start_time": "2022-01-19T14:42:44.659Z"
   },
   {
    "duration": 31,
    "start_time": "2022-01-19T14:43:00.394Z"
   },
   {
    "duration": 31,
    "start_time": "2022-01-19T14:43:25.356Z"
   },
   {
    "duration": 34,
    "start_time": "2022-01-19T14:43:56.781Z"
   },
   {
    "duration": 36,
    "start_time": "2022-01-19T14:44:17.691Z"
   },
   {
    "duration": 32,
    "start_time": "2022-01-19T14:44:40.286Z"
   },
   {
    "duration": 35,
    "start_time": "2022-01-19T14:46:08.273Z"
   },
   {
    "duration": 798,
    "start_time": "2022-01-19T14:47:05.701Z"
   },
   {
    "duration": 25,
    "start_time": "2022-01-19T14:49:41.402Z"
   },
   {
    "duration": 379,
    "start_time": "2022-01-19T14:50:04.431Z"
   },
   {
    "duration": 310,
    "start_time": "2022-01-19T14:50:25.209Z"
   },
   {
    "duration": 463,
    "start_time": "2022-01-19T14:50:29.831Z"
   },
   {
    "duration": 36,
    "start_time": "2022-01-19T14:54:25.211Z"
   },
   {
    "duration": 292,
    "start_time": "2022-01-20T04:57:35.449Z"
   },
   {
    "duration": 1008,
    "start_time": "2022-01-20T04:57:47.399Z"
   },
   {
    "duration": 144,
    "start_time": "2022-01-20T04:57:48.409Z"
   },
   {
    "duration": 117,
    "start_time": "2022-01-20T04:57:48.555Z"
   },
   {
    "duration": 82,
    "start_time": "2022-01-20T04:57:48.674Z"
   },
   {
    "duration": 16,
    "start_time": "2022-01-20T04:57:48.757Z"
   },
   {
    "duration": 32,
    "start_time": "2022-01-20T04:57:48.775Z"
   },
   {
    "duration": 10,
    "start_time": "2022-01-20T04:57:48.809Z"
   },
   {
    "duration": 9,
    "start_time": "2022-01-20T04:57:48.820Z"
   },
   {
    "duration": 7,
    "start_time": "2022-01-20T04:57:48.831Z"
   },
   {
    "duration": 17,
    "start_time": "2022-01-20T04:57:48.840Z"
   },
   {
    "duration": 11,
    "start_time": "2022-01-20T04:57:48.858Z"
   },
   {
    "duration": 8,
    "start_time": "2022-01-20T04:57:48.870Z"
   },
   {
    "duration": 21,
    "start_time": "2022-01-20T04:57:48.879Z"
   },
   {
    "duration": 16,
    "start_time": "2022-01-20T04:57:48.902Z"
   },
   {
    "duration": 14,
    "start_time": "2022-01-20T04:57:48.919Z"
   },
   {
    "duration": 5,
    "start_time": "2022-01-20T04:57:48.935Z"
   },
   {
    "duration": 32,
    "start_time": "2022-01-20T04:57:48.942Z"
   },
   {
    "duration": 8,
    "start_time": "2022-01-20T04:57:48.976Z"
   },
   {
    "duration": 11,
    "start_time": "2022-01-20T04:57:48.985Z"
   },
   {
    "duration": 6,
    "start_time": "2022-01-20T04:57:48.998Z"
   },
   {
    "duration": 8,
    "start_time": "2022-01-20T04:57:49.006Z"
   },
   {
    "duration": 34,
    "start_time": "2022-01-20T04:57:49.015Z"
   },
   {
    "duration": 40,
    "start_time": "2022-01-20T04:57:49.051Z"
   },
   {
    "duration": 19,
    "start_time": "2022-01-20T04:57:49.092Z"
   },
   {
    "duration": 22,
    "start_time": "2022-01-20T04:57:49.112Z"
   },
   {
    "duration": 14,
    "start_time": "2022-01-20T04:57:49.136Z"
   },
   {
    "duration": 37,
    "start_time": "2022-01-20T04:57:49.153Z"
   },
   {
    "duration": 50,
    "start_time": "2022-01-20T04:57:49.196Z"
   },
   {
    "duration": 58,
    "start_time": "2022-01-20T04:57:49.247Z"
   },
   {
    "duration": 29,
    "start_time": "2022-01-20T04:57:49.307Z"
   },
   {
    "duration": 41,
    "start_time": "2022-01-20T04:57:49.338Z"
   },
   {
    "duration": 12,
    "start_time": "2022-01-20T04:57:49.381Z"
   },
   {
    "duration": 17,
    "start_time": "2022-01-20T04:57:49.394Z"
   },
   {
    "duration": 18,
    "start_time": "2022-01-20T04:57:49.413Z"
   },
   {
    "duration": 41,
    "start_time": "2022-01-20T04:57:49.432Z"
   },
   {
    "duration": 11,
    "start_time": "2022-01-20T04:57:49.474Z"
   },
   {
    "duration": 20,
    "start_time": "2022-01-20T04:57:49.487Z"
   },
   {
    "duration": 19,
    "start_time": "2022-01-20T04:57:49.509Z"
   },
   {
    "duration": 51,
    "start_time": "2022-01-20T04:57:49.530Z"
   },
   {
    "duration": 46,
    "start_time": "2022-01-20T04:57:49.582Z"
   },
   {
    "duration": 3,
    "start_time": "2022-01-20T04:57:49.630Z"
   },
   {
    "duration": 36,
    "start_time": "2022-01-20T04:57:49.635Z"
   },
   {
    "duration": 3,
    "start_time": "2022-01-20T04:57:49.673Z"
   },
   {
    "duration": 6,
    "start_time": "2022-01-20T04:57:49.677Z"
   },
   {
    "duration": 4,
    "start_time": "2022-01-20T04:57:49.684Z"
   },
   {
    "duration": 3,
    "start_time": "2022-01-20T04:57:49.690Z"
   },
   {
    "duration": 335,
    "start_time": "2022-01-20T04:58:24.044Z"
   },
   {
    "duration": 64,
    "start_time": "2022-01-20T04:58:47.239Z"
   },
   {
    "duration": 263,
    "start_time": "2022-01-20T04:59:00.154Z"
   },
   {
    "duration": 1043,
    "start_time": "2022-01-20T04:59:35.963Z"
   },
   {
    "duration": 148,
    "start_time": "2022-01-20T04:59:37.008Z"
   },
   {
    "duration": 121,
    "start_time": "2022-01-20T04:59:37.158Z"
   },
   {
    "duration": 79,
    "start_time": "2022-01-20T04:59:37.281Z"
   },
   {
    "duration": 16,
    "start_time": "2022-01-20T04:59:37.362Z"
   },
   {
    "duration": 33,
    "start_time": "2022-01-20T04:59:37.380Z"
   },
   {
    "duration": 10,
    "start_time": "2022-01-20T04:59:37.415Z"
   },
   {
    "duration": 8,
    "start_time": "2022-01-20T04:59:37.427Z"
   },
   {
    "duration": 6,
    "start_time": "2022-01-20T04:59:37.437Z"
   },
   {
    "duration": 7,
    "start_time": "2022-01-20T04:59:37.445Z"
   },
   {
    "duration": 9,
    "start_time": "2022-01-20T04:59:37.454Z"
   },
   {
    "duration": 8,
    "start_time": "2022-01-20T04:59:37.464Z"
   },
   {
    "duration": 22,
    "start_time": "2022-01-20T04:59:37.474Z"
   },
   {
    "duration": 16,
    "start_time": "2022-01-20T04:59:37.497Z"
   },
   {
    "duration": 14,
    "start_time": "2022-01-20T04:59:37.514Z"
   },
   {
    "duration": 7,
    "start_time": "2022-01-20T04:59:37.529Z"
   },
   {
    "duration": 9,
    "start_time": "2022-01-20T04:59:37.538Z"
   },
   {
    "duration": 28,
    "start_time": "2022-01-20T04:59:37.548Z"
   },
   {
    "duration": 9,
    "start_time": "2022-01-20T04:59:37.577Z"
   },
   {
    "duration": 6,
    "start_time": "2022-01-20T04:59:37.587Z"
   },
   {
    "duration": 10,
    "start_time": "2022-01-20T04:59:37.595Z"
   },
   {
    "duration": 36,
    "start_time": "2022-01-20T04:59:37.606Z"
   },
   {
    "duration": 32,
    "start_time": "2022-01-20T04:59:37.646Z"
   },
   {
    "duration": 19,
    "start_time": "2022-01-20T04:59:37.679Z"
   },
   {
    "duration": 23,
    "start_time": "2022-01-20T04:59:37.699Z"
   },
   {
    "duration": 14,
    "start_time": "2022-01-20T04:59:37.723Z"
   },
   {
    "duration": 37,
    "start_time": "2022-01-20T04:59:37.738Z"
   },
   {
    "duration": 42,
    "start_time": "2022-01-20T04:59:37.777Z"
   },
   {
    "duration": 54,
    "start_time": "2022-01-20T04:59:37.821Z"
   },
   {
    "duration": 30,
    "start_time": "2022-01-20T04:59:37.876Z"
   },
   {
    "duration": 25,
    "start_time": "2022-01-20T04:59:37.907Z"
   },
   {
    "duration": 12,
    "start_time": "2022-01-20T04:59:37.934Z"
   },
   {
    "duration": 40,
    "start_time": "2022-01-20T04:59:37.947Z"
   },
   {
    "duration": 18,
    "start_time": "2022-01-20T04:59:37.989Z"
   },
   {
    "duration": 16,
    "start_time": "2022-01-20T04:59:38.008Z"
   },
   {
    "duration": 11,
    "start_time": "2022-01-20T04:59:38.026Z"
   },
   {
    "duration": 50,
    "start_time": "2022-01-20T04:59:38.038Z"
   },
   {
    "duration": 20,
    "start_time": "2022-01-20T04:59:38.089Z"
   },
   {
    "duration": 21,
    "start_time": "2022-01-20T04:59:38.111Z"
   },
   {
    "duration": 71,
    "start_time": "2022-01-20T04:59:38.133Z"
   },
   {
    "duration": 2,
    "start_time": "2022-01-20T04:59:38.206Z"
   },
   {
    "duration": 19,
    "start_time": "2022-01-20T04:59:38.210Z"
   },
   {
    "duration": 2,
    "start_time": "2022-01-20T04:59:38.231Z"
   },
   {
    "duration": 4,
    "start_time": "2022-01-20T04:59:38.234Z"
   },
   {
    "duration": 6,
    "start_time": "2022-01-20T04:59:38.239Z"
   },
   {
    "duration": 3,
    "start_time": "2022-01-20T04:59:38.247Z"
   },
   {
    "duration": 999,
    "start_time": "2022-01-20T05:00:37.609Z"
   },
   {
    "duration": 149,
    "start_time": "2022-01-20T05:00:38.611Z"
   },
   {
    "duration": 123,
    "start_time": "2022-01-20T05:00:38.762Z"
   },
   {
    "duration": 82,
    "start_time": "2022-01-20T05:00:38.886Z"
   },
   {
    "duration": 15,
    "start_time": "2022-01-20T05:00:38.970Z"
   },
   {
    "duration": 30,
    "start_time": "2022-01-20T05:00:38.986Z"
   },
   {
    "duration": 10,
    "start_time": "2022-01-20T05:00:39.018Z"
   },
   {
    "duration": 8,
    "start_time": "2022-01-20T05:00:39.031Z"
   },
   {
    "duration": 8,
    "start_time": "2022-01-20T05:00:39.040Z"
   },
   {
    "duration": 9,
    "start_time": "2022-01-20T05:00:39.050Z"
   },
   {
    "duration": 12,
    "start_time": "2022-01-20T05:00:39.060Z"
   },
   {
    "duration": 7,
    "start_time": "2022-01-20T05:00:39.074Z"
   },
   {
    "duration": 25,
    "start_time": "2022-01-20T05:00:39.083Z"
   },
   {
    "duration": 16,
    "start_time": "2022-01-20T05:00:39.109Z"
   },
   {
    "duration": 14,
    "start_time": "2022-01-20T05:00:39.127Z"
   },
   {
    "duration": 31,
    "start_time": "2022-01-20T05:00:39.142Z"
   },
   {
    "duration": 5,
    "start_time": "2022-01-20T05:00:39.175Z"
   },
   {
    "duration": 19,
    "start_time": "2022-01-20T05:00:39.182Z"
   },
   {
    "duration": 15,
    "start_time": "2022-01-20T05:00:39.203Z"
   },
   {
    "duration": 13,
    "start_time": "2022-01-20T05:00:39.220Z"
   },
   {
    "duration": 8,
    "start_time": "2022-01-20T05:00:39.235Z"
   },
   {
    "duration": 38,
    "start_time": "2022-01-20T05:00:39.246Z"
   },
   {
    "duration": 25,
    "start_time": "2022-01-20T05:00:39.286Z"
   },
   {
    "duration": 18,
    "start_time": "2022-01-20T05:00:39.313Z"
   },
   {
    "duration": 40,
    "start_time": "2022-01-20T05:00:39.332Z"
   },
   {
    "duration": 15,
    "start_time": "2022-01-20T05:00:39.374Z"
   },
   {
    "duration": 18,
    "start_time": "2022-01-20T05:00:39.391Z"
   },
   {
    "duration": 61,
    "start_time": "2022-01-20T05:00:39.411Z"
   },
   {
    "duration": 43,
    "start_time": "2022-01-20T05:00:39.474Z"
   },
   {
    "duration": 29,
    "start_time": "2022-01-20T05:00:39.519Z"
   },
   {
    "duration": 45,
    "start_time": "2022-01-20T05:00:39.549Z"
   },
   {
    "duration": 12,
    "start_time": "2022-01-20T05:00:39.595Z"
   },
   {
    "duration": 18,
    "start_time": "2022-01-20T05:00:39.609Z"
   },
   {
    "duration": 43,
    "start_time": "2022-01-20T05:00:39.629Z"
   },
   {
    "duration": 16,
    "start_time": "2022-01-20T05:00:39.674Z"
   },
   {
    "duration": 10,
    "start_time": "2022-01-20T05:00:39.691Z"
   },
   {
    "duration": 23,
    "start_time": "2022-01-20T05:00:39.702Z"
   },
   {
    "duration": 47,
    "start_time": "2022-01-20T05:00:47.566Z"
   },
   {
    "duration": 34,
    "start_time": "2022-01-20T05:00:52.501Z"
   },
   {
    "duration": 28,
    "start_time": "2022-01-20T05:00:59.633Z"
   },
   {
    "duration": 14,
    "start_time": "2022-01-20T05:01:03.898Z"
   },
   {
    "duration": 20,
    "start_time": "2022-01-20T05:01:25.431Z"
   },
   {
    "duration": 12,
    "start_time": "2022-01-20T05:01:45.157Z"
   },
   {
    "duration": 21,
    "start_time": "2022-01-20T05:05:58.279Z"
   },
   {
    "duration": 12,
    "start_time": "2022-01-20T05:06:22.261Z"
   },
   {
    "duration": 22,
    "start_time": "2022-01-20T05:06:30.779Z"
   },
   {
    "duration": 3,
    "start_time": "2022-01-20T05:07:13.448Z"
   },
   {
    "duration": 5,
    "start_time": "2022-01-20T05:08:11.338Z"
   },
   {
    "duration": 10,
    "start_time": "2022-01-20T05:08:15.630Z"
   },
   {
    "duration": 22,
    "start_time": "2022-01-20T05:09:11.887Z"
   },
   {
    "duration": 406,
    "start_time": "2022-01-20T05:10:27.591Z"
   },
   {
    "duration": 276,
    "start_time": "2022-01-20T05:10:34.399Z"
   },
   {
    "duration": 9,
    "start_time": "2022-01-20T05:10:37.600Z"
   },
   {
    "duration": 8,
    "start_time": "2022-01-20T05:14:23.511Z"
   },
   {
    "duration": 14,
    "start_time": "2022-01-20T05:20:55.367Z"
   },
   {
    "duration": 319,
    "start_time": "2022-01-20T05:25:10.863Z"
   },
   {
    "duration": 20,
    "start_time": "2022-01-20T05:25:19.509Z"
   },
   {
    "duration": 5,
    "start_time": "2022-01-20T05:25:22.583Z"
   },
   {
    "duration": 13,
    "start_time": "2022-01-20T05:25:24.869Z"
   },
   {
    "duration": 2,
    "start_time": "2022-01-20T05:28:39.242Z"
   },
   {
    "duration": 4,
    "start_time": "2022-01-20T05:31:21.409Z"
   },
   {
    "duration": 8,
    "start_time": "2022-01-20T05:31:24.826Z"
   },
   {
    "duration": 6,
    "start_time": "2022-01-20T05:32:14.872Z"
   },
   {
    "duration": 14,
    "start_time": "2022-01-20T05:32:16.946Z"
   },
   {
    "duration": 3,
    "start_time": "2022-01-20T05:49:17.401Z"
   },
   {
    "duration": 9,
    "start_time": "2022-01-20T05:49:19.330Z"
   },
   {
    "duration": 9,
    "start_time": "2022-01-20T05:49:40.509Z"
   },
   {
    "duration": 17,
    "start_time": "2022-01-20T05:49:42.525Z"
   },
   {
    "duration": 16,
    "start_time": "2022-01-20T05:50:25.617Z"
   },
   {
    "duration": 4,
    "start_time": "2022-01-20T05:50:51.153Z"
   },
   {
    "duration": 14,
    "start_time": "2022-01-20T05:50:56.611Z"
   },
   {
    "duration": 4,
    "start_time": "2022-01-20T05:51:22.886Z"
   },
   {
    "duration": 105,
    "start_time": "2022-01-20T05:55:24.617Z"
   },
   {
    "duration": 4,
    "start_time": "2022-01-20T05:55:43.676Z"
   },
   {
    "duration": 15,
    "start_time": "2022-01-20T05:55:52.652Z"
   },
   {
    "duration": 4,
    "start_time": "2022-01-20T05:56:36.582Z"
   },
   {
    "duration": 11,
    "start_time": "2022-01-20T06:00:43.658Z"
   },
   {
    "duration": 3,
    "start_time": "2022-01-20T06:18:52.689Z"
   },
   {
    "duration": 3,
    "start_time": "2022-01-20T06:19:04.231Z"
   },
   {
    "duration": 3,
    "start_time": "2022-01-20T06:19:17.568Z"
   },
   {
    "duration": 4,
    "start_time": "2022-01-20T06:19:28.855Z"
   },
   {
    "duration": 5,
    "start_time": "2022-01-20T06:23:15.560Z"
   },
   {
    "duration": 215,
    "start_time": "2022-01-20T06:23:21.724Z"
   },
   {
    "duration": 16,
    "start_time": "2022-01-20T06:23:26.895Z"
   },
   {
    "duration": 6,
    "start_time": "2022-01-20T06:27:37.458Z"
   },
   {
    "duration": 4,
    "start_time": "2022-01-20T06:27:45.127Z"
   },
   {
    "duration": 4,
    "start_time": "2022-01-20T06:27:48.353Z"
   },
   {
    "duration": 10,
    "start_time": "2022-01-20T06:27:50.459Z"
   },
   {
    "duration": 308,
    "start_time": "2022-01-20T06:28:55.326Z"
   },
   {
    "duration": 7,
    "start_time": "2022-01-20T06:29:06.507Z"
   },
   {
    "duration": 8,
    "start_time": "2022-01-20T06:29:19.020Z"
   },
   {
    "duration": 14,
    "start_time": "2022-01-20T06:29:27.769Z"
   },
   {
    "duration": 208,
    "start_time": "2022-01-20T06:29:34.793Z"
   },
   {
    "duration": 15,
    "start_time": "2022-01-20T06:29:37.268Z"
   },
   {
    "duration": 9,
    "start_time": "2022-01-20T06:29:47.844Z"
   },
   {
    "duration": 502,
    "start_time": "2022-01-20T06:30:07.085Z"
   },
   {
    "duration": 222,
    "start_time": "2022-01-20T06:30:18.904Z"
   },
   {
    "duration": 7,
    "start_time": "2022-01-20T06:30:21.252Z"
   },
   {
    "duration": 10,
    "start_time": "2022-01-20T06:30:29.672Z"
   },
   {
    "duration": 17,
    "start_time": "2022-01-20T06:31:14.497Z"
   },
   {
    "duration": 40,
    "start_time": "2022-01-20T06:31:54.495Z"
   },
   {
    "duration": 17,
    "start_time": "2022-01-20T06:32:14.469Z"
   },
   {
    "duration": 7,
    "start_time": "2022-01-20T06:49:56.472Z"
   },
   {
    "duration": 261,
    "start_time": "2022-01-20T06:50:00.144Z"
   },
   {
    "duration": 15,
    "start_time": "2022-01-20T06:50:24.258Z"
   },
   {
    "duration": 9,
    "start_time": "2022-01-20T06:50:42.547Z"
   },
   {
    "duration": 8,
    "start_time": "2022-01-20T06:51:01.304Z"
   },
   {
    "duration": 13,
    "start_time": "2022-01-20T06:51:20.022Z"
   },
   {
    "duration": 7,
    "start_time": "2022-01-20T06:52:33.753Z"
   },
   {
    "duration": 8,
    "start_time": "2022-01-20T06:53:01.637Z"
   },
   {
    "duration": 9,
    "start_time": "2022-01-20T06:53:44.529Z"
   },
   {
    "duration": 292,
    "start_time": "2022-01-20T06:54:04.541Z"
   },
   {
    "duration": 12,
    "start_time": "2022-01-20T06:55:05.755Z"
   },
   {
    "duration": 11,
    "start_time": "2022-01-20T06:56:13.525Z"
   },
   {
    "duration": 11,
    "start_time": "2022-01-20T06:57:23.555Z"
   },
   {
    "duration": 15,
    "start_time": "2022-01-20T06:57:52.961Z"
   },
   {
    "duration": 6,
    "start_time": "2022-01-20T06:58:02.604Z"
   },
   {
    "duration": 9,
    "start_time": "2022-01-20T06:58:07.982Z"
   },
   {
    "duration": 6,
    "start_time": "2022-01-20T06:58:12.803Z"
   },
   {
    "duration": 5,
    "start_time": "2022-01-20T06:58:13.616Z"
   },
   {
    "duration": 9,
    "start_time": "2022-01-20T06:58:14.440Z"
   },
   {
    "duration": 10,
    "start_time": "2022-01-20T06:58:38.794Z"
   },
   {
    "duration": 7,
    "start_time": "2022-01-20T06:58:53.920Z"
   },
   {
    "duration": 415,
    "start_time": "2022-01-20T06:59:04.409Z"
   },
   {
    "duration": 9,
    "start_time": "2022-01-20T06:59:26.488Z"
   },
   {
    "duration": 16,
    "start_time": "2022-01-20T07:02:02.752Z"
   },
   {
    "duration": 9,
    "start_time": "2022-01-20T07:08:15.798Z"
   },
   {
    "duration": 266,
    "start_time": "2022-01-20T07:08:18.532Z"
   },
   {
    "duration": 7,
    "start_time": "2022-01-20T07:08:22.007Z"
   },
   {
    "duration": 11,
    "start_time": "2022-01-20T07:08:27.672Z"
   },
   {
    "duration": 12,
    "start_time": "2022-01-20T07:08:44.444Z"
   },
   {
    "duration": 283,
    "start_time": "2022-01-20T07:08:47.635Z"
   },
   {
    "duration": 7,
    "start_time": "2022-01-20T07:08:49.927Z"
   },
   {
    "duration": 8,
    "start_time": "2022-01-20T07:08:55.520Z"
   },
   {
    "duration": 3,
    "start_time": "2022-01-20T07:09:30.042Z"
   },
   {
    "duration": 7,
    "start_time": "2022-01-20T07:09:38.114Z"
   },
   {
    "duration": 9,
    "start_time": "2022-01-20T07:12:47.060Z"
   },
   {
    "duration": 10,
    "start_time": "2022-01-20T07:13:47.157Z"
   },
   {
    "duration": 320,
    "start_time": "2022-01-20T07:16:50.695Z"
   },
   {
    "duration": 6769,
    "start_time": "2022-01-20T07:17:01.191Z"
   },
   {
    "duration": 273,
    "start_time": "2022-01-20T07:18:11.750Z"
   },
   {
    "duration": 517,
    "start_time": "2022-01-20T07:18:21.311Z"
   },
   {
    "duration": 4,
    "start_time": "2022-01-20T07:18:34.684Z"
   },
   {
    "duration": 8,
    "start_time": "2022-01-20T07:18:39.281Z"
   },
   {
    "duration": 4,
    "start_time": "2022-01-20T07:19:25.178Z"
   },
   {
    "duration": 12,
    "start_time": "2022-01-20T07:19:26.239Z"
   },
   {
    "duration": 8,
    "start_time": "2022-01-20T07:20:10.431Z"
   },
   {
    "duration": 15,
    "start_time": "2022-01-20T07:22:22.605Z"
   },
   {
    "duration": 12,
    "start_time": "2022-01-20T07:22:34.051Z"
   },
   {
    "duration": 14,
    "start_time": "2022-01-20T07:23:14.564Z"
   },
   {
    "duration": 16,
    "start_time": "2022-01-20T07:25:49.941Z"
   },
   {
    "duration": 19,
    "start_time": "2022-01-20T08:44:03.112Z"
   },
   {
    "duration": 20,
    "start_time": "2022-01-20T08:45:44.555Z"
   },
   {
    "duration": 15,
    "start_time": "2022-01-20T08:46:01.728Z"
   },
   {
    "duration": 41,
    "start_time": "2022-01-20T08:46:35.362Z"
   },
   {
    "duration": 44,
    "start_time": "2022-01-20T08:47:15.515Z"
   },
   {
    "duration": 43,
    "start_time": "2022-01-20T08:47:41.698Z"
   },
   {
    "duration": 42,
    "start_time": "2022-01-20T08:48:45.510Z"
   },
   {
    "duration": 43,
    "start_time": "2022-01-20T08:48:53.327Z"
   },
   {
    "duration": 1048,
    "start_time": "2022-01-20T08:50:17.074Z"
   },
   {
    "duration": 154,
    "start_time": "2022-01-20T08:50:18.124Z"
   },
   {
    "duration": 125,
    "start_time": "2022-01-20T08:50:18.280Z"
   },
   {
    "duration": 84,
    "start_time": "2022-01-20T08:50:18.407Z"
   },
   {
    "duration": 17,
    "start_time": "2022-01-20T08:50:18.492Z"
   },
   {
    "duration": 62,
    "start_time": "2022-01-20T08:50:18.511Z"
   },
   {
    "duration": 12,
    "start_time": "2022-01-20T08:50:18.575Z"
   },
   {
    "duration": 9,
    "start_time": "2022-01-20T08:50:18.590Z"
   },
   {
    "duration": 8,
    "start_time": "2022-01-20T08:50:18.602Z"
   },
   {
    "duration": 15,
    "start_time": "2022-01-20T08:50:18.611Z"
   },
   {
    "duration": 5,
    "start_time": "2022-01-20T08:50:18.627Z"
   },
   {
    "duration": 38,
    "start_time": "2022-01-20T08:50:18.634Z"
   },
   {
    "duration": 8,
    "start_time": "2022-01-20T08:50:18.674Z"
   },
   {
    "duration": 7,
    "start_time": "2022-01-20T08:50:18.684Z"
   },
   {
    "duration": 21,
    "start_time": "2022-01-20T08:50:18.693Z"
   },
   {
    "duration": 17,
    "start_time": "2022-01-20T08:50:18.716Z"
   },
   {
    "duration": 38,
    "start_time": "2022-01-20T08:50:18.734Z"
   },
   {
    "duration": 6,
    "start_time": "2022-01-20T08:50:18.773Z"
   },
   {
    "duration": 5,
    "start_time": "2022-01-20T08:50:18.781Z"
   },
   {
    "duration": 13,
    "start_time": "2022-01-20T08:50:18.788Z"
   },
   {
    "duration": 14,
    "start_time": "2022-01-20T08:50:18.802Z"
   },
   {
    "duration": 8,
    "start_time": "2022-01-20T08:50:18.817Z"
   },
   {
    "duration": 9,
    "start_time": "2022-01-20T08:50:18.828Z"
   },
   {
    "duration": 49,
    "start_time": "2022-01-20T08:50:18.839Z"
   },
   {
    "duration": 25,
    "start_time": "2022-01-20T08:50:18.889Z"
   },
   {
    "duration": 17,
    "start_time": "2022-01-20T08:50:18.916Z"
   },
   {
    "duration": 44,
    "start_time": "2022-01-20T08:50:18.935Z"
   },
   {
    "duration": 16,
    "start_time": "2022-01-20T08:50:18.981Z"
   },
   {
    "duration": 24,
    "start_time": "2022-01-20T08:50:18.999Z"
   },
   {
    "duration": 59,
    "start_time": "2022-01-20T08:50:19.024Z"
   },
   {
    "duration": 49,
    "start_time": "2022-01-20T08:50:19.085Z"
   },
   {
    "duration": 51,
    "start_time": "2022-01-20T08:50:19.136Z"
   },
   {
    "duration": 36,
    "start_time": "2022-01-20T08:50:19.189Z"
   },
   {
    "duration": 15,
    "start_time": "2022-01-20T08:50:19.226Z"
   },
   {
    "duration": 37,
    "start_time": "2022-01-20T08:50:19.243Z"
   },
   {
    "duration": 19,
    "start_time": "2022-01-20T08:50:19.282Z"
   },
   {
    "duration": 19,
    "start_time": "2022-01-20T08:50:19.303Z"
   },
   {
    "duration": 12,
    "start_time": "2022-01-20T08:50:19.323Z"
   },
   {
    "duration": 41,
    "start_time": "2022-01-20T08:50:19.336Z"
   },
   {
    "duration": 4,
    "start_time": "2022-01-20T08:50:19.379Z"
   },
   {
    "duration": 4,
    "start_time": "2022-01-20T08:50:19.385Z"
   },
   {
    "duration": 5,
    "start_time": "2022-01-20T08:50:19.391Z"
   },
   {
    "duration": 9,
    "start_time": "2022-01-20T08:50:19.398Z"
   },
   {
    "duration": 5,
    "start_time": "2022-01-20T08:50:19.409Z"
   },
   {
    "duration": 6,
    "start_time": "2022-01-20T08:50:19.415Z"
   },
   {
    "duration": 18,
    "start_time": "2022-01-20T08:50:19.422Z"
   },
   {
    "duration": 36,
    "start_time": "2022-01-20T08:50:19.441Z"
   },
   {
    "duration": 8,
    "start_time": "2022-01-20T08:50:19.479Z"
   },
   {
    "duration": 8,
    "start_time": "2022-01-20T08:50:19.489Z"
   },
   {
    "duration": 396,
    "start_time": "2022-01-20T08:50:19.499Z"
   },
   {
    "duration": 11,
    "start_time": "2022-01-20T08:50:19.897Z"
   },
   {
    "duration": 9,
    "start_time": "2022-01-20T08:50:19.909Z"
   },
   {
    "duration": 4,
    "start_time": "2022-01-20T08:50:19.919Z"
   },
   {
    "duration": 10,
    "start_time": "2022-01-20T08:50:19.925Z"
   },
   {
    "duration": 72,
    "start_time": "2022-01-20T08:50:19.937Z"
   },
   {
    "duration": 87,
    "start_time": "2022-01-20T08:50:20.010Z"
   },
   {
    "duration": 4,
    "start_time": "2022-01-20T08:51:12.960Z"
   },
   {
    "duration": 8,
    "start_time": "2022-01-20T08:51:14.940Z"
   },
   {
    "duration": 43,
    "start_time": "2022-01-20T08:51:19.575Z"
   },
   {
    "duration": 91,
    "start_time": "2022-01-20T08:55:55.982Z"
   },
   {
    "duration": 333,
    "start_time": "2022-01-20T08:56:03.103Z"
   },
   {
    "duration": 242,
    "start_time": "2022-01-20T08:56:29.326Z"
   },
   {
    "duration": 308,
    "start_time": "2022-01-20T08:57:04.866Z"
   },
   {
    "duration": 566,
    "start_time": "2022-01-20T08:57:31.538Z"
   },
   {
    "duration": 298,
    "start_time": "2022-01-20T08:57:44.717Z"
   },
   {
    "duration": 366,
    "start_time": "2022-01-20T08:58:02.177Z"
   },
   {
    "duration": 439,
    "start_time": "2022-01-20T08:59:41.099Z"
   },
   {
    "duration": 320,
    "start_time": "2022-01-20T09:00:15.175Z"
   },
   {
    "duration": 431,
    "start_time": "2022-01-20T09:00:36.140Z"
   },
   {
    "duration": 323,
    "start_time": "2022-01-20T09:01:02.031Z"
   },
   {
    "duration": 342,
    "start_time": "2022-01-20T09:01:10.431Z"
   },
   {
    "duration": 255,
    "start_time": "2022-01-20T09:03:07.988Z"
   },
   {
    "duration": 262,
    "start_time": "2022-01-20T09:03:15.486Z"
   },
   {
    "duration": 403,
    "start_time": "2022-01-20T09:03:35.627Z"
   },
   {
    "duration": 318,
    "start_time": "2022-01-20T09:03:45.118Z"
   },
   {
    "duration": 253,
    "start_time": "2022-01-20T09:09:46.904Z"
   },
   {
    "duration": 319,
    "start_time": "2022-01-20T09:10:25.380Z"
   },
   {
    "duration": 310,
    "start_time": "2022-01-20T09:10:55.346Z"
   },
   {
    "duration": 316,
    "start_time": "2022-01-20T09:11:37.596Z"
   },
   {
    "duration": 445,
    "start_time": "2022-01-20T09:12:12.983Z"
   },
   {
    "duration": 330,
    "start_time": "2022-01-20T09:12:18.439Z"
   },
   {
    "duration": 302,
    "start_time": "2022-01-20T09:12:26.989Z"
   },
   {
    "duration": 338,
    "start_time": "2022-01-20T09:12:43.126Z"
   },
   {
    "duration": 334,
    "start_time": "2022-01-20T09:12:57.866Z"
   },
   {
    "duration": 424,
    "start_time": "2022-01-20T09:13:30.091Z"
   },
   {
    "duration": 304,
    "start_time": "2022-01-20T09:13:51.805Z"
   },
   {
    "duration": 352,
    "start_time": "2022-01-20T09:14:38.083Z"
   },
   {
    "duration": 116,
    "start_time": "2022-01-20T09:17:30.907Z"
   },
   {
    "duration": 86,
    "start_time": "2022-01-20T09:32:24.021Z"
   },
   {
    "duration": 10,
    "start_time": "2022-01-20T09:35:02.341Z"
   },
   {
    "duration": 10,
    "start_time": "2022-01-20T09:36:45.713Z"
   },
   {
    "duration": 10,
    "start_time": "2022-01-20T09:39:14.951Z"
   },
   {
    "duration": 9,
    "start_time": "2022-01-20T09:44:09.188Z"
   },
   {
    "duration": 10,
    "start_time": "2022-01-20T09:44:54.855Z"
   },
   {
    "duration": 10,
    "start_time": "2022-01-20T09:50:01.349Z"
   },
   {
    "duration": 276,
    "start_time": "2022-01-20T09:51:53.715Z"
   },
   {
    "duration": 10,
    "start_time": "2022-01-20T09:51:59.499Z"
   },
   {
    "duration": 11,
    "start_time": "2022-01-20T09:52:09.892Z"
   },
   {
    "duration": 10,
    "start_time": "2022-01-20T09:52:56.267Z"
   },
   {
    "duration": 4,
    "start_time": "2022-01-20T09:53:02.206Z"
   },
   {
    "duration": 5,
    "start_time": "2022-01-20T09:53:28.764Z"
   },
   {
    "duration": 11,
    "start_time": "2022-01-20T09:53:47.756Z"
   },
   {
    "duration": 10,
    "start_time": "2022-01-20T09:53:54.451Z"
   },
   {
    "duration": 15,
    "start_time": "2022-01-20T09:57:25.234Z"
   },
   {
    "duration": 20,
    "start_time": "2022-01-20T09:57:51.070Z"
   },
   {
    "duration": 1067,
    "start_time": "2022-01-21T05:10:34.134Z"
   },
   {
    "duration": 129,
    "start_time": "2022-01-21T05:10:35.202Z"
   },
   {
    "duration": 106,
    "start_time": "2022-01-21T05:10:35.332Z"
   },
   {
    "duration": 72,
    "start_time": "2022-01-21T05:10:35.440Z"
   },
   {
    "duration": 14,
    "start_time": "2022-01-21T05:10:35.513Z"
   },
   {
    "duration": 24,
    "start_time": "2022-01-21T05:10:35.528Z"
   },
   {
    "duration": 10,
    "start_time": "2022-01-21T05:10:35.554Z"
   },
   {
    "duration": 7,
    "start_time": "2022-01-21T05:10:35.566Z"
   },
   {
    "duration": 9,
    "start_time": "2022-01-21T05:10:35.574Z"
   },
   {
    "duration": 11,
    "start_time": "2022-01-21T05:10:35.584Z"
   },
   {
    "duration": 6,
    "start_time": "2022-01-21T05:10:35.596Z"
   },
   {
    "duration": 9,
    "start_time": "2022-01-21T05:10:35.603Z"
   },
   {
    "duration": 10,
    "start_time": "2022-01-21T05:10:35.613Z"
   },
   {
    "duration": 7,
    "start_time": "2022-01-21T05:10:35.624Z"
   },
   {
    "duration": 19,
    "start_time": "2022-01-21T05:10:35.633Z"
   },
   {
    "duration": 14,
    "start_time": "2022-01-21T05:10:35.653Z"
   },
   {
    "duration": 12,
    "start_time": "2022-01-21T05:10:35.669Z"
   },
   {
    "duration": 33,
    "start_time": "2022-01-21T05:10:35.682Z"
   },
   {
    "duration": 5,
    "start_time": "2022-01-21T05:10:35.717Z"
   },
   {
    "duration": 9,
    "start_time": "2022-01-21T05:10:35.723Z"
   },
   {
    "duration": 11,
    "start_time": "2022-01-21T05:10:35.733Z"
   },
   {
    "duration": 12,
    "start_time": "2022-01-21T05:10:35.745Z"
   },
   {
    "duration": 6,
    "start_time": "2022-01-21T05:10:35.760Z"
   },
   {
    "duration": 47,
    "start_time": "2022-01-21T05:10:35.767Z"
   },
   {
    "duration": 23,
    "start_time": "2022-01-21T05:10:35.816Z"
   },
   {
    "duration": 18,
    "start_time": "2022-01-21T05:10:35.840Z"
   },
   {
    "duration": 21,
    "start_time": "2022-01-21T05:10:35.860Z"
   },
   {
    "duration": 33,
    "start_time": "2022-01-21T05:10:35.882Z"
   },
   {
    "duration": 16,
    "start_time": "2022-01-21T05:10:35.917Z"
   },
   {
    "duration": 38,
    "start_time": "2022-01-21T05:10:35.934Z"
   },
   {
    "duration": 56,
    "start_time": "2022-01-21T05:10:35.974Z"
   },
   {
    "duration": 29,
    "start_time": "2022-01-21T05:10:36.031Z"
   },
   {
    "duration": 28,
    "start_time": "2022-01-21T05:10:36.061Z"
   },
   {
    "duration": 34,
    "start_time": "2022-01-21T05:10:36.090Z"
   },
   {
    "duration": 16,
    "start_time": "2022-01-21T05:10:36.126Z"
   },
   {
    "duration": 17,
    "start_time": "2022-01-21T05:10:36.143Z"
   },
   {
    "duration": 18,
    "start_time": "2022-01-21T05:10:36.161Z"
   },
   {
    "duration": 39,
    "start_time": "2022-01-21T05:10:36.180Z"
   },
   {
    "duration": 11,
    "start_time": "2022-01-21T05:10:36.220Z"
   },
   {
    "duration": 3,
    "start_time": "2022-01-21T05:10:36.232Z"
   },
   {
    "duration": 4,
    "start_time": "2022-01-21T05:10:36.237Z"
   },
   {
    "duration": 8,
    "start_time": "2022-01-21T05:10:36.242Z"
   },
   {
    "duration": 9,
    "start_time": "2022-01-21T05:10:36.251Z"
   },
   {
    "duration": 4,
    "start_time": "2022-01-21T05:10:36.261Z"
   },
   {
    "duration": 5,
    "start_time": "2022-01-21T05:10:36.266Z"
   },
   {
    "duration": 9,
    "start_time": "2022-01-21T05:10:36.272Z"
   },
   {
    "duration": 37,
    "start_time": "2022-01-21T05:10:36.283Z"
   },
   {
    "duration": 8,
    "start_time": "2022-01-21T05:10:36.322Z"
   },
   {
    "duration": 5,
    "start_time": "2022-01-21T05:10:36.331Z"
   },
   {
    "duration": 240,
    "start_time": "2022-01-21T05:10:36.338Z"
   },
   {
    "duration": 9,
    "start_time": "2022-01-21T05:10:36.580Z"
   },
   {
    "duration": 22,
    "start_time": "2022-01-21T05:10:36.591Z"
   },
   {
    "duration": 4,
    "start_time": "2022-01-21T05:10:36.614Z"
   },
   {
    "duration": 10,
    "start_time": "2022-01-21T05:10:36.619Z"
   },
   {
    "duration": 19,
    "start_time": "2022-01-21T05:10:36.630Z"
   },
   {
    "duration": 41,
    "start_time": "2022-01-21T05:10:36.650Z"
   },
   {
    "duration": 343,
    "start_time": "2022-01-21T05:10:36.693Z"
   },
   {
    "duration": 312,
    "start_time": "2022-01-21T05:10:37.038Z"
   },
   {
    "duration": 297,
    "start_time": "2022-01-21T05:10:37.351Z"
   },
   {
    "duration": 358,
    "start_time": "2022-01-21T05:10:37.650Z"
   },
   {
    "duration": 9,
    "start_time": "2022-01-21T05:10:38.011Z"
   },
   {
    "duration": 6,
    "start_time": "2022-01-21T05:10:38.021Z"
   },
   {
    "duration": 7,
    "start_time": "2022-01-21T05:10:38.028Z"
   },
   {
    "duration": 5,
    "start_time": "2022-01-21T05:10:38.037Z"
   },
   {
    "duration": 34,
    "start_time": "2022-01-21T05:31:13.557Z"
   },
   {
    "duration": 17,
    "start_time": "2022-01-21T05:31:49.703Z"
   },
   {
    "duration": 25,
    "start_time": "2022-01-21T05:32:11.548Z"
   },
   {
    "duration": 26,
    "start_time": "2022-01-21T05:32:14.948Z"
   },
   {
    "duration": 44,
    "start_time": "2022-01-21T05:32:17.699Z"
   },
   {
    "duration": 29,
    "start_time": "2022-01-21T05:32:20.759Z"
   },
   {
    "duration": 12,
    "start_time": "2022-01-21T05:32:25.620Z"
   },
   {
    "duration": 17,
    "start_time": "2022-01-21T05:32:28.914Z"
   },
   {
    "duration": 15,
    "start_time": "2022-01-21T05:32:33.220Z"
   },
   {
    "duration": 16,
    "start_time": "2022-01-21T05:32:35.744Z"
   },
   {
    "duration": 8,
    "start_time": "2022-01-21T05:32:38.846Z"
   },
   {
    "duration": 255,
    "start_time": "2022-01-21T05:40:13.566Z"
   },
   {
    "duration": 436,
    "start_time": "2022-01-21T05:40:19.546Z"
   },
   {
    "duration": 383,
    "start_time": "2022-01-21T05:40:29.821Z"
   },
   {
    "duration": 269,
    "start_time": "2022-01-21T05:40:35.938Z"
   },
   {
    "duration": 289,
    "start_time": "2022-01-21T05:40:41.807Z"
   },
   {
    "duration": 317,
    "start_time": "2022-01-21T05:40:47.947Z"
   },
   {
    "duration": 512,
    "start_time": "2022-01-21T05:40:55.454Z"
   },
   {
    "duration": 398,
    "start_time": "2022-01-21T05:41:05.356Z"
   },
   {
    "duration": 4,
    "start_time": "2022-01-21T05:42:19.007Z"
   },
   {
    "duration": 10,
    "start_time": "2022-01-21T05:42:49.397Z"
   },
   {
    "duration": 655,
    "start_time": "2022-01-21T05:46:13.828Z"
   },
   {
    "duration": 426,
    "start_time": "2022-01-21T05:50:37.472Z"
   },
   {
    "duration": 241,
    "start_time": "2022-01-21T05:51:33.908Z"
   },
   {
    "duration": 247,
    "start_time": "2022-01-21T05:52:29.387Z"
   },
   {
    "duration": 250,
    "start_time": "2022-01-21T05:52:56.024Z"
   },
   {
    "duration": 605,
    "start_time": "2022-01-21T05:56:33.347Z"
   },
   {
    "duration": 513,
    "start_time": "2022-01-21T05:56:42.830Z"
   },
   {
    "duration": 413,
    "start_time": "2022-01-21T05:56:50.161Z"
   },
   {
    "duration": 246,
    "start_time": "2022-01-21T06:01:49.562Z"
   },
   {
    "duration": 309,
    "start_time": "2022-01-21T06:02:55.068Z"
   },
   {
    "duration": 266,
    "start_time": "2022-01-21T06:03:09.253Z"
   },
   {
    "duration": 270,
    "start_time": "2022-01-21T06:03:20.708Z"
   },
   {
    "duration": 381,
    "start_time": "2022-01-21T06:04:07.408Z"
   }
  ],
  "kernelspec": {
   "display_name": "Python 3",
   "language": "python",
   "name": "python3"
  },
  "language_info": {
   "codemirror_mode": {
    "name": "ipython",
    "version": 3
   },
   "file_extension": ".py",
   "mimetype": "text/x-python",
   "name": "python",
   "nbconvert_exporter": "python",
   "pygments_lexer": "ipython3",
   "version": "3.8.5"
  },
  "toc": {
   "base_numbering": 1,
   "nav_menu": {},
   "number_sections": true,
   "sideBar": true,
   "skip_h1_title": true,
   "title_cell": "Table of Contents",
   "title_sidebar": "Contents",
   "toc_cell": false,
   "toc_position": {},
   "toc_section_display": true,
   "toc_window_display": false
  }
 },
 "nbformat": 4,
 "nbformat_minor": 2
}
