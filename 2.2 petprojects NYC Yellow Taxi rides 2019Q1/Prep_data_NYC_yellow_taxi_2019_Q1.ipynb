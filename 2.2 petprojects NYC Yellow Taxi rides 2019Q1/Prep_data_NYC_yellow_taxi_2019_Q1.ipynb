{
 "cells": [
  {
   "cell_type": "code",
   "execution_count": 1,
   "metadata": {},
   "outputs": [],
   "source": [
    "import pandas as pd\n",
    "import numpy as np\n",
    "import seaborn as sns\n",
    "import matplotlib.pyplot as plt\n",
    "\n",
    "import warnings\n",
    "warnings.filterwarnings('ignore')"
   ]
  },
  {
   "cell_type": "code",
   "execution_count": 2,
   "metadata": {},
   "outputs": [
    {
     "name": "stdout",
     "output_type": "stream",
     "text": [
      "Wall time: 19.9 s\n"
     ]
    }
   ],
   "source": [
    "%%time\n",
    "\n",
    "#Размер файла ~ 700 мб\n",
    "try:\n",
    "    data1 = pd.read_csv(r\"C:\\Users\\Ivan\\Documents\\Pet projects Ivan\\Tableau\\New York yellow taxi riges 2018\\yellow_tripdata_2019-01.csv\") \n",
    "except: \n",
    "    data1 = pd.read_csv('https://s3.amazonaws.com/nyc-tlc/trip+data/yellow_tripdata_2019-01.csv')\n",
    "\n"
   ]
  },
  {
   "cell_type": "code",
   "execution_count": 3,
   "metadata": {},
   "outputs": [
    {
     "name": "stdout",
     "output_type": "stream",
     "text": [
      "Wall time: 23.4 s\n"
     ]
    }
   ],
   "source": [
    "%%time\n",
    "\n",
    "#Размер файла ~ 700 мб\n",
    "try:\n",
    "    data2 = pd.read_csv(r\"C:\\Users\\Ivan\\Documents\\Pet projects Ivan\\Tableau\\New York yellow taxi riges 2018\\yellow_tripdata_2019-02.csv\") \n",
    "except: \n",
    "    data2 = pd.read_csv('https://s3.amazonaws.com/nyc-tlc/trip+data/yellow_tripdata_2019-02.csv')"
   ]
  },
  {
   "cell_type": "code",
   "execution_count": 4,
   "metadata": {},
   "outputs": [
    {
     "name": "stdout",
     "output_type": "stream",
     "text": [
      "Wall time: 38.2 s\n"
     ]
    }
   ],
   "source": [
    "%%time\n",
    "\n",
    "#Размер файла ~ 700 мб\n",
    "try:\n",
    "    data3 = pd.read_csv(r\"C:\\Users\\Ivan\\Documents\\Pet projects Ivan\\Tableau\\New York yellow taxi riges 2018\\yellow_tripdata_2019-03.csv\") \n",
    "except: \n",
    "    data3 = pd.read_csv('https://s3.amazonaws.com/nyc-tlc/trip+data/yellow_tripdata_2019-03.csv')"
   ]
  },
  {
   "cell_type": "code",
   "execution_count": 5,
   "metadata": {
    "scrolled": true
   },
   "outputs": [
    {
     "name": "stdout",
     "output_type": "stream",
     "text": [
      "Wall time: 129 ms\n"
     ]
    },
    {
     "data": {
      "text/html": [
       "<div>\n",
       "<style scoped>\n",
       "    .dataframe tbody tr th:only-of-type {\n",
       "        vertical-align: middle;\n",
       "    }\n",
       "\n",
       "    .dataframe tbody tr th {\n",
       "        vertical-align: top;\n",
       "    }\n",
       "\n",
       "    .dataframe thead th {\n",
       "        text-align: right;\n",
       "    }\n",
       "</style>\n",
       "<table border=\"1\" class=\"dataframe\">\n",
       "  <thead>\n",
       "    <tr style=\"text-align: right;\">\n",
       "      <th></th>\n",
       "      <th>\"LocationID,</th>\n",
       "      <th>Borough</th>\n",
       "      <th>,</th>\n",
       "      <th>Zone</th>\n",
       "      <th>,.1</th>\n",
       "      <th>service_zone</th>\n",
       "      <th>\"</th>\n",
       "    </tr>\n",
       "  </thead>\n",
       "  <tbody>\n",
       "    <tr>\n",
       "      <th>0</th>\n",
       "      <td>\"1,</td>\n",
       "      <td>EWR</td>\n",
       "      <td>,</td>\n",
       "      <td>Newark Airport</td>\n",
       "      <td>,</td>\n",
       "      <td>EWR</td>\n",
       "      <td>\"</td>\n",
       "    </tr>\n",
       "    <tr>\n",
       "      <th>1</th>\n",
       "      <td>\"2,</td>\n",
       "      <td>Queens</td>\n",
       "      <td>,</td>\n",
       "      <td>Jamaica Bay</td>\n",
       "      <td>,</td>\n",
       "      <td>Boro Zone</td>\n",
       "      <td>\"</td>\n",
       "    </tr>\n",
       "    <tr>\n",
       "      <th>2</th>\n",
       "      <td>\"3,</td>\n",
       "      <td>Bronx</td>\n",
       "      <td>,</td>\n",
       "      <td>Allerton/Pelham Gardens</td>\n",
       "      <td>,</td>\n",
       "      <td>Boro Zone</td>\n",
       "      <td>\"</td>\n",
       "    </tr>\n",
       "    <tr>\n",
       "      <th>3</th>\n",
       "      <td>\"4,</td>\n",
       "      <td>Manhattan</td>\n",
       "      <td>,</td>\n",
       "      <td>Alphabet City</td>\n",
       "      <td>,</td>\n",
       "      <td>Yellow Zone</td>\n",
       "      <td>\"</td>\n",
       "    </tr>\n",
       "    <tr>\n",
       "      <th>4</th>\n",
       "      <td>\"5,</td>\n",
       "      <td>Staten Island</td>\n",
       "      <td>,</td>\n",
       "      <td>Arden Heights</td>\n",
       "      <td>,</td>\n",
       "      <td>Boro Zone</td>\n",
       "      <td>\"</td>\n",
       "    </tr>\n",
       "    <tr>\n",
       "      <th>...</th>\n",
       "      <td>...</td>\n",
       "      <td>...</td>\n",
       "      <td>...</td>\n",
       "      <td>...</td>\n",
       "      <td>...</td>\n",
       "      <td>...</td>\n",
       "      <td>...</td>\n",
       "    </tr>\n",
       "    <tr>\n",
       "      <th>260</th>\n",
       "      <td>\"261,</td>\n",
       "      <td>Manhattan</td>\n",
       "      <td>,</td>\n",
       "      <td>World Trade Center</td>\n",
       "      <td>,</td>\n",
       "      <td>Yellow Zone</td>\n",
       "      <td>\"</td>\n",
       "    </tr>\n",
       "    <tr>\n",
       "      <th>261</th>\n",
       "      <td>\"262,</td>\n",
       "      <td>Manhattan</td>\n",
       "      <td>,</td>\n",
       "      <td>Yorkville East</td>\n",
       "      <td>,</td>\n",
       "      <td>Yellow Zone</td>\n",
       "      <td>\"</td>\n",
       "    </tr>\n",
       "    <tr>\n",
       "      <th>262</th>\n",
       "      <td>\"263,</td>\n",
       "      <td>Manhattan</td>\n",
       "      <td>,</td>\n",
       "      <td>Yorkville West</td>\n",
       "      <td>,</td>\n",
       "      <td>Yellow Zone</td>\n",
       "      <td>\"</td>\n",
       "    </tr>\n",
       "    <tr>\n",
       "      <th>263</th>\n",
       "      <td>\"264,</td>\n",
       "      <td>Unknown</td>\n",
       "      <td>,</td>\n",
       "      <td>NV</td>\n",
       "      <td>,</td>\n",
       "      <td>NaN</td>\n",
       "      <td>\"</td>\n",
       "    </tr>\n",
       "    <tr>\n",
       "      <th>264</th>\n",
       "      <td>\"265,</td>\n",
       "      <td>Unknown</td>\n",
       "      <td>,</td>\n",
       "      <td>NaN</td>\n",
       "      <td>,</td>\n",
       "      <td>NaN</td>\n",
       "      <td>\"</td>\n",
       "    </tr>\n",
       "  </tbody>\n",
       "</table>\n",
       "<p>265 rows × 7 columns</p>\n",
       "</div>"
      ],
      "text/plain": [
       "    \"LocationID,        Borough  ,                     Zone ,.1 service_zone  \\\n",
       "0            \"1,            EWR  ,           Newark Airport   ,          EWR   \n",
       "1            \"2,         Queens  ,              Jamaica Bay   ,    Boro Zone   \n",
       "2            \"3,          Bronx  ,  Allerton/Pelham Gardens   ,    Boro Zone   \n",
       "3            \"4,      Manhattan  ,            Alphabet City   ,  Yellow Zone   \n",
       "4            \"5,  Staten Island  ,            Arden Heights   ,    Boro Zone   \n",
       "..           ...            ... ..                      ...  ..          ...   \n",
       "260        \"261,      Manhattan  ,       World Trade Center   ,  Yellow Zone   \n",
       "261        \"262,      Manhattan  ,           Yorkville East   ,  Yellow Zone   \n",
       "262        \"263,      Manhattan  ,           Yorkville West   ,  Yellow Zone   \n",
       "263        \"264,        Unknown  ,                       NV   ,          NaN   \n",
       "264        \"265,        Unknown  ,                      NaN   ,          NaN   \n",
       "\n",
       "     \"  \n",
       "0    \"  \n",
       "1    \"  \n",
       "2    \"  \n",
       "3    \"  \n",
       "4    \"  \n",
       "..  ..  \n",
       "260  \"  \n",
       "261  \"  \n",
       "262  \"  \n",
       "263  \"  \n",
       "264  \"  \n",
       "\n",
       "[265 rows x 7 columns]"
      ]
     },
     "execution_count": 5,
     "metadata": {},
     "output_type": "execute_result"
    }
   ],
   "source": [
    "%%time\n",
    "\n",
    "try:\n",
    "    taxi_loc = pd.read_csv(r\"C:\\Users\\Ivan\\Documents\\Pet projects Ivan\\Tableau\\New York yellow taxi riges 2018\\taxi+_zone_lookup.csv\"\n",
    "                      , sep = '\"\"')\n",
    "except: \n",
    "    taxi_loc = pd.read_csv('https://s3.amazonaws.com/nyc-tlc/misc/taxi+_zone_lookup.csv', sep = '\"\"')\n",
    "\n",
    "taxi_loc"
   ]
  },
  {
   "cell_type": "code",
   "execution_count": 6,
   "metadata": {
    "scrolled": true
   },
   "outputs": [
    {
     "data": {
      "text/html": [
       "<div>\n",
       "<style scoped>\n",
       "    .dataframe tbody tr th:only-of-type {\n",
       "        vertical-align: middle;\n",
       "    }\n",
       "\n",
       "    .dataframe tbody tr th {\n",
       "        vertical-align: top;\n",
       "    }\n",
       "\n",
       "    .dataframe thead th {\n",
       "        text-align: right;\n",
       "    }\n",
       "</style>\n",
       "<table border=\"1\" class=\"dataframe\">\n",
       "  <thead>\n",
       "    <tr style=\"text-align: right;\">\n",
       "      <th></th>\n",
       "      <th>\"locationid,</th>\n",
       "      <th>borough</th>\n",
       "      <th>,</th>\n",
       "      <th>zone</th>\n",
       "      <th>,.1</th>\n",
       "      <th>service_zone</th>\n",
       "      <th>\"</th>\n",
       "    </tr>\n",
       "  </thead>\n",
       "  <tbody>\n",
       "    <tr>\n",
       "      <th>0</th>\n",
       "      <td>\"1,</td>\n",
       "      <td>EWR</td>\n",
       "      <td>,</td>\n",
       "      <td>Newark Airport</td>\n",
       "      <td>,</td>\n",
       "      <td>EWR</td>\n",
       "      <td>\"</td>\n",
       "    </tr>\n",
       "    <tr>\n",
       "      <th>1</th>\n",
       "      <td>\"2,</td>\n",
       "      <td>Queens</td>\n",
       "      <td>,</td>\n",
       "      <td>Jamaica Bay</td>\n",
       "      <td>,</td>\n",
       "      <td>Boro Zone</td>\n",
       "      <td>\"</td>\n",
       "    </tr>\n",
       "    <tr>\n",
       "      <th>2</th>\n",
       "      <td>\"3,</td>\n",
       "      <td>Bronx</td>\n",
       "      <td>,</td>\n",
       "      <td>Allerton/Pelham Gardens</td>\n",
       "      <td>,</td>\n",
       "      <td>Boro Zone</td>\n",
       "      <td>\"</td>\n",
       "    </tr>\n",
       "    <tr>\n",
       "      <th>3</th>\n",
       "      <td>\"4,</td>\n",
       "      <td>Manhattan</td>\n",
       "      <td>,</td>\n",
       "      <td>Alphabet City</td>\n",
       "      <td>,</td>\n",
       "      <td>Yellow Zone</td>\n",
       "      <td>\"</td>\n",
       "    </tr>\n",
       "    <tr>\n",
       "      <th>4</th>\n",
       "      <td>\"5,</td>\n",
       "      <td>Staten Island</td>\n",
       "      <td>,</td>\n",
       "      <td>Arden Heights</td>\n",
       "      <td>,</td>\n",
       "      <td>Boro Zone</td>\n",
       "      <td>\"</td>\n",
       "    </tr>\n",
       "    <tr>\n",
       "      <th>...</th>\n",
       "      <td>...</td>\n",
       "      <td>...</td>\n",
       "      <td>...</td>\n",
       "      <td>...</td>\n",
       "      <td>...</td>\n",
       "      <td>...</td>\n",
       "      <td>...</td>\n",
       "    </tr>\n",
       "    <tr>\n",
       "      <th>260</th>\n",
       "      <td>\"261,</td>\n",
       "      <td>Manhattan</td>\n",
       "      <td>,</td>\n",
       "      <td>World Trade Center</td>\n",
       "      <td>,</td>\n",
       "      <td>Yellow Zone</td>\n",
       "      <td>\"</td>\n",
       "    </tr>\n",
       "    <tr>\n",
       "      <th>261</th>\n",
       "      <td>\"262,</td>\n",
       "      <td>Manhattan</td>\n",
       "      <td>,</td>\n",
       "      <td>Yorkville East</td>\n",
       "      <td>,</td>\n",
       "      <td>Yellow Zone</td>\n",
       "      <td>\"</td>\n",
       "    </tr>\n",
       "    <tr>\n",
       "      <th>262</th>\n",
       "      <td>\"263,</td>\n",
       "      <td>Manhattan</td>\n",
       "      <td>,</td>\n",
       "      <td>Yorkville West</td>\n",
       "      <td>,</td>\n",
       "      <td>Yellow Zone</td>\n",
       "      <td>\"</td>\n",
       "    </tr>\n",
       "    <tr>\n",
       "      <th>263</th>\n",
       "      <td>\"264,</td>\n",
       "      <td>Unknown</td>\n",
       "      <td>,</td>\n",
       "      <td>NV</td>\n",
       "      <td>,</td>\n",
       "      <td>NaN</td>\n",
       "      <td>\"</td>\n",
       "    </tr>\n",
       "    <tr>\n",
       "      <th>264</th>\n",
       "      <td>\"265,</td>\n",
       "      <td>Unknown</td>\n",
       "      <td>,</td>\n",
       "      <td>NaN</td>\n",
       "      <td>,</td>\n",
       "      <td>NaN</td>\n",
       "      <td>\"</td>\n",
       "    </tr>\n",
       "  </tbody>\n",
       "</table>\n",
       "<p>265 rows × 7 columns</p>\n",
       "</div>"
      ],
      "text/plain": [
       "    \"locationid,        borough  ,                     zone ,.1 service_zone  \\\n",
       "0            \"1,            EWR  ,           Newark Airport   ,          EWR   \n",
       "1            \"2,         Queens  ,              Jamaica Bay   ,    Boro Zone   \n",
       "2            \"3,          Bronx  ,  Allerton/Pelham Gardens   ,    Boro Zone   \n",
       "3            \"4,      Manhattan  ,            Alphabet City   ,  Yellow Zone   \n",
       "4            \"5,  Staten Island  ,            Arden Heights   ,    Boro Zone   \n",
       "..           ...            ... ..                      ...  ..          ...   \n",
       "260        \"261,      Manhattan  ,       World Trade Center   ,  Yellow Zone   \n",
       "261        \"262,      Manhattan  ,           Yorkville East   ,  Yellow Zone   \n",
       "262        \"263,      Manhattan  ,           Yorkville West   ,  Yellow Zone   \n",
       "263        \"264,        Unknown  ,                       NV   ,          NaN   \n",
       "264        \"265,        Unknown  ,                      NaN   ,          NaN   \n",
       "\n",
       "     \"  \n",
       "0    \"  \n",
       "1    \"  \n",
       "2    \"  \n",
       "3    \"  \n",
       "4    \"  \n",
       "..  ..  \n",
       "260  \"  \n",
       "261  \"  \n",
       "262  \"  \n",
       "263  \"  \n",
       "264  \"  \n",
       "\n",
       "[265 rows x 7 columns]"
      ]
     },
     "execution_count": 6,
     "metadata": {},
     "output_type": "execute_result"
    }
   ],
   "source": [
    "taxi_loc.columns = map(str.lower, taxi_loc.columns)\n",
    "taxi_loc"
   ]
  },
  {
   "cell_type": "code",
   "execution_count": 7,
   "metadata": {},
   "outputs": [
    {
     "data": {
      "text/html": [
       "<div>\n",
       "<style scoped>\n",
       "    .dataframe tbody tr th:only-of-type {\n",
       "        vertical-align: middle;\n",
       "    }\n",
       "\n",
       "    .dataframe tbody tr th {\n",
       "        vertical-align: top;\n",
       "    }\n",
       "\n",
       "    .dataframe thead th {\n",
       "        text-align: right;\n",
       "    }\n",
       "</style>\n",
       "<table border=\"1\" class=\"dataframe\">\n",
       "  <thead>\n",
       "    <tr style=\"text-align: right;\">\n",
       "      <th></th>\n",
       "      <th>\"locationid,</th>\n",
       "      <th>borough</th>\n",
       "      <th>,</th>\n",
       "      <th>zone</th>\n",
       "      <th>,.1</th>\n",
       "      <th>service_zone</th>\n",
       "      <th>\"</th>\n",
       "    </tr>\n",
       "  </thead>\n",
       "  <tbody>\n",
       "    <tr>\n",
       "      <th>0</th>\n",
       "      <td>\"1,</td>\n",
       "      <td>EWR</td>\n",
       "      <td>,</td>\n",
       "      <td>Newark Airport</td>\n",
       "      <td>,</td>\n",
       "      <td>EWR</td>\n",
       "      <td>\"</td>\n",
       "    </tr>\n",
       "    <tr>\n",
       "      <th>1</th>\n",
       "      <td>\"2,</td>\n",
       "      <td>Queens</td>\n",
       "      <td>,</td>\n",
       "      <td>Jamaica Bay</td>\n",
       "      <td>,</td>\n",
       "      <td>Boro Zone</td>\n",
       "      <td>\"</td>\n",
       "    </tr>\n",
       "    <tr>\n",
       "      <th>2</th>\n",
       "      <td>\"3,</td>\n",
       "      <td>Bronx</td>\n",
       "      <td>,</td>\n",
       "      <td>Allerton/Pelham Gardens</td>\n",
       "      <td>,</td>\n",
       "      <td>Boro Zone</td>\n",
       "      <td>\"</td>\n",
       "    </tr>\n",
       "    <tr>\n",
       "      <th>3</th>\n",
       "      <td>\"4,</td>\n",
       "      <td>Manhattan</td>\n",
       "      <td>,</td>\n",
       "      <td>Alphabet City</td>\n",
       "      <td>,</td>\n",
       "      <td>Yellow Zone</td>\n",
       "      <td>\"</td>\n",
       "    </tr>\n",
       "    <tr>\n",
       "      <th>4</th>\n",
       "      <td>\"5,</td>\n",
       "      <td>Staten Island</td>\n",
       "      <td>,</td>\n",
       "      <td>Arden Heights</td>\n",
       "      <td>,</td>\n",
       "      <td>Boro Zone</td>\n",
       "      <td>\"</td>\n",
       "    </tr>\n",
       "    <tr>\n",
       "      <th>...</th>\n",
       "      <td>...</td>\n",
       "      <td>...</td>\n",
       "      <td>...</td>\n",
       "      <td>...</td>\n",
       "      <td>...</td>\n",
       "      <td>...</td>\n",
       "      <td>...</td>\n",
       "    </tr>\n",
       "    <tr>\n",
       "      <th>260</th>\n",
       "      <td>\"261,</td>\n",
       "      <td>Manhattan</td>\n",
       "      <td>,</td>\n",
       "      <td>World Trade Center</td>\n",
       "      <td>,</td>\n",
       "      <td>Yellow Zone</td>\n",
       "      <td>\"</td>\n",
       "    </tr>\n",
       "    <tr>\n",
       "      <th>261</th>\n",
       "      <td>\"262,</td>\n",
       "      <td>Manhattan</td>\n",
       "      <td>,</td>\n",
       "      <td>Yorkville East</td>\n",
       "      <td>,</td>\n",
       "      <td>Yellow Zone</td>\n",
       "      <td>\"</td>\n",
       "    </tr>\n",
       "    <tr>\n",
       "      <th>262</th>\n",
       "      <td>\"263,</td>\n",
       "      <td>Manhattan</td>\n",
       "      <td>,</td>\n",
       "      <td>Yorkville West</td>\n",
       "      <td>,</td>\n",
       "      <td>Yellow Zone</td>\n",
       "      <td>\"</td>\n",
       "    </tr>\n",
       "    <tr>\n",
       "      <th>263</th>\n",
       "      <td>\"264,</td>\n",
       "      <td>Unknown</td>\n",
       "      <td>,</td>\n",
       "      <td>NV</td>\n",
       "      <td>,</td>\n",
       "      <td>NaN</td>\n",
       "      <td>\"</td>\n",
       "    </tr>\n",
       "    <tr>\n",
       "      <th>264</th>\n",
       "      <td>\"265,</td>\n",
       "      <td>Unknown</td>\n",
       "      <td>,</td>\n",
       "      <td>NaN</td>\n",
       "      <td>,</td>\n",
       "      <td>NaN</td>\n",
       "      <td>\"</td>\n",
       "    </tr>\n",
       "  </tbody>\n",
       "</table>\n",
       "<p>265 rows × 7 columns</p>\n",
       "</div>"
      ],
      "text/plain": [
       "    \"locationid,        borough  ,                     zone ,.1 service_zone  \\\n",
       "0            \"1,            EWR  ,           Newark Airport   ,          EWR   \n",
       "1            \"2,         Queens  ,              Jamaica Bay   ,    Boro Zone   \n",
       "2            \"3,          Bronx  ,  Allerton/Pelham Gardens   ,    Boro Zone   \n",
       "3            \"4,      Manhattan  ,            Alphabet City   ,  Yellow Zone   \n",
       "4            \"5,  Staten Island  ,            Arden Heights   ,    Boro Zone   \n",
       "..           ...            ... ..                      ...  ..          ...   \n",
       "260        \"261,      Manhattan  ,       World Trade Center   ,  Yellow Zone   \n",
       "261        \"262,      Manhattan  ,           Yorkville East   ,  Yellow Zone   \n",
       "262        \"263,      Manhattan  ,           Yorkville West   ,  Yellow Zone   \n",
       "263        \"264,        Unknown  ,                       NV   ,          NaN   \n",
       "264        \"265,        Unknown  ,                      NaN   ,          NaN   \n",
       "\n",
       "     \"  \n",
       "0    \"  \n",
       "1    \"  \n",
       "2    \"  \n",
       "3    \"  \n",
       "4    \"  \n",
       "..  ..  \n",
       "260  \"  \n",
       "261  \"  \n",
       "262  \"  \n",
       "263  \"  \n",
       "264  \"  \n",
       "\n",
       "[265 rows x 7 columns]"
      ]
     },
     "execution_count": 7,
     "metadata": {},
     "output_type": "execute_result"
    }
   ],
   "source": [
    "taxi_loc"
   ]
  },
  {
   "cell_type": "code",
   "execution_count": 8,
   "metadata": {},
   "outputs": [],
   "source": [
    "taxi_loc.drop([',', ',.1', '\"'], axis=1, inplace=True)"
   ]
  },
  {
   "cell_type": "code",
   "execution_count": 9,
   "metadata": {},
   "outputs": [],
   "source": [
    "taxi_loc.rename(columns={'\"locationid,': 'location_id' }, inplace=True)"
   ]
  },
  {
   "cell_type": "code",
   "execution_count": 10,
   "metadata": {},
   "outputs": [],
   "source": [
    "taxi_loc['location_id'] = taxi_loc['location_id'].apply(lambda x: x.replace('\"', '')).apply(lambda x: x.replace(',', ''))"
   ]
  },
  {
   "cell_type": "code",
   "execution_count": 11,
   "metadata": {},
   "outputs": [
    {
     "data": {
      "text/plain": [
       "array(['EWR', 'Boro Zone', 'Yellow Zone', 'Airports', nan], dtype=object)"
      ]
     },
     "execution_count": 11,
     "metadata": {},
     "output_type": "execute_result"
    }
   ],
   "source": [
    "taxi_loc.service_zone.unique()"
   ]
  },
  {
   "cell_type": "code",
   "execution_count": 12,
   "metadata": {},
   "outputs": [],
   "source": [
    "#taxi_loc.to_csv('taxi_loc.csv')"
   ]
  },
  {
   "cell_type": "code",
   "execution_count": 13,
   "metadata": {},
   "outputs": [
    {
     "name": "stdout",
     "output_type": "stream",
     "text": [
      "Wall time: 27.3 s\n"
     ]
    }
   ],
   "source": [
    "%%time\n",
    "big_data = pd.concat([data1, data2, data3], ignore_index=True)\n"
   ]
  },
  {
   "cell_type": "code",
   "execution_count": 14,
   "metadata": {
    "scrolled": true
   },
   "outputs": [
    {
     "data": {
      "text/html": [
       "<div>\n",
       "<style scoped>\n",
       "    .dataframe tbody tr th:only-of-type {\n",
       "        vertical-align: middle;\n",
       "    }\n",
       "\n",
       "    .dataframe tbody tr th {\n",
       "        vertical-align: top;\n",
       "    }\n",
       "\n",
       "    .dataframe thead th {\n",
       "        text-align: right;\n",
       "    }\n",
       "</style>\n",
       "<table border=\"1\" class=\"dataframe\">\n",
       "  <thead>\n",
       "    <tr style=\"text-align: right;\">\n",
       "      <th></th>\n",
       "      <th>tpep_pickup_datetime</th>\n",
       "      <th>tpep_dropoff_datetime</th>\n",
       "      <th>passenger_count</th>\n",
       "      <th>trip_distance</th>\n",
       "      <th>PULocationID</th>\n",
       "      <th>DOLocationID</th>\n",
       "      <th>payment_type</th>\n",
       "      <th>tip_amount</th>\n",
       "      <th>total_amount</th>\n",
       "    </tr>\n",
       "  </thead>\n",
       "  <tbody>\n",
       "    <tr>\n",
       "      <th>0</th>\n",
       "      <td>2019-01-01 00:46:40</td>\n",
       "      <td>2019-01-01 00:53:20</td>\n",
       "      <td>1</td>\n",
       "      <td>1.5</td>\n",
       "      <td>151</td>\n",
       "      <td>239</td>\n",
       "      <td>1</td>\n",
       "      <td>1.65</td>\n",
       "      <td>9.95</td>\n",
       "    </tr>\n",
       "    <tr>\n",
       "      <th>1</th>\n",
       "      <td>2019-01-01 00:59:47</td>\n",
       "      <td>2019-01-01 01:18:59</td>\n",
       "      <td>1</td>\n",
       "      <td>2.6</td>\n",
       "      <td>239</td>\n",
       "      <td>246</td>\n",
       "      <td>1</td>\n",
       "      <td>1.00</td>\n",
       "      <td>16.30</td>\n",
       "    </tr>\n",
       "    <tr>\n",
       "      <th>2</th>\n",
       "      <td>2018-12-21 13:48:30</td>\n",
       "      <td>2018-12-21 13:52:40</td>\n",
       "      <td>3</td>\n",
       "      <td>0.0</td>\n",
       "      <td>236</td>\n",
       "      <td>236</td>\n",
       "      <td>1</td>\n",
       "      <td>0.00</td>\n",
       "      <td>5.80</td>\n",
       "    </tr>\n",
       "    <tr>\n",
       "      <th>3</th>\n",
       "      <td>2018-11-28 15:52:25</td>\n",
       "      <td>2018-11-28 15:55:45</td>\n",
       "      <td>5</td>\n",
       "      <td>0.0</td>\n",
       "      <td>193</td>\n",
       "      <td>193</td>\n",
       "      <td>2</td>\n",
       "      <td>0.00</td>\n",
       "      <td>7.55</td>\n",
       "    </tr>\n",
       "    <tr>\n",
       "      <th>4</th>\n",
       "      <td>2018-11-28 15:56:57</td>\n",
       "      <td>2018-11-28 15:58:33</td>\n",
       "      <td>5</td>\n",
       "      <td>0.0</td>\n",
       "      <td>193</td>\n",
       "      <td>193</td>\n",
       "      <td>2</td>\n",
       "      <td>0.00</td>\n",
       "      <td>55.55</td>\n",
       "    </tr>\n",
       "  </tbody>\n",
       "</table>\n",
       "</div>"
      ],
      "text/plain": [
       "  tpep_pickup_datetime tpep_dropoff_datetime  passenger_count  trip_distance  \\\n",
       "0  2019-01-01 00:46:40   2019-01-01 00:53:20                1            1.5   \n",
       "1  2019-01-01 00:59:47   2019-01-01 01:18:59                1            2.6   \n",
       "2  2018-12-21 13:48:30   2018-12-21 13:52:40                3            0.0   \n",
       "3  2018-11-28 15:52:25   2018-11-28 15:55:45                5            0.0   \n",
       "4  2018-11-28 15:56:57   2018-11-28 15:58:33                5            0.0   \n",
       "\n",
       "   PULocationID  DOLocationID  payment_type  tip_amount  total_amount  \n",
       "0           151           239             1        1.65          9.95  \n",
       "1           239           246             1        1.00         16.30  \n",
       "2           236           236             1        0.00          5.80  \n",
       "3           193           193             2        0.00          7.55  \n",
       "4           193           193             2        0.00         55.55  "
      ]
     },
     "execution_count": 14,
     "metadata": {},
     "output_type": "execute_result"
    }
   ],
   "source": [
    "cleared_data = big_data.drop(['VendorID', 'RatecodeID', 'store_and_fwd_flag',\n",
    "                              'improvement_surcharge', 'congestion_surcharge',\n",
    "                             'extra', 'mta_tax','tolls_amount','fare_amount'], axis=1)\n",
    "cleared_data.head()"
   ]
  },
  {
   "cell_type": "code",
   "execution_count": 15,
   "metadata": {
    "scrolled": true
   },
   "outputs": [
    {
     "data": {
      "text/html": [
       "<div>\n",
       "<style scoped>\n",
       "    .dataframe tbody tr th:only-of-type {\n",
       "        vertical-align: middle;\n",
       "    }\n",
       "\n",
       "    .dataframe tbody tr th {\n",
       "        vertical-align: top;\n",
       "    }\n",
       "\n",
       "    .dataframe thead th {\n",
       "        text-align: right;\n",
       "    }\n",
       "</style>\n",
       "<table border=\"1\" class=\"dataframe\">\n",
       "  <thead>\n",
       "    <tr style=\"text-align: right;\">\n",
       "      <th></th>\n",
       "      <th>pickup_datetime</th>\n",
       "      <th>dropoff_datetime</th>\n",
       "      <th>pass_count</th>\n",
       "      <th>trip_dist</th>\n",
       "      <th>pickup_loc_id</th>\n",
       "      <th>dropoff_loc_id</th>\n",
       "      <th>payment_type</th>\n",
       "      <th>tip_amount</th>\n",
       "      <th>total_amount</th>\n",
       "    </tr>\n",
       "  </thead>\n",
       "  <tbody>\n",
       "    <tr>\n",
       "      <th>0</th>\n",
       "      <td>2019-01-01 00:46:40</td>\n",
       "      <td>2019-01-01 00:53:20</td>\n",
       "      <td>1</td>\n",
       "      <td>1.5</td>\n",
       "      <td>151</td>\n",
       "      <td>239</td>\n",
       "      <td>1</td>\n",
       "      <td>1.65</td>\n",
       "      <td>9.95</td>\n",
       "    </tr>\n",
       "    <tr>\n",
       "      <th>1</th>\n",
       "      <td>2019-01-01 00:59:47</td>\n",
       "      <td>2019-01-01 01:18:59</td>\n",
       "      <td>1</td>\n",
       "      <td>2.6</td>\n",
       "      <td>239</td>\n",
       "      <td>246</td>\n",
       "      <td>1</td>\n",
       "      <td>1.00</td>\n",
       "      <td>16.30</td>\n",
       "    </tr>\n",
       "    <tr>\n",
       "      <th>2</th>\n",
       "      <td>2018-12-21 13:48:30</td>\n",
       "      <td>2018-12-21 13:52:40</td>\n",
       "      <td>3</td>\n",
       "      <td>0.0</td>\n",
       "      <td>236</td>\n",
       "      <td>236</td>\n",
       "      <td>1</td>\n",
       "      <td>0.00</td>\n",
       "      <td>5.80</td>\n",
       "    </tr>\n",
       "    <tr>\n",
       "      <th>3</th>\n",
       "      <td>2018-11-28 15:52:25</td>\n",
       "      <td>2018-11-28 15:55:45</td>\n",
       "      <td>5</td>\n",
       "      <td>0.0</td>\n",
       "      <td>193</td>\n",
       "      <td>193</td>\n",
       "      <td>2</td>\n",
       "      <td>0.00</td>\n",
       "      <td>7.55</td>\n",
       "    </tr>\n",
       "    <tr>\n",
       "      <th>4</th>\n",
       "      <td>2018-11-28 15:56:57</td>\n",
       "      <td>2018-11-28 15:58:33</td>\n",
       "      <td>5</td>\n",
       "      <td>0.0</td>\n",
       "      <td>193</td>\n",
       "      <td>193</td>\n",
       "      <td>2</td>\n",
       "      <td>0.00</td>\n",
       "      <td>55.55</td>\n",
       "    </tr>\n",
       "  </tbody>\n",
       "</table>\n",
       "</div>"
      ],
      "text/plain": [
       "       pickup_datetime     dropoff_datetime  pass_count  trip_dist  \\\n",
       "0  2019-01-01 00:46:40  2019-01-01 00:53:20           1        1.5   \n",
       "1  2019-01-01 00:59:47  2019-01-01 01:18:59           1        2.6   \n",
       "2  2018-12-21 13:48:30  2018-12-21 13:52:40           3        0.0   \n",
       "3  2018-11-28 15:52:25  2018-11-28 15:55:45           5        0.0   \n",
       "4  2018-11-28 15:56:57  2018-11-28 15:58:33           5        0.0   \n",
       "\n",
       "   pickup_loc_id  dropoff_loc_id  payment_type  tip_amount  total_amount  \n",
       "0            151             239             1        1.65          9.95  \n",
       "1            239             246             1        1.00         16.30  \n",
       "2            236             236             1        0.00          5.80  \n",
       "3            193             193             2        0.00          7.55  \n",
       "4            193             193             2        0.00         55.55  "
      ]
     },
     "execution_count": 15,
     "metadata": {},
     "output_type": "execute_result"
    }
   ],
   "source": [
    "cleared_data.rename(columns={'tpep_pickup_datetime': 'pickup_datetime',\n",
    "                            'tpep_dropoff_datetime':'dropoff_datetime',\n",
    "                            'passenger_count':'pass_count',\n",
    "                            'trip_distance':'trip_dist',\n",
    "                            'PULocationID':'pickup_loc_id',\n",
    "                            'DOLocationID':'dropoff_loc_id'}, inplace=True)\n",
    "cleared_data.head()"
   ]
  },
  {
   "cell_type": "code",
   "execution_count": 16,
   "metadata": {},
   "outputs": [],
   "source": [
    "cleared_data['pickup_datetime'] = pd.to_datetime(cleared_data['pickup_datetime'])"
   ]
  },
  {
   "cell_type": "code",
   "execution_count": 17,
   "metadata": {},
   "outputs": [],
   "source": [
    "cleared_data['dropoff_datetime'] = pd.to_datetime(cleared_data['dropoff_datetime'])"
   ]
  },
  {
   "cell_type": "code",
   "execution_count": 18,
   "metadata": {
    "scrolled": true
   },
   "outputs": [
    {
     "data": {
      "text/html": [
       "<div>\n",
       "<style scoped>\n",
       "    .dataframe tbody tr th:only-of-type {\n",
       "        vertical-align: middle;\n",
       "    }\n",
       "\n",
       "    .dataframe tbody tr th {\n",
       "        vertical-align: top;\n",
       "    }\n",
       "\n",
       "    .dataframe thead th {\n",
       "        text-align: right;\n",
       "    }\n",
       "</style>\n",
       "<table border=\"1\" class=\"dataframe\">\n",
       "  <thead>\n",
       "    <tr style=\"text-align: right;\">\n",
       "      <th></th>\n",
       "      <th>pickup_datetime</th>\n",
       "      <th>dropoff_datetime</th>\n",
       "      <th>pass_count</th>\n",
       "      <th>trip_dist</th>\n",
       "      <th>pickup_loc_id</th>\n",
       "      <th>dropoff_loc_id</th>\n",
       "      <th>payment_type</th>\n",
       "      <th>tip_amount</th>\n",
       "      <th>total_amount</th>\n",
       "      <th>time_ride</th>\n",
       "    </tr>\n",
       "  </thead>\n",
       "  <tbody>\n",
       "    <tr>\n",
       "      <th>0</th>\n",
       "      <td>2019-01-01 00:46:40</td>\n",
       "      <td>2019-01-01 00:53:20</td>\n",
       "      <td>1</td>\n",
       "      <td>1.5</td>\n",
       "      <td>151</td>\n",
       "      <td>239</td>\n",
       "      <td>1</td>\n",
       "      <td>1.65</td>\n",
       "      <td>9.95</td>\n",
       "      <td>0 days 00:06:40</td>\n",
       "    </tr>\n",
       "    <tr>\n",
       "      <th>1</th>\n",
       "      <td>2019-01-01 00:59:47</td>\n",
       "      <td>2019-01-01 01:18:59</td>\n",
       "      <td>1</td>\n",
       "      <td>2.6</td>\n",
       "      <td>239</td>\n",
       "      <td>246</td>\n",
       "      <td>1</td>\n",
       "      <td>1.00</td>\n",
       "      <td>16.30</td>\n",
       "      <td>0 days 00:19:12</td>\n",
       "    </tr>\n",
       "    <tr>\n",
       "      <th>2</th>\n",
       "      <td>2018-12-21 13:48:30</td>\n",
       "      <td>2018-12-21 13:52:40</td>\n",
       "      <td>3</td>\n",
       "      <td>0.0</td>\n",
       "      <td>236</td>\n",
       "      <td>236</td>\n",
       "      <td>1</td>\n",
       "      <td>0.00</td>\n",
       "      <td>5.80</td>\n",
       "      <td>0 days 00:04:10</td>\n",
       "    </tr>\n",
       "    <tr>\n",
       "      <th>3</th>\n",
       "      <td>2018-11-28 15:52:25</td>\n",
       "      <td>2018-11-28 15:55:45</td>\n",
       "      <td>5</td>\n",
       "      <td>0.0</td>\n",
       "      <td>193</td>\n",
       "      <td>193</td>\n",
       "      <td>2</td>\n",
       "      <td>0.00</td>\n",
       "      <td>7.55</td>\n",
       "      <td>0 days 00:03:20</td>\n",
       "    </tr>\n",
       "    <tr>\n",
       "      <th>4</th>\n",
       "      <td>2018-11-28 15:56:57</td>\n",
       "      <td>2018-11-28 15:58:33</td>\n",
       "      <td>5</td>\n",
       "      <td>0.0</td>\n",
       "      <td>193</td>\n",
       "      <td>193</td>\n",
       "      <td>2</td>\n",
       "      <td>0.00</td>\n",
       "      <td>55.55</td>\n",
       "      <td>0 days 00:01:36</td>\n",
       "    </tr>\n",
       "  </tbody>\n",
       "</table>\n",
       "</div>"
      ],
      "text/plain": [
       "      pickup_datetime    dropoff_datetime  pass_count  trip_dist  \\\n",
       "0 2019-01-01 00:46:40 2019-01-01 00:53:20           1        1.5   \n",
       "1 2019-01-01 00:59:47 2019-01-01 01:18:59           1        2.6   \n",
       "2 2018-12-21 13:48:30 2018-12-21 13:52:40           3        0.0   \n",
       "3 2018-11-28 15:52:25 2018-11-28 15:55:45           5        0.0   \n",
       "4 2018-11-28 15:56:57 2018-11-28 15:58:33           5        0.0   \n",
       "\n",
       "   pickup_loc_id  dropoff_loc_id  payment_type  tip_amount  total_amount  \\\n",
       "0            151             239             1        1.65          9.95   \n",
       "1            239             246             1        1.00         16.30   \n",
       "2            236             236             1        0.00          5.80   \n",
       "3            193             193             2        0.00          7.55   \n",
       "4            193             193             2        0.00         55.55   \n",
       "\n",
       "        time_ride  \n",
       "0 0 days 00:06:40  \n",
       "1 0 days 00:19:12  \n",
       "2 0 days 00:04:10  \n",
       "3 0 days 00:03:20  \n",
       "4 0 days 00:01:36  "
      ]
     },
     "execution_count": 18,
     "metadata": {},
     "output_type": "execute_result"
    }
   ],
   "source": [
    "cleared_data['time_ride']  = cleared_data['dropoff_datetime'] - cleared_data['pickup_datetime']\n",
    "cleared_data.head()"
   ]
  },
  {
   "cell_type": "code",
   "execution_count": 19,
   "metadata": {},
   "outputs": [],
   "source": [
    "cleared_data['time_ride_minutes']  = round(cleared_data['time_ride'].dt.total_seconds()/60, 2)"
   ]
  },
  {
   "cell_type": "code",
   "execution_count": 20,
   "metadata": {
    "scrolled": true
   },
   "outputs": [],
   "source": [
    "cleared_data = cleared_data.query('time_ride_minutes > 0') #удалить отрицательные и нулевые значения"
   ]
  },
  {
   "cell_type": "code",
   "execution_count": 21,
   "metadata": {},
   "outputs": [],
   "source": [
    "cleared_data_120 = cleared_data.query('time_ride_minutes < 120') #удалим значения, где время поездки больще 2 часов"
   ]
  },
  {
   "cell_type": "code",
   "execution_count": 22,
   "metadata": {},
   "outputs": [
    {
     "data": {
      "text/html": [
       "<div>\n",
       "<style scoped>\n",
       "    .dataframe tbody tr th:only-of-type {\n",
       "        vertical-align: middle;\n",
       "    }\n",
       "\n",
       "    .dataframe tbody tr th {\n",
       "        vertical-align: top;\n",
       "    }\n",
       "\n",
       "    .dataframe thead th {\n",
       "        text-align: right;\n",
       "    }\n",
       "</style>\n",
       "<table border=\"1\" class=\"dataframe\">\n",
       "  <thead>\n",
       "    <tr style=\"text-align: right;\">\n",
       "      <th></th>\n",
       "      <th>pickup_datetime</th>\n",
       "      <th>dropoff_datetime</th>\n",
       "      <th>pass_count</th>\n",
       "      <th>trip_dist</th>\n",
       "      <th>pickup_loc_id</th>\n",
       "      <th>dropoff_loc_id</th>\n",
       "      <th>payment_type</th>\n",
       "      <th>tip_amount</th>\n",
       "      <th>total_amount</th>\n",
       "      <th>time_ride</th>\n",
       "      <th>time_ride_minutes</th>\n",
       "      <th>revenue</th>\n",
       "    </tr>\n",
       "  </thead>\n",
       "  <tbody>\n",
       "    <tr>\n",
       "      <th>0</th>\n",
       "      <td>2019-01-01 00:46:40</td>\n",
       "      <td>2019-01-01 00:53:20</td>\n",
       "      <td>1</td>\n",
       "      <td>1.5</td>\n",
       "      <td>151</td>\n",
       "      <td>239</td>\n",
       "      <td>1</td>\n",
       "      <td>1.65</td>\n",
       "      <td>9.95</td>\n",
       "      <td>0 days 00:06:40</td>\n",
       "      <td>6.67</td>\n",
       "      <td>8.30</td>\n",
       "    </tr>\n",
       "    <tr>\n",
       "      <th>1</th>\n",
       "      <td>2019-01-01 00:59:47</td>\n",
       "      <td>2019-01-01 01:18:59</td>\n",
       "      <td>1</td>\n",
       "      <td>2.6</td>\n",
       "      <td>239</td>\n",
       "      <td>246</td>\n",
       "      <td>1</td>\n",
       "      <td>1.00</td>\n",
       "      <td>16.30</td>\n",
       "      <td>0 days 00:19:12</td>\n",
       "      <td>19.20</td>\n",
       "      <td>15.30</td>\n",
       "    </tr>\n",
       "    <tr>\n",
       "      <th>2</th>\n",
       "      <td>2018-12-21 13:48:30</td>\n",
       "      <td>2018-12-21 13:52:40</td>\n",
       "      <td>3</td>\n",
       "      <td>0.0</td>\n",
       "      <td>236</td>\n",
       "      <td>236</td>\n",
       "      <td>1</td>\n",
       "      <td>0.00</td>\n",
       "      <td>5.80</td>\n",
       "      <td>0 days 00:04:10</td>\n",
       "      <td>4.17</td>\n",
       "      <td>5.80</td>\n",
       "    </tr>\n",
       "    <tr>\n",
       "      <th>3</th>\n",
       "      <td>2018-11-28 15:52:25</td>\n",
       "      <td>2018-11-28 15:55:45</td>\n",
       "      <td>5</td>\n",
       "      <td>0.0</td>\n",
       "      <td>193</td>\n",
       "      <td>193</td>\n",
       "      <td>2</td>\n",
       "      <td>0.00</td>\n",
       "      <td>7.55</td>\n",
       "      <td>0 days 00:03:20</td>\n",
       "      <td>3.33</td>\n",
       "      <td>7.55</td>\n",
       "    </tr>\n",
       "    <tr>\n",
       "      <th>4</th>\n",
       "      <td>2018-11-28 15:56:57</td>\n",
       "      <td>2018-11-28 15:58:33</td>\n",
       "      <td>5</td>\n",
       "      <td>0.0</td>\n",
       "      <td>193</td>\n",
       "      <td>193</td>\n",
       "      <td>2</td>\n",
       "      <td>0.00</td>\n",
       "      <td>55.55</td>\n",
       "      <td>0 days 00:01:36</td>\n",
       "      <td>1.60</td>\n",
       "      <td>55.55</td>\n",
       "    </tr>\n",
       "  </tbody>\n",
       "</table>\n",
       "</div>"
      ],
      "text/plain": [
       "      pickup_datetime    dropoff_datetime  pass_count  trip_dist  \\\n",
       "0 2019-01-01 00:46:40 2019-01-01 00:53:20           1        1.5   \n",
       "1 2019-01-01 00:59:47 2019-01-01 01:18:59           1        2.6   \n",
       "2 2018-12-21 13:48:30 2018-12-21 13:52:40           3        0.0   \n",
       "3 2018-11-28 15:52:25 2018-11-28 15:55:45           5        0.0   \n",
       "4 2018-11-28 15:56:57 2018-11-28 15:58:33           5        0.0   \n",
       "\n",
       "   pickup_loc_id  dropoff_loc_id  payment_type  tip_amount  total_amount  \\\n",
       "0            151             239             1        1.65          9.95   \n",
       "1            239             246             1        1.00         16.30   \n",
       "2            236             236             1        0.00          5.80   \n",
       "3            193             193             2        0.00          7.55   \n",
       "4            193             193             2        0.00         55.55   \n",
       "\n",
       "        time_ride  time_ride_minutes  revenue  \n",
       "0 0 days 00:06:40               6.67     8.30  \n",
       "1 0 days 00:19:12              19.20    15.30  \n",
       "2 0 days 00:04:10               4.17     5.80  \n",
       "3 0 days 00:03:20               3.33     7.55  \n",
       "4 0 days 00:01:36               1.60    55.55  "
      ]
     },
     "execution_count": 22,
     "metadata": {},
     "output_type": "execute_result"
    }
   ],
   "source": [
    "cleared_data_120['revenue'] = cleared_data_120['total_amount'] - cleared_data_120['tip_amount']\n",
    "cleared_data_120.head()"
   ]
  },
  {
   "cell_type": "code",
   "execution_count": 23,
   "metadata": {
    "scrolled": true
   },
   "outputs": [],
   "source": [
    "cleared_data_120['commision_8'] = cleared_data_120['revenue'] * 0.08\n"
   ]
  },
  {
   "cell_type": "code",
   "execution_count": 24,
   "metadata": {
    "scrolled": false
   },
   "outputs": [],
   "source": [
    "cleared_data_120['pickup_just_date'] = cleared_data_120['pickup_datetime'].dt.date"
   ]
  },
  {
   "cell_type": "code",
   "execution_count": 25,
   "metadata": {
    "scrolled": false
   },
   "outputs": [],
   "source": [
    "cleared_data_120['pickup_just_date'] = cleared_data_120['pickup_datetime'].dt.date"
   ]
  },
  {
   "cell_type": "code",
   "execution_count": 26,
   "metadata": {},
   "outputs": [
    {
     "data": {
      "text/plain": [
       "(22439599, 14)"
      ]
     },
     "execution_count": 26,
     "metadata": {},
     "output_type": "execute_result"
    }
   ],
   "source": [
    "cleared_data_120.shape"
   ]
  },
  {
   "cell_type": "code",
   "execution_count": 37,
   "metadata": {
    "scrolled": true
   },
   "outputs": [],
   "source": [
    "cleared_data_120_2019Q1 = cleared_data_120.query('pickup_datetime > \"2019-01-01\" and pickup_datetime < \"2019-04-01\"')"
   ]
  },
  {
   "cell_type": "code",
   "execution_count": 46,
   "metadata": {
    "scrolled": true
   },
   "outputs": [
    {
     "data": {
      "text/plain": [
       "(15000000, 14)"
      ]
     },
     "execution_count": 46,
     "metadata": {},
     "output_type": "execute_result"
    }
   ],
   "source": [
    "taxi_prep_data_15kk = cleared_data_120_2019Q1.sample(15*10**6)\n",
    "taxi_prep_data_15kk.shape"
   ]
  },
  {
   "cell_type": "code",
   "execution_count": 47,
   "metadata": {},
   "outputs": [
    {
     "name": "stdout",
     "output_type": "stream",
     "text": [
      "Wall time: 9min 27s\n"
     ]
    }
   ],
   "source": [
    "%%time\n",
    "taxi_prep_data_15kk.to_csv('taxi_prep_data_15kk.csv')"
   ]
  },
  {
   "cell_type": "markdown",
   "metadata": {},
   "source": [
    "# Делаем тестовую test_data на 10000 строк"
   ]
  },
  {
   "cell_type": "markdown",
   "metadata": {},
   "source": [
    "Для дальнейшего тестирования работы в Tableau и после уже загрузить на 22 млн строк"
   ]
  },
  {
   "cell_type": "code",
   "execution_count": 39,
   "metadata": {},
   "outputs": [],
   "source": [
    "test_data = cleared_data_120.sample(10000)"
   ]
  },
  {
   "cell_type": "code",
   "execution_count": 40,
   "metadata": {},
   "outputs": [],
   "source": [
    "taxi_zone = taxi_loc[['location_id', 'zone']]"
   ]
  },
  {
   "cell_type": "code",
   "execution_count": 41,
   "metadata": {},
   "outputs": [
    {
     "name": "stdout",
     "output_type": "stream",
     "text": [
      "<class 'pandas.core.frame.DataFrame'>\n",
      "RangeIndex: 265 entries, 0 to 264\n",
      "Data columns (total 2 columns):\n",
      " #   Column       Non-Null Count  Dtype \n",
      "---  ------       --------------  ----- \n",
      " 0   location_id  265 non-null    object\n",
      " 1   zone         264 non-null    object\n",
      "dtypes: object(2)\n",
      "memory usage: 4.3+ KB\n"
     ]
    }
   ],
   "source": [
    "taxi_zone.info()"
   ]
  },
  {
   "cell_type": "code",
   "execution_count": 42,
   "metadata": {
    "scrolled": true
   },
   "outputs": [],
   "source": [
    "taxi_zone = taxi_zone[taxi_zone['zone'].notna()]\n"
   ]
  },
  {
   "cell_type": "code",
   "execution_count": 43,
   "metadata": {},
   "outputs": [],
   "source": [
    "taxi_zone.location_id = taxi_zone.location_id.astype('int64')"
   ]
  },
  {
   "cell_type": "code",
   "execution_count": 44,
   "metadata": {},
   "outputs": [
    {
     "data": {
      "text/html": [
       "<div>\n",
       "<style scoped>\n",
       "    .dataframe tbody tr th:only-of-type {\n",
       "        vertical-align: middle;\n",
       "    }\n",
       "\n",
       "    .dataframe tbody tr th {\n",
       "        vertical-align: top;\n",
       "    }\n",
       "\n",
       "    .dataframe thead th {\n",
       "        text-align: right;\n",
       "    }\n",
       "</style>\n",
       "<table border=\"1\" class=\"dataframe\">\n",
       "  <thead>\n",
       "    <tr style=\"text-align: right;\">\n",
       "      <th></th>\n",
       "      <th>pickup_datetime</th>\n",
       "      <th>dropoff_datetime</th>\n",
       "      <th>pass_count</th>\n",
       "      <th>trip_dist</th>\n",
       "      <th>pickup_loc_id</th>\n",
       "      <th>dropoff_loc_id</th>\n",
       "      <th>payment_type</th>\n",
       "      <th>tip_amount</th>\n",
       "      <th>total_amount</th>\n",
       "      <th>time_ride</th>\n",
       "      <th>time_ride_minutes</th>\n",
       "      <th>revenue</th>\n",
       "      <th>commision_8</th>\n",
       "      <th>pickup_just_date</th>\n",
       "      <th>location_id</th>\n",
       "      <th>zone</th>\n",
       "    </tr>\n",
       "  </thead>\n",
       "  <tbody>\n",
       "    <tr>\n",
       "      <th>0</th>\n",
       "      <td>2019-03-08 15:01:53</td>\n",
       "      <td>2019-03-08 15:10:27</td>\n",
       "      <td>2</td>\n",
       "      <td>0.73</td>\n",
       "      <td>161</td>\n",
       "      <td>230</td>\n",
       "      <td>1</td>\n",
       "      <td>1.96</td>\n",
       "      <td>11.76</td>\n",
       "      <td>0 days 00:08:34</td>\n",
       "      <td>8.57</td>\n",
       "      <td>9.80</td>\n",
       "      <td>0.7840</td>\n",
       "      <td>2019-03-08</td>\n",
       "      <td>161.0</td>\n",
       "      <td>Midtown Center</td>\n",
       "    </tr>\n",
       "    <tr>\n",
       "      <th>1</th>\n",
       "      <td>2019-03-08 17:40:07</td>\n",
       "      <td>2019-03-08 17:54:19</td>\n",
       "      <td>1</td>\n",
       "      <td>0.80</td>\n",
       "      <td>142</td>\n",
       "      <td>239</td>\n",
       "      <td>1</td>\n",
       "      <td>2.15</td>\n",
       "      <td>16.45</td>\n",
       "      <td>0 days 00:14:12</td>\n",
       "      <td>14.20</td>\n",
       "      <td>14.30</td>\n",
       "      <td>1.1440</td>\n",
       "      <td>2019-03-08</td>\n",
       "      <td>142.0</td>\n",
       "      <td>Lincoln Square East</td>\n",
       "    </tr>\n",
       "    <tr>\n",
       "      <th>2</th>\n",
       "      <td>2019-03-15 09:28:12</td>\n",
       "      <td>2019-03-15 09:34:24</td>\n",
       "      <td>1</td>\n",
       "      <td>0.82</td>\n",
       "      <td>142</td>\n",
       "      <td>143</td>\n",
       "      <td>1</td>\n",
       "      <td>1.86</td>\n",
       "      <td>11.16</td>\n",
       "      <td>0 days 00:06:12</td>\n",
       "      <td>6.20</td>\n",
       "      <td>9.30</td>\n",
       "      <td>0.7440</td>\n",
       "      <td>2019-03-15</td>\n",
       "      <td>142.0</td>\n",
       "      <td>Lincoln Square East</td>\n",
       "    </tr>\n",
       "    <tr>\n",
       "      <th>3</th>\n",
       "      <td>2019-01-24 17:52:32</td>\n",
       "      <td>2019-01-24 17:56:19</td>\n",
       "      <td>1</td>\n",
       "      <td>0.55</td>\n",
       "      <td>230</td>\n",
       "      <td>163</td>\n",
       "      <td>2</td>\n",
       "      <td>0.00</td>\n",
       "      <td>6.30</td>\n",
       "      <td>0 days 00:03:47</td>\n",
       "      <td>3.78</td>\n",
       "      <td>6.30</td>\n",
       "      <td>0.5040</td>\n",
       "      <td>2019-01-24</td>\n",
       "      <td>230.0</td>\n",
       "      <td>Times Sq/Theatre District</td>\n",
       "    </tr>\n",
       "    <tr>\n",
       "      <th>4</th>\n",
       "      <td>2019-03-28 14:08:47</td>\n",
       "      <td>2019-03-28 14:18:39</td>\n",
       "      <td>2</td>\n",
       "      <td>0.70</td>\n",
       "      <td>161</td>\n",
       "      <td>100</td>\n",
       "      <td>1</td>\n",
       "      <td>2.00</td>\n",
       "      <td>12.80</td>\n",
       "      <td>0 days 00:09:52</td>\n",
       "      <td>9.87</td>\n",
       "      <td>10.80</td>\n",
       "      <td>0.8640</td>\n",
       "      <td>2019-03-28</td>\n",
       "      <td>161.0</td>\n",
       "      <td>Midtown Center</td>\n",
       "    </tr>\n",
       "    <tr>\n",
       "      <th>...</th>\n",
       "      <td>...</td>\n",
       "      <td>...</td>\n",
       "      <td>...</td>\n",
       "      <td>...</td>\n",
       "      <td>...</td>\n",
       "      <td>...</td>\n",
       "      <td>...</td>\n",
       "      <td>...</td>\n",
       "      <td>...</td>\n",
       "      <td>...</td>\n",
       "      <td>...</td>\n",
       "      <td>...</td>\n",
       "      <td>...</td>\n",
       "      <td>...</td>\n",
       "      <td>...</td>\n",
       "      <td>...</td>\n",
       "    </tr>\n",
       "    <tr>\n",
       "      <th>9995</th>\n",
       "      <td>2019-02-08 08:29:24</td>\n",
       "      <td>2019-02-08 08:58:29</td>\n",
       "      <td>5</td>\n",
       "      <td>3.26</td>\n",
       "      <td>75</td>\n",
       "      <td>170</td>\n",
       "      <td>1</td>\n",
       "      <td>1.00</td>\n",
       "      <td>22.80</td>\n",
       "      <td>0 days 00:29:05</td>\n",
       "      <td>29.08</td>\n",
       "      <td>21.80</td>\n",
       "      <td>1.7440</td>\n",
       "      <td>2019-02-08</td>\n",
       "      <td>75.0</td>\n",
       "      <td>East Harlem South</td>\n",
       "    </tr>\n",
       "    <tr>\n",
       "      <th>9996</th>\n",
       "      <td>2019-01-31 21:04:16</td>\n",
       "      <td>2019-01-31 21:33:23</td>\n",
       "      <td>1</td>\n",
       "      <td>5.70</td>\n",
       "      <td>107</td>\n",
       "      <td>49</td>\n",
       "      <td>1</td>\n",
       "      <td>0.00</td>\n",
       "      <td>24.80</td>\n",
       "      <td>0 days 00:29:07</td>\n",
       "      <td>29.12</td>\n",
       "      <td>24.80</td>\n",
       "      <td>1.9840</td>\n",
       "      <td>2019-01-31</td>\n",
       "      <td>107.0</td>\n",
       "      <td>Gramercy</td>\n",
       "    </tr>\n",
       "    <tr>\n",
       "      <th>9997</th>\n",
       "      <td>2019-01-24 13:20:40</td>\n",
       "      <td>2019-01-24 13:33:57</td>\n",
       "      <td>1</td>\n",
       "      <td>5.85</td>\n",
       "      <td>134</td>\n",
       "      <td>132</td>\n",
       "      <td>1</td>\n",
       "      <td>11.71</td>\n",
       "      <td>70.27</td>\n",
       "      <td>0 days 00:13:17</td>\n",
       "      <td>13.28</td>\n",
       "      <td>58.56</td>\n",
       "      <td>4.6848</td>\n",
       "      <td>2019-01-24</td>\n",
       "      <td>134.0</td>\n",
       "      <td>Kew Gardens</td>\n",
       "    </tr>\n",
       "    <tr>\n",
       "      <th>9998</th>\n",
       "      <td>2019-03-11 22:06:22</td>\n",
       "      <td>2019-03-11 22:19:36</td>\n",
       "      <td>4</td>\n",
       "      <td>2.43</td>\n",
       "      <td>239</td>\n",
       "      <td>237</td>\n",
       "      <td>1</td>\n",
       "      <td>3.06</td>\n",
       "      <td>18.36</td>\n",
       "      <td>0 days 00:13:14</td>\n",
       "      <td>13.23</td>\n",
       "      <td>15.30</td>\n",
       "      <td>1.2240</td>\n",
       "      <td>2019-03-11</td>\n",
       "      <td>239.0</td>\n",
       "      <td>Upper West Side South</td>\n",
       "    </tr>\n",
       "    <tr>\n",
       "      <th>9999</th>\n",
       "      <td>2019-02-22 15:29:14</td>\n",
       "      <td>2019-02-22 15:39:28</td>\n",
       "      <td>1</td>\n",
       "      <td>1.30</td>\n",
       "      <td>263</td>\n",
       "      <td>140</td>\n",
       "      <td>2</td>\n",
       "      <td>0.00</td>\n",
       "      <td>11.80</td>\n",
       "      <td>0 days 00:10:14</td>\n",
       "      <td>10.23</td>\n",
       "      <td>11.80</td>\n",
       "      <td>0.9440</td>\n",
       "      <td>2019-02-22</td>\n",
       "      <td>263.0</td>\n",
       "      <td>Yorkville West</td>\n",
       "    </tr>\n",
       "  </tbody>\n",
       "</table>\n",
       "<p>10000 rows × 16 columns</p>\n",
       "</div>"
      ],
      "text/plain": [
       "         pickup_datetime    dropoff_datetime  pass_count  trip_dist  \\\n",
       "0    2019-03-08 15:01:53 2019-03-08 15:10:27           2       0.73   \n",
       "1    2019-03-08 17:40:07 2019-03-08 17:54:19           1       0.80   \n",
       "2    2019-03-15 09:28:12 2019-03-15 09:34:24           1       0.82   \n",
       "3    2019-01-24 17:52:32 2019-01-24 17:56:19           1       0.55   \n",
       "4    2019-03-28 14:08:47 2019-03-28 14:18:39           2       0.70   \n",
       "...                  ...                 ...         ...        ...   \n",
       "9995 2019-02-08 08:29:24 2019-02-08 08:58:29           5       3.26   \n",
       "9996 2019-01-31 21:04:16 2019-01-31 21:33:23           1       5.70   \n",
       "9997 2019-01-24 13:20:40 2019-01-24 13:33:57           1       5.85   \n",
       "9998 2019-03-11 22:06:22 2019-03-11 22:19:36           4       2.43   \n",
       "9999 2019-02-22 15:29:14 2019-02-22 15:39:28           1       1.30   \n",
       "\n",
       "      pickup_loc_id  dropoff_loc_id  payment_type  tip_amount  total_amount  \\\n",
       "0               161             230             1        1.96         11.76   \n",
       "1               142             239             1        2.15         16.45   \n",
       "2               142             143             1        1.86         11.16   \n",
       "3               230             163             2        0.00          6.30   \n",
       "4               161             100             1        2.00         12.80   \n",
       "...             ...             ...           ...         ...           ...   \n",
       "9995             75             170             1        1.00         22.80   \n",
       "9996            107              49             1        0.00         24.80   \n",
       "9997            134             132             1       11.71         70.27   \n",
       "9998            239             237             1        3.06         18.36   \n",
       "9999            263             140             2        0.00         11.80   \n",
       "\n",
       "           time_ride  time_ride_minutes  revenue  commision_8  \\\n",
       "0    0 days 00:08:34               8.57     9.80       0.7840   \n",
       "1    0 days 00:14:12              14.20    14.30       1.1440   \n",
       "2    0 days 00:06:12               6.20     9.30       0.7440   \n",
       "3    0 days 00:03:47               3.78     6.30       0.5040   \n",
       "4    0 days 00:09:52               9.87    10.80       0.8640   \n",
       "...              ...                ...      ...          ...   \n",
       "9995 0 days 00:29:05              29.08    21.80       1.7440   \n",
       "9996 0 days 00:29:07              29.12    24.80       1.9840   \n",
       "9997 0 days 00:13:17              13.28    58.56       4.6848   \n",
       "9998 0 days 00:13:14              13.23    15.30       1.2240   \n",
       "9999 0 days 00:10:14              10.23    11.80       0.9440   \n",
       "\n",
       "     pickup_just_date  location_id                       zone  \n",
       "0          2019-03-08        161.0             Midtown Center  \n",
       "1          2019-03-08        142.0        Lincoln Square East  \n",
       "2          2019-03-15        142.0        Lincoln Square East  \n",
       "3          2019-01-24        230.0  Times Sq/Theatre District  \n",
       "4          2019-03-28        161.0             Midtown Center  \n",
       "...               ...          ...                        ...  \n",
       "9995       2019-02-08         75.0          East Harlem South  \n",
       "9996       2019-01-31        107.0                   Gramercy  \n",
       "9997       2019-01-24        134.0                Kew Gardens  \n",
       "9998       2019-03-11        239.0      Upper West Side South  \n",
       "9999       2019-02-22        263.0             Yorkville West  \n",
       "\n",
       "[10000 rows x 16 columns]"
      ]
     },
     "execution_count": 44,
     "metadata": {},
     "output_type": "execute_result"
    }
   ],
   "source": [
    "test_data_taxi = test_data.merge(taxi_zone, how='left', left_on='pickup_loc_id', right_on='location_id') \n",
    "test_data_taxi\n",
    "#соединяем по локации пикап"
   ]
  },
  {
   "cell_type": "code",
   "execution_count": 45,
   "metadata": {},
   "outputs": [
    {
     "data": {
      "text/html": [
       "<div>\n",
       "<style scoped>\n",
       "    .dataframe tbody tr th:only-of-type {\n",
       "        vertical-align: middle;\n",
       "    }\n",
       "\n",
       "    .dataframe tbody tr th {\n",
       "        vertical-align: top;\n",
       "    }\n",
       "\n",
       "    .dataframe thead th {\n",
       "        text-align: right;\n",
       "    }\n",
       "</style>\n",
       "<table border=\"1\" class=\"dataframe\">\n",
       "  <thead>\n",
       "    <tr style=\"text-align: right;\">\n",
       "      <th></th>\n",
       "      <th>pickup_datetime</th>\n",
       "      <th>dropoff_datetime</th>\n",
       "      <th>pass_count</th>\n",
       "      <th>trip_dist</th>\n",
       "      <th>pickup_loc_id</th>\n",
       "      <th>dropoff_loc_id</th>\n",
       "      <th>payment_type</th>\n",
       "      <th>tip_amount</th>\n",
       "      <th>total_amount</th>\n",
       "      <th>time_ride</th>\n",
       "      <th>time_ride_minutes</th>\n",
       "      <th>revenue</th>\n",
       "      <th>commision_8</th>\n",
       "      <th>pickup_just_date</th>\n",
       "      <th>location_id_x</th>\n",
       "      <th>zone_x</th>\n",
       "      <th>location_id_y</th>\n",
       "      <th>zone_y</th>\n",
       "    </tr>\n",
       "  </thead>\n",
       "  <tbody>\n",
       "    <tr>\n",
       "      <th>0</th>\n",
       "      <td>2019-03-08 15:01:53</td>\n",
       "      <td>2019-03-08 15:10:27</td>\n",
       "      <td>2</td>\n",
       "      <td>0.73</td>\n",
       "      <td>161</td>\n",
       "      <td>230</td>\n",
       "      <td>1</td>\n",
       "      <td>1.96</td>\n",
       "      <td>11.76</td>\n",
       "      <td>0 days 00:08:34</td>\n",
       "      <td>8.57</td>\n",
       "      <td>9.80</td>\n",
       "      <td>0.7840</td>\n",
       "      <td>2019-03-08</td>\n",
       "      <td>161.0</td>\n",
       "      <td>Midtown Center</td>\n",
       "      <td>230.0</td>\n",
       "      <td>Times Sq/Theatre District</td>\n",
       "    </tr>\n",
       "    <tr>\n",
       "      <th>1</th>\n",
       "      <td>2019-03-08 17:40:07</td>\n",
       "      <td>2019-03-08 17:54:19</td>\n",
       "      <td>1</td>\n",
       "      <td>0.80</td>\n",
       "      <td>142</td>\n",
       "      <td>239</td>\n",
       "      <td>1</td>\n",
       "      <td>2.15</td>\n",
       "      <td>16.45</td>\n",
       "      <td>0 days 00:14:12</td>\n",
       "      <td>14.20</td>\n",
       "      <td>14.30</td>\n",
       "      <td>1.1440</td>\n",
       "      <td>2019-03-08</td>\n",
       "      <td>142.0</td>\n",
       "      <td>Lincoln Square East</td>\n",
       "      <td>239.0</td>\n",
       "      <td>Upper West Side South</td>\n",
       "    </tr>\n",
       "    <tr>\n",
       "      <th>2</th>\n",
       "      <td>2019-03-15 09:28:12</td>\n",
       "      <td>2019-03-15 09:34:24</td>\n",
       "      <td>1</td>\n",
       "      <td>0.82</td>\n",
       "      <td>142</td>\n",
       "      <td>143</td>\n",
       "      <td>1</td>\n",
       "      <td>1.86</td>\n",
       "      <td>11.16</td>\n",
       "      <td>0 days 00:06:12</td>\n",
       "      <td>6.20</td>\n",
       "      <td>9.30</td>\n",
       "      <td>0.7440</td>\n",
       "      <td>2019-03-15</td>\n",
       "      <td>142.0</td>\n",
       "      <td>Lincoln Square East</td>\n",
       "      <td>143.0</td>\n",
       "      <td>Lincoln Square West</td>\n",
       "    </tr>\n",
       "    <tr>\n",
       "      <th>3</th>\n",
       "      <td>2019-01-24 17:52:32</td>\n",
       "      <td>2019-01-24 17:56:19</td>\n",
       "      <td>1</td>\n",
       "      <td>0.55</td>\n",
       "      <td>230</td>\n",
       "      <td>163</td>\n",
       "      <td>2</td>\n",
       "      <td>0.00</td>\n",
       "      <td>6.30</td>\n",
       "      <td>0 days 00:03:47</td>\n",
       "      <td>3.78</td>\n",
       "      <td>6.30</td>\n",
       "      <td>0.5040</td>\n",
       "      <td>2019-01-24</td>\n",
       "      <td>230.0</td>\n",
       "      <td>Times Sq/Theatre District</td>\n",
       "      <td>163.0</td>\n",
       "      <td>Midtown North</td>\n",
       "    </tr>\n",
       "    <tr>\n",
       "      <th>4</th>\n",
       "      <td>2019-03-28 14:08:47</td>\n",
       "      <td>2019-03-28 14:18:39</td>\n",
       "      <td>2</td>\n",
       "      <td>0.70</td>\n",
       "      <td>161</td>\n",
       "      <td>100</td>\n",
       "      <td>1</td>\n",
       "      <td>2.00</td>\n",
       "      <td>12.80</td>\n",
       "      <td>0 days 00:09:52</td>\n",
       "      <td>9.87</td>\n",
       "      <td>10.80</td>\n",
       "      <td>0.8640</td>\n",
       "      <td>2019-03-28</td>\n",
       "      <td>161.0</td>\n",
       "      <td>Midtown Center</td>\n",
       "      <td>100.0</td>\n",
       "      <td>Garment District</td>\n",
       "    </tr>\n",
       "    <tr>\n",
       "      <th>...</th>\n",
       "      <td>...</td>\n",
       "      <td>...</td>\n",
       "      <td>...</td>\n",
       "      <td>...</td>\n",
       "      <td>...</td>\n",
       "      <td>...</td>\n",
       "      <td>...</td>\n",
       "      <td>...</td>\n",
       "      <td>...</td>\n",
       "      <td>...</td>\n",
       "      <td>...</td>\n",
       "      <td>...</td>\n",
       "      <td>...</td>\n",
       "      <td>...</td>\n",
       "      <td>...</td>\n",
       "      <td>...</td>\n",
       "      <td>...</td>\n",
       "      <td>...</td>\n",
       "    </tr>\n",
       "    <tr>\n",
       "      <th>9995</th>\n",
       "      <td>2019-02-08 08:29:24</td>\n",
       "      <td>2019-02-08 08:58:29</td>\n",
       "      <td>5</td>\n",
       "      <td>3.26</td>\n",
       "      <td>75</td>\n",
       "      <td>170</td>\n",
       "      <td>1</td>\n",
       "      <td>1.00</td>\n",
       "      <td>22.80</td>\n",
       "      <td>0 days 00:29:05</td>\n",
       "      <td>29.08</td>\n",
       "      <td>21.80</td>\n",
       "      <td>1.7440</td>\n",
       "      <td>2019-02-08</td>\n",
       "      <td>75.0</td>\n",
       "      <td>East Harlem South</td>\n",
       "      <td>170.0</td>\n",
       "      <td>Murray Hill</td>\n",
       "    </tr>\n",
       "    <tr>\n",
       "      <th>9996</th>\n",
       "      <td>2019-01-31 21:04:16</td>\n",
       "      <td>2019-01-31 21:33:23</td>\n",
       "      <td>1</td>\n",
       "      <td>5.70</td>\n",
       "      <td>107</td>\n",
       "      <td>49</td>\n",
       "      <td>1</td>\n",
       "      <td>0.00</td>\n",
       "      <td>24.80</td>\n",
       "      <td>0 days 00:29:07</td>\n",
       "      <td>29.12</td>\n",
       "      <td>24.80</td>\n",
       "      <td>1.9840</td>\n",
       "      <td>2019-01-31</td>\n",
       "      <td>107.0</td>\n",
       "      <td>Gramercy</td>\n",
       "      <td>49.0</td>\n",
       "      <td>Clinton Hill</td>\n",
       "    </tr>\n",
       "    <tr>\n",
       "      <th>9997</th>\n",
       "      <td>2019-01-24 13:20:40</td>\n",
       "      <td>2019-01-24 13:33:57</td>\n",
       "      <td>1</td>\n",
       "      <td>5.85</td>\n",
       "      <td>134</td>\n",
       "      <td>132</td>\n",
       "      <td>1</td>\n",
       "      <td>11.71</td>\n",
       "      <td>70.27</td>\n",
       "      <td>0 days 00:13:17</td>\n",
       "      <td>13.28</td>\n",
       "      <td>58.56</td>\n",
       "      <td>4.6848</td>\n",
       "      <td>2019-01-24</td>\n",
       "      <td>134.0</td>\n",
       "      <td>Kew Gardens</td>\n",
       "      <td>132.0</td>\n",
       "      <td>JFK Airport</td>\n",
       "    </tr>\n",
       "    <tr>\n",
       "      <th>9998</th>\n",
       "      <td>2019-03-11 22:06:22</td>\n",
       "      <td>2019-03-11 22:19:36</td>\n",
       "      <td>4</td>\n",
       "      <td>2.43</td>\n",
       "      <td>239</td>\n",
       "      <td>237</td>\n",
       "      <td>1</td>\n",
       "      <td>3.06</td>\n",
       "      <td>18.36</td>\n",
       "      <td>0 days 00:13:14</td>\n",
       "      <td>13.23</td>\n",
       "      <td>15.30</td>\n",
       "      <td>1.2240</td>\n",
       "      <td>2019-03-11</td>\n",
       "      <td>239.0</td>\n",
       "      <td>Upper West Side South</td>\n",
       "      <td>237.0</td>\n",
       "      <td>Upper East Side South</td>\n",
       "    </tr>\n",
       "    <tr>\n",
       "      <th>9999</th>\n",
       "      <td>2019-02-22 15:29:14</td>\n",
       "      <td>2019-02-22 15:39:28</td>\n",
       "      <td>1</td>\n",
       "      <td>1.30</td>\n",
       "      <td>263</td>\n",
       "      <td>140</td>\n",
       "      <td>2</td>\n",
       "      <td>0.00</td>\n",
       "      <td>11.80</td>\n",
       "      <td>0 days 00:10:14</td>\n",
       "      <td>10.23</td>\n",
       "      <td>11.80</td>\n",
       "      <td>0.9440</td>\n",
       "      <td>2019-02-22</td>\n",
       "      <td>263.0</td>\n",
       "      <td>Yorkville West</td>\n",
       "      <td>140.0</td>\n",
       "      <td>Lenox Hill East</td>\n",
       "    </tr>\n",
       "  </tbody>\n",
       "</table>\n",
       "<p>10000 rows × 18 columns</p>\n",
       "</div>"
      ],
      "text/plain": [
       "         pickup_datetime    dropoff_datetime  pass_count  trip_dist  \\\n",
       "0    2019-03-08 15:01:53 2019-03-08 15:10:27           2       0.73   \n",
       "1    2019-03-08 17:40:07 2019-03-08 17:54:19           1       0.80   \n",
       "2    2019-03-15 09:28:12 2019-03-15 09:34:24           1       0.82   \n",
       "3    2019-01-24 17:52:32 2019-01-24 17:56:19           1       0.55   \n",
       "4    2019-03-28 14:08:47 2019-03-28 14:18:39           2       0.70   \n",
       "...                  ...                 ...         ...        ...   \n",
       "9995 2019-02-08 08:29:24 2019-02-08 08:58:29           5       3.26   \n",
       "9996 2019-01-31 21:04:16 2019-01-31 21:33:23           1       5.70   \n",
       "9997 2019-01-24 13:20:40 2019-01-24 13:33:57           1       5.85   \n",
       "9998 2019-03-11 22:06:22 2019-03-11 22:19:36           4       2.43   \n",
       "9999 2019-02-22 15:29:14 2019-02-22 15:39:28           1       1.30   \n",
       "\n",
       "      pickup_loc_id  dropoff_loc_id  payment_type  tip_amount  total_amount  \\\n",
       "0               161             230             1        1.96         11.76   \n",
       "1               142             239             1        2.15         16.45   \n",
       "2               142             143             1        1.86         11.16   \n",
       "3               230             163             2        0.00          6.30   \n",
       "4               161             100             1        2.00         12.80   \n",
       "...             ...             ...           ...         ...           ...   \n",
       "9995             75             170             1        1.00         22.80   \n",
       "9996            107              49             1        0.00         24.80   \n",
       "9997            134             132             1       11.71         70.27   \n",
       "9998            239             237             1        3.06         18.36   \n",
       "9999            263             140             2        0.00         11.80   \n",
       "\n",
       "           time_ride  time_ride_minutes  revenue  commision_8  \\\n",
       "0    0 days 00:08:34               8.57     9.80       0.7840   \n",
       "1    0 days 00:14:12              14.20    14.30       1.1440   \n",
       "2    0 days 00:06:12               6.20     9.30       0.7440   \n",
       "3    0 days 00:03:47               3.78     6.30       0.5040   \n",
       "4    0 days 00:09:52               9.87    10.80       0.8640   \n",
       "...              ...                ...      ...          ...   \n",
       "9995 0 days 00:29:05              29.08    21.80       1.7440   \n",
       "9996 0 days 00:29:07              29.12    24.80       1.9840   \n",
       "9997 0 days 00:13:17              13.28    58.56       4.6848   \n",
       "9998 0 days 00:13:14              13.23    15.30       1.2240   \n",
       "9999 0 days 00:10:14              10.23    11.80       0.9440   \n",
       "\n",
       "     pickup_just_date  location_id_x                     zone_x  \\\n",
       "0          2019-03-08          161.0             Midtown Center   \n",
       "1          2019-03-08          142.0        Lincoln Square East   \n",
       "2          2019-03-15          142.0        Lincoln Square East   \n",
       "3          2019-01-24          230.0  Times Sq/Theatre District   \n",
       "4          2019-03-28          161.0             Midtown Center   \n",
       "...               ...            ...                        ...   \n",
       "9995       2019-02-08           75.0          East Harlem South   \n",
       "9996       2019-01-31          107.0                   Gramercy   \n",
       "9997       2019-01-24          134.0                Kew Gardens   \n",
       "9998       2019-03-11          239.0      Upper West Side South   \n",
       "9999       2019-02-22          263.0             Yorkville West   \n",
       "\n",
       "      location_id_y                     zone_y  \n",
       "0             230.0  Times Sq/Theatre District  \n",
       "1             239.0      Upper West Side South  \n",
       "2             143.0        Lincoln Square West  \n",
       "3             163.0              Midtown North  \n",
       "4             100.0           Garment District  \n",
       "...             ...                        ...  \n",
       "9995          170.0                Murray Hill  \n",
       "9996           49.0               Clinton Hill  \n",
       "9997          132.0                JFK Airport  \n",
       "9998          237.0      Upper East Side South  \n",
       "9999          140.0            Lenox Hill East  \n",
       "\n",
       "[10000 rows x 18 columns]"
      ]
     },
     "execution_count": 45,
     "metadata": {},
     "output_type": "execute_result"
    }
   ],
   "source": [
    "test_data_taxi = test_data_taxi.merge(taxi_zone, how='left', left_on='dropoff_loc_id', right_on='location_id') \n",
    "test_data_taxi\n",
    "#соединяем по локации дропоф"
   ]
  },
  {
   "cell_type": "code",
   "execution_count": 46,
   "metadata": {},
   "outputs": [],
   "source": [
    "#test_data_taxi.to_csv('test_data_taxi_10k.csv')"
   ]
  },
  {
   "cell_type": "markdown",
   "metadata": {},
   "source": [
    "1. Количество поездок по дням\n",
    "2. Дистанция по дням\n",
    "3. Сумма выручки по дням без учета чаевых\n",
    "4. Комиссия, если бы это был inDriver\n",
    "4. Самые попуряные поездки по дням/месяцам\n",
    "5. Среднее время поездки"
   ]
  },
  {
   "cell_type": "markdown",
   "metadata": {},
   "source": [
    "## 1. Количество поездок по дням"
   ]
  },
  {
   "cell_type": "code",
   "execution_count": 77,
   "metadata": {
    "scrolled": false
   },
   "outputs": [
    {
     "data": {
      "text/plain": [
       "<AxesSubplot:xlabel='pickup_just_date'>"
      ]
     },
     "execution_count": 77,
     "metadata": {},
     "output_type": "execute_result"
    },
    {
     "data": {
      "image/png": "[encoded data removed]",
      "text/plain": [
       "<Figure size 1080x360 with 1 Axes>"
      ]
     },
     "metadata": {
      "needs_background": "light"
     },
     "output_type": "display_data"
    }
   ],
   "source": [
    "test_data_taxi.pivot_table(\n",
    "               index=[\"pickup_just_date\"],\n",
    "               values=[\"pickup_datetime\"],\n",
    "               aggfunc='count').plot(kind=\"bar\", figsize=(15, 5))"
   ]
  },
  {
   "cell_type": "code",
   "execution_count": 96,
   "metadata": {},
   "outputs": [
    {
     "data": {
      "text/html": [
       "<div>\n",
       "<style scoped>\n",
       "    .dataframe tbody tr th:only-of-type {\n",
       "        vertical-align: middle;\n",
       "    }\n",
       "\n",
       "    .dataframe tbody tr th {\n",
       "        vertical-align: top;\n",
       "    }\n",
       "\n",
       "    .dataframe thead th {\n",
       "        text-align: right;\n",
       "    }\n",
       "</style>\n",
       "<table border=\"1\" class=\"dataframe\">\n",
       "  <thead>\n",
       "    <tr style=\"text-align: right;\">\n",
       "      <th></th>\n",
       "      <th>pickup_datetime</th>\n",
       "    </tr>\n",
       "    <tr>\n",
       "      <th>pickup_just_date</th>\n",
       "      <th></th>\n",
       "    </tr>\n",
       "  </thead>\n",
       "  <tbody>\n",
       "    <tr>\n",
       "      <th>2019-01-01</th>\n",
       "      <td>76</td>\n",
       "    </tr>\n",
       "    <tr>\n",
       "      <th>2019-01-02</th>\n",
       "      <td>82</td>\n",
       "    </tr>\n",
       "    <tr>\n",
       "      <th>2019-01-03</th>\n",
       "      <td>104</td>\n",
       "    </tr>\n",
       "    <tr>\n",
       "      <th>2019-01-04</th>\n",
       "      <td>106</td>\n",
       "    </tr>\n",
       "    <tr>\n",
       "      <th>2019-01-05</th>\n",
       "      <td>109</td>\n",
       "    </tr>\n",
       "    <tr>\n",
       "      <th>...</th>\n",
       "      <td>...</td>\n",
       "    </tr>\n",
       "    <tr>\n",
       "      <th>2019-03-27</th>\n",
       "      <td>121</td>\n",
       "    </tr>\n",
       "    <tr>\n",
       "      <th>2019-03-28</th>\n",
       "      <td>102</td>\n",
       "    </tr>\n",
       "    <tr>\n",
       "      <th>2019-03-29</th>\n",
       "      <td>116</td>\n",
       "    </tr>\n",
       "    <tr>\n",
       "      <th>2019-03-30</th>\n",
       "      <td>123</td>\n",
       "    </tr>\n",
       "    <tr>\n",
       "      <th>2019-03-31</th>\n",
       "      <td>105</td>\n",
       "    </tr>\n",
       "  </tbody>\n",
       "</table>\n",
       "<p>90 rows × 1 columns</p>\n",
       "</div>"
      ],
      "text/plain": [
       "                  pickup_datetime\n",
       "pickup_just_date                 \n",
       "2019-01-01                     76\n",
       "2019-01-02                     82\n",
       "2019-01-03                    104\n",
       "2019-01-04                    106\n",
       "2019-01-05                    109\n",
       "...                           ...\n",
       "2019-03-27                    121\n",
       "2019-03-28                    102\n",
       "2019-03-29                    116\n",
       "2019-03-30                    123\n",
       "2019-03-31                    105\n",
       "\n",
       "[90 rows x 1 columns]"
      ]
     },
     "execution_count": 96,
     "metadata": {},
     "output_type": "execute_result"
    }
   ],
   "source": [
    "test_data_taxi.pivot_table(\n",
    "               index=[\"pickup_just_date\"],\n",
    "               values=[\"pickup_datetime\"],\n",
    "               aggfunc='count')"
   ]
  },
  {
   "cell_type": "code",
   "execution_count": 99,
   "metadata": {},
   "outputs": [
    {
     "data": {
      "text/plain": [
       "<AxesSubplot:xlabel='pickup_just_date', ylabel='pickup_datetime'>"
      ]
     },
     "execution_count": 99,
     "metadata": {},
     "output_type": "execute_result"
    },
    {
     "data": {
      "image/png": "[encoded data removed]",
      "text/plain": [
       "<Figure size 432x288 with 1 Axes>"
      ]
     },
     "metadata": {
      "needs_background": "light"
     },
     "output_type": "display_data"
    }
   ],
   "source": [
    "sns.lineplot(data=test_data_taxi.pivot_table(\n",
    "               index=[\"pickup_just_date\"],\n",
    "               values=[\"pickup_datetime\"],\n",
    "               aggfunc='count'), x=\"pickup_just_date\", y=\"pickup_datetime\")"
   ]
  },
  {
   "cell_type": "markdown",
   "metadata": {},
   "source": [
    "## 2. Cредняя поездка по дням"
   ]
  },
  {
   "cell_type": "code",
   "execution_count": 59,
   "metadata": {
    "scrolled": true
   },
   "outputs": [
    {
     "data": {
      "text/plain": [
       "<AxesSubplot:xlabel='pickup_just_date'>"
      ]
     },
     "execution_count": 59,
     "metadata": {},
     "output_type": "execute_result"
    },
    {
     "data": {
      "image/png": "[encoded data removed]",
      "text/plain": [
       "<Figure size 1080x360 with 1 Axes>"
      ]
     },
     "metadata": {
      "needs_background": "light"
     },
     "output_type": "display_data"
    }
   ],
   "source": [
    "test_data_taxi.pivot_table(\n",
    "               index=[\"pickup_just_date\"],\n",
    "               values=[\"trip_dist\"],\n",
    "               aggfunc='mean').plot(kind=\"bar\", figsize=(15, 5))"
   ]
  },
  {
   "cell_type": "code",
   "execution_count": 61,
   "metadata": {},
   "outputs": [
    {
     "data": {
      "text/plain": [
       "<AxesSubplot:xlabel='pickup_just_date', ylabel='trip_dist'>"
      ]
     },
     "execution_count": 61,
     "metadata": {},
     "output_type": "execute_result"
    },
    {
     "data": {
      "image/png": "[encoded data removed]",
      "text/plain": [
       "<Figure size 1080x504 with 1 Axes>"
      ]
     },
     "metadata": {
      "needs_background": "light"
     },
     "output_type": "display_data"
    }
   ],
   "source": [
    "plt.rcParams['figure.figsize'] = (15,7)\n",
    "\n",
    "sns.barplot(data=test_data_taxi.pivot_table(\n",
    "               index=[\"pickup_just_date\"],\n",
    "               values=[\"trip_dist\"],\n",
    "               aggfunc='mean').reset_index(), x=\"pickup_just_date\", y=\"trip_dist\")"
   ]
  },
  {
   "cell_type": "markdown",
   "metadata": {},
   "source": [
    "## 3. Сумма выручки по дням без учета чаевых"
   ]
  },
  {
   "cell_type": "code",
   "execution_count": 53,
   "metadata": {},
   "outputs": [
    {
     "data": {
      "text/plain": [
       "<AxesSubplot:xlabel='pickup_just_date'>"
      ]
     },
     "execution_count": 53,
     "metadata": {},
     "output_type": "execute_result"
    },
    {
     "data": {
      "image/png": "[encoded data removed]",
      "text/plain": [
       "<Figure size 1080x360 with 1 Axes>"
      ]
     },
     "metadata": {
      "needs_background": "light"
     },
     "output_type": "display_data"
    }
   ],
   "source": [
    "test_data_taxi.pivot_table(\n",
    "               index=[\"pickup_just_date\"],\n",
    "               values=[\"revenue\"],\n",
    "               aggfunc='sum').plot(kind=\"bar\", figsize=(15, 5))"
   ]
  },
  {
   "cell_type": "markdown",
   "metadata": {},
   "source": [
    "## 4. Комиссия, если бы это был inDriver"
   ]
  },
  {
   "cell_type": "code",
   "execution_count": 81,
   "metadata": {},
   "outputs": [
    {
     "data": {
      "text/plain": [
       "<AxesSubplot:xlabel='pickup_just_date'>"
      ]
     },
     "execution_count": 81,
     "metadata": {},
     "output_type": "execute_result"
    },
    {
     "data": {
      "image/png": "[encoded data removed]",
      "text/plain": [
       "<Figure size 1080x360 with 1 Axes>"
      ]
     },
     "metadata": {
      "needs_background": "light"
     },
     "output_type": "display_data"
    }
   ],
   "source": [
    "test_data_taxi.pivot_table(\n",
    "               index=[\"pickup_just_date\"],\n",
    "               values=[\"commision_8\"],\n",
    "               aggfunc='sum').plot(kind=\"bar\", figsize=(15, 5))"
   ]
  },
  {
   "cell_type": "markdown",
   "metadata": {},
   "source": [
    "## 5. Самые попуряные поездки по дням/месяцам\n"
   ]
  },
  {
   "cell_type": "code",
   "execution_count": 56,
   "metadata": {},
   "outputs": [
    {
     "data": {
      "text/plain": [
       "<AxesSubplot:>"
      ]
     },
     "execution_count": 56,
     "metadata": {},
     "output_type": "execute_result"
    },
    {
     "data": {
      "image/png": "[encoded data removed]",
      "text/plain": [
       "<Figure size 1080x360 with 1 Axes>"
      ]
     },
     "metadata": {
      "needs_background": "light"
     },
     "output_type": "display_data"
    }
   ],
   "source": [
    "#откуда чаще ездят\n",
    "test_data_taxi.zone_x.value_counts().head(10).plot(kind=\"bar\", figsize=(15, 5))\n"
   ]
  },
  {
   "cell_type": "code",
   "execution_count": 57,
   "metadata": {},
   "outputs": [
    {
     "data": {
      "text/plain": [
       "<AxesSubplot:>"
      ]
     },
     "execution_count": 57,
     "metadata": {},
     "output_type": "execute_result"
    },
    {
     "data": {
      "image/png": "[encoded data removed]",
      "text/plain": [
       "<Figure size 1080x360 with 1 Axes>"
      ]
     },
     "metadata": {
      "needs_background": "light"
     },
     "output_type": "display_data"
    }
   ],
   "source": [
    "#куда чаще ездят\n",
    "test_data_taxi.zone_y.value_counts().head(10).plot(kind=\"bar\", figsize=(15, 5))"
   ]
  }
 ],
 "metadata": {
  "kernelspec": {
   "display_name": "Python 3",
   "language": "python",
   "name": "python3"
  },
  "language_info": {
   "codemirror_mode": {
    "name": "ipython",
    "version": 3
   },
   "file_extension": ".py",
   "mimetype": "text/x-python",
   "name": "python",
   "nbconvert_exporter": "python",
   "pygments_lexer": "ipython3",
   "version": "3.8.5"
  }
 },
 "nbformat": 4,
 "nbformat_minor": 4
}
